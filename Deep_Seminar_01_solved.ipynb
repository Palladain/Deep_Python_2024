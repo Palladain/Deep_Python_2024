{
  "cells": [
    {
      "cell_type": "markdown",
      "metadata": {
        "id": "WAPzCkfaglYZ"
      },
      "source": [
        "# Продвинутый Python, Семинар 1\n",
        "\n",
        "**Лектор:** Петров Тимур\n",
        "\n",
        "**Семинаристы:** Бузаев Федор, Дешеулин Олег, Коган Александра, Васина Олеся, Садуллаев Музаффар\n",
        "\n",
        "**Spoiler Alert:** в рамках курса нельзя изучить ни одну из тем от и до досконально (к сожалению, на это требуется больше времени, чем даже 3 часа в неделю). Но мы попробуем рассказать столько, сколько возможно :)"
      ]
    },
    {
      "cell_type": "markdown",
      "metadata": {
        "id": "x2OSyOCNOcla"
      },
      "source": [
        "<div align=\"center\">\n",
        "    <img src=\"https://cdn-icons-png.flaticon.com/512/5301/5301145.png\" height=\"128px\" width=\"128px\">\n",
        "    <br>\n",
        "    <i>Взаимодействие с ОС. Консольные утилиты.</i>\n",
        "</div>"
      ]
    },
    {
      "cell_type": "markdown",
      "metadata": {
        "id": "TtwAkWGDOclb"
      },
      "source": [
        "Прежде, чем начать обещанный рассказ про `argparse`, давайте еще немного углубимся в `pathlib`. На лекции мы изучили только основной функционал - на самом деле, модуль способен на большее."
      ]
    },
    {
      "cell_type": "markdown",
      "metadata": {
        "id": "mSxUvpG6Oclb"
      },
      "source": [
        "**Пример.** Получить список объектов в директории."
      ]
    },
    {
      "cell_type": "code",
      "execution_count": null,
      "metadata": {
        "id": "zMBKmarDOclc",
        "outputId": "9282d249-8667-4cda-b5c0-17f4dd46c160"
      },
      "outputs": [
        {
          "data": {
            "text/plain": [
              "[WindowsPath('directory/file_1.py'),\n",
              " WindowsPath('directory/file_1.txt'),\n",
              " WindowsPath('directory/file_2.txt'),\n",
              " WindowsPath('directory/inner_directory')]"
            ]
          },
          "execution_count": 3,
          "metadata": {},
          "output_type": "execute_result"
        }
      ],
      "source": [
        "import pathlib\n",
        "\n",
        "\n",
        "# Готовим файлы\n",
        "directory = pathlib.Path(\"directory/\")\n",
        "directory.mkdir(exist_ok=True)\n",
        "\n",
        "file_1 = directory / \"file_1.txt\"\n",
        "file_1.touch(exist_ok=True)\n",
        "\n",
        "file_2 = directory / \"file_2.txt\"\n",
        "file_2.touch(exist_ok=True)\n",
        "\n",
        "# Просим список файлов\n",
        "list(directory.iterdir())  # <-- Генератор"
      ]
    },
    {
      "cell_type": "markdown",
      "metadata": {
        "id": "ATAmp-sTOclc"
      },
      "source": [
        "**Примечание.** Метод `iterdir` перебирает только те объекты, которые находятся на глубине `1` относительно корня."
      ]
    },
    {
      "cell_type": "code",
      "execution_count": null,
      "metadata": {
        "id": "wiXymxS-Oclc",
        "outputId": "7c88dd6b-0056-4c8a-b388-1cd473602f0b"
      },
      "outputs": [
        {
          "data": {
            "text/plain": [
              "[WindowsPath('directory/file_1.py'),\n",
              " WindowsPath('directory/file_1.txt'),\n",
              " WindowsPath('directory/file_2.txt'),\n",
              " WindowsPath('directory/inner_directory')]"
            ]
          },
          "execution_count": 4,
          "metadata": {},
          "output_type": "execute_result"
        }
      ],
      "source": [
        "# Готовим файлы\n",
        "directory = pathlib.Path(\"directory/\")\n",
        "directory.mkdir(exist_ok=True)\n",
        "\n",
        "file_1 = directory / \"file_1.txt\"\n",
        "file_1.touch(exist_ok=True)\n",
        "\n",
        "file_2 = directory / \"file_2.txt\"\n",
        "file_2.touch(exist_ok=True)\n",
        "\n",
        "inner_directory = directory / \"inner_directory\"\n",
        "inner_directory.mkdir(exist_ok=True)\n",
        "\n",
        "file_3 = inner_directory / \"file_3.txt\"\n",
        "file_3.touch(exist_ok=True)\n",
        "\n",
        "# Вложенного файла нет в генераторе\n",
        "assert file_3 not in directory.iterdir()\n",
        "\n",
        "# Просим список файлов\n",
        "list(directory.iterdir())"
      ]
    },
    {
      "cell_type": "markdown",
      "metadata": {
        "id": "zfXnlwnBOclc"
      },
      "source": [
        "**Пример.** Перебрать все объекты, которые заканчиваются на `.py` и которые находятся на глубине, равной единице."
      ]
    },
    {
      "cell_type": "code",
      "execution_count": null,
      "metadata": {
        "id": "2nLZzCELOclc",
        "outputId": "1840b60d-352d-4e90-a2ab-8a2d6275cc3d"
      },
      "outputs": [
        {
          "name": "stdout",
          "output_type": "stream",
          "text": [
            "directory\\file_2.py\n"
          ]
        }
      ],
      "source": [
        "# Готовим файлы\n",
        "directory = pathlib.Path(\"directory/\")\n",
        "directory.mkdir(exist_ok=True)\n",
        "\n",
        "file_1 = directory / \"file_1.txt\"\n",
        "file_1.touch(exist_ok=True)\n",
        "\n",
        "file_2 = directory / \"file_2.py\"\n",
        "file_2.touch(exist_ok=True)\n",
        "\n",
        "# Ищем нужные файлы\n",
        "for path in directory.iterdir():\n",
        "    if path.suffix == \".py\":\n",
        "        print(path)\n",
        "\n",
        "# Подчищаем для будущих примеров\n",
        "for path in directory.iterdir():\n",
        "    path.unlink()"
      ]
    },
    {
      "cell_type": "markdown",
      "metadata": {
        "id": "8wKUNKi0Ocld"
      },
      "source": [
        "**Замечание.** Предложенный выше подход нельзя называть удобным. Интуитивно мы бы, скорее всего, хотели иметь что-то похожее на регулярные выражения, но для файловой системы. Для этого придумали `glob`-паттерны. Давайте сначала напишем код, а потом объясним, что произошло."
      ]
    },
    {
      "cell_type": "code",
      "execution_count": null,
      "metadata": {
        "id": "DcV7hlGZOcld",
        "outputId": "2315a890-ba2a-4878-dc88-bb7782a87b68"
      },
      "outputs": [
        {
          "name": "stdout",
          "output_type": "stream",
          "text": [
            "directory\\file_2.py\n"
          ]
        }
      ],
      "source": [
        "# Готовим файлы\n",
        "directory = pathlib.Path(\"directory/\")\n",
        "directory.mkdir(exist_ok=True)\n",
        "\n",
        "file_1 = directory / \"file_1.txt\"\n",
        "file_1.touch(exist_ok=True)\n",
        "\n",
        "file_2 = directory / \"file_2.py\"\n",
        "file_2.touch(exist_ok=True)\n",
        "\n",
        "# Ищем нужные файлы\n",
        "for path in directory.glob(\"*.py\"):\n",
        "    print(path)\n",
        "\n",
        "# Подчищаем для будущих примеров\n",
        "for path in directory.iterdir():\n",
        "    path.unlink()"
      ]
    },
    {
      "cell_type": "markdown",
      "metadata": {
        "id": "rLVHGXdUOcld"
      },
      "source": [
        "**Пояснение.** Маски `glob`-паттернов устроены не сложнее, чем регулярные выражения. Есть три вида масок: `*`, `?` и `[abc]`.\n",
        "\n",
        "1. `*` - сопоставляет любую последовательность символов, включая пустоту;\n",
        "2. `?` - сопоставляет ровно один символ;\n",
        "3. `[abc]` - сопоставляет любой из символов `a`, `b` или `c` и только их."
      ]
    },
    {
      "cell_type": "markdown",
      "metadata": {
        "id": "lMcfpHbxOcld"
      },
      "source": [
        "**Пояснение.** В примере выше мы сказали, что нам нужно найти все объекты, в которых суффиксу `.py` предшествует последовательность символов любой длины."
      ]
    },
    {
      "cell_type": "markdown",
      "metadata": {
        "id": "uGUT2cRaOcld"
      },
      "source": [
        "**Пример.** Использование `?`."
      ]
    },
    {
      "cell_type": "code",
      "execution_count": null,
      "metadata": {
        "id": "pJ9B9ww9Ocld",
        "outputId": "a1cee1b1-deea-4a09-b4a0-6632d427e9ae"
      },
      "outputs": [
        {
          "name": "stdout",
          "output_type": "stream",
          "text": [
            "directory\\file_1.txt\n",
            "directory\\file_2.txt\n"
          ]
        }
      ],
      "source": [
        "# Готовим файлы\n",
        "directory = pathlib.Path(\"directory/\")\n",
        "directory.mkdir(exist_ok=True)\n",
        "\n",
        "file_1 = directory / \"file_1.txt\"\n",
        "file_1.touch(exist_ok=True)\n",
        "\n",
        "file_2 = directory / \"file_2.txt\"\n",
        "file_2.touch(exist_ok=True)\n",
        "\n",
        "strange_file = directory / \"file_.txt\"  # без числа\n",
        "strange_file.touch(exist_ok=True)\n",
        "\n",
        "# Ищем нужные файлы\n",
        "for path in directory.glob(\"file_?.txt\"):\n",
        "    print(path)\n",
        "\n",
        "# Подчищаем для будущих примеров\n",
        "for path in directory.iterdir():\n",
        "    path.unlink()"
      ]
    },
    {
      "cell_type": "markdown",
      "metadata": {
        "id": "oRusG_bgOcld"
      },
      "source": [
        "**Пример.** Использование `[...]`."
      ]
    },
    {
      "cell_type": "code",
      "execution_count": null,
      "metadata": {
        "id": "2UZtOD_iOcld",
        "outputId": "c1cb1f99-995f-438b-df89-9dd4d4aa23c1"
      },
      "outputs": [
        {
          "name": "stdout",
          "output_type": "stream",
          "text": [
            "directory\\file_1.txt\n",
            "directory\\file_2.txt\n"
          ]
        }
      ],
      "source": [
        "# Готовим файлы\n",
        "directory = pathlib.Path(\"directory/\")\n",
        "directory.mkdir(exist_ok=True)\n",
        "\n",
        "file_1 = directory / \"file_1.txt\"\n",
        "file_1.touch(exist_ok=True)\n",
        "\n",
        "file_2 = directory / \"file_2.txt\"\n",
        "file_2.touch(exist_ok=True)\n",
        "\n",
        "file_3 = directory / \"file_3.txt\"\n",
        "file_3.touch(exist_ok=True)\n",
        "\n",
        "# Ищем нужные файлы\n",
        "for path in directory.glob(\"file_[12].txt\"):\n",
        "    print(path)\n",
        "\n",
        "# Подчищаем для будущих примеров\n",
        "for path in directory.iterdir():\n",
        "    path.unlink()"
      ]
    },
    {
      "cell_type": "markdown",
      "metadata": {
        "id": "qr70nOxFOcld"
      },
      "source": [
        "**Замечание.** Маска `[...]` умеет делать еще кое-что: запрещать и сокращать. Объяснясем:\n",
        "\n",
        "1. Маска вида `[!abc]` сопоставляет любой символ, кроме `a`, `b` или `c`;\n",
        "2. Маска вида `[a-d]` сопоставляет любой символ, который входит в диапазон от `a` до `d` (`a`, `b`, `c` и `d`);\n",
        "3. Маска вида `[!a-d]` сопоставляет любой символ, кроме тех, что входят в диапазон от `a` до `d`."
      ]
    },
    {
      "cell_type": "markdown",
      "metadata": {
        "id": "4Wi4QUU8Ocld"
      },
      "source": [
        "**Пример.** Использование `[!abc]`."
      ]
    },
    {
      "cell_type": "code",
      "execution_count": null,
      "metadata": {
        "id": "yZJYqa0COcld",
        "outputId": "fc3178df-3fb9-4756-feee-20f3e6e3c5e5"
      },
      "outputs": [
        {
          "name": "stdout",
          "output_type": "stream",
          "text": [
            "directory\\file_3.txt\n",
            "directory\\file_4.txt\n",
            "directory\\file_5.txt\n"
          ]
        }
      ],
      "source": [
        "# Готовим файлы\n",
        "directory = pathlib.Path(\"directory/\")\n",
        "directory.mkdir(exist_ok=True)\n",
        "\n",
        "file_1 = directory / \"file_1.txt\"\n",
        "file_1.touch(exist_ok=True)\n",
        "\n",
        "file_2 = directory / \"file_2.txt\"\n",
        "file_2.touch(exist_ok=True)\n",
        "\n",
        "file_3 = directory / \"file_3.txt\"\n",
        "file_3.touch(exist_ok=True)\n",
        "\n",
        "file_4 = directory / \"file_4.txt\"\n",
        "file_4.touch(exist_ok=True)\n",
        "\n",
        "file_5 = directory / \"file_5.txt\"\n",
        "file_5.touch(exist_ok=True)\n",
        "\n",
        "# Ищем нужные файлы (удобнее, чем [345])\n",
        "for path in directory.glob(\"file_[!12].txt\"):\n",
        "    print(path)\n",
        "\n",
        "# Подчищаем для будущих примеров\n",
        "for path in directory.iterdir():\n",
        "    path.unlink()"
      ]
    },
    {
      "cell_type": "markdown",
      "metadata": {
        "id": "97bNtbtZOcld"
      },
      "source": [
        "**Пример.** Использование `[a-d]`."
      ]
    },
    {
      "cell_type": "code",
      "execution_count": null,
      "metadata": {
        "id": "qT9cHkfWOcld",
        "outputId": "b0f0bf28-79de-4a14-d2e5-fe5ef0f0e6e9"
      },
      "outputs": [
        {
          "name": "stdout",
          "output_type": "stream",
          "text": [
            "directory\\file_b.txt\n",
            "directory\\file_c.txt\n",
            "directory\\file_d.txt\n"
          ]
        }
      ],
      "source": [
        "# Готовим файлы\n",
        "directory = pathlib.Path(\"directory/\")\n",
        "directory.mkdir(exist_ok=True)\n",
        "\n",
        "file_a = directory / \"file_a.txt\"\n",
        "file_a.touch(exist_ok=True)\n",
        "\n",
        "file_b = directory / \"file_b.txt\"\n",
        "file_b.touch(exist_ok=True)\n",
        "\n",
        "file_c = directory / \"file_c.txt\"\n",
        "file_c.touch(exist_ok=True)\n",
        "\n",
        "file_d = directory / \"file_d.txt\"\n",
        "file_d.touch(exist_ok=True)\n",
        "\n",
        "file_e = directory / \"file_e.txt\"\n",
        "file_e.touch(exist_ok=True)\n",
        "\n",
        "# Ищем нужные файлы\n",
        "for path in directory.glob(\"file_[b-d].txt\"):\n",
        "    print(path)\n",
        "\n",
        "# Подчищаем для будущих примеров\n",
        "for path in directory.iterdir():\n",
        "    path.unlink()"
      ]
    },
    {
      "cell_type": "markdown",
      "metadata": {
        "id": "58q-qsaFOcle"
      },
      "source": [
        "**Замечание.** Обратите внимание, что в силу синтаксических ограничений у Вас не получится написать очень сложных запросов. Например, если мы хотим отфильтровать файлы по нескольким расширениям, то, скорее всего, придется просто объединить несколько генераторов."
      ]
    },
    {
      "cell_type": "markdown",
      "metadata": {
        "id": "4o8-ggyIOcle"
      },
      "source": [
        "**Задание.** Найти все файлы с расширениями `.png` и `.mp4`."
      ]
    },
    {
      "cell_type": "code",
      "execution_count": null,
      "metadata": {
        "id": "wtMH6Z1fOcle",
        "outputId": "e09eb56d-8bc3-4e89-b112-4c62bda2b0fd"
      },
      "outputs": [
        {
          "name": "stdout",
          "output_type": "stream",
          "text": [
            "directory\\file_1.png\n",
            "directory\\file_3.png\n",
            "directory\\file_4.mp4\n"
          ]
        }
      ],
      "source": [
        "from itertools import chain\n",
        "\n",
        "\n",
        "# Готовим файлы\n",
        "directory = pathlib.Path(\"directory/\")\n",
        "directory.mkdir(exist_ok=True)\n",
        "\n",
        "file_1 = directory / \"file_1.png\"\n",
        "file_1.touch(exist_ok=True)\n",
        "\n",
        "file_2 = directory / \"file_2.py\"\n",
        "file_2.touch(exist_ok=True)\n",
        "\n",
        "file_3 = directory / \"file_3.png\"\n",
        "file_3.touch(exist_ok=True)\n",
        "\n",
        "file_4 = directory / \"file_4.mp4\"\n",
        "file_4.touch(exist_ok=True)\n",
        "\n",
        "file_5 = directory / \"file_5.hpp\"\n",
        "file_5.touch(exist_ok=True)\n",
        "\n",
        "# Ищем нужные файлы\n",
        "generators = [\n",
        "    directory.glob(\"file_[0-9].png\"),\n",
        "    directory.glob(\"file_[0-9].mp4\"),\n",
        "]\n",
        "\n",
        "for path in chain.from_iterable(generators):\n",
        "    print(path)\n",
        "\n",
        "# Подчищаем для будущих примеров\n",
        "for path in directory.iterdir():\n",
        "    path.unlink()"
      ]
    },
    {
      "cell_type": "markdown",
      "metadata": {
        "id": "7cLvBhSsOcle"
      },
      "source": [
        "**Задача.** Найти все файлы с расширением `.py`."
      ]
    },
    {
      "cell_type": "code",
      "execution_count": null,
      "metadata": {
        "id": "6Hb3aHVSOcle",
        "outputId": "254356e5-1498-44c1-b6f4-45b81939ce9c"
      },
      "outputs": [
        {
          "data": {
            "text/plain": [
              "[WindowsPath('directory/file_1.py')]"
            ]
          },
          "execution_count": 17,
          "metadata": {},
          "output_type": "execute_result"
        }
      ],
      "source": [
        "# Готовим файлы\n",
        "directory = pathlib.Path(\"directory/\")\n",
        "directory.mkdir(exist_ok=True)\n",
        "\n",
        "file_1 = directory / \"file_1.py\"\n",
        "file_1.touch(exist_ok=True)\n",
        "\n",
        "file_2 = directory / \"file_2.txt\"\n",
        "file_2.touch(exist_ok=True)\n",
        "\n",
        "inner_directory = directory / \"inner_directory\"\n",
        "inner_directory.mkdir(exist_ok=True)\n",
        "\n",
        "file_3 = inner_directory / \"file_3.py\"\n",
        "file_3.touch(exist_ok=True)\n",
        "\n",
        "# Просим список файлов\n",
        "list(directory.glob(\"*.py\"))"
      ]
    },
    {
      "cell_type": "markdown",
      "metadata": {
        "id": "09c4xZ_5Ocle"
      },
      "source": [
        "**Замечание.** На наше удивление, мы не нашли `inner_directory/file_3.py` в списке. Дело в том, что `glob`-паттерны раскрывают `*` только на уровне компонент. Слеши в `*` не входят. Если мы хотим добавить вложенности, то понадобится другая маска - `**`."
      ]
    },
    {
      "cell_type": "markdown",
      "metadata": {
        "id": "kS_gz_MzOcle"
      },
      "source": [
        "**Пояснение.** Маска `**` сопоставляет любое количество символов, включая слеши."
      ]
    },
    {
      "cell_type": "code",
      "execution_count": null,
      "metadata": {
        "id": "t6fMZYgQOcle",
        "outputId": "d8f7c9bb-a6d8-4c76-d825-e6fb595abba8"
      },
      "outputs": [
        {
          "data": {
            "text/plain": [
              "[WindowsPath('directory/file_1.py'),\n",
              " WindowsPath('directory/inner_directory/file_3.py')]"
            ]
          },
          "execution_count": 18,
          "metadata": {},
          "output_type": "execute_result"
        }
      ],
      "source": [
        "list(directory.glob(\"**/file_?.py\"))"
      ]
    },
    {
      "cell_type": "code",
      "execution_count": null,
      "metadata": {
        "id": "NzsQEsQuOcle",
        "outputId": "b0c39afc-99d4-4bf3-d6eb-a7bc191675a3"
      },
      "outputs": [
        {
          "data": {
            "text/plain": [
              "[WindowsPath('directory/inner_directory/file_3.py')]"
            ]
          },
          "execution_count": 19,
          "metadata": {},
          "output_type": "execute_result"
        }
      ],
      "source": [
        "list(directory.glob(\"inner_directory/**/file_?.py\"))"
      ]
    },
    {
      "cell_type": "markdown",
      "metadata": {
        "id": "oLtafKglOcle"
      },
      "source": [
        "Если мы хотим добавить `**` в начало, чтобы найти все-все-все объекты вне зависимости от их вложенности, то вместо `glob` стоит воспользоваться `rglob`."
      ]
    },
    {
      "cell_type": "code",
      "execution_count": null,
      "metadata": {
        "id": "SKBuWDgnOcle",
        "outputId": "97af883a-6fe3-4f13-f9de-d2897f1330db"
      },
      "outputs": [
        {
          "data": {
            "text/plain": [
              "[WindowsPath('directory/file_1.py'),\n",
              " WindowsPath('directory/inner_directory/file_3.py')]"
            ]
          },
          "execution_count": 20,
          "metadata": {},
          "output_type": "execute_result"
        }
      ],
      "source": [
        "list(directory.rglob(\"file_?.py\"))"
      ]
    },
    {
      "cell_type": "markdown",
      "metadata": {
        "id": "39sChzHgOcle"
      },
      "source": [
        "**Пояснение.** Семантически `rglob` - это то же, что и `glob`, но с добавленным в начало `**/`. Такой вот синтаксический сахар."
      ]
    },
    {
      "cell_type": "code",
      "execution_count": null,
      "metadata": {
        "id": "UqHjb5uYOcle",
        "outputId": "be21d2d5-85b6-4714-bc4c-6e232b1f0ccd"
      },
      "outputs": [
        {
          "data": {
            "text/plain": [
              "[WindowsPath('directory/file_1.py'),\n",
              " WindowsPath('directory/inner_directory/file_3.py')]"
            ]
          },
          "execution_count": 21,
          "metadata": {},
          "output_type": "execute_result"
        }
      ],
      "source": [
        "list(directory.glob(\"**/file_?.py\"))"
      ]
    },
    {
      "cell_type": "code",
      "execution_count": null,
      "metadata": {
        "id": "O22qu4WtOcle",
        "outputId": "99e1370a-6c56-4cd2-84bf-2de94161335a"
      },
      "outputs": [
        {
          "data": {
            "text/plain": [
              "[WindowsPath('directory/file_1.py'),\n",
              " WindowsPath('directory/inner_directory/file_3.py')]"
            ]
          },
          "execution_count": 22,
          "metadata": {},
          "output_type": "execute_result"
        }
      ],
      "source": [
        "list(directory.rglob(\"file_?.py\"))"
      ]
    },
    {
      "cell_type": "markdown",
      "metadata": {
        "id": "2sRNI1N5Ocle"
      },
      "source": [
        "**Пример.** Получить текущую директорию."
      ]
    },
    {
      "cell_type": "code",
      "execution_count": null,
      "metadata": {
        "id": "mK-dWQQ3Oclf",
        "outputId": "9ebab365-45af-40bb-f945-0502030cd75d"
      },
      "outputs": [
        {
          "data": {
            "text/plain": [
              "WindowsPath('c:/Users/FCOla/Desktop')"
            ]
          },
          "execution_count": 23,
          "metadata": {},
          "output_type": "execute_result"
        }
      ],
      "source": [
        "pathlib.Path.cwd()"
      ]
    },
    {
      "cell_type": "markdown",
      "metadata": {
        "id": "YtDWCW2yOclf"
      },
      "source": [
        "**Замечание.** Вместо `pathlib.Path(\".\")` настоятельно рекомендуется использовать конструктор `pathlib.Path.cwd`."
      ]
    },
    {
      "cell_type": "markdown",
      "metadata": {
        "id": "TTiaty98Oclf"
      },
      "source": [
        "**Пример.** Получить домашнюю директорию пользователя."
      ]
    },
    {
      "cell_type": "code",
      "execution_count": null,
      "metadata": {
        "id": "nOj4t6ZyOclf",
        "outputId": "f41c3ad4-9ae7-479a-8bb9-16a7cd898d2a"
      },
      "outputs": [
        {
          "data": {
            "text/plain": [
              "WindowsPath('C:/Users/FCOla')"
            ]
          },
          "execution_count": 24,
          "metadata": {},
          "output_type": "execute_result"
        }
      ],
      "source": [
        "pathlib.Path.home()"
      ]
    },
    {
      "cell_type": "markdown",
      "metadata": {
        "id": "308enVchOclf"
      },
      "source": [
        "**Пример.** Раскрыть домашнюю директорию в полный путь."
      ]
    },
    {
      "cell_type": "code",
      "execution_count": null,
      "metadata": {
        "id": "ZAA4wN-hOclf",
        "outputId": "6af71dc2-b3df-4c62-847b-93ac10a0abf8"
      },
      "outputs": [
        {
          "data": {
            "text/plain": [
              "WindowsPath('C:/Users/FCOla/Desktop')"
            ]
          },
          "execution_count": 25,
          "metadata": {},
          "output_type": "execute_result"
        }
      ],
      "source": [
        "path = pathlib.Path(\"~/Desktop\")\n",
        "path.expanduser()"
      ]
    },
    {
      "cell_type": "markdown",
      "metadata": {
        "id": "0ZUtG93NOclf"
      },
      "source": [
        "**Замечание.** Обратите внимание, что знакомый Вам метод `absolute` не подойдет для этой цели."
      ]
    },
    {
      "cell_type": "code",
      "execution_count": null,
      "metadata": {
        "id": "ChOHm2J6Oclf",
        "outputId": "bcf3f783-1162-48c8-df62-ceb8fcd4963b"
      },
      "outputs": [
        {
          "data": {
            "text/plain": [
              "WindowsPath('c:/Users/FCOla/Desktop/~/Desktop')"
            ]
          },
          "execution_count": 26,
          "metadata": {},
          "output_type": "execute_result"
        }
      ],
      "source": [
        "path = pathlib.Path(\"~/Desktop\")\n",
        "path.absolute()"
      ]
    },
    {
      "cell_type": "markdown",
      "metadata": {
        "id": "HZVw--G9Oclg"
      },
      "source": [
        "Теперь перейдем к разработке консольных утилит. В частности, нас будет интересовать модуль стандартной библиотеки, который мы немного задели на лекции, а именно `argparse`. Он предназначен для двух целей: обрабатывать пользовательский ввод (на уровне аргументов командной строки) и формирование самого интерфейса на основе указанной спецификации."
      ]
    },
    {
      "cell_type": "markdown",
      "metadata": {
        "id": "l-H2NzLTOclg"
      },
      "source": [
        "На всякий случай, кратенько напомним, как выглядят консольные утилиты. Вы с ними наверняка сталкивались, когда использовали, например, `ls` или `cat`. Собственно, это и есть приложения с консольным интерфейсом. Ниже приведем еще парочку примеров."
      ]
    },
    {
      "cell_type": "markdown",
      "metadata": {
        "id": "-JUfUmNoOclg"
      },
      "source": [
        "**Пример 1.**\n",
        "\n",
        "```console\n",
        "$ ls\n",
        "a.txt b.txt c.txt\n",
        "```"
      ]
    },
    {
      "cell_type": "markdown",
      "metadata": {
        "id": "TFJNfupSOclg"
      },
      "source": [
        "**Пример 2.**\n",
        "\n",
        "```console\n",
        "$ cat a.txt\n",
        "Hello, World\n",
        "```"
      ]
    },
    {
      "cell_type": "markdown",
      "metadata": {
        "id": "Rt8-kjpBOclg"
      },
      "source": [
        "**Пример 3.**\n",
        "\n",
        "```console\n",
        "$ python -B -m main\n",
        "Run the code...\n",
        "```"
      ]
    },
    {
      "cell_type": "markdown",
      "metadata": {
        "id": "kpogvaKcOclg"
      },
      "source": [
        "**Пример 4.**\n",
        "\n",
        "```console\n",
        "$ git add app/presentation/api/\n",
        "$ git commit -m \"feat: add the auth endpoint\" -n\n",
        "```"
      ]
    },
    {
      "cell_type": "markdown",
      "metadata": {
        "id": "TOStaLIOOclg"
      },
      "source": [
        "**Пример 5.**\n",
        "\n",
        "```console\n",
        "$ tree -cDr ./dev/\n",
        "[Dec 31 23:55]  dev/\n",
        "|-- [Dec 31 23:59] file.txt\n",
        "```"
      ]
    },
    {
      "cell_type": "markdown",
      "metadata": {
        "id": "nVgeD1pUOclg"
      },
      "source": [
        "**Пример 6.**\n",
        "\n",
        "```console\n",
        "$ git rebase --help\n",
        "...\n",
        "```"
      ]
    },
    {
      "cell_type": "markdown",
      "metadata": {
        "id": "AXnaCxHjOclg"
      },
      "source": [
        "**Пример.** Реализуем аналог `cat`."
      ]
    },
    {
      "cell_type": "code",
      "execution_count": null,
      "metadata": {
        "id": "NZOywJ9ROclg",
        "outputId": "f6151266-057d-4402-d043-07b951d03745"
      },
      "outputs": [
        {
          "name": "stdout",
          "output_type": "stream",
          "text": [
            "Hello, World\n"
          ]
        }
      ],
      "source": [
        "import argparse\n",
        "\n",
        "\n",
        "def parse_args(args: list[str]) -> argparse.Namespace:\n",
        "    parser = argparse.ArgumentParser(\n",
        "        prog=\"cat\",\n",
        "        description=\"Hello, File!\",\n",
        "        epilog=\"by @syubogdanov\",\n",
        "    )\n",
        "\n",
        "    parser.add_argument(\"path\")\n",
        "\n",
        "    return parser.parse_args(args)\n",
        "\n",
        "\n",
        "def main(argv: list[str] | None = None) -> None:\n",
        "    args = parse_args(argv)\n",
        "\n",
        "    path = pathlib.Path(args.path)\n",
        "    print(path.read_text(errors=\"ignore\"))\n",
        "\n",
        "\n",
        "if __name__ == \"__main__\":\n",
        "    file = pathlib.Path(\"file.txt\")\n",
        "    file.write_text(\"Hello, World\")\n",
        "\n",
        "    main([file.as_posix()])"
      ]
    },
    {
      "cell_type": "markdown",
      "metadata": {
        "id": "vIygpo_7Oclg"
      },
      "source": [
        "**Пояснение.** Как правило, обработку аргументов командной строки выделяют в отдельную верхнеуровневую функцию. В нашем случае, ей выступает `parse_args`. В ней мы инициализируем обработчик (парсер), у которого определяем имя программы, описание и эпилог. Заставялем парсер принимать один *обязательный* аргумент, чье имя `path`. Дальше парсим переданные аргументы - и получаем пространство имен (`Namespace`). В нем и находятся обработанные аргументы."
      ]
    },
    {
      "cell_type": "code",
      "execution_count": null,
      "metadata": {
        "id": "ZWKNdLMoOclg",
        "outputId": "9dbac235-9419-4cb5-85d3-be7ed9cac684"
      },
      "outputs": [
        {
          "data": {
            "text/plain": [
              "Namespace(path='/home/dev/some/path')"
            ]
          },
          "execution_count": 28,
          "metadata": {},
          "output_type": "execute_result"
        }
      ],
      "source": [
        "parse_args([\"/home/dev/some/path\"])"
      ]
    },
    {
      "cell_type": "markdown",
      "metadata": {
        "id": "sXQ9u1X_Oclg"
      },
      "source": [
        "**Примечание.** Если не передавать аргументы в `parser.parse_args`, то по умолчанию будет использоваться `sys.argv`, то есть те аргументы, которые Вы передавали программе извне."
      ]
    },
    {
      "cell_type": "markdown",
      "metadata": {
        "id": "fWCtvKT3Oclg"
      },
      "source": [
        "**Замечание.** Помимо обработки аргументов, модуль `argparse` также создает полноценный интерфейс. Давайте запросим подсказку по утилите (кстати, тоже добавляется автоматически)."
      ]
    },
    {
      "cell_type": "code",
      "execution_count": null,
      "metadata": {
        "id": "_dGzfpa7Oclg",
        "outputId": "b09bf4b3-9431-49df-82ed-3b9b2c696182"
      },
      "outputs": [
        {
          "name": "stdout",
          "output_type": "stream",
          "text": [
            "usage: cat [-h] path\n",
            "\n",
            "Hello, File!\n",
            "\n",
            "positional arguments:\n",
            "  path\n",
            "\n",
            "options:\n",
            "  -h, --help  show this help message and exit\n",
            "\n",
            "by @syubogdanov\n"
          ]
        },
        {
          "ename": "SystemExit",
          "evalue": "0",
          "output_type": "error",
          "traceback": [
            "An exception has occurred, use %tb to see the full traceback.\n",
            "\u001b[1;31mSystemExit\u001b[0m\u001b[1;31m:\u001b[0m 0\n"
          ]
        },
        {
          "name": "stderr",
          "output_type": "stream",
          "text": [
            "C:\\Users\\FCOla\\AppData\\Roaming\\Python\\Python311\\site-packages\\IPython\\core\\interactiveshell.py:3450: UserWarning: To exit: use 'exit', 'quit', or Ctrl-D.\n",
            "  warn(\"To exit: use 'exit', 'quit', or Ctrl-D.\", stacklevel=1)\n"
          ]
        }
      ],
      "source": [
        "main([\"--help\"])"
      ]
    },
    {
      "cell_type": "markdown",
      "metadata": {
        "id": "DNNjZgZBOclg"
      },
      "source": [
        "**Замечание.** Аргумент `--help`, или сокращенно `-h`, является опциональным аргументом, так как начинается с `--` (`-`). Это, как понятно из названия, значит, что нам не обязательно указывать аргмент, чтобы программа работала, но при этом ничего не мешает его активировать, так как он добавляет какую-то логику в поведение программы."
      ]
    },
    {
      "cell_type": "markdown",
      "metadata": {
        "id": "rJTEv4ZEOclh"
      },
      "source": [
        "**Пример.** Добавим возможность указать число символов, которые необходимо вывести."
      ]
    },
    {
      "cell_type": "code",
      "execution_count": null,
      "metadata": {
        "id": "AWR7v1n8Oclh",
        "outputId": "3f7ae9f7-3e3e-4257-91e0-318e3b50791a"
      },
      "outputs": [
        {
          "name": "stdout",
          "output_type": "stream",
          "text": [
            "Hello\n"
          ]
        }
      ],
      "source": [
        "def parse_args(args: list[str]) -> argparse.Namespace:\n",
        "    parser = argparse.ArgumentParser(prog=\"cat\")\n",
        "\n",
        "    parser.add_argument(\"path\")\n",
        "\n",
        "    parser.add_argument(\"-s\", \"--size\")\n",
        "\n",
        "    return parser.parse_args(args)\n",
        "\n",
        "\n",
        "def main(argv: list[str] | None = None) -> None:\n",
        "    args = parse_args(argv)\n",
        "\n",
        "    path = pathlib.Path(args.path)\n",
        "    text = path.read_text(errors=\"ignore\")\n",
        "\n",
        "    if args.size is not None:\n",
        "        size = int(args.size)\n",
        "        text = text[:size]\n",
        "\n",
        "    print(text)\n",
        "\n",
        "\n",
        "if __name__ == \"__main__\":\n",
        "    file = pathlib.Path(\"file.txt\")\n",
        "    file.write_text(\"Hello, World\")\n",
        "\n",
        "    main([file.as_posix(), \"--size\", \"5\"])"
      ]
    },
    {
      "cell_type": "code",
      "execution_count": null,
      "metadata": {
        "id": "8zQ1xhYzOclh",
        "outputId": "50044711-7c50-4279-d7ec-18c45589aa8a"
      },
      "outputs": [
        {
          "name": "stdout",
          "output_type": "stream",
          "text": [
            "Hello, World\n"
          ]
        }
      ],
      "source": [
        "main([file.as_posix()])"
      ]
    },
    {
      "cell_type": "code",
      "execution_count": null,
      "metadata": {
        "id": "2qpbSHbzOclh",
        "outputId": "2b1b5325-e0ee-4462-96e8-fa3f736bec35"
      },
      "outputs": [
        {
          "data": {
            "text/plain": [
              "Namespace(path='file.txt', size='5')"
            ]
          },
          "execution_count": 95,
          "metadata": {},
          "output_type": "execute_result"
        }
      ],
      "source": [
        "parse_args([file.as_posix(), \"--size\", \"5\"])"
      ]
    },
    {
      "cell_type": "markdown",
      "metadata": {
        "id": "4MGMVc-7Oclh"
      },
      "source": [
        "**Замечание.** Ничего не мешает нам сломать программу. Например, передать вместо числа какую-то строчку (попробуйте сами). Давайте исправим это. Сразу зададим тип, который нам нужен. Получим двойную выгоду - добавим валидацию, а в пространство имен попадет сконвертированный тип."
      ]
    },
    {
      "cell_type": "code",
      "execution_count": null,
      "metadata": {
        "id": "3aYTaQ46Oclh",
        "outputId": "4e1bcfbf-5703-4424-c385-29c69979a03d"
      },
      "outputs": [
        {
          "name": "stdout",
          "output_type": "stream",
          "text": [
            "Hello\n"
          ]
        }
      ],
      "source": [
        "def parse_args(args: list[str]) -> argparse.Namespace:\n",
        "    parser = argparse.ArgumentParser(prog=\"cat\")\n",
        "\n",
        "    parser.add_argument(\"path\", type=pathlib.Path)\n",
        "\n",
        "    parser.add_argument(\"-s\", \"--size\", type=int)\n",
        "\n",
        "    return parser.parse_args(args)\n",
        "\n",
        "\n",
        "def main(argv: list[str] | None = None) -> None:\n",
        "    args = parse_args(argv)\n",
        "\n",
        "    text = args.path.read_text(errors=\"ignore\")\n",
        "\n",
        "    if args.size is not None:\n",
        "        text = text[:args.size]\n",
        "\n",
        "    print(text)\n",
        "\n",
        "\n",
        "if __name__ == \"__main__\":\n",
        "    file = pathlib.Path(\"file.txt\")\n",
        "    file.write_text(\"Hello, World\")\n",
        "\n",
        "    main([file.as_posix(), \"--size\", \"5\"])"
      ]
    },
    {
      "cell_type": "code",
      "execution_count": null,
      "metadata": {
        "id": "WvnRAFKrOclh",
        "outputId": "1bc38e0a-9150-4cd8-ad86-050b5cc0d137"
      },
      "outputs": [
        {
          "data": {
            "text/plain": [
              "Namespace(path=WindowsPath('file.txt'), size=5)"
            ]
          },
          "execution_count": 98,
          "metadata": {},
          "output_type": "execute_result"
        }
      ],
      "source": [
        "parse_args([file.as_posix(), \"--size\", \"5\"])"
      ]
    },
    {
      "cell_type": "markdown",
      "metadata": {
        "id": "uOWsSju-Oclh"
      },
      "source": [
        "**Пример.** Добавим больше пользовательского текста в автосгенерированную подсказку."
      ]
    },
    {
      "cell_type": "code",
      "execution_count": null,
      "metadata": {
        "id": "bUpa2zcGOclh"
      },
      "outputs": [],
      "source": [
        "def parse_args(args: list[str]) -> argparse.Namespace:\n",
        "    parser = argparse.ArgumentParser(prog=\"cat\")\n",
        "\n",
        "    parser.add_argument(\n",
        "        \"path\",\n",
        "        help=\"the path to the file\",\n",
        "        metavar=\"PATH\",\n",
        "        type=pathlib.Path\n",
        "    )\n",
        "\n",
        "    parser.add_argument(\n",
        "        \"-s\",\n",
        "        \"--size\",\n",
        "        help=\"the size of the text to be output\",\n",
        "        metavar=\"SIZE\",\n",
        "        type=int\n",
        "    )\n",
        "\n",
        "    return parser.parse_args(args)"
      ]
    },
    {
      "cell_type": "code",
      "execution_count": null,
      "metadata": {
        "id": "WWqbyePzOclh",
        "outputId": "3a125741-a080-40ab-e757-930705346549"
      },
      "outputs": [
        {
          "name": "stdout",
          "output_type": "stream",
          "text": [
            "usage: cat [-h] [-s SIZE] PATH\n",
            "\n",
            "positional arguments:\n",
            "  PATH                  the path to the file\n",
            "\n",
            "options:\n",
            "  -h, --help            show this help message and exit\n",
            "  -s SIZE, --size SIZE  the size of the text to be output\n"
          ]
        },
        {
          "ename": "SystemExit",
          "evalue": "0",
          "output_type": "error",
          "traceback": [
            "An exception has occurred, use %tb to see the full traceback.\n",
            "\u001b[1;31mSystemExit\u001b[0m\u001b[1;31m:\u001b[0m 0\n"
          ]
        }
      ],
      "source": [
        "main([\"--help\"])"
      ]
    },
    {
      "cell_type": "markdown",
      "metadata": {
        "id": "XdjdZeTLOclh"
      },
      "source": [
        "**Пояснение.** Параметр `help` добавляет соответствующий текст-подсказку к аргументу, а `metavar` переобозначает аргумент в примерах."
      ]
    },
    {
      "cell_type": "markdown",
      "metadata": {
        "id": "H_dWAWHxOcli"
      },
      "source": [
        "**Задание.** Напишите консольную утилиту, которая является аналогом `ls`. Добавьте возможность ограничить выводимые файлы по размеру."
      ]
    },
    {
      "cell_type": "code",
      "execution_count": null,
      "metadata": {
        "id": "yVt-FSP9Ocli"
      },
      "outputs": [],
      "source": [
        "def parse_args(args: list[str]) -> argparse.Namespace:\n",
        "    parser = argparse.ArgumentParser(prog=\"ls\")\n",
        "\n",
        "    parser.add_argument(\n",
        "        \"path\",\n",
        "        help=\"the path to the directory\",\n",
        "        metavar=\"PATH\",\n",
        "        type=pathlib.Path\n",
        "    )\n",
        "\n",
        "    parser.add_argument(\n",
        "        \"-ms\",\n",
        "        \"--max-size\",\n",
        "        help=\"the maximum size of a regular file\",\n",
        "        metavar=\"SIZE\",\n",
        "        type=int,\n",
        "    )\n",
        "\n",
        "    return parser.parse_args(args)\n",
        "\n",
        "\n",
        "def main(argv: list[str] | None = None) -> None:\n",
        "    args = parse_args(argv)\n",
        "\n",
        "    # Объект уже будет `pathlib.Path`\n",
        "    path: pathlib.Path = args.path\n",
        "\n",
        "    # Параметр может как быть, так и нет\n",
        "    max_size: int | None = args.max_size\n",
        "\n",
        "    if max_size is not None and max_size < 0:\n",
        "        detail = \"The maximum size must be positive\"\n",
        "        raise ValueError(detail)\n",
        "\n",
        "    # Если определить парсер внутри функции `main`, то вместо\n",
        "    # `raise ...` можно пользоваться `parser.error(...)`\n",
        "\n",
        "    if not path.exists():\n",
        "        detail = \"the path does not exist\"\n",
        "        raise FileNotFoundError(detail)\n",
        "\n",
        "    if path.is_symlink() or not path.is_dir():\n",
        "        detail = \"the path is not a directory\"\n",
        "        raise RuntimeError(detail)\n",
        "\n",
        "    # Давайте воспользуемся тем, что мы реализовали в одном из\n",
        "    # предыдущих заданий. Но в голове держим `rglob` и фильтры\n",
        "\n",
        "    for filepath in scandir(path):\n",
        "        if max_size is None or filepath.stat().st_size <= max_size:\n",
        "            print(f\"-> {filepath.as_posix()}\")\n",
        "\n",
        "\n",
        "if __name__ == \"__main__\":\n",
        "    main([\".\", \"--max-size\", \"32\"])"
      ]
    },
    {
      "cell_type": "markdown",
      "metadata": {
        "id": "GtvBdUaYOcli"
      },
      "source": [
        "**Задание.** Напишите утилиту-дразнилку, которая будет выводить указанное слово `N` раз. По умолчанию выводите `3` раза."
      ]
    },
    {
      "cell_type": "code",
      "execution_count": null,
      "metadata": {
        "id": "GKx_ugGwOcli",
        "outputId": "fa5f0e6f-692c-4b82-b758-c783b02290ab"
      },
      "outputs": [
        {
          "name": "stdout",
          "output_type": "stream",
          "text": [
            "python\n",
            "python\n",
            "python\n"
          ]
        }
      ],
      "source": [
        "def parse_args(args: list[str]) -> argparse.Namespace:\n",
        "    parser = argparse.ArgumentParser()\n",
        "\n",
        "    parser.add_argument(\n",
        "        \"word\",\n",
        "        help=\"the word to be repeated\",\n",
        "        metavar=\"WORD\",\n",
        "    )\n",
        "\n",
        "    parser.add_argument(\n",
        "        \"-l\",\n",
        "        \"--limit\",\n",
        "        default=3,\n",
        "        help=\"the limit on the number of words\",\n",
        "        metavar=\"N\",\n",
        "        type=int\n",
        "    )\n",
        "\n",
        "    return parser.parse_args(args)\n",
        "\n",
        "\n",
        "def main(argv: list[str] | None = None) -> None:\n",
        "    args = parse_args(argv)\n",
        "\n",
        "    for _ in range(args.limit):\n",
        "        print(args.word)\n",
        "\n",
        "\n",
        "if __name__ == \"__main__\":\n",
        "    main([\"python\"])"
      ]
    },
    {
      "cell_type": "code",
      "execution_count": null,
      "metadata": {
        "id": "0_UaNHifOcli",
        "outputId": "c4f8e547-805d-436e-da38-77fb1515c925"
      },
      "outputs": [
        {
          "data": {
            "text/plain": [
              "Namespace(word='python', limit=3)"
            ]
          },
          "execution_count": 105,
          "metadata": {},
          "output_type": "execute_result"
        }
      ],
      "source": [
        "parse_args([\"python\"])"
      ]
    },
    {
      "cell_type": "code",
      "execution_count": null,
      "metadata": {
        "id": "EAAZADibOcli",
        "outputId": "3b87ad77-c428-4e7e-be0a-76b88e3913ba"
      },
      "outputs": [
        {
          "name": "stdout",
          "output_type": "stream",
          "text": [
            "python\n",
            "python\n",
            "python\n",
            "python\n",
            "python\n"
          ]
        }
      ],
      "source": [
        "main([\"python\", \"-l\", \"5\"])"
      ]
    },
    {
      "cell_type": "markdown",
      "metadata": {
        "id": "9OYFcRlQOcli"
      },
      "source": [
        "**Пример.** Ограничим слова. Теперь можно выводить либо `C++`, либо `Python`, либо `Rust`."
      ]
    },
    {
      "cell_type": "code",
      "execution_count": null,
      "metadata": {
        "id": "eQF-lSXWOcli"
      },
      "outputs": [],
      "source": [
        "def parse_args(args: list[str]) -> argparse.Namespace:\n",
        "    parser = argparse.ArgumentParser()\n",
        "\n",
        "    parser.add_argument(\n",
        "        \"word\",\n",
        "        choices=[\"C++\", \"Python\", \"Rust\"],\n",
        "        help=\"the word to be repeated\",\n",
        "        metavar=\"WORD\",\n",
        "    )\n",
        "\n",
        "    parser.add_argument(\n",
        "        \"-l\",\n",
        "        \"--limit\",\n",
        "        default=3,\n",
        "        help=\"the limit on the number of words\",\n",
        "        metavar=\"N\",\n",
        "        type=int\n",
        "    )\n",
        "\n",
        "    return parser.parse_args(args)"
      ]
    },
    {
      "cell_type": "code",
      "execution_count": null,
      "metadata": {
        "id": "eANqYnTDOcli",
        "outputId": "7fe01125-a742-4acc-a69d-d62855b3805b"
      },
      "outputs": [
        {
          "name": "stdout",
          "output_type": "stream",
          "text": [
            "Python\n",
            "Python\n",
            "Python\n"
          ]
        }
      ],
      "source": [
        "main([\"Python\"])"
      ]
    },
    {
      "cell_type": "code",
      "execution_count": null,
      "metadata": {
        "id": "XI3PfTo-Ocli",
        "outputId": "196ca841-f982-4b24-d363-cd146a12cda0"
      },
      "outputs": [
        {
          "name": "stdout",
          "output_type": "stream",
          "text": [
            "C++\n",
            "C++\n",
            "C++\n"
          ]
        }
      ],
      "source": [
        "main([\"C++\"])"
      ]
    },
    {
      "cell_type": "markdown",
      "metadata": {
        "id": "hXs7dPDdOcli"
      },
      "source": [
        "**Задание.** Напишите консольную утилиту, которая считает сумму всех переданных чисел."
      ]
    },
    {
      "cell_type": "code",
      "execution_count": null,
      "metadata": {
        "id": "mR2mku8bOcli",
        "outputId": "f7b6130b-f31c-408f-d181-546e1a6fcf33"
      },
      "outputs": [
        {
          "name": "stdout",
          "output_type": "stream",
          "text": [
            "28\n"
          ]
        }
      ],
      "source": [
        "def parse_args(args: list[str]) -> argparse.Namespace:\n",
        "    parser = argparse.ArgumentParser()\n",
        "\n",
        "    parser.add_argument(\n",
        "        \"numbers\",\n",
        "        help=\"the numbers to be summed up\",\n",
        "        metavar=\"NUM\",\n",
        "        nargs=argparse.REMAINDER,\n",
        "        type=int,\n",
        "    )\n",
        "\n",
        "    return parser.parse_args(args)\n",
        "\n",
        "\n",
        "def main(argv: list[str] | None = None) -> None:\n",
        "    args = parse_args(argv)\n",
        "\n",
        "    print(sum(args.numbers))\n",
        "\n",
        "\n",
        "if __name__ == \"__main__\":\n",
        "    main([\"1\", \"2\", \"3\", \"4\", \"5\", \"6\", \"7\"])"
      ]
    },
    {
      "cell_type": "code",
      "execution_count": null,
      "metadata": {
        "id": "ddVu5WVGOcli",
        "outputId": "b792f596-31bd-4a5f-835b-d8bb3f6ac939"
      },
      "outputs": [
        {
          "data": {
            "text/plain": [
              "Namespace(numbers=[1, 2, 3, 4, 5, 6, 7])"
            ]
          },
          "execution_count": 115,
          "metadata": {},
          "output_type": "execute_result"
        }
      ],
      "source": [
        "parse_args([\"1\", \"2\", \"3\", \"4\", \"5\", \"6\", \"7\"])"
      ]
    },
    {
      "cell_type": "markdown",
      "metadata": {
        "id": "ZeaBLSOUOclj"
      },
      "source": [
        "**Пояснение.** Атрибут `nargs` отвечает за число аргументов, которые должны быть получены. Можно указать число или маску (`?`, `*`, `+`)."
      ]
    },
    {
      "cell_type": "markdown",
      "metadata": {
        "id": "7IR9dR-POclj"
      },
      "source": [
        "**Задание.** Если необходимо, логировать начало суммирования."
      ]
    },
    {
      "cell_type": "code",
      "execution_count": null,
      "metadata": {
        "id": "mPmk7qN9Oclj",
        "outputId": "d47ea2cc-705b-499c-899a-89bd4d237afd"
      },
      "outputs": [
        {
          "name": "stdout",
          "output_type": "stream",
          "text": [
            "Starting to sum up...\n",
            "28\n"
          ]
        }
      ],
      "source": [
        "def parse_args(args: list[str]) -> argparse.Namespace:\n",
        "    parser = argparse.ArgumentParser()\n",
        "\n",
        "    parser.add_argument(\n",
        "        \"numbers\",\n",
        "        help=\"the numbers to be summed up\",\n",
        "        metavar=\"NUM\",\n",
        "        nargs=\"+\",\n",
        "        type=int,\n",
        "    )\n",
        "\n",
        "    parser.add_argument(\n",
        "        \"-d\",\n",
        "        \"--debug\",\n",
        "        help=\"run in the debug mode\",\n",
        "        action=\"store_true\",\n",
        "    )\n",
        "\n",
        "    return parser.parse_args(args)\n",
        "\n",
        "\n",
        "def main(argv: list[str] | None = None) -> None:\n",
        "    args = parse_args(argv)\n",
        "\n",
        "    if args.debug:\n",
        "        print(\"Starting to sum up...\")\n",
        "\n",
        "    print(sum(args.numbers))\n",
        "\n",
        "\n",
        "if __name__ == \"__main__\":\n",
        "    main([\"1\", \"2\", \"3\", \"4\", \"5\", \"6\", \"7\", \"--debug\"])"
      ]
    },
    {
      "cell_type": "code",
      "execution_count": null,
      "metadata": {
        "id": "nJJ6bPxiOclj",
        "outputId": "dcc36ce2-6c7d-4334-80d8-92de5fe42787"
      },
      "outputs": [
        {
          "name": "stdout",
          "output_type": "stream",
          "text": [
            "28\n"
          ]
        }
      ],
      "source": [
        "main([\"1\", \"2\", \"3\", \"4\", \"5\", \"6\", \"7\"])"
      ]
    },
    {
      "cell_type": "code",
      "execution_count": null,
      "metadata": {
        "id": "W93C1QAoOclj",
        "outputId": "fea53ad3-b1ee-40bd-bf88-b800f83604bd"
      },
      "outputs": [
        {
          "data": {
            "text/plain": [
              "Namespace(numbers=[1, 2, 3, 4, 5, 6, 7], debug=False)"
            ]
          },
          "execution_count": 121,
          "metadata": {},
          "output_type": "execute_result"
        }
      ],
      "source": [
        "parse_args([\"1\", \"2\", \"3\", \"4\", \"5\", \"6\", \"7\"])"
      ]
    }
  ],
  "metadata": {
    "colab": {
      "provenance": []
    },
    "kernelspec": {
      "display_name": "Python 3",
      "language": "python",
      "name": "python3"
    },
    "language_info": {
      "codemirror_mode": {
        "name": "ipython",
        "version": 3
      },
      "file_extension": ".py",
      "mimetype": "text/x-python",
      "name": "python",
      "nbconvert_exporter": "python",
      "pygments_lexer": "ipython3",
      "version": "3.11.0"
    }
  },
  "nbformat": 4,
  "nbformat_minor": 0
}