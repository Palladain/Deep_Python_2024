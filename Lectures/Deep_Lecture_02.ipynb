{
  "nbformat": 4,
  "nbformat_minor": 0,
  "metadata": {
    "colab": {
      "provenance": []
    },
    "kernelspec": {
      "name": "python3",
      "display_name": "Python 3"
    },
    "language_info": {
      "name": "python"
    }
  },
  "cells": [
    {
      "cell_type": "markdown",
      "source": [
        "# Продвинутый Python, лекция 2\n",
        "\n",
        "**Лектор:** Петров Тимур\n",
        "\n",
        "**Семинаристы:** Бузаев Федор, Дешеулин Олег, Коган Александра, Васина Олеся, Садуллаев Музаффар"
      ],
      "metadata": {
        "id": "Z1WzaUsXXwRq"
      }
    },
    {
      "cell_type": "markdown",
      "source": [
        "Сегодня мы еще раз поговорим про ООП, помянем первый курс  ¯\\\\_(ツ)_/¯\n",
        "\n",
        "А также поговорим про Typing и Pydantic"
      ],
      "metadata": {
        "id": "DfB81GL8XyCX"
      }
    },
    {
      "cell_type": "markdown",
      "source": [
        "## Принципы ООП"
      ],
      "metadata": {
        "id": "W7ETHgbeX2BG"
      }
    },
    {
      "cell_type": "markdown",
      "source": [
        "ООП стоит на 4 китах:\n",
        "\n",
        "* Абстракция - использование только тех параметров в классах, которые являются существенными (например, для моделирования попугая не нужно знать, что ест каждый попугай отдельно. Важно, что он ест)\n",
        "\n",
        "* Инкапсуляция - сокрытие методов и данных класса внутри него самого, которые не необходимы для взаимодействия с ним (например, для взаимодействия человека и попугая не нужно знать полное устройство попугая и внутренних процессов, как и попугаю не нужно устройство человека для взаимодействия)\n",
        "\n",
        "* Наследование - возможность расширить или сузить класс и дополнить его (например, из класса попугаев мы создаем отдельно подкласс какаду, внутри которого есть большие какаду и есть отдельно еще маленькие кореллы)\n",
        "\n",
        "* Полиморфизм - возможность реализовать один и тот же метод разными способами (например, для жизни одни попугаи ищут дупло, другие строят гнездо)"
      ],
      "metadata": {
        "id": "9wRbxiKMX3l3"
      }
    },
    {
      "cell_type": "markdown",
      "source": [
        "## Вспоминаем"
      ],
      "metadata": {
        "id": "dOA0B9msYDzC"
      }
    },
    {
      "cell_type": "markdown",
      "source": [
        "### Атрибуты класса и слоты\n",
        "\n",
        "У класса есть свойства, которые характеризуют данный класс. И эти свойства называются – **атрибуты**\n",
        "\n",
        "По умолчанию у любого класса есть 4 атрибута:\n",
        "\n",
        "* dict - атрибут в виде словаря значений\n",
        "* module - модуль, в котором хранится класс\n",
        "* doc - описание класса\n",
        "* weakref - технический атрибут для сборщика мусора -->"
      ],
      "metadata": {
        "id": "6YNOCKtvYFRQ"
      }
    },
    {
      "cell_type": "code",
      "execution_count": 1,
      "metadata": {
        "id": "fG1WUIE-XWjt"
      },
      "outputs": [],
      "source": [
        "class Parrot:\n",
        "    \"\"\"\n",
        "    Here is a class for parrots\n",
        "    \"\"\"\n",
        "    pass"
      ]
    },
    {
      "cell_type": "code",
      "source": [
        "Parrot.__dict__"
      ],
      "metadata": {
        "id": "HZqoSmBAYLZG"
      },
      "execution_count": null,
      "outputs": []
    },
    {
      "cell_type": "code",
      "source": [
        "parrot_a = Parrot()\n",
        "print(parrot_a.__dict__) # есть свой и он пустой\n",
        "print(parrot_a.__doc__) # своего нет, идет обращение к элементу класса Parrot\n",
        "print(getattr(parrot_a, '__doc__')) # аналогично a.__doc__ функция, которая возвращает значение атрибута"
      ],
      "metadata": {
        "colab": {
          "base_uri": "https://localhost:8080/"
        },
        "id": "Hs9kGeHLYL3c",
        "outputId": "2c5485c8-647b-4d35-a680-753e87754929"
      },
      "execution_count": 2,
      "outputs": [
        {
          "output_type": "stream",
          "name": "stdout",
          "text": [
            "{}\n",
            "\n",
            "    Here is a class for parrots\n",
            "    \n",
            "\n",
            "    Here is a class for parrots\n",
            "    \n"
          ]
        }
      ]
    },
    {
      "cell_type": "markdown",
      "source": [
        "Что есть у класса и объектов? Правильно, атрибуты\n",
        "\n",
        "Умеем ставить двумя способами: поставить через точку, либо с помощью setattr:\n",
        "\n"
      ],
      "metadata": {
        "id": "rX8AccRpYVcI"
      }
    },
    {
      "cell_type": "code",
      "source": [
        "setattr(Parrot, 'color', \"red\")\n",
        "Parrot.beak = True"
      ],
      "metadata": {
        "id": "_dS5vHsEYZ7Q"
      },
      "execution_count": 3,
      "outputs": []
    },
    {
      "cell_type": "code",
      "source": [
        "Parrot.__dict__"
      ],
      "metadata": {
        "colab": {
          "base_uri": "https://localhost:8080/"
        },
        "id": "BrXRF5CvYieg",
        "outputId": "5c0e70df-90ea-4250-fb0f-e12991e8852d"
      },
      "execution_count": 4,
      "outputs": [
        {
          "output_type": "execute_result",
          "data": {
            "text/plain": [
              "mappingproxy({'__module__': '__main__',\n",
              "              '__doc__': '\\n    Here is a class for parrots\\n    ',\n",
              "              '__dict__': <attribute '__dict__' of 'Parrot' objects>,\n",
              "              '__weakref__': <attribute '__weakref__' of 'Parrot' objects>,\n",
              "              'color': 'red',\n",
              "              'beak': True})"
            ]
          },
          "metadata": {},
          "execution_count": 4
        }
      ]
    },
    {
      "cell_type": "code",
      "source": [
        "b = Parrot()\n",
        "print(b.__dict__)\n",
        "print(b.color)"
      ],
      "metadata": {
        "colab": {
          "base_uri": "https://localhost:8080/"
        },
        "id": "4jooS1YAYtHD",
        "outputId": "0fa7d624-9dc0-4033-c890-658e92ab3361"
      },
      "execution_count": 7,
      "outputs": [
        {
          "output_type": "stream",
          "name": "stdout",
          "text": [
            "{}\n",
            "red\n"
          ]
        }
      ]
    },
    {
      "cell_type": "markdown",
      "source": [
        "Умеем получать атрибуты, опять же два варианта:\n",
        "\n",
        "1. Обращение через точку\n",
        "2. Через getattr()"
      ],
      "metadata": {
        "id": "euCHMOT1YSCP"
      }
    },
    {
      "cell_type": "code",
      "source": [
        "print(getattr(b, \"color\"))\n",
        "print(getattr(b, \"colour\", \"Idk\")) ## отдельно можно указывать значение, если атрибута просто нет"
      ],
      "metadata": {
        "colab": {
          "base_uri": "https://localhost:8080/"
        },
        "id": "77h0W4ceY_ZZ",
        "outputId": "d6be89d0-30a3-4fa8-9a46-465a55224865"
      },
      "execution_count": 9,
      "outputs": [
        {
          "output_type": "stream",
          "name": "stdout",
          "text": [
            "red\n",
            "Idk\n"
          ]
        }
      ]
    },
    {
      "cell_type": "markdown",
      "source": [
        "Умем так добавлять сколько угодно и радоваться жизни. Если мы хотим на уровне класса запретить добавлять переменные (чтобы не произошло перезаписывания на каком-то из уровней), то используются слоты:"
      ],
      "metadata": {
        "id": "n4EaUKKFZ18k"
      }
    },
    {
      "cell_type": "code",
      "source": [
        "class Bird:\n",
        "    \"\"\"class example\"\"\"\n",
        "\n",
        "    __slots__ = ['type_of_bird', 'wingspan']\n",
        "\n",
        "    def __init__(self, type_of_bird: str, wingspan: float):  # self - это сам объект, сам __init__ никогда ничего не возвращает\n",
        "        self.type_of_bird = type_of_bird\n",
        "        self.wingspan = wingspan\n",
        "        print(\"Bird was born\")\n",
        "\n",
        "a = Bird(type_of_bird=\"Falcon\", wingspan=12)\n",
        "b = Bird(type_of_bird=\"Gull\", wingspan=8)\n",
        "a.beak_size = 2 # не получится"
      ],
      "metadata": {
        "colab": {
          "base_uri": "https://localhost:8080/",
          "height": 226
        },
        "id": "Br0Xgeh_aLkS",
        "outputId": "254dadc3-c308-47b3-c5e3-bde8fe53eeac"
      },
      "execution_count": 10,
      "outputs": [
        {
          "output_type": "stream",
          "name": "stdout",
          "text": [
            "Bird was born\n",
            "Bird was born\n"
          ]
        },
        {
          "output_type": "error",
          "ename": "AttributeError",
          "evalue": "'Bird' object has no attribute 'beak_size'",
          "traceback": [
            "\u001b[0;31m---------------------------------------------------------------------------\u001b[0m",
            "\u001b[0;31mAttributeError\u001b[0m                            Traceback (most recent call last)",
            "\u001b[0;32m<ipython-input-10-551c46184f98>\u001b[0m in \u001b[0;36m<cell line: 13>\u001b[0;34m()\u001b[0m\n\u001b[1;32m     11\u001b[0m \u001b[0ma\u001b[0m \u001b[0;34m=\u001b[0m \u001b[0mBird\u001b[0m\u001b[0;34m(\u001b[0m\u001b[0mtype_of_bird\u001b[0m\u001b[0;34m=\u001b[0m\u001b[0;34m\"Falcon\"\u001b[0m\u001b[0;34m,\u001b[0m \u001b[0mwingspan\u001b[0m\u001b[0;34m=\u001b[0m\u001b[0;36m12\u001b[0m\u001b[0;34m)\u001b[0m\u001b[0;34m\u001b[0m\u001b[0;34m\u001b[0m\u001b[0m\n\u001b[1;32m     12\u001b[0m \u001b[0mb\u001b[0m \u001b[0;34m=\u001b[0m \u001b[0mBird\u001b[0m\u001b[0;34m(\u001b[0m\u001b[0mtype_of_bird\u001b[0m\u001b[0;34m=\u001b[0m\u001b[0;34m\"Gull\"\u001b[0m\u001b[0;34m,\u001b[0m \u001b[0mwingspan\u001b[0m\u001b[0;34m=\u001b[0m\u001b[0;36m8\u001b[0m\u001b[0;34m)\u001b[0m\u001b[0;34m\u001b[0m\u001b[0;34m\u001b[0m\u001b[0m\n\u001b[0;32m---> 13\u001b[0;31m \u001b[0ma\u001b[0m\u001b[0;34m.\u001b[0m\u001b[0mbeak_size\u001b[0m \u001b[0;34m=\u001b[0m \u001b[0;36m2\u001b[0m \u001b[0;31m# не получится\u001b[0m\u001b[0;34m\u001b[0m\u001b[0;34m\u001b[0m\u001b[0m\n\u001b[0m",
            "\u001b[0;31mAttributeError\u001b[0m: 'Bird' object has no attribute 'beak_size'"
          ]
        }
      ]
    },
    {
      "cell_type": "code",
      "source": [
        "a.__dict__ # его попросту не сущетсвует"
      ],
      "metadata": {
        "colab": {
          "base_uri": "https://localhost:8080/",
          "height": 150
        },
        "id": "4AxqoqkEaQ0S",
        "outputId": "7ce57a9f-4daa-4532-bf67-516252e2d577"
      },
      "execution_count": 11,
      "outputs": [
        {
          "output_type": "error",
          "ename": "AttributeError",
          "evalue": "'Bird' object has no attribute '__dict__'",
          "traceback": [
            "\u001b[0;31m---------------------------------------------------------------------------\u001b[0m",
            "\u001b[0;31mAttributeError\u001b[0m                            Traceback (most recent call last)",
            "\u001b[0;32m<ipython-input-11-24d50c1843f4>\u001b[0m in \u001b[0;36m<cell line: 1>\u001b[0;34m()\u001b[0m\n\u001b[0;32m----> 1\u001b[0;31m \u001b[0ma\u001b[0m\u001b[0;34m.\u001b[0m\u001b[0m__dict__\u001b[0m\u001b[0;34m\u001b[0m\u001b[0;34m\u001b[0m\u001b[0m\n\u001b[0m",
            "\u001b[0;31mAttributeError\u001b[0m: 'Bird' object has no attribute '__dict__'"
          ]
        }
      ]
    },
    {
      "cell_type": "code",
      "source": [
        "Bird.__dict__ # нет словаря, есть слоты и прям выделенные ячейки"
      ],
      "metadata": {
        "colab": {
          "base_uri": "https://localhost:8080/"
        },
        "id": "s2UNct-FaUQt",
        "outputId": "b5b740ba-b247-4b2a-ff63-b5ed376345a3"
      },
      "execution_count": 12,
      "outputs": [
        {
          "output_type": "execute_result",
          "data": {
            "text/plain": [
              "mappingproxy({'__module__': '__main__',\n",
              "              '__doc__': 'class example',\n",
              "              '__slots__': ['type_of_bird', 'wingspan'],\n",
              "              '__init__': <function __main__.Bird.__init__(self, type_of_bird: str, wingspan: float)>,\n",
              "              'type_of_bird': <member 'type_of_bird' of 'Bird' objects>,\n",
              "              'wingspan': <member 'wingspan' of 'Bird' objects>})"
            ]
          },
          "metadata": {},
          "execution_count": 12
        }
      ]
    },
    {
      "cell_type": "code",
      "source": [
        "class MyClassFoo:\n",
        "    \"\"\"class example\"\"\"\n",
        "\n",
        "    S = 3 # атрибут класса\n",
        "\n",
        "    def __init__(self, x):\n",
        "        self.x = x + self.S # задаем переменные для объекта класса\n",
        "        print(\"Hello\")\n",
        "\n",
        "a = MyClassFoo(1)\n",
        "b = MyClassFoo(2)"
      ],
      "metadata": {
        "colab": {
          "base_uri": "https://localhost:8080/"
        },
        "id": "BbzAJVVqbPkp",
        "outputId": "a61c4e87-0266-4847-8491-5c5c4b91b4a7"
      },
      "execution_count": 15,
      "outputs": [
        {
          "output_type": "stream",
          "name": "stdout",
          "text": [
            "Hello\n",
            "Hello\n"
          ]
        }
      ]
    },
    {
      "cell_type": "code",
      "source": [
        "MyClassFoo.__dict__"
      ],
      "metadata": {
        "colab": {
          "base_uri": "https://localhost:8080/"
        },
        "id": "uPr1kGaUbdpq",
        "outputId": "c5c1c411-3407-4903-edcf-48a6e4fb3549"
      },
      "execution_count": 16,
      "outputs": [
        {
          "output_type": "execute_result",
          "data": {
            "text/plain": [
              "mappingproxy({'__module__': '__main__',\n",
              "              '__doc__': 'class example',\n",
              "              'S': 3,\n",
              "              '__init__': <function __main__.MyClassFoo.__init__(self, x)>,\n",
              "              '__dict__': <attribute '__dict__' of 'MyClassFoo' objects>,\n",
              "              '__weakref__': <attribute '__weakref__' of 'MyClassFoo' objects>})"
            ]
          },
          "metadata": {},
          "execution_count": 16
        }
      ]
    },
    {
      "cell_type": "code",
      "source": [
        "a.__dict__"
      ],
      "metadata": {
        "colab": {
          "base_uri": "https://localhost:8080/"
        },
        "id": "R7vFkYhJblG9",
        "outputId": "bd943562-a56f-4cc3-a1b2-1d9f8d59ed0e"
      },
      "execution_count": 17,
      "outputs": [
        {
          "output_type": "execute_result",
          "data": {
            "text/plain": [
              "{'x': 4}"
            ]
          },
          "metadata": {},
          "execution_count": 17
        }
      ]
    },
    {
      "cell_type": "markdown",
      "source": [
        "И напоминаем про связь слотов и атрибутов класса:"
      ],
      "metadata": {
        "id": "auKt8boMb195"
      }
    },
    {
      "cell_type": "code",
      "source": [
        "class MyClassFoo:\n",
        "\n",
        "    __slots__ = ['x', 'z']\n",
        "    S = 3\n",
        "\n",
        "    \"\"\"class example\"\"\"\n",
        "    def __init__(self, x, y):  # self - это сам объект, сам __init__ никогда ничего не возвращает\n",
        "        self.x = x\n",
        "        self.z = y\n",
        "        print(\"Hello\")\n",
        "\n",
        "a = MyClassFoo(1, 2)\n",
        "print(a.S)"
      ],
      "metadata": {
        "colab": {
          "base_uri": "https://localhost:8080/"
        },
        "id": "MOyzOEzDbyFl",
        "outputId": "34930ca4-21be-4f5b-8635-900866d082e7"
      },
      "execution_count": 20,
      "outputs": [
        {
          "output_type": "stream",
          "name": "stdout",
          "text": [
            "Hello\n",
            "3\n"
          ]
        }
      ]
    },
    {
      "cell_type": "code",
      "source": [
        "a.S = 'ahah' #оп, не можем затереть"
      ],
      "metadata": {
        "colab": {
          "base_uri": "https://localhost:8080/",
          "height": 150
        },
        "id": "2BPEYiInb8sP",
        "outputId": "fe559c4c-04ff-40b5-8ac0-5a05403c97fa"
      },
      "execution_count": 21,
      "outputs": [
        {
          "output_type": "error",
          "ename": "AttributeError",
          "evalue": "'MyClassFoo' object attribute 'S' is read-only",
          "traceback": [
            "\u001b[0;31m---------------------------------------------------------------------------\u001b[0m",
            "\u001b[0;31mAttributeError\u001b[0m                            Traceback (most recent call last)",
            "\u001b[0;32m<ipython-input-21-fa31d8045204>\u001b[0m in \u001b[0;36m<cell line: 1>\u001b[0;34m()\u001b[0m\n\u001b[0;32m----> 1\u001b[0;31m \u001b[0ma\u001b[0m\u001b[0;34m.\u001b[0m\u001b[0mS\u001b[0m \u001b[0;34m=\u001b[0m \u001b[0;34m'ahah'\u001b[0m\u001b[0;34m\u001b[0m\u001b[0;34m\u001b[0m\u001b[0m\n\u001b[0m",
            "\u001b[0;31mAttributeError\u001b[0m: 'MyClassFoo' object attribute 'S' is read-only"
          ]
        }
      ]
    },
    {
      "cell_type": "code",
      "source": [
        "MyClassFoo.S = 5 ## но можем вот так\n",
        "print(a.S)"
      ],
      "metadata": {
        "colab": {
          "base_uri": "https://localhost:8080/"
        },
        "id": "m95rxL18cEtu",
        "outputId": "20995127-2f93-4f5f-b580-bea23b07b5e5"
      },
      "execution_count": 22,
      "outputs": [
        {
          "output_type": "stream",
          "name": "stdout",
          "text": [
            "5\n"
          ]
        }
      ]
    },
    {
      "cell_type": "markdown",
      "source": [
        "### Методы класса"
      ],
      "metadata": {
        "id": "l3LUo3cpcPMr"
      }
    },
    {
      "cell_type": "markdown",
      "source": [
        "Поведение - это действия, которые происходят с объектом или выполняются объетком. Поведение, которое определяется классом объекта, называется ***методами*** этого класса. На программном уровне методы сравнимы с функциями в функциональном программировании, но, в отличие от последних, методы имеют доступ к атрибутам, в частности к переменным с данными, которые связаны с объектом. Так же как функции, методы принимают параметры и возвращают значение.\n",
        "\n",
        "\n",
        "Давайте напишем поведение класса Попугай:"
      ],
      "metadata": {
        "id": "euDJ45LBcjcA"
      }
    },
    {
      "cell_type": "markdown",
      "source": [
        "![parrot_class_2_1.jpg](data:image/jpeg;base64,/9j/4Q/+RXhpZgAATU0AKgAAAAgABgESAAMAAAABAAEAAAEaAAUAAAABAAAAVgEbAAUAAAABAAAAXgEoAAMAAAABAAIAAAITAAMAAAABAAEAAIdpAAQAAAABAAAAZgAAAAAAAABIAAAAAQAAAEgAAAABAAeQAAAHAAAABDAyMjGRAQAHAAAABAECAwCgAAAHAAAABDAxMDCgAQADAAAAAQABAACgAgAEAAAAAQAAAdegAwAEAAAAAQAAAhOkBgADAAAAAQAAAAAAAAAAAAAAAAAAAAAAAAAAAAAAAAAAAAAAAAAAAAAAAAAAAAAAAAAAAAAAAAAAAAAAAAAAAAAAAAAAAAAAAAAAAAAAAAAAAAAAAAAAAAAAAAAAAAAAAAAAAAAAAAAAAAAAAAAAAAAAAAAAAAAAAAAAAAAAAAAAAAAAAAAAAAAAAAAAAAAAAAAAAAAAAAAAAAAAAAAAAAAAAAAAAAAAAAAAAAAAAAAAAAAAAAAAAAAAAAAAAAAAAAAAAAAAAAAAAAAAAAAAAAAAAAAAAAAAAAAAAAAAAAAAAAAAAAAAAAAAAAAAAAAAAAAAAAAAAAAAAAAAAAAAAAAAAAAAAAAAAAAAAAAAAAAAAAAAAAAAAAAAAAAAAAAAAAAAAAAAAAAAAAAAAAAAAAAAAAAAAAAAAAAAAAAAAAAAAAAAAAAAAAAAAAAAAAAAAAAAAAAAAAAAAAAAAAAAAAAAAAAAAAAAAAAAAAAAAAAAAAAAAAAAAAAAAAAAAAAAAAAAAAAAAAAAAAAAAAAAAAAAAAAAAAAAAAAAAAAAAAAAAAAAAAAAAAAAAAAAAAAAAAAAAAAAAAAAAAAAAAAAAAAAAAAAAAAAAAAAAAAAAAAAAAAAAAAAAAAAAAAAAAAAAAAAAAAAAAAAAAAAAAAAAAAAAAAAAAAAAAAAAAAAAAAAAAAAAAAAAAAAAAAAAAAAAAAAAAAAAAAAAAAAAAAAAAAAAAAAAAAAAAAAAAAAAAAAAAAAAAAAAAAAAAAAAAAAAAAAAAAAAAAAAAAAAAAAAAAAAAAAAAAAAAAAAAAAAAAAAAAAAAAAAAAAAAAAAAAAAAAAAAAAAAAAAAAAAAAAAAAAAAAAAAAAAAAAAAAAAAAAAAAAAAAAAAAAAAAAAAAAAAAAAAAAAAAAAAAAAAAAAAAAAAAAAAAAAAAAAAAAAAAAAAAAAAAAAAAAAAAAAAAAAAAAAAAAAAAAAAAAAAAAAAAAAAAAAAAAAAAAAAAAAAAAAAAAAAAAAAAAAAAAAAAAAAAAAAAAAAAAAAAAAAAAAAAAAAAAAAAAAAAAAAAAAAAAAAAAAAAAAAAAAAAAAAAAAAAAAAAAAAAAAAAAAAAAAAAAAAAAAAAAAAAAAAAAAAAAAAAAAAAAAAAAAAAAAAAAAAAAAAAAAAAAAAAAAAAAAAAAAAAAAAAAAAAAAAAAAAAAAAAAAAAAAAAAAAAAAAAAAAAAAAAAAAAAAAAAAAAAAAAAAAAAAAAAAAAAAAAAAAAAAAAAAAAAAAAAAAAAAAAAAAAAAAAAAAAAAAAAAAAAAAAAAAAAAAAAAAAAAAAAAAAAAAAAAAAAAAAAAAAAAAAAAAAAAAAAAAAAAAAAAAAAAAAAAAAAAAAAAAAAAAAAAAAAAAAAAAAAAAAAAAAAAAAAAAAAAAAAAAAAAAAAAAAAAAAAAAAAAAAAAAAAAAAAAAAAAAAAAAAAAAAAAAAAAAAAAAAAAAAAAAAAAAAAAAAAAAAAAAAAAAAAAAAAAAAAAAAAAAAAAAAAAAAAAAAAAAAAAAAAAAAAAAAAAAAAAAAAAAAAAAAAAAAAAAAAAAAAAAAAAAAAAAAAAAAAAAAAAAAAAAAAAAAAAAAAAAAAAAAAAAAAAAAAAAAAAAAAAAAAAAAAAAAAAAAAAAAAAAAAAAAAAAAAAAAAAAAAAAAAAAAAAAAAAAAAAAAAAAAAAAAAAAAAAAAAAAAAAAAAAAAAAAAAAAAAAAAAAAAAAAAAAAAAAAAAAAAAAAAAAAAAAAAAAAAAAAAAAAAAAAAAAAAAAAAAAAAAAAAAAAAAAAAAAAAAAAAAAAAAAAAAAAAAAAAAAAAAAAAAAAAAAAAAAAAAAAAAAAAAAAAAAAAAAAAAAAAAAAAAAAAAAAAAAAAAAAAAAAAAAAAAAAAAAAAAAAAAAAAAAAAAAAAAAAAAAAAAAAAAAAAAAAAAAAAAAAAAAAAAAAAAAAAAAAAAAAAAAAAAAAAAAAAAAAAAAAAAAAAAAAAAAAAAAAAAAAAAAAAAAAAAAAAAAAAAAAAAAAAAAAAAAAAAAAAAAAAAAAAAAAAAAAAAAAAAAAAAAAAAAAAAAAAAAAAAAAAAAAAAAAAAAAAAAAAAAAAAAAAAAAAAAAAAAAAAAAAAAAAAAAAAAAAAAAAAAAAAAAAAAAAAAAAAAAAAAAAAAAAAAAAAAAAAAAAAAAAAAAAAAAAAAAAAAAAAAAAAAAAAAAAAAAAAAAAAAAAAAAAAAAAAAAAAAAAAAAAAAAAAAAAAAAAAAAAAAAAAAAAAAAAAAAAAAAAAAAAAAAAAAAAAAAAAAAAAAAAAAAAAAAAAAAAAAAAAAAAAAAAAAAAAAAAAAAAAAAAAAAAAAAAAAAAAAAAAAAAAAAAAAAAAAAAAAAAAAAAAAAAAAAAAAAAAAAAAAAAAAAAAAAAAAAAAAAAAAAAAAAAAAAAAAAAAAAAAAAAAAAAAAAAAAAAAAAAAAAAAAAAAAAAAAAAAAAAAAAAAAAAAAAAAAAAAAAAAAAAAAAAAAAAAAAAAAAAAAAAAAAAAAAAAAAAAAAAAAAAAAAAAAAAAAAAAAAAAAAAAAAAAAAAAAAAAAAAAAAAAAAAAAAAAAAAAAAAAAAAAAAAAAAAAAAAAAAAAAAAAAAAAAAAAAAAAAAAAAAAAAAAAAAAAAAAAAAAAAAAAAAAAAAAAAAAAAAAAAAAAAAAAAAAAAAAAAAAAAAAAAAAAAAAAAAAAAAAAAAAAAAAAAAAAAAAAAAAAAAAAAAAAAAAAAAAAAAAAAAAAAAAAAAAAAAAAAAAAAAAAAAAAAAAAAAAAAAAAAAAAAAAAAAAAAAAAAAAAAAAAAAAAAAAAAAAAAAAAAAAAAAAAAAAAAAAAAAAAAAAAAAAAAAAAAAAAAAAAAAAAAAAAAAAAAAAAAAAAAAAAAAAAAAAAAAAAAAAAAAAAAAAAAAAAAAAAAAAAAAAAAAAAAAAAAAAAAAAAAAAAAAAAAAAAAAAAAAAAAAAAAAAAAAAAAAAAAAAAAAAAAAAAAAAAAAAAAAAAAAAAAAAAAAAAAAAAAAAAAAAAAAAAAAAAAAAAAAAAAAAAAAAAAAAAAAAAAAAAAAAAAAAAAAAAAAAAAAAAAAAAAAAAAAAAAAAAAAAAAAAAAAAAAAAAAAAAAAAAAAAAAAAAAAAAAAAAAAAAAAAAAAAAAAAAAAAAAAAAAAAAAAAAAAAAAAAAAAAAAAAAAAAAAAAAAAAAAAAAAAAAAAAAAAAAAAAAAAAAAAAAAAAAAAAAAAAAAAAAAAAAAAAAAAAAAAAAAAAAAAAAAAAAAAAAAAAAAAAAAAAAAAAAAAAAAAAAAAAAAAAAAAAAAAAAAAAAAAAAAAAAAAAAAAAAAAAAAAAAAAAAAAAAAAAAAAAAAAAAAAAAAAAAAAAAAAAAAAAAAAAAAAAAAAAAAAAAAAAAAAAAAAAAAAAAAAAAAAAAAAAAAAAAAAAAAAAAAAAAAAAAAAAAAAAAAAAAAAAAAAAAAAAAAAAAAAAAAAAAAAAAAAAAAAAAAAAAAAAAAAAAAAAAAAAAAAAAAAAAAAAAAAAAAAAAAAAAAAAAAAAAAAAAAAAAAAAAAAAAAAAAAAAAAAAAAAAAAAAAAAAAAAAAAAAAAAAAAAAAAAAAAAAAAAAAAAAAAAAAAAAAAAAAAAAAAAAAAAAAAAAAAAAAAAAAAAAAAAAAAAAAAAAAAAAAAAAAAAAAAAAAAAAAAAAAAAAAAAAAAAAAAAAAAAAAAAAAAAAAAAAAAAAAAAAAAAAAAAAAAAAAAAAAAAAAAAAAAAAAAAAAAAAAAAAAAAAAAAAAAAAAAAAAAAAAAAAAAAAAAAAAAAAAAAAAAAAAAAAAAAAAAAAAAAAAAAAAAAAAAAAAAAAAAAAAAAAAAAAAAAAAAAAAAAAAAAAAAAAAAAAAAAAAAAAAAAAAAAAAAAAAAAAAAAAAAAAAAAAAAAAAAAAAAAAAAAAAAAAAAAAAAAAAAAAAAAAAAAAAAAAAAAAAAAAAAAAAAAAAAAAAAAAAAAAAAAAAAAAAAAAAAAAAAAAAAAAAAAAAAAAAAAAAAAAAAAAAAAAAAAAAAAAAAAAAAAAAAAAAAAAAAAAAAAAAAAAAAAAAAAAAAAAAAAAAAAAAAAAAAAAAAAAAAAAAAAAAAAAAAAAAAAAAAAAAAAAAAAAAAAAAAAAAAAAAAAAAAAAAAAAAAAAAAAAAAAAAAAAAAAAAAAAAAAAAAAAAAAAAAAAAAAAAAAAAAAAAAAAAAAAAAAAAAAAAAAAAAAAAAAAAAAAAAAAAAAAAAAAAAAAAAAAAAAAAAAAAAAAAAAAAAAAAAAAAAAAAAAAAAAAAAAAAAAAAAAAAAAAAAAAAAAAAAAAAAAAAAAAAAAAAAAAAAAAAAAAAAAAAAAAAAAAAAAAAAAAAAAAAAAAAAAAAAAAAAAAAAAAAAAAAAAAAAAAAAAAAAAAAAAAAAAAAAAAAAAAAAAAAAAAAAAAAAAAAAAAAAAAAAAAAAAAAAAAAAAAAAAAAAAAAAAAAAAAAAAAAAAAAAAAAAAAAAAAAAAAAAAAAAAAAAAAAAAAAAAAAAAAAAAAAAAAAAAAAAAAAAAAAAAAAAAAAAAAAAAAAAAAAAAAAAAAAAAAAAAAAAAAAAAAAAAAAAAAAAAAAAAAAAAAAAAAAAAAAAAAAAAAAAAAAAAAAAAAAAAAAAAAAAAAAAAAAAAAAAAAAAAAAAAAAAAAAAAAAAAAAAAAAAAAAAAAAAAAAAAAAAAAAAAAAAAAAAAAAAAAAAAAAAAAAAAAAAAAAAAAAAAAAAAAAAAAAAAAAAAAAAAAAAAAAAAAAAAAAAAAAAAAAAAAAAAAAAAAAAAAAAAAAAAAAAAAAAAAAAAAAAAAAAAAAAAAAAAAAAAAAAAAAAAAAAAAAAAAAAAAAAAAAAAAAAAAAAAAAAAAAAAAAAAAAAAAAAAAAAAAAAAAAAAAAAAAAAAAAAAAAAAAAAAAAAAAAAAAAAAAAAAAAAAAAAAAAAAAAAAAAAAAAAAAAAAAAAAAAAAAAAAAAAAAAAAAAAAAAAAAAAAAAAAAAAAAAAAAAAAAAAAAAAAAAAAAAAAAAAAAAAAAAAAAAAAAAAAAAAAAAAAAAAAAAAAAAAAAAAAAAAAAAAAAAAAAAAAAAAAAAAAAAAAAAAAAAAAAAAAAAAAAAAAAAAAAAAAAAAAAAAAAAAAAAAAAAAAAAAAAAAAAA/9sAhAABAQEBAQECAQECAwICAgMEAwMDAwQFBAQEBAQFBgUFBQUFBQYGBgYGBgYGBwcHBwcHCAgICAgJCQkJCQkJCQkJAQEBAQICAgQCAgQJBgUGCQkJCQkJCQkJCQkJCQkJCQkJCQkJCQkJCQkJCQkJCQkJCQkJCQkJCQkJCQkJCQkJCQn/3QAEAB7/wAARCAITAdcDASIAAhEBAxEB/8QBogAAAQUBAQEBAQEAAAAAAAAAAAECAwQFBgcICQoLEAACAQMDAgQDBQUEBAAAAX0BAgMABBEFEiExQQYTUWEHInEUMoGRoQgjQrHBFVLR8CQzYnKCCQoWFxgZGiUmJygpKjQ1Njc4OTpDREVGR0hJSlNUVVZXWFlaY2RlZmdoaWpzdHV2d3h5eoOEhYaHiImKkpOUlZaXmJmaoqOkpaanqKmqsrO0tba3uLm6wsPExcbHyMnK0tPU1dbX2Nna4eLj5OXm5+jp6vHy8/T19vf4+foBAAMBAQEBAQEBAQEAAAAAAAABAgMEBQYHCAkKCxEAAgECBAQDBAcFBAQAAQJ3AAECAxEEBSExBhJBUQdhcRMiMoEIFEKRobHBCSMzUvAVYnLRChYkNOEl8RcYGRomJygpKjU2Nzg5OkNERUZHSElKU1RVVldYWVpjZGVmZ2hpanN0dXZ3eHl6goOEhYaHiImKkpOUlZaXmJmaoqOkpaanqKmqsrO0tba3uLm6wsPExcbHyMnK0tPU1dbX2Nna4uPk5ebn6Onq8vP09fb3+Pn6/9oADAMBAAIRAxEAPwD+/ONV8teOwp+xPQUkf+rX6Cn0AN2J6CjYnoKdRQA3YnoKNiegp1FADdiego2J6CnUUAN2J6CjYnoKdRQA3YnoKNiegp1FADdiego2J6CnUUAN2J6CjYnoKdRQA3YnoKNiegp1FADdiego2J6CnUUAN2J6CjYnoKdRQA3YnoKNiegp1FADdiego2J6CnUUAN2J6CjYnoKdRQA3YnoKNiegp1FADdiego2J6CnUUAN2J6CjYnoKdRQA3YnoKNiegp1FADdiego2J6CnUUAN2J6CjYnoKdRQA3YnoKNiegp1FADdiego2J6CnUUAN2J6CjYnoKdRQA3YnoKNiegp1FADdiego2J6CnUUAN2J6CjYnoKdRQA3YnoKNiegp1FADdiego2J6CnUUAN2J6CjYnoKdRQA3YnoKNiegp1FAH//0P79Y/8AVr9BT6ZH/q1+gp9ABRRRQAUUUUAFFFFABRRRQAUUUUAFFFFABRRRQAUUUUAFFFFABRRRQAUUUUAFFFFABRRRQAUUUUAFFFFABRRRQAUUUUAFFFFABRRRQAUUUUAFFFFABRRRQAUUUUAFFFFABRRRQAUUUUAFFFFABRRRQAUUUUAf/9H+/WP/AFa/QU+mR/6tfoKfQAUUUUAFFFFABRRRQAUUUUAFFFFABRRRQAUUUUAFFFFABRRRQAUUUUAFFFFABRRRQAUUUUAFFFFABRRRQAUUUUAFFFFABRRRQAUUUUAFFFFABRRRQAUUUUAFFFFABRRRQAUUUUAFFFFABRRRQAUUUUAFFFFAH//S/v1j/wBWv0FPpkf+rX6Cn0AFFFFABRRRQAUUUUAFFFFABRRRQAUUUUAFFFFABRRRQAUUUUAFFFFABRRRQAUUUUAFFFFABRRRQAUUUUAFFFFABRRRQAUUUUAFFFFABRRRQAUUUUAFFFFABRRRQAUUUUAFFFFABRRRQAUUUUAFFFFABRRRQB//0/79Y/8AVr9BT6ZH/q1+gp9ABRRRQB8e/wDBQP8AaB8XfsofsRfFb9pfwFa2l9rXgPwtqeuWVvfq7W0s9lA0qJMsbxuUJXDBXU46EV+Qfwj/AGnv+DiX42/Czw38ZPAnwy+CbaJ4r0y01fTzca3q8U32W9iWaHzIxCwR9jDcu44PGeK/QX/gtJ/yiW/aN/7J5r//AKRSV7F/wTZ/5R6/A3/sQvDv/pugoA/Nz/hZ3/Byj/0TD4G/+D/WP/jFH/Czv+DlH/omHwN/8H+sf/GK/fqigD8Bf+Fn/wDByj/0TD4G/wDg/wBY/wDjFJ/ws7/g5Rxj/hWHwN/8H2sf/GK/fuigD8BP+Fnf8HKP/RMPgb/4PtY/+MUf8LO/4OUf+iYfA3/wfax/8Yr9+6KAPwE/4Wd/wco/9Ew+Bv8A4PtY/wDjFL/ws7/g5R/6Jh8Df/B/rH/xiv36ooA/AX/hZ3/Byj/0TD4G/wDg/wBY/wDjFJ/ws7/g5R/6Jh8Df/B9rH/xiv37ooA/AX/hZ3/Byj/0TD4G/wDg/wBY/wDjFJ/ws7/g5R/6Jh8Df/B9rH/xiv37ooA/AX/hZ3/Byj/0TD4G/wDg/wBY/wDjFH/Cz/8Ag5R/6Jh8Df8Awf6x/wDGK/fqigD8BP8AhZ3/AAco/wDRMPgb/wCD7WP/AIxS/wDCzv8Ag5R/6Jh8Df8Awf6x/wDGK/fqigD8Bf8AhZ3/AAco/wDRMPgb/wCD/WP/AIxSf8LO/wCDlH/omHwN/wDB9rH/AMYr9+6KAPwE/wCFnf8AByjjH/CsPgb/AOD7WP8A4xS/8LP/AODlH/omHwN/8H+sf/GK/fqigD8Bf+Fn/wDByj/0TD4G/wDg/wBY/wDjFH/Cz/8Ag5R/6Jh8Df8Awf6x/wDGK/fqigD8Bf8AhZ3/AAco/wDRMPgb/wCD/WP/AIxR/wALP/4OUf8AomHwN/8AB/rH/wAYr9+qKAPwE/4Wd/wcoj/mmHwN/wDB9rH/AMYo/wCFnf8AByj/ANEw+Bv/AIPtY/8AjFfv3RQB+Av/AAs7/g5R/wCiYfA3/wAH+sf/ABij/hZ3/Byj/wBEw+Bv/g/1j/4xX79UUAfgJ/ws7/g5Rxj/AIVh8Df/AAfax/8AGKX/AIWd/wAHKP8A0TD4G/8Ag/1j/wCMV+/VFAH4C/8ACzv+DlH/AKJh8Df/AAf6x/8AGKP+Fnf8HKP/AETD4G/+D/WP/jFfv1RQB+Av/Czv+DlH/omHwN/8H+sf/GKP+Fnf8HKP/RMPgb/4P9Y/+MV+/VFAH4C/8LP/AODlH/omHwN/8H+sf/GKT/hZ3/Byj0/4Vh8Df/B9rH/xiv37ooA/AX/hZ/8Awco/9Ew+Bv8A4P8AWP8A4xR/ws7/AIOUf+iYfA3/AMH+sf8Axiv36ooA/AX/AIWf/wAHKP8A0TD4G/8Ag/1j/wCMUf8ACz/+DlH/AKJh8Df/AAf6x/8AGK/fqigD8BP+Fnf8HKP/AETD4G/+D7WP/jFH/Czv+DlH/omHwN/8H2sf/GK/fuigD8BP+Fnf8HKP/RMPgb/4PtY/+MUv/Czv+DlH/omHwN/8H+sf/GK/fqigD8BP+Fnf8HKOMf8ACsPgb/4PtY/+MUv/AAs//g5R/wCiYfA3/wAH+sf/ABiv36ooA/AX/hZ3/Byj/wBEw+Bv/g/1j/4xXzb+19+3d/wcF/sXfs2eLf2oPiz8MPguPDvg+zF3efYtY1e5n2s6xL5cJSIOdzr8u9eO4r+oyvxY/wCDiT/lC/8AHv8A7AUX/pZb0AfrR8KvE9/42+GXh3xnqiRx3Wr6XZ3syRAhFkuIEkYICSdoLcZPSu/rx39nn/kgfgj/ALF/TP8A0kjr2KgAooooAKKKKAP/1P79Y/8AVr9BT6ZH/q1+gp9ABRRRQB+Y3/BaT/lEt+0b/wBk81//ANIpK9i/4Js/8o9fgb/2IXh3/wBN0FeO/wDBaT/lEt+0b/2TzX//AEikr2L/AIJs/wDKPX4G/wDYheHf/TdBQB9r0UUUAFFFFABRRRQAUUUUAFFFFABRRRQAUUUUAFFFFABRRRQAUUUUAFFFFABRRRQAUUUUAFFFFABRRRQAUUUUAFFFFABRRRQAUUUUAFFFFABRRRQAUUUUAFFFFABX4sf8HEn/AChf+Pf/AGAov/Sy3r9p6/Fj/g4k/wCUL/x7/wCwFF/6WW9AH6i/s8/8kD8Ef9i/pn/pJHXsVeO/s8/8kD8Ef9i/pn/pJHXsVABRRRQAUUUUAf/V/v1j/wBWv0FPpkf+rX6Cn0AFFFFAH5jf8FpP+US37Rv/AGTzX/8A0ikr2L/gmz/yj1+Bv/YheHf/AE3QV47/AMFpP+US37Rv/ZPNf/8ASKSvYv8Agmz/AMo9fgb/ANiF4d/9N0FAH2vRRRQAUUUUAFFFFABRRRQAUUUUAFFFFABRRRQAUmRXgf7VfiXxB4L/AGYfiL4y8J3b6fqmk+GNWvLO5i274Z4LOWSKRdwZcoygjKkccjFfx4f8Ew/h1/wXw/4Kb/sb+HP2wvCf7bM3g+z8QT31qNLu/DOnXssT6fcvaOxmjhhUiR4y6rs+VSFJYjJAP7i8igY7V/JL8bf2D/8Ag4F+B3wc8VfGfVv28/7StfCekXusTWkXhKwhedLKFp2iSQo4RnCbQxRgpOcEcV+mf/Bvr+018av2v/8Aglp4F+Pv7QXiC58T+KNY1DXo59QvEgjmkitdWure3V1to4ocpDGifIgBxmgD9qKKzdV1jStDtDf6xcxWsAODJM6xoP8AgTECotH1/Q/ENt9s0G8gvYQcb7eRZVz6ZQkUAa9FVby9tNPgNzeyJDGvVnYKo7Dk4FZH/CWeGP8AoI2v/f6P/wCKoA6GisW28R6DeTra2d5BLI3RElRicegBq3a6pp17NJb2c8crw8OqOrFe3IHTpQBfopjukal3IAAyT0wBWSviDRWsjqK3cBt1O0yCRNgPpuzj8KANmiue/wCEs8Mf9BG1/wC/0f8A8VWzbXMF3AtzbMskbjKspBUj2I4oAsUVyw8beDzqP9kDVLP7Vu2eT58XmZ9Nm7OfbFdRQAzzF3bMjPpSs6JjcQM1/Pd+39+wl+3Left7+D/+CmH/AATM8T+Hrvxbo2lL4a8SeE/FN5PDpN/Yq0p3qbZJNszLJtfOxlaKF0faksU3iOufsQ/8FX/28v2zvhR8bP8AgpBfeCvhn8KvhBqK67a+HPBur3t1capqkbxyRLdSSxwxmMvEmSz4WNXjETmXzIgD+oKioLeeG5hW4t2V43AKspBUg+hHGKnoAKKKKACiiigAooooAKKKKACiiigAooooAK/Fj/g4k/5Qv/Hv/sBRf+llvX7T1+LH/BxJ/wAoX/j3/wBgKL/0st6AP1F/Z5/5IH4I/wCxf0z/ANJI69irx39nn/kgfgj/ALF/TP8A0kjr2KgAooooAKKKKAP/1v79Y/8AVr9BT6ZH/q1+gp9ABRRRQB+Y3/BaT/lEt+0b/wBk81//ANIpK9i/4Js/8o9fgb/2IXh3/wBN0FeO/wDBaT/lEt+0b/2TzX//AEikr2L/AIJs/wDKPX4G/wDYheHf/TdBQB9r0UUUAFFFFABRRRQAUUUUAFFFFABRRRQAUUUUAfM/7aX/ACZ38Vv+xP1v/wBIJq/Fr/g1C/5Ql/Db/sJ+Iv8A073NftL+2l/yZ38Vv+xP1v8A9IJq/Fr/AINQv+UJfw2/7CfiL/073NAH7Bft/wD/ACYx8Y/+xK13/wBIJq/IH/g1x1ey0D/ghn8Odc1NvLtrO78UTyt/dSPWr5mP4AV+v37f/wDyYx8Y/wDsStd/9IJq/GD/AINnfDLeNP8AggX4K8HI2w6t/wAJdZBumPP1a/jz7Y3UAfmf+wl+yW//AAcq/EX4gft5/wDBQnXNbvfhFpOvTaJ4F8Eabf3Fhpwt40WZZpVhYYeCKaOOR4/3sl15++Tykiiju/8ABRr/AIJ3t/wb3aLoX/BS7/glTrOt6F4Y0LV7Ky8ZeBbu/uL7T9UgvJVhib9+XYiaQpbSCTe8ReOa3ZGjeOf65/4NN/ihpXgz9kPx1+wJ42kisPiF8IPGGqQajpjHbcNDPIFknWNsMY4r2K5tiwH/ACyBONwFerf8HVv7QPgnwN/wTRuP2fI5lvvHHxH13RU0LQ4WzeXaaVqdrf3EiRKC+weVHAGxzNNFEuZJEUgHZ/8ABxD8RfDvxg/4IK+K/ir4UYTaV4lPgnVLQ5DBoLzXdLmTpwflYV8pfsQ/8G0v/BLb47fsb/Cr41ePdH8TNrfi3wlo+sagbbxBewQm5vbOOeXy4kYJGm9ztRQAowBXo/8AwWW+Duqfs8/8GzNt8B9cdpL3wZonw60W4Z/vGWx1bSIHz153Ic1+2n/BLz/lG58BP+yfeHP/AE2wUAfyP+EP2CP2dP8AgnZ/wdE/s+/An9mmyvbTQbnwzNrT/wBo3kt/cfarzTPEsEuJpiX8spaRYj+6CCQMmvsnxVbWv/BKn/g5b0zxqkg034b/ALYemfZbofKkEfiCNooQzHAVcXotwn8Tyam4yQEAl/a5/wCVu79nX/sQo/8A0i8X195/8HJ37Imv/tG/8E4tS+LfwyVk8efBK9h8c6FcwqTPELD/AI/vJCg7pFtS00SdDNDHnHUAHrX/AAcG/tmf8MVf8EuPiD4u0a9Nl4j8XQDwnorRMBOlxqislxPCvVntLJbi5wMf6rqo5H4ff8FA/wBkSX/gn9/wabr8Hbizis/EUU/hrX9biUZRdW1PXLS9uIhwMpAziBAedkaiud8d/tGWH/Beb/gob+xR8CtL2z+EPCXhG0+Lvjq0jcPFHqI8vNsxUcvBPFFbsjDBivW4zjH6v/8AB1qMf8ERfid/2EfDn/p5tKAPGv2c/wDg2J/4JR+OvgD4E8e69oXic6jrHh/S7+4aLxLqMaedcWscrlUWQBBuY4C4AHAr9jfix/wTp+H/AI0/YBtP+Cenwt8X+KPhr4a0rTdN0jTNX8Oai8GsWlnpkkTJEt0cl1lij8iXeDujY55r6F/ZB/5NN+F//YpaL/6Qw1/Ol/wcK/Hz4963+01+zd/wTb+Hnju9+F3hD436jPF4i8SadO1lc7I7yztYoBdoyNGmJ22oGAmuJLdJN0W+OQAwPjr/AMGwH/BILRPg34gj8Aahqfhz4j21lPcad4pvvEss12mqRIZI554ZZlgYtKAZNscbDJKMjBWH2h/wbOftUfFj9rb/AIJS+GPG/wAZ9Wudc1nQ9Y1TQ1vb2Vri6ktLScNaLNO/zzPDDIsPmOS7hAXLNknxX48/8EL/APghb+xD+zF41/aG+Nvw/i1GDw5pN3qF9rfibVdRv7q4nSE7M7pyHmlkCqkcUeWcgKueKxf+DRddRT/gkuyaxzdjxvron5B/eb4d3K8dfTj0oA57/g2NP/FQftn5/wCi465/6E9fl/8A8Fy/2i/iL/wVD+Ifxi8E/A66KfAb9jzRbvWPEOphBLZ614xRooobKNg2G8lWnhjb5hEyTyMgJtmb52/Zj/bx+Iv7K3wj/au/Zt/Zdjk1H47/AB6+P+t+GPBtja/8fNtHcPJFc6n91giRDdFDKVZEn+dx5cUhH7w/tQ/8E9vh3/wTN/4Nqfi/+zR4KENzqdv4OmvPEOqRpsbUtXl8hbic7iz7FCLDArMSkEcaZ+WgD9bP+COP/KKD9m//ALJt4Z/9NsNfpNX5s/8ABHH/AJRQfs3/APZNvDP/AKbYa/SagAooooAKKKKACiiigAooooAKKKKACiiigAr8WP8Ag4k/5Qv/AB7/AOwFF/6WW9ftPX4sf8HEn/KF/wCPf/YCi/8ASy3oA/UX9nn/AJIH4I/7F/TP/SSOvYq8d/Z5/wCSB+CP+xf0z/0kjr2KgAooooAKKKKAP//X/v1j/wBWv0FPpkf+rX6Cn0AFFFFAH5jf8FpP+US37Rv/AGTzX/8A0ikr2L/gmz/yj1+Bv/YheHf/AE3QV47/AMFpP+US37Rv/ZPNf/8ASKSvYv8Agmz/AMo9fgb/ANiF4d/9N0FAH2vRRRQAUUUUAFFFFABRRRQAUUUUAFFFFABRRRQBwXxT+Huk/Fn4Z+Ifhbr001vY+JNMu9LuJLcqJkiu4WhdoyysocK2VypGeoI4r5f/AOCeP7B3wp/4JsfssaH+yR8FdT1bV/D2gT3txb3WtyQS3jNfXL3MgdraC3iIV5CFxGMLjOTzX27RQB5r8ZPhfovxs+Evib4O+JJ57XTvFOlXek3MtqVWeOG8haF2iLq6BwrHbuVhnqCOK+df+CfX7DHwt/4Jxfsr6B+yP8GtT1XWPD3h2a+nt7rW5IJb12v7uW8lEjW0FvEQJJWC7YlwoAOTzX2pRQB+JX7dH/BB79kb9tX4zL+09o2t+KvhF8U8Ks3irwHqR0u8ugqeXm4Ta8TyMiojTKqTOkcaM5VFA4v9kL/g3u/ZG/Zr+ONn+098WPFHjD45fETSpIpdM1n4g6l/abWDwZ8l4YgiKzwlmaFpjIYWYtFsJzX700UAfG/7e/7E3w0/4KGfsua/+yd8XNT1XRtB8QzafPPd6K8Ed7G+nXsN9D5bXMFxEAZYFDbomyuQMHBHtnwC+Dfhz9nf4H+EPgL4QuLm70nwXo1jolnPeFGuJILCBII3mMaRoZCqAsVRVz0UDivXKKAPzS+I/wDwS5+CHxN/4KSeCf8Agp9rWva/b+N/AmjjRbLTLeW0GkTQCLUYg08b2rXJkA1OY5juEXKp8uAwb7F/aH+J/wALvgp8CvFvxX+NdzBaeEfD2kXd7q8lzgRfZIomMiHPB3r8gXqxIAGTXtFfz0ftJ/8ABvl4I/a4+PWr/E348fH74p6t4O1jXW11/Aq6wqaHExdXWCCNkcwxIVHlmPbJEfmieN/mAB8M/wDBpR+x7Z+CfgF8QP23dQ0M6GfiRqr6P4bs5GMr2fh/SJpdsPmsN0pF3JLB5p5mS2jc4JxX9Ef/AAUL/YR+FX/BST9lXXv2RfjRqeq6P4e8QzWU9xdaJJBFeo1hcx3UYja4huIgC8Shsxn5c4wcEfT3ww+GPgH4MfD3RfhR8LdKt9D8OeHbKHTtN0+0QRwW1tboEjjRR0CqPx6mu8oA4f4Z+A9L+Fvw60D4aaHLLPZeHtOtdMt5JypleK0hWFGcqFXcVUE7VAz0AHFfD3/BR3/glz+yx/wVE+Fdl8M/2krO7jn0aWS40fWNKlW31DT5Jk2S+WzpJFJFKAvmQTxyQuVUsmVUj9GaKAP50vg1/wAG3H7M/hj4haL44/ag+KfxJ+P9l4ZnS70jQPH+tnUNGtriMbY5jZhFWRkUlQrHy8EgoRX6p/sG/sHfB/8A4J5fCDVPgl8ErvUbrRdU8Qaj4hI1J4HeGbUpBLJDF5EMKiCPAWJSpYLwWbrX21RQB+K37I//AAQi/Yz/AGQP2w9d/be8LXeu+JfGWrXOrXtoNdks5rXS7nWbmW4u5rFILSB1kKzSQI8jyMkLMqkb5C36L/tffsweBv20P2ZvGX7K/wASry+07QfG+nPpl7caY8Ud3HE5UloWmjljDfLxujYe1fSVFAHhn7MvwC8Kfsr/ALPPgj9mzwHdXd7ongPQ7HQLCe/aN7qW30+FYInnaJIozIVQbikaLnooHFe50UUAFFFFABRRRQAUUUUAFFFFABRRRQAUUUUAFfix/wAHEn/KF/49/wDYCi/9LLev2nr8WP8Ag4k/5Qv/AB7/AOwFF/6WW9AH6i/s8/8AJA/BH/Yv6Z/6SR17FXjv7PP/ACQPwR/2L+mf+kkdexUAFFFFABRRRQB//9D+/WP/AFa/QU+mR/6tfoKfQAUUUUAfmN/wWk/5RLftG/8AZPNf/wDSKSvYv+CbP/KPX4G/9iF4d/8ATdBXjv8AwWk/5RLftG/9k81//wBIpK9i/wCCbP8Ayj1+Bv8A2IXh3/03QUAfa9FFFABRRRQAUUUUAFFFFABRRRQAUUUUAFFFFABRRRQAUUUUAFFFFABRRRQAUUUUAFFFFABRRRQAUUUUAFFFFABRRRQAUUUUAFFFFABRRRQAUUUUAFFFFABRRRQAV+LH/BxJ/wAoX/j3/wBgKL/0st6/aevxY/4OJP8AlC/8e/8AsBRf+llvQB+ov7PP/JA/BH/Yv6Z/6SR17FXjv7PP/JA/BH/Yv6Z/6SR17FQAUUUUAFFFFAH/0f79Y/8AVr9BT6ZH/q1+gp9ABRRRQB+Yv/BaT/lEt+0b/wBk81//ANIpK/Fj9kT/AIOW/wDgnD8A/wBlb4b/AAO8eWnjg634P8M6Vot/9l8OzzQfabC0jt5fKkD4dN6Haw4Iwa/aj/gtJ/yiW/aN/wCyea//AOkUlfld+xj/AMG7n/BI342/si/C/wCMnxJ+Gd5f+IvFfhTR9X1O5XxJr8CzXl7ZxTTyCKHUEijDSMSEjRUXooAFAHZf8RW3/BLX/nz8f/8AhMXH/wAXR/xFbf8ABLX/AJ8/H/8A4TFx/wDF17L/AMQxv/BFj/olF7/4VHiP/wCWVH/EMb/wRY/6JRe/+FR4j/8AllQB41/xFbf8Etf+fPx//wCExcf/ABdH/EVt/wAEtf8Anz8f/wDhMXH/AMXXsv8AxDG/8EWP+iUXv/hUeI//AJZUf8Qxv/BFj/olF7/4VHiP/wCWVAHjX/EVt/wS1/58/H//AITFx/8AF0f8RW3/AAS1/wCfPx//AOExcf8Axdey/wDEMb/wRY/6JRe/+FR4j/8AllR/xDG/8EWP+iUXv/hUeI//AJZUAeNf8RW3/BLX/nz8f/8AhMXH/wAXR/xFbf8ABLX/AJ8/H/8A4TFx/wDF17L/AMQxv/BFj/olF7/4VHiP/wCWVH/EMb/wRY/6JRe/+FR4j/8AllQB41/xFbf8Etf+fPx//wCExcf/ABdH/EVt/wAEtf8Anz8f/wDhMXH/AMXXsv8AxDG/8EWP+iUXv/hUeI//AJZUf8Qxv/BFj/olF7/4VHiP/wCWVAHjX/EVt/wS1/58/H//AITFx/8AF0f8RW3/AAS1/wCfPx//AOExcf8Axdey/wDEMb/wRY/6JRe/+FR4j/8AllR/xDG/8EWP+iUXv/hUeI//AJZUAeNf8RW3/BLX/nz8f/8AhMXH/wAXR/xFbf8ABLX/AJ8/H/8A4TFx/wDF17L/AMQxv/BFj/olF7/4VHiP/wCWVH/EMb/wRY/6JRe/+FR4j/8AllQB41/xFbf8Etf+fPx//wCExcf/ABdH/EVt/wAEtf8Anz8f/wDhMXH/AMXXsv8AxDG/8EWP+iUXv/hUeI//AJZUf8Qxv/BFj/olF7/4VHiP/wCWVAHjX/EVt/wS1/58/H//AITFx/8AF0f8RW3/AAS1/wCfPx//AOExcf8Axdey/wDEMb/wRY/6JRe/+FR4j/8AllR/xDG/8EWP+iUXv/hUeI//AJZUAeNf8RW3/BLX/nz8f/8AhMXH/wAXR/xFbf8ABLX/AJ8/H/8A4TFx/wDF17L/AMQxv/BFj/olF7/4VHiP/wCWVH/EMb/wRY/6JRe/+FR4j/8AllQB41/xFbf8Etf+fPx//wCExcf/ABdH/EVt/wAEtf8Anz8f/wDhMXH/AMXXsv8AxDG/8EWP+iUXv/hUeI//AJZUf8Qxv/BFj/olF7/4VHiP/wCWVAHjX/EVt/wS1/58/H//AITFx/8AF0f8RW3/AAS1/wCfPx//AOExcf8Axdey/wDEMb/wRY/6JRe/+FR4j/8AllR/xDG/8EWP+iUXv/hUeI//AJZUAeNf8RW3/BLX/nz8f/8AhMXH/wAXR/xFbf8ABLX/AJ8/H/8A4TFx/wDF17L/AMQxv/BFj/olF7/4VHiP/wCWVH/EMb/wRY/6JRe/+FR4j/8AllQB41/xFbf8Etf+fPx//wCExcf/ABdH/EVt/wAEtf8Anz8f/wDhMXH/AMXXsv8AxDG/8EWP+iUXv/hUeI//AJZUf8Qxv/BFj/olF7/4VHiP/wCWVAHjX/EVt/wS1/58/H//AITFx/8AF0f8RW3/AAS1/wCfPx//AOExcf8Axdey/wDEMb/wRY/6JRe/+FR4j/8AllR/xDG/8EWP+iUXv/hUeI//AJZUAeNf8RW3/BLX/nz8f/8AhMXH/wAXR/xFbf8ABLX/AJ8/H/8A4TFx/wDF17L/AMQxv/BFj/olF7/4VHiP/wCWVH/EMb/wRY/6JRe/+FR4j/8AllQB41/xFbf8Etf+fPx//wCExcf/ABdH/EVt/wAEtf8Anz8f/wDhMXH/AMXXsv8AxDG/8EWP+iUXv/hUeI//AJZUf8Qxv/BFj/olF7/4VHiP/wCWVAHjX/EVt/wS1/58/H//AITFx/8AF0f8RW3/AAS1/wCfPx//AOExcf8Axdey/wDEMb/wRY/6JRe/+FR4j/8AllR/xDG/8EWP+iUXv/hUeI//AJZUAeNf8RW3/BLX/nz8f/8AhMXH/wAXR/xFbf8ABLX/AJ8/H/8A4TFx/wDF17L/AMQxv/BFj/olF7/4VHiP/wCWVH/EMb/wRY/6JRe/+FR4j/8AllQB41/xFbf8Etf+fPx//wCExcf/ABdH/EVt/wAEtf8Anz8f/wDhMXH/AMXXsv8AxDG/8EWP+iUXv/hUeI//AJZUf8Qxv/BFj/olF7/4VHiP/wCWVAHjX/EVt/wS1/58/H//AITFx/8AF0f8RW3/AAS1/wCfPx//AOExcf8Axdey/wDEMb/wRY/6JRe/+FR4j/8AllR/xDG/8EWP+iUXv/hUeI//AJZUAeNf8RW3/BLX/nz8f/8AhMXH/wAXR/xFbf8ABLX/AJ8/H/8A4TFx/wDF17L/AMQxv/BFj/olF7/4VHiP/wCWVH/EMb/wRY/6JRe/+FR4j/8AllQB41/xFbf8Etf+fPx//wCExcf/ABdH/EVt/wAEtf8Anz8f/wDhMXH/AMXXsv8AxDG/8EWP+iUXv/hUeI//AJZUf8Qxv/BFj/olF7/4VHiP/wCWVAHjX/EVt/wS1/58/H//AITFx/8AF1+b/wDwV2/4OGP2Af2yv+Cb/wAWP2avg7a+MV8R+KNH8qyOo6DLaWoMM0c7+ZMz7UGyNscdcCv2F/4hjf8Agix/0Si9/wDCo8R//LKvzK/4LJf8EG/+CW/7JP8AwTI+L/7QvwF+Hd1o3i3w3owl068k1/W7xYmlnigcmC7vpYXzHIww6HGcjBAoA/rG/Z4/5IH4I/7F/TP/AEkjr2KvHP2eBj4B+Bx/1L+mf+kkdex0AFFFFABRRRQB/9L+/WP/AFa/QU+mR/6tfoKfQAUUUUAfmN/wWk/5RLftG/8AZPNf/wDSKSvYv+CbP/KPX4G/9iF4d/8ATdBXjv8AwWk/5RLftG/9k81//wBIpK9i/wCCbP8Ayj1+Bv8A2IXh3/03QUAfa9FfHv7ef7avwu/4J5/sueI/2tPjLZalqHhzwwbRbqDSIo5rs/bLmK0QokkkSEB5VLZcYUE9q+tdPvotSsIdQhBVJo1kAPUBgCP0oAu0V8t+Mv23P2QPh3P40tfHnxO8L6NJ8OPsY8Upe6rawNox1Fd1mL5XcGA3KjMIfBk/hzWH+zf+3/8AsT/tf6le6J+zB8UvDPjq/wBNQS3Vpo+ow3FzDGTgSPAp8wJnjdt2+9AH2BRXlXxh+OXwZ/Z88HTfEL46eKtI8H6Fb/6y/wBZvIbG2X28yZlXPsK+ffgD/wAFH/2Cv2qPGcvw5/Zx+L/hLxp4gijkmOmaTqttcXZiiwHkSBW3vGu4ZdQVGRzQB9r0V8o/tDft1fsbfsly29r+0z8UPDHgW4uk8yC31nU7e1nkTn5khdhIw4OCF5xx0rV/Z0/bM/ZQ/a60y81f9mD4ieHvHsGnFVu/7E1CC8a3LAFRMkbF48jpuUUAfTNFeE2/7T37O938dZ/2Ybbxtoj/ABGtbT7fL4ZF9D/ayWu1XE5s93miPayndtxgivYdc1zSPDWjXfiLX7mKysLCGS5ubiZhHFDDEpd5HY8KqqCSTwAKANWivF/gV+0X8Bv2nfBb/Eb9nXxjo3jjQI7h7RtR0O8hvrUTxhS8XmwMyb1DKSucjIrwL47/APBTH/gn3+zB45Hwx/aD+MnhHwh4i2o7aZqWqW8N1Gj/AHGli3bolbHBcKKAPuWiuO8AfELwL8VfBumfEX4ZaxZeIfD+s26XWn6lps8d1aXUEgykkM0RZHQjoVJFfKPjr/gpV+wB8MvhzZfFzx98Y/CGleGtSvLnTrPUJ9WthDcXdk5juYISGzJJA6lZVQEoRg4oA+36K8J/Z+/ae/Z2/as8Gv8AEL9mvxtovjnRIpfIkvNEvIbyKOUDPlyGJj5bgfwsAcdq916UALRXkPhP4+/BXx38TPEvwX8F+KtK1Xxd4MFude0a0u4pb3TRdpvt/tcCnfD5qfNHvA3DkcVQg/aS+AV38cJ/2Z7Lxlo03xCtbH+05vDcd5C2qRWXy/6RJaBvNSL5l+dlC/MvqKAPbaK+WPj/APtwfsd/spatp2g/tM/E/wAL+AL3V4XnsYPEGqW2nvcRRsEd4lndN6q2ASOhrP8AgL+3t+xP+1J4ouvBH7NvxY8J+PNYsbU3txZaBq1rqE8VsrLGZXjgdmWMM6ruIxkgUAfW9FeReDfj58FPiH8RvE/wg8C+K9K1fxT4JNuuv6RZ3UU17phu1L24u4EJeHzVUtHvA3AZHFeSftI/t6/sYfsfXNjp/wC1D8T/AA14Eu9TRpLO11jUYLa4njQhWeOBm8xkUkAsF2j1oA+uKK8b+Bv7Q3wL/aa8CxfE79nnxfo/jXw9M7RJqGi3kN7b+ZGcNGXhZgrr0KnBHpXgPxa/4KYf8E9PgL8Q9R+Evxs+Nvgjwl4n0gxi90nVtcsrO8tzNEk0YlglkV03xOjrkcqwI4IoA+4qK+XfgP8Att/sfftR3Vzp/wCzb8UPCvjy4shmeHQdWtL+SIerJBIzAfhxXQ/Hr9qz9mn9lnQofE37SXj3QPAlhcNshm13ULexWRvSPznXef8AdBoA+gaK+Vf2cf24/wBj39r5r+L9l34meGvHsulIkl7Domo293NbJISI2mhjYyRqxUhSygHFbev/ALXv7MfhX9ovRv2RvEfjnR7L4meIrJ9R0zw3LcouoXVqiyMZI4epG2GVgOpWNyBhTgA+j6T2oHIr8s/Dnh54f+CufiPxM37Q63iz/D62tx8GvPTdZ+VdK39veR55Kq2/y/MW3UsZArSMFjVQD9TaK+YPF/7av7Ivw/u/Glh45+JfhnR5/hwLM+KY7zVLaBtGGoJ5ln9uV3Bg+0JzCHx5g+7muY/Z1/4KEfsP/tca1deGv2Zfit4X8canZR+dPZaRqUFxdRxA7fMaBW8wJn+LbigD7Gor8VP+Cgv/AAWS+AX7Ff7TXwi/ZtufFvhaG/8AFHiRbbxo2pXqp/wjmhGzklW7umWRUtJJp/ISE3GFZS2FPBH6afAD9p/9nT9qnwvd+Nf2avHGhePNHsLo2Nze6BfQX9vFcqiSGF5IGZVkCOjbSchWBxgigD3eiiigAooooAKKKKACiiigAooooAKKKKACvxY/4OJP+UL/AMe/+wFF/wCllvX7T1+LH/BxJ/yhf+Pf/YCi/wDSy3oA/UX9nn/kgfgj/sX9M/8ASSOvYq8d/Z5/5IH4I/7F/TP/AEkjr2KgAooooAKKKKAP/9P+/WP/AFa/QU+mR/6tfoKfQAUUUUAfmN/wWk/5RLftG/8AZPNf/wDSKSvXv+Cb27/h3j8DvLxu/wCEB8PYz0z/AGdBivIf+C0n/KJb9o3/ALJ5r/8A6RSV7F/wTZ/5R6/A3/sQvDv/AKboKAP5e/8AgvP4u/4LK6t/wTB+JWn/ALX/AIM+FukfDV5dL/tK78L6tqV3q8aDU7f7P5EFzbRwtmXyxJlhhNxUZGK/dT9kvxh/wWm1H4m+F9O/aq8F/CnSvhy1u41K78OaxqdzqqKLRjbGCG4tUhYtOIlkBcAIWIyQAfrH/goX+xL4L/4KI/smeJv2RviFrN94f0jxQ1kZ73TVge5jFndxXahFuEkiw5iCtlD8pOMHBH2Nptgml6bBp0bFlgiSME9wihf6UAfxwfs+fsXfBD9sb/g5X/az1P8AaK0a28VaB8NF8OarYaHqK+fp82qajo1hbxXdxbPmKZrWKCUQ71IUyseoXHoP/BeL9kr4J/sM+OPgJ/wVE/ZN8NaZ4A8c+EviRo2k6tLodtFZDVNL1PMM8U8MIWOWQxIYN7KW8mR17Jt+cfB/xN/bE+Bn/Bxb+1/8bP2Vfh/L8U9G0a38OWnjPwvZXkNrqlzZ3ulad9gu9MWfEUs9nLBPvjZ03RzHG442fUX7QHh79uj/AILjftNfBz4ceIvgh4m+BvwC+GPiS08ZeItR8ZNawahq99p7furGC0gllymCUH3kPmNKzxmGOOYA/VP/AIKs/Hn/AIJTfDjS/AHhz/gpHpWneMNQutTN94R8LyaTNr+o3V6sTRGS30y2jlZ1CuULSJ5W8qM7ttfzYf8ABSj9ob9mLxj+0t+yt8af2TvgT41+Cvi/Qvit4b09vEus+D7nwhZ6lpNzcCN9OjldIhdSndlYyNy2xuACEkkVv1P/AOCgnwb/AGrv2Z/+C0fgX/gql8MPg/qfxv8Ah+vgKXwhq2m+HXtm1fRbmGeaaO8t7a4dPNZ1nKR7MYUzBmQsgf5z/wCCgujf8FMv+CqPir4I/ErQPgJrnw5+Gfwv+JPhvXF0rXpbZvEmpTi8j8/UHtLeSSO1sbCz84MGlMkkkowMJQB+6X7fvhn9gn4KSWX7b37UHwdj+IXiGwFv4dtb/TvDI8RaxDbyPNNEiQojyCFGMhLAfLvx0av58/8Agnt8Rf2av2z/APgv1/w0F+xp4PsvgXp3gHwbqGmeKNB1SO30TxD4qmvG/dz/ANgRfOlvAPIleeTEhAi3oBsr95f2sf2+v2sP2WPjteeFNI/Zi8YfFH4dtp9rdWfibwZcWVzcfaXLi6tptPnlhdfKwhRw2H3YwNtfl/o/wu/bM/4KWf8ABXn4Eftza58DdW+BHw6+Bdnqry6l4sls013XpdUt2gS1W0s5ZWSOHjBkcqFeXnJC0Afnd/wUzi+IfwT/AOC1/wAYf+Cj3w2nuZrj9nDS/hz4i1PS7ZA5vdC1EXGmawpGVP7qymkccgD7x+7iv22/4Lg/tDT/ABK/Y78B/sffs8Xv2zxF+1vrGneDtJntSjlNA1BVuNX1DBYZhTT8qzAHHmjjFdl4Q/ZB8WfEL/gqz+1Vr3xl8ITzfC74ofDrwx4YhvrqNGstR8uG5hv7dMk7jGkwDAqPbpX58/8ABHT/AIJ5/tneE/2zNP8AEn7cnh24s/C37K/ha6+HvwtvLtbcxarHeahdK+rwbJJGDDTIreLcRHhZdmPlOACT/gj749k/Ya/4IwftNfEjw/LLqjfCfxd8Rrmzd9peY6KGEJI4XnylOOB24Ffnd/wSY+L37APwc/Y9/tj9ov8AZj+JHxo+I3xRe91jxp4vf4fXXiK01qbUZ5HdbW9eN45bPaRzFhJHLScsxNfvx/wSn/Yz8dWP7Ffx5/Zv/ak8LXmgWfxD+IXjp/st8iBrnR9cmYRXEYDMNkkT5Xdg5HIr4L/Yh+Mn/BUP/gjP8K5P2D/j9+zv4q+OfgnwTPJb+DPGvgN7W4N3psjNIkNzaSzCSLy2b5d2xowfJxKsSzzAHVf8G3w+JPw++MH7S/wS8O+CfGXgr4Fpr1l4j+Hen+MNHvtJmsotTa6S9soVuo449kfkwEJFuxnfIzSSMa8g/wCDbv8A4J+/s8fFD4e/Fv8Aam+PfhfTPG/iCb4k+JNG0M61Ct/FpOnW1yXljtIJ98cElxcyyvK6KGddgJwK/on/AGGP2lf2kv2nvDXiLxp8f/gtqvwVtLa/ig0Kx1y9t7rUL+0MCvJczxW5K22JiY1jJJIXd3wP5Rv+CJH7Sn7bv7FPwr+JXizw38Etc+Nnwf8AGPxE8T3aTeDrq3m1vQ9Ytb0Wk8E2n3bQB7W5hSOWNopDskV9338AA+xr34LeAP8Agmb/AMHJnwd8K/sq6dD4W8E/tLeE9ctPEHhvTh9n02K+0mGa8S7itk/drloECIqqkTSTumDNKG/reb7h+lfzKfsffs//ALY/7ef/AAVasv8Agqr+2F8O734R+Dvhn4fuvD/w88K61JDLqsk1+GSfUZ0gY+STDLKrBj8xdEVdsZkl/psI+XA9KAP4Mvjd/wAFEvEf/BOX/grb+3X4l+GumQ6j4++JWpfD/wAKeEpdS3Q6JY6jNpkEf2zVrsgRQQW4uVlWNmBm2MBtRJHT+of/AIJff8E4fC/7CHw01TxL4t1l/Hfxh+Is66x498b3nz3Wsag+W8uNj/q7G33FbaFcKF+bGWNfm58K/wDgmdf/AB6/4KY/t52f7YXw8nvPg78arLwfa6Td3QVYb9tN0/y5ZrSRW3xT2k4Vo5MKyOoZTxXpH7Cuuf8ABQn/AIJs2/jf9ir9onwT4m+Nfw88AaVNqXw18c6HHBcX+padCjNDoF/FJLHt1CJV8uCQ4ibAVmUGPIB5X+0R4Q+Gn7Wv/Byj4M+AHxX8LaV4u8NfD/4J6hrN3aarbRXlr9o1LVI4oxJDMrJvTbG6ZGfmyOlJ+yJ8J/hh8Ef+Dj74z/Dn4N+HdN8K+H7f4RaHNFpukWsVnaJJNdKZHWGFVQM5ALEDJ717l/wSN/Zx/an8U/tXfHv/AIKhftm+F7nwH4h+LlxYaP4Y8K38kc15pPhzSFKw+eY2ZUkuG2s0YPBUtgbwB2Xwo/Z6+N+i/wDBf/4sftL6r4XvoPAGt/DDR9HsddZU+xz39tOjy26Hdv3qp/uY4PPHIB+S/wACf28vhF+wd/wXG/bq134uaJ4q1uHxVqHhCG1Xwrod3rjxHT9LLSm5W0VjArC5QRF8B9rgfcNeqf8ABBL9nz4Lf8FDvEHxz/4Kn/tX+GrDx9418ZfELVNK0KXxFZxXR0bQtOVI7W0t7eZSls6o5iYqgcoigk5bP3v/AME8f2aPj38LP+Cwf7bfx6+IXhi90jwd8Rrjwe3hvVJgog1EadYzxXJh2sWxE7AHcB144r4e+Amh/t1/8EOP2ifjL8OfDfwN8SfHT4BfErxPdeNvDuq+DZLafVNIvNR2ifT7ixnkjbYu0DcNqgKrqztLIkQBu+Dvgx4D/wCCaX/Bxt4T+GX7MNjB4V+Hn7SvgO/n1jwvpkQh06HWdDMkiXsUCnZDmNNoWNUUF5Dzv4+P/jH8X/2M/hZ/wX4/aYf9tP4WX/xX0e58O+Fl0yxsvCreLPsdytpEZZmt0jl+zb4yqCUqu/G0E7SK/Sj9ib9n39tH9sj/AIKj33/BWD9svwHP8I/DXhDwzN4R+H/g3U5obnVWS6cST6pd+QzJbsVaRNh+Zi4ACrCHm8o1XUP21P2Ov+C1f7Q/7U/g/wDZv8a/FLwb8QNC8OaRpl/oEumwxPJp9tG0zj7VcxsUDMY/ug7lbjbgkA/PfQPEX7AH7T//AAWH/Zusv2AfhRafs4a74J1e513WNV1/TIfBV14hsngeI6Zpmk4STUJ5MyeY5RdqFhlxuA/dj/go9+0t/wAEfPh3+054M8M/theErf4n/GXStPnl8P8Ah/TPDlx4q1i0s53R3k+yW8MyQhyoaNptrEBjHxur4B/al8A/8FFf+CxX7SnwL8L63+ztqPwH+H3wm8Zab451Dxb4r1LT5dUkl06XP2GztbN5ZMSpyPm2+YFdyoiVZLWreE/2vf8AgmX/AMFkvj3+2aPgL4l+N/w6+N9jpMml6x4ONrd6no89nBFBLZvbXEsLKsrx/vCCE8qO3IdyHSMA+StN+MXwN8Sf8HCH7LvxM/ZW+EXi34Gt4ut/Eui+KbbxF4Zm8KL4hhj0uaa3lgtZUQXAhaJPtEiqDuW2D52pt/qZ8Yf8E6f2UfHv7a3hn/goP4m0Geb4oeEtPGnadqC313HbrGsV1AjSWSSi2lkjivblEd4yQJD3VSv4J6j8L/8AgpN+2V/wV7/Zi/b7+L3wdvPh58OPBd5rem2OkXV1BdarpdnPpd2suoayIWMUJvrh7eKCKNnMaxfOQWr9aPiT+1d+3T4Z/wCCrngP9lHwb8KP7S+B+u+Hpb/WfGX2e5P2S7CXTf8AH2rfZYvJkht4fs0imWb7V5iELC+QD9ZwMcCv5p/ADuP+Dqbx+gPyn4EWHHbjUosV/SwOlfgj4L/Zv+O9h/wcVeMv2p7zwrfx/DvUPg/aaBb6+VT7G+pR30MrWoO/f5mzJ+5t+UjIOAQD8yvgb+xV8Cv2y/8Ag5b/AGs9Q/aO0S38V6D8NofC2rWGiagPO02bVL/QrC3iurq1bMU7WsMMogDqQhmdsE7dvon/AAWx/Zx+Bn7Jn7aP7FH7Wn7N3hPSvBXjW9+L+keE7280e1jshd6ZqeIZoriOAIkhWIvGjMMqrsv3Tivu39iD9mb49fDf/guF+2R+0Z448L3mneB/iDY+D08O6xKE+z6g2nabFBdCLDFsxSAqdyjpxxVX/guZ+zH8ff2j/GP7Jt98DfC174lh8D/Gnw/4j11rQJix0uzcGe5l3MvyIOy5PoKAPmP/AILF/Bb4Pah/wVr/AGGLm/8ACmjzSeLfGWtrrjPZQMdSWGxt1iF5lP8ASAgVQvmbtoAA4Ar+lf4dfCb4X/CLS59F+FXhzTPDVndS+fNBpdpDaRyS7VTeyQqoLbVVckZwAOgFfh7/AMFt/wBnr9p7WviT+zh+3B+yt4Jn+JGsfAfxfPqepeGrOWOO7u9Mv4BHM1uJGRWdDGowCSN24KwBFfqB+xf+1P4w/az+HmoePvF3wp8XfCQ2d99jg07xlBb217cosMbm4jjt5plEO9jGCzBiUPygYoA+xKKKKACiiigAooooAKKKKACiiigAooooAK/Fj/g4k/5Qv/Hv/sBRf+llvX7T1+LH/BxJ/wAoX/j3/wBgKL/0st6AP1F/Z5/5IH4I/wCxf0z/ANJI69irx39nn/kgfgj/ALF/TP8A0kjr2KgAooooAKKKKAP/1P79Y/8AVr9BT6ZH/q1+gp9ABRRRQB+Y3/BaT/lEt+0b/wBk81//ANIpK9i/4Js/8o9fgb/2IXh3/wBN0FeO/wDBaT/lEt+0b/2TzX//AEikr2L/AIJs/wDKPX4G/wDYheHf/TdBQB9r0h6cUtFAH4nfsdfsO/Hf4Jf8FeP2qf2yfHFrZx+Cvi9beGY9AliulluHfSbNbe486AKDD8w+XJORzx0H7YYFLRQAmBRgelLRQAmBRgUtFACYFAAHSlooAQADpRgUtFADcAdK/IT/AIIsfse/G/8AYn/Zc8S/Cn4+2lpZ6xqfjrxDr8CWVyt1GbPU7nzoCXQABtpwy9sV+vtFACAAdKWiigBMAUbR1xS0UAIAB0owM5paKAEwB0owKWigBAAOlJtU9RTqKAECgdBijApaKAEwPSjFLRQAUmBnNLRQAmB1owD1paKACkpaKACiiigAooooAKKKKACiiigAooooAKKKKACvxY/4OJP+UL/x7/7AUX/pZb1+09fix/wcSf8AKF/49/8AYCi/9LLegD9Rf2ef+SB+CP8AsX9M/wDSSOvYq8d/Z5/5IH4I/wCxf0z/ANJI69ioAKKKKACiiigD/9X+/WP/AFa/QU+mR/6tfoKfQAUUUUAfmN/wWk/5RLftG/8AZPNf/wDSKSvYv+CbP/KPX4G/9iF4d/8ATdBXjv8AwWk/5RLftG/9k81//wBIpK9e/wCCbxZf+CeXwOMYyR4B8PY/8F0FAHof7X37W3wY/Yc+AOtftL/tA3V1ZeFPD7WyXk1lay3kym7uI7aLbBCrOw8yRQcD5RyeBX0bY3sGoWcV9bf6uZFkXPHysMjjtxX8WP8AwXk/aE/4Ku+Pf+CXfxK8IftTfs9+G/h/4EuX0tdQ8Qab4vXV7i1CanbtCUshZwGUSSqkZ+ddqtuxxiv3V/ZM/aI/4KzeN/iZ4Y8I/tH/ALOvhrwP4DuLdhqGvWHjBdTubZUtGaApZCzi8zzJljjYeYNisW524IB+qum+PvBGs+Jb/wAF6NrFjd6xpQRr2xhuYnubYSD5DNCrF4ww+7uAz2qTxN478E+C5bC38YaxY6U+qXC2lkt5cRQG4nb7sMIkZfMkPZFyfav5uf8Agm427/g4j/b6BA+Wy8DAYAH/ADDEPb/P5Vtf8HEQX/hOv2Jiyq3/ABkF4Z+8Af7/AK/p6dulAH9Dfjb4pfDL4aLbP8RvEWmaAL0studSu4bQSlMbhH5zpu25GcdMiud8O/tAfAnxfqseheE/Gmg6pezHEdvaalazSsfRUjkLH8BX8zn/AAcs6x+zT4c+N37HPiH9sGxg1H4a2fjXWZPEMFxZy30b2IsIzIrW8CvLIMhTsRSTgccV+Of/AAUA+MH/AAbbfGn4D3vwd/4Jv+BIIfj3rUtvH4JuNF0i+8LyWuqNIBFcTX+qfYbaOCMbmYu+AQCu1lDKAf6ItzcwWcDXNwypHGpZmYhVVVGSSTwAB+VeFeC/2qf2Z/iR4vl+H3w9+IPhvXNdtziTTrDVLS4ulIGSPKjkLcAdhX8sf/Bd345/Ej4YfsnfsmfsB/HnxrqlmvxRnsIPijqvh6GW/vtT0fRbW1TVobdLaNppxdT3CswiXMgA3K0JkU/n9/wUKtf+CEXiz9jHUNE/YD+GvirwB8ZPBsdvqXgjXtC8FeI9L1P+07FlaFbjUDaK0nmAEebM5ZHxKrK6qQAf3o+MfjH8JPhzfQ6Z8Q/FGkaDc3EfmxRajfW9q7xg7dyrK6kqDxkDGeK43/hqn9mLGV+I3hc/9xiy/wDj1fnX8Ef2Wv2X/wDgqj+yF8FP2nv2+PhNofi3xxqHgvTJLk61ZFpLWe4iWS6iRJMGMGfc20jIzX4mf8EAv+CXX/BPD9pT9n74veI/jt8HfC/ii/0P4teJtFsJ76xWR4NPs2gFvbIeMRx7jtHvQB/XTffHj4K6X8WNP+A2peLNHt/G+rWT6jZaBJewLqVxZxHD3EVqW814lxy6rjj2r1mvzs8af8Ew/wBmfx5+354S/wCCjuurqY8e+DNKGlWEMV1t04qkV1BDNJBs3NLDDfXKLiQIRJllZlQr+iWOMCgDyb4o/Hn4J/BGxTUvjJ4u0bwpbyDKSavfW9krAcEr5zrnHtV3wz8Z/hH408MT+NfB3ijSNV0a1XfNf2l9bzW0SgZJeVHKIAOuSMV/GZ+1Bpn7NP7Iv/BW744ftA/8Fuvg1fePfhb49fTB4A8e3+kv4j8P6LYQQJE+ny20ay/ZWMrhVHl7zIHZExIXb9//ANiz9ir/AII1+PPgx428SfsR+EPBPiD4ffFn7LB4ji0YpeaXfDTifJtpbcs0cHlMxYwBEw5LMu40Aav7BP8AwVs+Av7arfFK8k1PRPDNh4I8f6h4N0WS51W3EmtWllDatHqMUchT93cSTskXl71YKCGydo/Tyf4geB7XxFceELnWLGPVrS0+3zWTXMS3Edpnb9oeItvWHIx5hAXjGa/j+/4N2f8Agn5+xF8a/Bfx88a/Fn4V+GfEOseB/jr4i0nw/e3+nxTz6ZYadHYy2dtaOw3RRW7sWiRcBSeKm/b9/ZVg/bh/4OTtL/Zb8Tazf6N4O8QfBaxuvGCaXKba51XQrLVr55dHNxHtlit7y7NoZzG6lo4in8QKgH9aPww+PfwQ+Nc2p23we8X6L4pk0WRYr9dIvoLw2zvnYsvku2wttO3OM446V61Xyx+y/wDsSfsm/sW6Vqmifsq+AdH8CWmtvDJfx6TB5IuHt1KRNJydzKrEZPPNfU9ABRRRQAUUUUAFFFFABRRRQAUUUUAFFFFABRRRQAUUUUAFFFFABRRRQAUUUUAFFFFABRRRQAUUUUAFfix/wcSf8oX/AI9/9gKL/wBLLev2nr8WP+DiT/lC/wDHv/sBRf8ApZb0AfqL+zz/AMkD8Ef9i/pn/pJHXsVeO/s8/wDJA/BH/Yv6Z/6SR17FQAUUUUAFFFFAH//W/v1j/wBWv0FPpkf+rX6Cn0AFFFFAH5jf8FpP+US37Rv/AGTzX/8A0ikr2L/gmz/yj1+Bv/YheHf/AE3QV47/AMFpP+US37Rv/ZPNf/8ASKSvYv8Agmz/AMo9fgb/ANiF4d/9N0FAHMf8FPP2F7X/AIKQ/sU+Lv2O7zxG/hKLxU1gW1SO2W7aEWV7Dd4ELPGG3+Ts+8MA5HSvuvStP/svSrfTd2/7PEkWcYzsULnH4Vp0UAfxrWf7S3xR/wCCcX/Bb79rz48+Kv2fvi18SPDfxK/4Ra00a78DeFrnU4G/s3SoPOkNxJ5Fu0e9zGPKldg6MrKuM188f8FZv+CoPiX9rv8A4UX8SNN/Zk+OHgjRPgb8SNK+IPiC+8VeEZbC1OlaWGNwI7hJJYYnAOd9y8ECgZeRRX91+BXyp+3L+z7rH7V37HPxP/Zk8PajDpF74/8ADGp6BBe3CtJFbvf27wCV0T5mVN2SB16UAfzx/wDBTf8AaSv/AI/f8MFf8FHPgx8L/HHjbwZa65d+MrzStB0SXVtVttPu9Oj8pZ4LLz4UkYsFAaXYSDhiATXNft9f8FDvGH/BRD9lfxx+xd8Av2J/i/qniTx5pE2m2N74t8KQ6LpenTXHyC9+1Xsqqs9p/roR8gLhf3iDJH9Gf7BP7OWtfsh/sY/DL9l7xHqUGsX3gHw7Y6HNfWyNHDcPZxCMyIj/ADKGxnB6V9c4FAH8pn7Wf/BLX9tDwl/wTr/ZI8U/ANbXxJ8ev2R10i+GmRShotXit7aKK/062nm2BgPKRU3bPMjVlXYzJj2/Q/8Ag4ai1Lw3aaXP+yZ8dP8AhYE7rbS+HI/Csm2O5OAf9NkKRC338eawDBfmKCv6RMUYFAHK+B9b1TxN4M0nxFremy6Ne39nb3Fxp8xDSWkssau8DleC0RJQkcZHFfgr/wAG53wv+Jvwp/Z2+NOjfFPw1q/hi7vfjH4pv7aHWLC5sHntLj7O0NxCtzHGZYJB9yWPchwQDlSB/QrSUAfkh8Uf+Cg/x58B/wDBWHwB/wAE/dC+D2oat4F8W6E2qX3jmP7X5FjKIb+Xadlo1p5cTWcMMnmXUb77qPapwA363jpRiloA/Dr44f8ABY3wV8Gfjf4y/Zt/aK/Z7+Kp0/S7h7Wy1nTPC0+v6HrlqVBR4HtlbO8HDRumF6E+nyP/AMELP2cvHegftc/tF/tkeEfhDqnwD+DXxPOjR+FfB+swiwvJJ7JZDd376WhKWSyM52px94hflFf0+YFGAKAP5AP+Cbfx28ef8Eh/j1+0F+yD+0r8IfiFqSePfirqvjHwp4g8NaBdavpeoWmtNBBChubdfLiZI4UkkLEBMurbdo3fbd18Jviq3/Bz3a/G0eGNW/4QxfgJ/ZJ177FP/Zgv/wC2Xl+yfbNnkC48v5vK379vOMV/RJgUYoAWiiigAooooAKKKKACiiigAooooAKKKKACiiigAooooAKKKKACiiigAooooAKKKKACiiigAooooAKKKKACvxY/4OJP+UL/AMe/+wFF/wCllvX7T1+LH/BxJ/yhf+Pf/YCi/wDSy3oA/UX9nn/kgfgj/sX9M/8ASSOvYq8d/Z5/5IH4I/7F/TP/AEkjr2KgAooooAKKKKAP/9f+/WP/AFa/QU+mR/6tfoKfQAUUUUAfmN/wWk/5RLftG/8AZPNf/wDSKSvYv+CbP/KPX4G/9iF4d/8ATdBXjv8AwWk/5RLftG/9k81//wBIpK9i/wCCbP8Ayj1+Bv8A2IXh3/03QUAfa9FfNH7Xn7WvwX/Yd+AWtftLftBXdzY+E9Aa2S8ns7WW9lQ3dxHbRbYIFaRh5kig4Hyjk8CvoyxvYNQs4r62/wBXMiyLnj5WGRx24oAt0V5Jr3x8+BvhXWZ/DnijxloWm6hakLNa3Wo2sM0ZIDAPG8gZcqQRkDgiuk8I/En4feP45JfAeuafraQ43mwuobkJnpu8pmxQB29FctF438H3HimXwLb6pZvrcEAupNPWeM3SQE4ErQBvMEZPAYriq3jP4h+AvhxYRar8QdbsNCtZn8qObULmG1jZ9pbYrSsgLbQTgdh6UAdlRUME8VzEs9uweNwGVlIIII4II4xjpXis/wC01+zjavLFd+P/AA3E0BZXDatZgqU4YEebwQRgg9KAPcKK8w+JPxq+EXwb+Hdz8Xfi14n0nwz4Vskjln1jVLyG0sI0lIWNmuJWWMK5ZQpzzkYrvtJ1bTdd0231nRp47qzu40mgnhZXjljcBkdHXKsrKQQRwR0oA0aKyta1vR/DelT65r91DY2VqhkmnuJFiijQdWd3IVQPUkCvH/A/7T/7N/xO1mTw38N/H3hzX9QicxPa6fqlpcTBl6r5cchbI+lAHutFflj+0V/wVA+F3wJ/b7+EP7DMkukT3Pj+21q+13UbrVIrb+wbfTbXzbUSR7WDS3kuURJHi+RHYEkBG/QWP4x/CaTwoPHcfifSG0QzC2/tAX1v9l84sEEXn7/L37iFC7s54xQB6TRXkev/AB8+CHhXx5YfCzxP4v0XTvE2qMqWek3N/bxXs7P90R27OJGLfwgLz2r1ygAooooAKKKKACiiigAooooAKKKKACiiigAooooAKKKKACiiigAooooAKKKKACiiigAooooAKKKKACiiigAr8WP+DiT/AJQv/Hv/ALAUX/pZb1+09fix/wAHEn/KF/49/wDYCi/9LLegD9Rf2ef+SB+CP+xf0z/0kjr2KvHf2ef+SB+CP+xf0z/0kjr2KgAooooAKKKKAP/Q/v1j/wBWv0FPpkf+rX6Cn0AFFFFAH5jf8FpP+US37Rv/AGTzX/8A0ikr17/gm8WX/gnl8DigyR4B8PYH/cOgryH/AILSf8olv2jf+yea/wD+kUlexf8ABNn/AJR6/A3/ALELw7/6boKAP5e/+C837Rf/AAVY+IH/AATA+Jfgz9qD9nbQPh94CuZNLW/8RWHi9NXuLVU1O3aArYrZwtIJZVSM/ONitu7Yr90/2Sv2kP8AgrJ46+J3hjwf+0d+zf4e8CeA7m3cX+v2XjGPU7i2VLR2gKWS2cZk82ZY4yPMGxWLc7cH6H/4Kg/sLxf8FIf2JvF/7HcviM+El8VmxJ1RbUXhh+xXkN3/AKgyRBt/lbPvjGc9q+7tK0/+y9Kt9N3b/s8SRbsYzsUL0/CgD+A/41/E/wD4JC/Cb/gvH+1/rH/BXbSdL1DQ7+TwvD4YbUdHvdWC3cWjWbXgQWEMrRHy2h/1m1W/hyQwr0L9lrU/+CaH7Qv/AAWM+BXjX/gg7or+GYPChvpPiZqFn52h6Xc6FJbyCG1GnahJDcXcskwOVt4GGRE8gxErx/U2hfHbxb+wJ/wXD/a++N/xN+BvxO8d+GfiMvha10S98JeEr7WLeQ6bpduJ388RrAU3PsHlyMd6MrBcCqXx5139oD/gsR+23+zj4i/Zm/Zo8b/BvSvg745t/EXiD4i+OdKh8OXqabalXk0+zh3/AGi4gvFXayjOX2BownmMAD77+HSadB/wc8/E3VLlYkaH4D6SPOcKCiHVgXG89FOxS3b5RnoK/nc/4LhfFTxT/wAFTP2fvjl+39o93Mf2fvgHc2Xgz4dInNp4l1zUtQtrPV9cUvGVaG2WQRW0kZOQMK67pVr9Af8AgqT8HP2+PiV/wWa8WfCn9kXwzrWlWvxz+Heg+Ab/AMfrp98dM0PSmurq81ib7bHGLZZxbQiNVM6SbpFSP5nyPun/AILk/sQw/C3/AIN9fEP7Ff7Gvg3UtYg8Ox+GbDSNG0a0nv76dLXV7SSabyYEeWWRgrzzvtJJ3O3egD9+j430T4Yfs9j4j+I5Ut9O8P8Ah4ajcyOQqpDa2glck9gFWv4MtF/YR/Z08T/8GxvxI/b/APil8KtDh+KnjBtb8U2GuXNtHNqVrbX2uFbXyrkqGC+R9w4HytnAzgfrD/wcH/trfEnSvgd4V/4JVfA/wl4q1TxT8W/D9le+Ibzw/pUuqXFr4UhlWHVIra0t0lne6kC+WweOOFYmOZVYrXzj+3B+33ovxp/4JTeJP+Cb37Mv7KPx78OLP4ZsvDehSap4FvIrK3isWh8vzzbGeQApFzsjb5j6UAf0dfGv9h34Q/8ABQv/AIJ5+HP2YPjTcajYaLqGkaBeJdaRLHBd29zYxwT28kTSRyxfK6j5XjZSOCK+2vgh8HfA37PPwb8KfAb4YwSWvhzwXo9loelwyyNM8dnp8CW8CtI+WdhGgBY8mvwa8K/8Fn5rn/gkDc/tp/ss/CfxF4p1PwJqVj4LuPDmqwvbXIurR7azvLmSPT1vphbwby2BH5ny4ZE7fup+z18SNe+MnwI8GfF3xT4fu/CWp+KND0/VrvRL7i502a8t0mktJshT5kDMY2+Ucr0FAH4S/wDBx78HfjR8TPg18IfFvhr4f6z8W/hh4K8bwax8RvBWgysLvVNGiiO1hboQ9ysD5PlLn52RiFVTJHwX7CPgz/g2u/bh+KXhTxd+yd4G8G6H8Tvh/qaazZaC1gfD+v2V9ppxun04+UboW0jAnKzRrKqvneikfrh+37+3lqH7Buk+EvF1z8JvG3xN0LX72ay1GfwRpx1S40cJGrxz3NsmG8hxvBcEbdmACWVT/OL+1vf2P/BWf9tv4AeNP+CfvwF8Z+DvGHgnxppHiDxT8UvEPhyXwvBDoFk8j3GntcTiOe7lLYKoFbgmMHZLJgA9K/bp/YR/Y28Rf8HDX7PHgPX/AIZ+HrzRfiX4d8W634qsZbKNoNY1KNZZUu72PG2aZX+YO+SDXtn/AAcQ/Bn4L/saf8EOPE/hH9nDwppvhDw9oninw5qdvpWkwJa2yz/2zbyuyxhSil2GSdpHtW7/AMFhLb43fs0/8FOf2Xv+Cl3hX4eeIPiJ8P8AwLaa/wCHfFkPheyfUdQsItUi2wXAtYv3hQF2YtjYBEUJVnTPKf8ABcz4jeI/+Ckf/BCXxl4j/Zl+H/jS7u9T8Q6Tb2Wi3ugXtvrM6WWqQebcJpoja58naCwYp9wZwBQB95/sGf8ABGX9k74B6R4W/aC+Lmhx/EP49SvB4h1vx/rpkuNVm1uaBfOlty8jLbQR58uGCP5EQAcnJr9qBxxWJ4ZR4vD1jDIpRlt4gQRgghBxitygAooooAKKKKACiiigAooooAKKKKACiiigAooooAKKKKACiiigAooooAKKKKACiiigAooooAKKKKACiiigAr8WP+DiT/lC/wDHv/sBRf8ApZb1+09fix/wcSf8oX/j3/2Aov8A0st6AP1F/Z5/5IH4I/7F/TP/AEkjr2KvHf2ef+SB+CP+xf0z/wBJI69ioAKKKKACiiigD//R/v1j/wBWv0FPpkf+rX6Cn0AFFFFAH5jf8FpP+US37Rv/AGTzX/8A0ikr2L/gmz/yj1+Bv/YheHf/AE3QV47/AMFpP+US37Rv/ZPNf/8ASKSvYv8Agmz/AMo9fgb/ANiF4d/9N0FAH2vRRRQAmBRgUtFACYFFLRQB+Z/jX9iPxp4m/wCCq/gv/goFba5ZRaF4X8Bal4Rl0po5ftks99dLcCdZB+6EahQu08/pX6X4FLRQB+Xv/BKL9hDxv/wT7+B3i/4U+PNesfENz4j8ba34qin0+KWJI4dWlWVYWEvJeMggkcEYr9QqKKAExRgUtFACYFGBS0UAFFFFABRRRQAUUUUAFFFFABRRRQAUUUUAFFFFABRRRQAUUUUAFFFFABRRRQAUUUUAFFFFABRRRQAUUUUAFFFFABX4sf8ABxJ/yhf+Pf8A2Aov/Sy3r9p6/Fj/AIOJP+UL/wAe/wDsBRf+llvQB+ov7PP/ACQPwR/2L+mf+kkdexV47+zz/wAkD8Ef9i/pn/pJHXsVABRRRQAUUUUAf//S/v1j/wBWv0FPpkf+rX6Cn0AFFFFAH5jf8FpP+US37Rv/AGTzX/8A0ikr2L/gmz/yj1+Bv/YheHf/AE3QV47/AMFpP+US37Rv/ZPNf/8ASKSvOf8Agn5+3L+xd4Q/YU+DXhbxT8WvB+nalp3gnQba6tbnWrKKaCaKwhSSOSN5QyOjAqykAgjGKAP1/or4+/4eD/sIf9Fm8Ef+D6w/+PUf8PB/2EP+izeCP/B9Yf8Ax6gD7Bor4+/4eD/sIf8ARZvBH/g+sP8A49R/w8H/AGEP+izeCP8AwfWH/wAeoA+waK+Pv+Hg/wCwh/0WbwR/4PrD/wCPUf8ADwf9hD/os3gj/wAH1h/8eoA+waK+Pv8Ah4P+wh/0WbwR/wCD6w/+PUf8PB/2EP8Aos3gj/wfWH/x6gD7Bor4+/4eD/sIf9Fm8Ef+D6w/+PUf8PB/2EP+izeCP/B9Yf8Ax6gD7Bor4+/4eD/sIf8ARZvBH/g+sP8A49R/w8H/AGEP+izeCP8AwfWH/wAeoA+waK+Pv+Hg/wCwh/0WbwR/4PrD/wCPUf8ADwf9hD/os3gj/wAH1h/8eoA+waK+Pv8Ah4P+wh/0WbwR/wCD6w/+PUf8PB/2EP8Aos3gj/wfWH/x6gD7Bor4+/4eD/sIf9Fm8Ef+D6w/+PUf8PB/2EP+izeCP/B9Yf8Ax6gD7Bor4+/4eD/sIf8ARZvBH/g+sP8A49R/w8H/AGEP+izeCP8AwfWH/wAeoA+waK+Pv+Hg/wCwh/0WbwR/4PrD/wCPUf8ADwf9hD/os3gj/wAH1h/8eoA+waK+Pv8Ah4P+wh/0WbwR/wCD6w/+PUf8PB/2EP8Aos3gj/wfWH/x6gD7Bor4+/4eD/sIf9Fm8Ef+D6w/+PUf8PB/2EP+izeCP/B9Yf8Ax6gD7Bor4+/4eD/sIf8ARZvBH/g+sP8A49R/w8H/AGEP+izeCP8AwfWH/wAeoA+waK+Pv+Hg/wCwh/0WbwR/4PrD/wCPUf8ADwf9hD/os3gj/wAH1h/8eoA+waK+Pv8Ah4P+wh/0WbwR/wCD6w/+PUf8PB/2EP8Aos3gj/wfWH/x6gD7Bor4+/4eD/sIf9Fm8Ef+D6w/+PUf8PB/2EP+izeCP/B9Yf8Ax6gD7Bor4+/4eD/sIf8ARZvBH/g+sP8A49R/w8H/AGEP+izeCP8AwfWH/wAeoA+waK+Pv+Hg/wCwh/0WbwR/4PrD/wCPUf8ADwf9hD/os3gj/wAH1h/8eoA+waK+Pv8Ah4P+wh/0WbwR/wCD6w/+PUf8PB/2EP8Aos3gj/wfWH/x6gD7Bor4+/4eD/sIf9Fm8Ef+D6w/+PUf8PB/2EP+izeCP/B9Yf8Ax6gD7Bor4+/4eD/sIf8ARZvBH/g+sP8A49R/w8H/AGEP+izeCP8AwfWH/wAeoA+waK+Pv+Hg/wCwh/0WbwR/4PrD/wCPUf8ADwf9hD/os3gj/wAH1h/8eoA+wa/Fj/g4k/5Qv/Hv/sBRf+llvX3N/wAPB/2EP+izeCP/AAfWH/x6vyE/4L2ftmfsi/Ez/gkP8cPBHw7+KHhTXdZv9EjW2sdP1ezubiZluoGIjiikZ2IVSeB0FAH7tfs8/wDJA/BH/Yv6Z/6SR17FXjv7PH/JA/BH/Yv6Z/6SR17FQAUUUUAFFFFAH//T/v1j/wBWv0FPpkf+rX6Cn0AFFFFAH5i/8FpR/wAalv2jf+yea/8A+kUlfysfs+f8GnHh79pT4EeDP2h7j4zR6VJ460Sw197JfCOlTi3OowJcmISvhpNm/bublsZr+qj/AILSf8olv2jf+yea/wD+kUlexf8ABNn/AJR6/A3/ALELw7/6boKAP5Vf+IMvwx/0XZP/AAi9I/xo/wCIMvwx/wBF2T/wi9I/xr+4GigD+H7/AIgy/DH/AEXZP/CL0j/Gj/iDL8Mf9F2T/wAIvSP8a/uBooA/h+/4gy/DH/Rdk/8ACL0j/Gj/AIgy/DH/AEXZP/CL0j/Gv7gaKAP4fv8AiDL8Mf8ARdk/8IvSP8aP+IMvwx/0XZP/AAi9I/xr+4GigD+H7/iDL8Mf9F2T/wAIvSP8aP8AiDL8Mf8ARdk/8IvSP8a/uBooA/h+/wCIMvwx/wBF2T/wi9I/xo/4gy/DH/Rdk/8ACL0j/Gv7gaKAP4fv+IMvwx/0XZP/AAi9I/xo/wCIMvwx/wBF2T/wi9I/xr+4GigD+H7/AIgy/DH/AEXZP/CL0j/Gj/iDL8Mf9F2T/wAIvSP8a/uBooA/h+/4gy/DH/Rdk/8ACL0j/Gj/AIgy/DH/AEXZP/CL0j/Gv7gaKAP4fv8AiDL8Mf8ARdk/8IvSP8aP+IMvwx/0XZP/AAi9I/xr+4GigD+H7/iDL8Mf9F2T/wAIvSP8aP8AiDL8Mf8ARdk/8IvSP8a/uBooA/h+/wCIMvwx/wBF2T/wi9I/xo/4gy/DH/Rdk/8ACL0j/Gv7gaKAP4fv+IMvwx/0XZP/AAi9I/xo/wCIMvwx/wBF2T/wi9I/xr+4GigD+H7/AIgy/DH/AEXZP/CL0j/Gj/iDL8Mf9F2T/wAIvSP8a/uBooA/h+/4gy/DH/Rdk/8ACL0j/Gj/AIgy/DH/AEXZP/CL0j/Gv7gaKAP4fv8AiDL8Mf8ARdk/8IvSP8aP+IMvwx/0XZP/AAi9I/xr+4GigD+H7/iDL8Mf9F2T/wAIvSP8aP8AiDL8Mf8ARdk/8IvSP8a/uBooA/h+/wCIMvwx/wBF2T/wi9I/xo/4gy/DH/Rdk/8ACL0j/Gv7gaKAP4fv+IMvwx/0XZP/AAi9I/xo/wCIMvwx/wBF2T/wi9I/xr+4GigD+H7/AIgy/DH/AEXZP/CL0j/Gj/iDL8Mf9F2T/wAIvSP8a/uBooA/h+/4gy/DH/Rdk/8ACL0j/Gj/AIgy/DH/AEXZP/CL0j/Gv7gaKAP4fv8AiDL8Mf8ARdk/8IvSP8aP+IMvwx/0XZP/AAi9I/xr+4GigD+H7/iDL8Mf9F2T/wAIvSP8aP8AiDL8Mf8ARdk/8IvSP8a/uBooA/h+/wCIMvwx/wBF2T/wi9I/xr4m/wCCjn/BsRof7Bv7D/xI/axsfi3H4il8IaQ8o07/AIRbTbHz/tDLakC4h/eR7RLuBX0x0r/Rar8WP+DiT/lC/wDHv/sBRf8ApZb0AfqL+zz/AMkD8Ef9i/pn/pJHXsVeO/s8/wDJA/BH/Yv6Z/6SR17FQAUUUUAFFFFAH//U/v1j/wBWv0FPpkf+rX6Cn0AFFFFAH5jf8FpP+US37Rv/AGTzX/8A0ikr2L/gmz/yj1+Bv/YheHf/AE3QV47/AMFpP+US37Rv/ZPNf/8ASKSvX/8Agm64j/4J5fA5z0HgHw8ePbTYKAPqnx58QvAfws8MXHjb4l61Y+H9GtNgnvtRuI7W2jMjBEDyylUXcxCjJ5JAFdbFLHPGssLBkYAgjoQemK/ix/4L2/8ABWj4A/tZ/wDBLf4k/s/+BvA/xG0fVNal0kQ3niXwhqWk6ZH9m1S2nJmu7qJYosiMiPdgl9qj5iK/dv8AZN/4K8/AD9pP4k+F/gF4M8DfEnSdV1iBkhvNd8IanpmmRm2tHuG828njWKMMsRVCxwzlVHLCgD9dsgUAiv5EfjF8afGn/BUz/gpl8Xv2WvHnx7v/AIBfAf4AXFlpLweHNbg0PV/FOtyrvuTJeOVlW2tyjxtHHlduwg7nylr9l74z/ED/AIJwf8FaPh3+wv4N+N+p/Hv4F/HfT9ROlSa7rEevap4a1uwjkuBCbxPmFtLHHsRHY7w2QqmFnkAP65MgUZFfylftB+Kv2rf+Cu3/AAVd+JX/AATr+E3xW8QfBf4LfAPTdNfxbqHhGdbLXNa1bVI/OigiuwGaKFPu9lHkyq8UvmxtD9/fBf8A4IvzfBHwb8Svh7oX7Snxl1PS/iHo8OlQPqfiR7m80GSObzWu9JuGT9xO4wm7YSFzyeAAD9t8iiv4cvjz/wAE4/i78Jf+CrfwP/YA0b9rj4/3Xhn4qeHtd1jUNTuPGt0dStZdJjd4ktWjCW4SQqBJ5kEhx90rX29/wVa+AfxP/wCCWn/BCD4zWvws+OvxN8WeIX1vSNUtfFPifxFPPr1l9p1DTbRrS1v7f7PLFbFYyfKU8tLIDkORQB/VhVe6uoLK3e7unWOKNSzuxAVVUZJJ7ACvl74MftD/AAavfhV4WOp+ONFnvZtIsDKZNUtmlaQ28ZYtmXcWJ655zXxn/wAF1vj9ffs9/wDBIv44/E/w1fNY303hqTS7K6hk8to5dYdLCOSORSCGHn5QqeuMUAa3/BNT/goz4l/4KSaz8Tfib4E8IRaT8HPDOvS+HvCXiOW7aS68SSWR23l5HbCMRRWYbAhcSu0mcMqMrKP1fr8u/wDgm7+z3Y/slf8ABJ74ZfBfw7DHZ3Oj+BYLi6a0Tyt+o3lobu7mG3B3yXMrvnrk+tfKP/Bs18XPib8b/wDgjv8ADj4ifGLxPqni/wARXV9r8d1qes3s2oXsnlavdJGsk9w7yNsiCKoLfKgAHGKAP3xoyK/no+F3xS+Jvif/AIOMPjL8DLnxbq7+EbL4R6TdW+jLfztYWl7NPEklxFZlzBFcFTzIED474Nfjl/wVs/4J7fGP/gnzoXwT1T4Yftb/AB+1yT4n/E3RPAeoDWPGl0y21jqaTGS4tRai3xcx+UNhk8yPk7kagD+6SjIFfh94E/Zj03/gi/8As+/GT9rzxZ8afir8a7DQvC1zqbab4+18ausX9lpLcKtkGjhEUtwxETMTyNo4xX5n/sOf8E2P2r/+CqP7OOjft+/t3ftM/E3QPEfxPsjq+heH/AGtNoWjaDp1y2+y8m3iQiSbZ8wLciN1jlMzp5zAH9eNFfzq/wDBJD9pT9qr4YftkfGP/gkV+2p4rk+IOu/C6zsvEHhDxdehE1DV/Dt7tUC7Vc75LYvEplY72ZmByArN9d/sAf8ABP39oz9k79qD48/HH4wfGXUPiJoPxT1k6hoWiXTXpj0eE3l5chMXV1cRK0cVzHaKLZIY/Kt0JXOAoB+t54r+bD9in/gvpqH7TH/BT3xR/wAE9/iR4BsfCdhZ6r4q0TQNdj1Ked9R1DwzetB9naCS1iiR57aKa4CxzyFBHgjBBH9J56V/nHX3w7+Imi/s8/tP/wDBQX4KW73Hjf8AZf8A2tvEXjC2WNgjzaN50UWqWhcg7IGRxLLgH5Ff5STQB/o4E4Ga/nN/Zg/4LvX37Un/AAVo1j/gnt4K8BW8fguyuNftbHxcb2fzb1/DqpFdNHaG2WLy/tfmRKwnOVTdgBlz9d/8FDf+Cj/hP4I/8ElvEP7dvwdvEvpvEvhm2fwYY1a4+06nr8aQ6WqxxYZ8SzKzKpBwh6Yr8NP2Hv2RZf2Ff+Cqv7GX7NWo/NrGnfBfxLqevSlmkabXNUuDdalI0j/M375tq56KoHAwKAP7Q8gcUAg1+Y//AAUQ/Y58T/tVxeHEvf2hPF/wS8GaSJv7YtfCV9baRNqkrvE9sX1ORfOt1iCOrJG2JFfBxivwu8A614h/4Jsf8FffgN8BP2bv2gvEXxj+FHx2bVtK1/QvE3iEeJX0W8sLQzW0tvMZGeAzSkMvTKpOH8zMXlAH9hNLX8/37Xfx28W/Dn/gvD+zZ4Bv/Gd5oPgrVvA3im51PTZNSktNKubiFlEElzAZEt5ZEziMupZf4a94/wCCxf7T/hPwr/wS6+OXiT4P/EK00zxPY+E72XTbrR9Xjhv4bhQux7aS3lEqyD+EoQfSgD9iKMiv5Qf+Ci/x/wDjb4B/4NX/AA38fPBXjHXNP8Znwb8PbptfttUvIdUlkurzS1uHfUIpluma4V3WV/N3yBmy3Jr6K+Av/BDDWtMPg34v3v7YH7RGqywf2brEmnX/AIyM1hcMnlXDW88Jt8vBIRsdN3KErmgD+jSgEV/Kn+0R4s/aq/4K3/8ABV74jf8ABOP4RfFXxD8Gfgt8BtK06XxhqXhGZbLXNa1fVI/PhtobzDPDCg+UYwo8mZZI5fNjaHzr9pvwD+0t/wAEAfif8Nv2nfhV8YvGvxR+BXi7xXYeF/G/hbx5qf8AazabFqJ2R6jYXko8yLytpOwdXwrEq+YwD9kP2r/+Cj+v/sZ/tyfCT4DfGrwpbwfCv4xu2h6V41hvG32Xib/lhp99aNGESK5G0QzJKxLMQY1VC1frCK/BT/g5Q+B9l8cP+CP/AMSfEWnTJa6z8P1svGejago/e2txpVwkjyW7rho5HtmljV1IK78+1fqX+xJ8bH/aS/Y7+Fv7QMyMknjXwno+tOr/AHg97ZxTNnHfLGgD6hooooAKKKKACiiigAooooAKKKKACiiigAooooAK/Fj/AIOJP+UL/wAe/wDsBRf+llvX7T1+LH/BxJ/yhf8Aj3/2Aov/AEst6AP1F/Z5/wCSB+CP+xf0z/0kjr2KvHf2ef8Akgfgj/sX9M/9JI69ioAKKKKACiiigD//1f79Y/8AVr9BT6ZH/q1+gp9ABRRRQB+Y3/BaT/lEt+0b/wBk81//ANIpK9i/4Js/8o9fgb/2IXh3/wBN0FeO/wDBaT/lEt+0b/2TzX//AEikr2L/AIJs/wDKPX4G/wDYheHf/TdBQB87f8Ft/wBj/wCMX7eH/BNf4gfss/ASKzn8UeJn0v7Il/dfY7fba6lbXMpabZJtxHExA2nJwOOo/UjQbWex0Szsrn/WwwRo2DnlVAP6itiigD+FSf4b/wDBPP8AYp/4LM/tAfDj/gsH8OvDUvg340aoni34c+M/FenR3Wnjehkv7T7TIHEI8yTYeAI5Iv3uwXFv5n7N/so3P/BuXf8A7V3hLwd+xHpfwtv/AIqt9rvdFm8H2EE9zbfZIGaeX7VaIY4MREgbnG7JUA81+5nxM+Efws+M/hxvB/xc8OaZ4n0p+TZ6raQ3kGcYz5cysoOO4FcN8HP2Vf2aP2eEkj+A3w/8O+DPNzvOi6ZbWRbPUEwxqSPbpQB/L54O/aN+Hn/BIL/gvp+0Ev7Z98vg/wCHf7Tdjo/iDwp4pvAy6Z9r0uFo7m1nn2BY3EkkofkrEPI3lfPjz/Rj+zt/wUQ/Yl/a48e6n8NP2YPiXoXj3V9GsV1G+j0O5F5HBbvIIlZ5ogYgS/AXdu74xX0d8SfhP8MfjJ4bfwd8WfDum+JtJkOWs9UtYruAnGM+XMrLnHfFcr8Hv2bv2fv2e7CXS/gT4J0LwbbzgCVNF0+3sQ4HIDeQi5A7A8CgD8Hf20ri3i/4OT/2PYpZFRpPBPjFUUkAsfs0xwo7nCk4HYH0rvf+DpCQQ/8ABEf4tT7/ACmiuPDzowbYVdNbsShBGMEMBj3r93NR+HXgLV/F1j8QNV0Swudf0uN4bPU5baJ7y3jkBDpDOy+ZGrAnIVgDk5q34x8EeDviFoMvhXx5pNlrelzlGks7+3jubdzGwZC0Uqsh2sAVyOCARQB/H/B4L/4NEJ/gFax/EOf4ULdPoUI1A6dfSDUhKbUed5P2SXzxPuzt8v5w+Mc18bfC74R/F34yf8Guf7T3h7UxrEnw20vxBqWu/Cwa0WF0fBuh3FlfWrLuO4QZt5mQHC5DiMeT5Yr+3C2/ZN/Zas50ubP4a+FYpE5Vk0axVgfYiHivYNf8KeHvE/he88Fa5ZxXGlX9rJZXFqyjypLeVDG8RXptKErjpigD5J/4J2fGDRf2kf2BvhB8ZNNQG28S+DtIuHjfDbXNoiTRNjIyjqyMOmRX5kaT/wAEBND+EeveJtP/AGPf2iPih8F/Aniu6kvLrwj4ZvbIadaPN98acZ7WSS0HXBUllXaoOxEVfbP+CO/7EX7R3/BNvwp4+/Y78Y3Gm638INH1+61T4bapBcsdRi03UpWuJ9Pv7Vo/la3lYssyyv5pZyVT5RX7R0AfyQf8E4v2VfhN+xj/AMHE/wAXvgb8I5tRubKP4R6ZqFxdazqE+paje3t1ewNc3dzcXDtJJJIQu48Ko2hQq4Fe3f8ABzJgeEf2Sc/9HC+Ev/Rd3X9Htr8OvAVl40uPiRaaJp8XiK7gW1n1RLWJb2WBcbYnuAvmtGNowpbaMDjineMfh34B+IUdlD490PT9bTTblLy0W/tYrkQXEfCTRCVW2SLnh1ww7GgD5k/4KGfs76z+1r+wv8Wf2avDUqQap418LanpVjJJ9xbueBhbluR8vmhc89K/Eb/gj1/wWJ/Ym+EX7BHgv9l79sbxzpfwd+J/wY0uHwd4h8OeLrhdMu45NIQW8UsKzhPOSWFUYeVuIJK84yf6hcDpXzr8VP2RP2WPjnr1r4q+NHw48M+K9TsmV4LvVtKtLyeMpwu2SWNm+XtzxQB/PT/wSa8QS/8ABQf/AIK+fHr/AIK2+AtLurb4U/8ACOWHw78GatcRNCusrbyxyXs8aSAPtSS2Q5xhfMVGxKkscf7Ofsnf8FMf2Yf2z/jl8UP2evgpcajJ4h+Et8bDWRe2b20MrJc3Fi8lrIxPmRpdWk8JJCnKZAKFSfu7Q9B0TwzpFvoHhyzgsLC0QRwW1tGsUMSDoqRoAqqOwAArzb4e/s/fA74TeMPE3xC+GPhDRvD+u+M7hLvXtQ06yhtrnUp4wQkl3LGoaZl3NguTjJ9aAPXz0r+Wz/ghB8OfCPxh8L/t7fCbx9aR6hoXib49+OdL1C1lUNHNa3aLDKjKeCCjEV/UpXH+FPh94E8CPqEngrRbDR21a5e9vTY20Vubm5k+/NN5Sr5kjd3bLH1oA/gb/wCCfnw0/aA+PX7Y/wAIf+CJPxutpbvwT+xr408ReL9buriR3k1C20y5RvDEcgjIVIibtJIkOVlhcqAPKdB+7/7Qcif8RM37PyFhu/4VR4k44z/r27fgfyr+gLTPh34D0XxXqHjvRtE0+01vV1jS+1CG2iju7pYhiNZp1USSBAAFDMQO1F38O/Al/wCM7X4jX2i6fN4gsYGtrbU3tYmvYYXzuijuCvmIhycqrAHPSgD+Mn9pXWv2Pfin/wAHC3xM+Gv/AAWq8R2lj8OfB3hjSL74VaJ4tvmsfCtytxbxreXUiu6Wsk4na5RDKR5hV1O7yYwvj3jDxZ/wTo8c/wDBcf8AZHi/4Jc+CvD+l+BfCPibUNN8ReKPCOkxWOiatrV7pr3FvZRXkESRXs2n20bPIVZhGLtQpOWx/a98Y/2bf2fv2iNNh0f49eCNC8Z2ttzDHren298sfIPyeejbeQOmOlaujfAn4KeHtO0PSNB8IaJZWvhiU3GjwwafbomnzMpQyWiqgEDlSVLR7WIOM0Afzjf8FM/2d/gZ+1T/AMF5f2Yvgn+0T4csvFnhbUvAPiqS40u/BMMrwSJLESqspOxlDD6e1U/+Cu3/AARo/wCCXXwA/wCCZnxr+NPwb+Cvhzw74p8NeFru/wBL1O0jlWe1uYgpjljJkIDKenFf0033w78Can4vsviDqei2Fxr2mRPBZ6lLbRPd28Un344ZyvmRo2fmVWANanifwr4a8a6Dc+FvGGn22q6Xep5VxZ3kKT28yH+GSKQMjLx0IxQB/H5/wVAjtIf+DPzwzDYbTAngP4arHsIZdgvdIC4I4Ix0Nf1sfBvB+EHhbH/QHsf/AEnSrWr/AAq+GfiDwOnwy13w7pd74bjjihTSbizgksVjgIMSC2ZDEFjKqUAXC4GMYrt7S0trC2jsrKNYoYVCRxoAqqqjAVQOAAOABwBQB/Jjpvxh8D/8Egf+C8fxw8d/te3X/CL/AAs/am0zRtT8P+MLtGXS7bVtFhaKbTrq4AKQu2+ZwzlVC+X/AHsjkf8Agsr+2p8Cf+Cr1z8Lf+CVn/BPvxFY/FbX/GHjHR9Z8T3vh2YXlhpGgabPvuLma8izApQ4dgH+VV2/6yWFJP6z/H/w2+HvxW8Ny+Dviboen+IdJnx5llqVtFdW7EdCY5VZcjtxxXFfBn9m79n39nXSpNE+AngjQfBdpKAHh0TT7ewRgOQGECJkDsDwKAPyl/4OJfi14b+A/wDwRd+NN1q4kkXWNFh8NWiIV3tNqs8Vmh+bAwisZHxzsVsDPFfev/BOX4S638Bv2BPgt8FfEzBtR8K+CNB0u6IBUedbWEMb8Hp8w6dq+FP+CiX7Anx6/wCCiP7X3wX8JePH0zTf2dfhjqSeMtaiFy0mqa9r1ruWysTa+WI47KIHMkjSMZA7qEXCuf25RVVAqjAHpQA6iiigAooooAKKKKACiiigAooooAKKKKACiiigAr8WP+DiT/lC/wDHv/sBRf8ApZb1+09fix/wcSf8oX/j3/2Aov8A0st6AP1F/Z5/5IH4I/7F/TP/AEkjr2KvHf2ef+SB+CP+xf0z/wBJI69ioAKKKKACiiigD//W/v1j/wBWv0FPpkf+rX6Cn0AFFFFAH5jf8FpP+US37Rv/AGTzX/8A0ikr2L/gmz/yj1+Bv/YheHf/AE3QV47/AMFpP+US37Rv/ZPNf/8ASKSvYv8Agmz/AMo9fgb/ANiF4d/9N0FAH2vRXI+OPH3gf4ZeGp/GXxG1ix0DSLUoJr3UZ47W3jLsEQNLKVRdzEKMnkkAV1UUsc0YlhIZGAII5BB6YoAkopMgUCgBaKTIooAWikyBQCKAFopMiigBaKSloAKK/KDxP/wUf1jW/wDgqLo3/BNb4AeFIfFE2j6I/iL4ha/NdvBb+HLSTZ9it0SOGRZ7y53giJ3i2oysNwDbf1ezQAtFJRmgBaKKTIoAWiikHNAC0VxPxJ8UzeBvh7rvja3hFw+j6ddXqxMdoc28LSBSwBwDtxkDiv5gv2Zv+C1H/BYb9sL9n3Rv2of2bP2MdK8XeD9d84WU9v45t7WWVrW4e1uFEV5aQspimjdTuGDtJQsMEgH9WdFfil/wTs/4LGWX7Yvx/wDE37F/x/8AhZr3wR+NfhHThqt74b1mSK7t7i0DRpLLZXsQQTLGZoiS0SB1kDRFwr7P2s6UALRSAijNAC0UlFAC0UlGRQAtFeO/tAeJ/it4L+C3ibxd8DdBtvFPi7TNPmutK0e7uGtIb+4hXetsZ0SQxGUAqjbCAxGeK+Zf+CZ/7e/gT/gpD+yR4e/aX8H2L6JfXXmWGu6JMxebSNYtCEvLGQskbHy35RmRC8ZVtq5wAD78ooooAKKKKACiiigAooooAKKKKACiiigAooooAK/Fj/g4k/5Qv/Hv/sBRf+llvX7T1+LH/BxJ/wAoX/j3/wBgKL/0st6AP1F/Z5/5IH4I/wCxf0z/ANJI69irx39nn/kgfgj/ALF/TP8A0kjr2KgAooooAKKKKAP/1/79Y/8AVr9BT6ZH/q1+gp9ABRRRQB+Y3/BaT/lEt+0b/wBk81//ANIpK9f/AOCbriP/AIJ5fA5z0HgHw8ePbTYK8g/4LSf8olv2jf8Asnmv/wDpFJXsX/BNn/lHr8Df+xC8O/8ApugoA/mH/wCC9v8AwVp/Z4/a0/4Jb/En9n/wD4O+IelatrUukiC68R+ENT0nTYzbapbTkzXd3CsUXEZCbiCX2qPmIr92v2Tv+Cvf7Ov7SnxI8MfALwR4N+I2l6vrMDJDda54Q1PTNNQ21o1w3m3k8SwxgrEQhY4ZiqjlhWl/wW6/ZB+Mf7d//BNX4gfstfAOC0uPFPiV9K+yJfXQs4NtrqVtcylpijhcRxMQNpycDjqP1L0C1nsdDs7K5/1sMEaMAc8qgB/UUAfys/EC6/az/wCC0n/BSL4y/sn+Cvi14n+CvwH/AGfri00bUZvBVytjrGvazcRl5M3u0vHHFIrrswYxGi/K7S5i/WD9jv8A4J1at/wT+0L4iX9h8bfiN8TtO1/Tl+w2PjjWDqY0h7Zbh2azk2oVMvmIDxkCNeT2/Gj9mf8Aal+F/wDwSC/4K+ftNfA39uHUYvAPg74769B428EeJtTzHpl0TAzXcUl1ykW0sYsuwCyRbX2edb+Z/QF8M/2/v2M/2wdP8ceCP2XPiNonj6/8M6MbvU/7DuBeQ28V0k0cO6eMGLLNE/yqxIAyQARQB/Lt/wAEV/8Agnx8dP8AgpP/AME9/CX7W3xX/a8+PWga5rt1qVpPZ6N4ulFmq6ddyWaMn2uO4l3OsQd8yEbydoUYFfVv7Afw0+M/7I3/AAcDeKP2M9X+OHxH+KnhC2+Dx8RRxeONen1MLe3ep2cW9YcpbKYkjIjdYQ4EjgsQa+jv+DT/AP5Qm/Dj/sK+Iv8A07XFYPgsx/8AEV74wUsoP/CgLbjIzj+14Og68fpx7UAfdH7ff7Cet/tQ/EvTfF/xA/aa8c/CX4e2dlBbt4a8Kana+H4rq8jkkeSebUtouWSWJljaEPgbMqVOa/Mj/gn74z+KP7H/APwWHm/4J8+Dvjpq3xy+DnjbwNe+K9Ll8Sawmvalo2pWNzHG1ot6hLCMRk/K5wysmFVkZ5PgL4Mal/wTt+Mf/BWb9qrVv+C6/irQpfGfgjxQdN8D+HvH2oeR4dsfDbLvtpNOtrt0tXmmgW3eRMHOfNVSZGY93+wd43/Y1+If/Bxh4a1//gnr4G0rwp8ILP4deItJ07U9E0f+ydN1/U7K4hGpX1kVjjjureNnjtVnVfmeF8EpsYgF/wD4Lf8A7Bnxs/YN/Zb1P9rX4VftX/HO81O98W6dZrpN34uni02GHWLxlkSJLRbeZVhD4hXzdqhVBBUYr93f2Pf+CYmvfsZeMdW+Mt5+0V8Xfip9r8O3WmppPjnxANS02FpzDP8Aa4oFhj23MfkbI5Mnakkg/ir5A/4OqLm2tP8AglJPc3ciQxR+NvC7M7kKqqt8CSScAAAZPoK/oS1f/kRLn/rxf/0SaAP58/8Ag3A/a0PxB/4JceHfFH7RXxL/ALe8Sy6/4gjkvPEet/a79oI9QkWBWlvJmmKLGAEBOAuMcYr+iDSPEvh/xDpY1vQb2C9sjnE9vIksR29cMhK8V/n0f8ESfCf/AAbt6x+wBo15/wAFCbn4aN8SRq+sRXP/AAkmoLHqIso7t0sgymVW2C3CiLj7mMV+hX/BGTRf2ftP/wCCx3xj8O/8Eori8n/ZUPgwHxB9nluZtBHjGa6h8tdOe5JJItt+wx5ATepPli3AAPrP/g290S++LI/af/b18Z+XdeIfit8V9Xtobw/PKNI0ciOyt9+B+7hMkiIB/Cq/QfNmo/s4/Gf/AIKA/wDBcr9qP4E6n+0T8Wvhn4Z8A6b4Y1DS9P8ABXiWewtVfULCBJU+zSia3jTMXmfuo0Jd3Zic19O/8GxHiKbw1+z/APHb9lPW4fsmrfCf4u+I9Mlty2W+z3EiyxSYIBCs6yqp6ELkHnA1v2B5oJP+Di79tuOJ1Zo/D3glWAIJU/Y1OCB0OCDj0I7YoA/Wj9hP9iLUv2I/B+veE9S+Lfj34uNrl7HeC98faoNUurQRwiHybZ1jjEcRxuK45fLdTX852l/Az4wf8FG/29/22/H9z8fPin4J8CfCTVrLSfDFn4K8WXumWX9oWmjj+0oXt0doQiTQI4WJUO+WUsckY/oW/wCCmf8AwUM+D3/BNn9lvXfjz8TryL+0ha3EXh7Si22XVdTWIvFbRcEADG+Vz8scSs54U1/PX/wSS/bV/wCCcH7Jf/BL7WdC+Nf7QXgWX4vfFQa5408YqNVt/PbW9djd/s7hWIMsMflQuE+XzFbbxigD6/8A+CQ/7b3i34V/8G5mk/t1/tC6zq3jjVPC2ieLddvLnVb2a+v702Oq6h9ntjdXcjytwkcEe+Q7UCjOBXwr+yp+y94u/wCCif7O2m/tmft4/tueLPAvxL+Idqur6XoXg3xbb6FpXhi2mkMtpbrpwZN0gj2+asmHVT5ZkeRPPZP+CQuneBP26f8Ag2Q8Qf8ABPj4J+KNK1L4nxeEvElvdaMlyvn2N1qOqahcaYt4FDGFLkquCR905xxXl/8AwS48cf8ABuz4p/ZL8OfDz9vfwJ8OPh78bPAlqug+MrHx/p1tpuqXGo2I8p7x2vFUzSXIUSycl1kZlYZFAH69f8EMv2xf2i/2x/2bfjD+zh+0T4rj1v4hfBrxNqfgn/hM7IIDqtr5bix1UImEL9SrKcSIqOSWYmvt/wD4JLfsS/tA/sE/syXPwV/aP+Kt58W9cn1m51GLVLs3L/Z7eWKGNbdHvJp52DPG9w+59okmZUAQKK5//gnV4s/4JOaV8KviL8T/APgmlYeGLDwhoWoNZ+JtQ8KWBtrOW706yS9OHWNVufKt7lSHi3JligO4MB7n/wAE+P8Agot+zd/wUy+DN/8AHL9mSfUZNH0vVZdGuo9UspLG4juY4Yblf3b5DJJb3EMsbqSCrgcMCoAPo79oT/kgvjb/ALAGpf8ApJJX8Z3/AAQk/wCCofxN/ZR/4JOfDr4VeHv2Yvin8TrDRv7auF8Q+FLC1utLuvtOq3VyyQM86Ss8Bl8iVfL4lRgMjBr+zD9oTA+AvjbP/QA1L/0kkr+VD/g3U/4Kj/8ABOz9mP8A4JA/C74OfH/4zeE/CfinSptee80rUdRiiuoFudavbiHfHnI3xSI4HoRQB1X/AASj+J3h7/god/wWH+IH/BQ74sX2m/D3x74f8Gnwdo/wmuZJ4/FGn6VHcpJJqWsW91b2rK5MiALAskaCZAX+4XtftCfHP4i/8FNv+CofxT/Yk1z456h+z/8AA74BxadbanJ4f1aHQ9Z8T61er5zxi+kw621uFKOkTfKACysZlMXnfwv+PHgL/gqV/wAHGvw3/al/YLtbnUfh38GvCuq6V4w8bQWlxbWOryTRXUMWnmd44xL5UtzA9urEmVRJIqiONHfwLx38O/2Av2Of+C4Xx18L/wDBX/wH4dvPAHx0e08UfDvxb4osEudLguEi26jaNcSKRCzPhZD92MxxeYVE8O4A+sPgF8XfiJ/wTI/4KufCb9jbwJ8c9W+PvwN+P8WpW9sniLWI9d1PwzrFjG00YS+j3OYJvkjSJyoZS7feiJfx3/gvL+w98av2FP2NPiL+3j8I/wBqj43zaxDrtrPb6DP4snh0aBNZ1NY3gijsxb3CQwLORAgnwgVFOVGK/Sr9mq7/AODbBf2qfAvg39j6x+FF98Vb+7ml8OHwla29zdxT2drLdSSLPaKyQbIIpDl3XONoyeKxf+Dr7A/4IlfEf/sKeHf/AE7W1AH1x+wp/wAEv9e/ZK8fw/G7Uv2i/i98URc6JLZ/2L438QDU9LRroQyfaFgEMZ8+PytsbljtVnA+8TX4t/sZf8FcviP+zr/wTfudNNzq/wAZP2hPiL8TvF/hz4d+F7y8m1C/vZIL7y4nleaRnh0ywXBkZmSNFG0FBll/r98Lf8iRp/8A15Q/+ilr+B/9hP8A4Jz/ABv8a/sfS/8ABTn/AIJrXFro/wC0l8LPiX408u2lRWtPFujC+bz9GvNzKPMeMlbd9yjBMe6Msk8IB/XN/wAEyv2Sfj7+y/8AAaWT9rX4k6x8S/it4vuW1jxPqF7f3Fzp1ndz5c2Gj20reTa2VtuKIIYohIRu2Ku2NPzN+Mv/AASd0rxFq3iHxL+01+3Z8U7DxZqEsr6dJZ+K7Xw3Y6UplZrYQ6bb+VGWSMrHIzYMgXKiPjHpviT/AIKjan+3H/wRj+Mf7Sf7Fq6h4f8Ai14V8L6na6n4cWMvrfh3XrWIi4t2tynmeZEFka3fywW2g7Q4ZF/If9gPUP8Ag2u8D/sDeEvjP+0dL4B+JHxb1jSIb/xTaeI3j8SeLL7xFKgNzaQWNy1zdSM1z+6txGjK42kM+dxAP2e/4N5f2uPjR+1R+xR4g0P9obxV/wAJ34v+FnjXWvBV54iKIp1OKwaOW1uCYwFfMEyAScl1ClmZ9zH5n/4JPabd/s5f8Fs/24f2PtAiFp4R1W70T4g6XaIcRRXOrQhr90U5I8ySYKccDyhgAYrkf+DTgFP2U/jxG+hf8Iu4+MOrltEKeU2lltM0xv7OaLA8prIEWxjwuzytu0YwO3/4Jza5dfG3/g4W/bV+MWlIJtC8HaT4a8GQ3S8o1zHErXEasPkLRywShxnK/LkDNAH9O1FFFABRRRQAUUUUAFFFFABRRRQAUUUUAFFFFABX4sf8HEn/AChf+Pf/AGAov/Sy3r9p6/Fj/g4k/wCUL/x7/wCwFF/6WW9AH6i/s8/8kD8Ef9i/pn/pJHXsVeO/s8/8kD8Ef9i/pn/pJHXsVABRRRQAUUUUAf/Q/v1j/wBWv0FPpkf+rX6Cn0AFFFFAH5jf8FpP+US37Rv/AGTzX/8A0ikr2L/gmz/yj1+Bv/YheHf/AE3QV47/AMFpP+US37Rv/ZPNf/8ASKSvYv8Agmz/AMo9fgb/ANiF4d/9N0FAH2vRRRQB5Z8Wvgf8G/j14a/4Q342+FNI8XaSST9j1iygvYQSMEhJkYA44yMccVjfCT9m74AfAPw/N4T+B/gnQvCGmXKhJrXR9Pt7KKRQCAHWFFDAAkAHgCvbKKAOO8CfDzwF8L/DsXhD4a6Jp/h7SYWZ47LTLaK0t0ZzucrFCqICx5OByagi+G3w/g8cy/E+30PTk8Sz2ospNWW1hF89spBEDXIXzTECAQm7bntXcUUAfOfxm/ZC/ZX/AGitRstY+Pnw48M+M7vTmR7afWtKtb6WExncmx5o2Zdp5XB4PSvRdN+EHws0bVdI13RvDWk2l94ftJbDS7iGygjlsbScqZbe2dUDQwyFE3xxlVbaMjgV6PRQBxnjr4dfD/4oaGPDPxK0PT/EOmiRJvsmp2sV3B5kf3H8uZWTcv8ACcZHaurltoZYfszKvlldpXHGMYxj0xViigD5sX9jX9kJAFT4VeDwB6aFp/8A8Yr27wr4N8JeBdHTw74K0uz0fT4ySlrYwR28Kk9SI4lVRn6V0tFAH4d6P/wT9+PX7OX/AAWS1X9vD9md9Nufhp8atFj074maHc3Btrm31TTwBY6vZAxyLOSo2SQgxY3Svl2kUL+xel/DT4faJ4v1H4haLoWnWWv6wkcd/qUFrDHeXSRACNZ7hVEkioB8oZiB2ruaKAPwm/4LU/sh/Gn9rHxx+ywPhb4Rbxdo3gv4taVrniqLda+Tb6LGjR3Ms8d1LGJYtrYeNA7MuQEbof1H/wCGN/2RduB8K/B//gj0/wD+M19I4B60tAH4Ff8ABPL9ir4u/s5f8FcP2vfjPfeCo/C3wv8AHkHhGLwdPa/ZIrO4XT7F1vVgtbd90AS4diQ8UYZmLDOSa/VT4y/sTfsfftE6zF4i+PPwu8KeMdQgKtHdazpFpeTKU+7iSaNm+Xtzx2r6gwPSloA4bwj8NPh94A8Lp4H8C6Hp2jaKilFsLG1it7YKwwV8mNVTBHB45rm/gl8Avgl+zZ4Fj+GP7P3hLSPBXhyGaS4TTNEs4bG0WWY7pHEMCqm5j1OK9dooAqX1jZ6nZy6dqMST286NHLFIoZHRhhlZTwVI4IIxjivneP8AY1/ZCgRY4PhV4ORVAAC6Fp4AA6AYgr6TooA53wv4R8K+CdITQPBumWmk2MRyltZQx28K59I4wqj8BXO/Ez4R/C34z+Gn8GfFzw5pnifSJeWstVtIbuAnGM+XMrLnHcCvRKKAPnD4Jfsffsqfs1+Z/wAM9/Dfwz4IMu7e2h6Va2LNu5OWgjU8nrzXr3jr4e+A/if4dk8IfEnRNP8AEGkzMrSWWp20V3bOyHchaGZWQlSMjI4PSuxooAhSCGKFbeJQkajaFUYAAGAAB2xXJeB/h14B+GelSaD8OdE0/QLCWeS5e2021itIWnlOZJTHCqKXc/ebGT3rs6KAPPNA+Evwu8KeKtU8d+FvDelaZreuf8hHULSyghurz5i3+kTRory8kn5yea8g0H9iT9jzwt8UH+Nnhr4WeEtP8YOQTrVvo1lHfbgxYN56xBwdxJyDnJJr6iooA+d/ih4U8UfDL4P+M9S/ZN8KaKfG+px3V9ZWsnl6baXusTrtW4vpooiT82GlkKtIwXHJxXxF/wAEb/8AgnfrH/BOr9k5vBfxP1SHxF8T/HGq3Xizx1rMJLJd65qJDTCJiFzFCoEasEQOQ0mxS5A/WWigAooooAKKKKACiiigAooooAKKKKACiiigAooooAK/Fj/g4k/5Qv8Ax7/7AUX/AKWW9ftPX4sf8HEn/KF/49/9gKL/ANLLegD9Rf2ef+SB+CP+xf0z/wBJI69irx39nn/kgfgj/sX9M/8ASSOvYqACiiigAooooA//0f79Y/8AVr9BT6ZH/q1+gp9ABRRRQB+Y3/BaT/lEt+0b/wBk81//ANIpK9i/4Js/8o9fgb/2IXh3/wBN0FeO/wDBaT/lEt+0b/2TzX//AEikr2L/AIJs/wDKPX4G/wDYheHf/TdBQB9r0UUUAFFFFABRRRQAUUUUAFFFFABRRRQAUUUUAFFFFABRRRQAUUUUAFFFFABRRRQAUUUUAFFFFABRRRQAUUUUAFFFFABRRRQAUUUUAFFFFABRRRQAUUUUAFFFFABX4sf8HEn/AChf+Pf/AGAov/Sy3r9p6/Fj/g4k/wCUL/x7/wCwFF/6WW9AH6i/s8/8kD8Ef9i/pn/pJHXsVeO/s8/8kD8Ef9i/pn/pJHXsVABRRRQAUUUUAf/S/v1j/wBWv0FPpkf+rX6Cn0AFFFFAH5jf8FpP+US37Rv/AGTzX/8A0ikr2L/gmz/yj1+Bv/YheHf/AE3QV47/AMFpP+US37Rv/ZPNf/8ASKSvYv8Agmz/AMo9fgb/ANiF4d/9N0FAH2vRRRQAUUUUAFFFFABRRRQAUUUUAFFFFABRRRQAUUUUAFFFFABRRRQAUUUUAFFFFABRRRQAUUUUAFFFFABRRRQAUUUUAFFFFABRRRQAUUUUAFFFFABRRRQAUUUUAFfix/wcSf8AKF/49/8AYCi/9LLev2nr8WP+DiT/AJQv/Hv/ALAUX/pZb0AfqL+zz/yQPwR/2L+mf+kkdexV47+zz/yQPwR/2L+mf+kkdexUAFFFFABRRRQB/9P+/WP/AFa/QU+mR/6tfoKfQAUUUUAfmN/wWk/5RLftG/8AZPNf/wDSKSvYv+CbP/KPX4G/9iF4d/8ATdBXjv8AwWk/5RLftG/9k81//wBIpK9i/wCCbP8Ayj1+Bv8A2IXh3/03QUAfa9FFFABRRRQAUUUUAFFFFABRRRQAUUUUAFFFFABRRRQAUUUUAFFFFABRRRQAUUUUAFFFFABRRRQAUUUUAFFFFABRRRQAUUUUAFFFFABRRRQAUUUUAFFFFABRRRQAV+LH/BxJ/wAoX/j3/wBgKL/0st6/aevxY/4OJP8AlC/8e/8AsBRf+llvQB+ov7PP/JA/BH/Yv6Z/6SR17FXjv7PP/JA/BH/Yv6Z/6SR17FQAUUUUAFFFFAH/1P79Y/8AVr9BT6ZH/q1+gp9ABRRRQB+Y3/BaT/lEt+0b/wBk81//ANIpK9h/4Jtcf8E9fgb/ANiF4d/9N0Feq/tXfs8eHP2tP2bPHP7MvjC+udM0nx5ol5od5dWWz7RDBexGJ3i8xWTeFPy7lIz2r8ZvDf8AwQY+IPg3w9Y+EfCP7Zfx20vStLgjtbOztNYsIbe3ghUJHFFElkESNFAVVUAADAGKAP6G8ijIr+f/AP4cefGL/o9r4/f+D2y/+Q6P+HHnxi/6Pa+P3/g9sv8A5DoA/oAyKMiv5/8A/hx58Yv+j2vj9/4PbL/5Do/4cefGL/o9r4/f+D2y/wDkOgD+gDIoyK/n/wD+HHnxi/6Pa+P3/g9sv/kOj/hx58Yv+j2vj9/4PbL/AOQ6AP6AMijIr+f/AP4cefGL/o9r4/f+D2y/+Q6P+HHnxi/6Pa+P3/g9sv8A5DoA/oAyKMiv5/8A/hx58Yv+j2vj9/4PbL/5Do/4cefGL/o9r4/f+D2y/wDkOgD+gDIoyK/n/wD+HHnxi/6Pa+P3/g9sv/kOj/hx58Yv+j2vj9/4PbL/AOQ6AP6AMijIr+f/AP4cefGL/o9r4/f+D2y/+Q6P+HHnxi/6Pa+P3/g9sv8A5DoA/oAyKMiv5/8A/hx58Yv+j2vj9/4PbL/5Do/4cefGL/o9r4/f+D2y/wDkOgD+gDIoyK/n/wD+HHnxi/6Pa+P3/g9sv/kOj/hx58Yv+j2vj9/4PbL/AOQ6AP6AMijIr+f/AP4cefGL/o9r4/f+D2y/+Q6P+HHnxi/6Pa+P3/g9sv8A5DoA/oAyKMiv5/8A/hx58Yv+j2vj9/4PbL/5Do/4cefGL/o9r4/f+D2y/wDkOgD+gDIoyK/n/wD+HHnxi/6Pa+P3/g9sv/kOj/hx58Yv+j2vj9/4PbL/AOQ6AP6AMijIr+f/AP4cefGL/o9r4/f+D2y/+Q6P+HHnxi/6Pa+P3/g9sv8A5DoA/oAyKMiv5/8A/hx58Yv+j2vj9/4PbL/5Do/4cefGL/o9r4/f+D2y/wDkOgD+gDIoyK/n/wD+HHnxi/6Pa+P3/g9sv/kOj/hx58Yv+j2vj9/4PbL/AOQ6AP6AMijIr+f/AP4cefGL/o9r4/f+D2y/+Q6P+HHnxi/6Pa+P3/g9sv8A5DoA/oAyKMiv5/8A/hx58Yv+j2vj9/4PbL/5Do/4cefGL/o9r4/f+D2y/wDkOgD+gDIoyK/n/wD+HHnxi/6Pa+P3/g9sv/kOj/hx58Yv+j2vj9/4PbL/AOQ6AP6AMijIr+f/AP4cefGL/o9r4/f+D2y/+Q6P+HHnxi/6Pa+P3/g9sv8A5DoA/oAyKMiv5/8A/hx58Yv+j2vj9/4PbL/5Do/4cefGL/o9r4/f+D2y/wDkOgD+gDIoyK/n/wD+HHnxi/6Pa+P3/g9sv/kOj/hx58Yv+j2vj9/4PbL/AOQ6AP6AMijIr+f/AP4cefGL/o9r4/f+D2y/+Q6P+HHnxi/6Pa+P3/g9sv8A5DoA/oAyKMiv5/8A/hx58Yv+j2vj9/4PbL/5Do/4cefGL/o9r4/f+D2y/wDkOgD+gDIr8Wf+DiPn/gi98e8f9AKL/wBLLevJf+HHnxi/6Pa+P3/g9sv/AJDrgvif/wAG9eufGrwDqnws+Lf7X3xw8SeHNahNvfabqWrafc2txHwdskT2RVgCARxwQCMECgD93P2ef+SB+CP+xf0z/wBJI69irk/AnhO28CeCdH8E2cz3EWj2NvYpLIAHdbeJYgzBQBkhcnAA9K6ygAooooAKKKKAP//V/v1j/wBWv0FPpkf+rX6Cn0AFFFFABRRRQAUUUUAFFFFABRRRQAUUUUAFFFFABRRRQAUUUUAFFFFABRRRQAUUUUAFFFFABRRRQAUUUUAFFFFABRRRQAUUUUAFFFFABRRRQAUUUUAFFFFABRRRQAUUUUAFFFFABRRRQAUUUUAFFFFABRRRQB//1v79Y/8AVr9BT6ZH/q1+gp9ABRRRQAUUUUAFFFFABRRRQAUUUUAFFFFABRRRQAUUUUAFFFFABRRRQAUUUUAFFFFABRRRQAUUUUAFFFFABRRRQAUUUUAFFFFABRRRQAUUUUAFFFFABRRRQAUUUUAFFFFABRRRQAUUUUAFFFFABRRRQAUUUUAf/9f+/WP/AFa/QU+mR/6tfoKfQAUUUUAFFFFABRRRQAUUUUAFFFFABRRRQAUUUUAFFFFABRRRQAUUUUAFFFFABRRRQAUUUUAFFFFABRRRQAUUUUAFFFFABRRRQAUUUUAFFFFABRRRQAUUUUAFFFFABRRRQAUUUUAFFFFABRRRQAUUUUAFFFFAH//Q/v1j/wBWv0FPpkf+rX6Cn0AFFFFABRRRQAUUUUAFFFFABRRRQAUUUUAFFFFABRRRQAUUUUAFFFFABRRRQAUUUUAFFFFABRRRQAUUUUAFFFFABRRRQAUUUUAFFFFABRRRQAUUUUAFFFFABRRRQAUUUUAFFFFABRRRQAUUUUAFFFFABRRRQB//2Q==)"
      ],
      "metadata": {
        "id": "8nAeSJb5cj-t"
      }
    },
    {
      "cell_type": "code",
      "source": [
        "class Parrot:\n",
        "    \"\"\"\n",
        "    Here is a class for parrots\n",
        "    \"\"\"\n",
        "\n",
        "    def __init__(self,\n",
        "                 beak_size: int=5,\n",
        "                 color: str=\"red\",\n",
        "                 species: str=\"macaw\"):\n",
        "\n",
        "        self.beak_size = beak_size\n",
        "        self.color = color\n",
        "        self.species = species\n",
        "\n",
        "    def eat(self, what: str) -> None:\n",
        "        print(f\"Parrot is eating {what}\")\n",
        "\n",
        "    def sleep(self, where: str) -> None:\n",
        "        print(f\"Parrot is sleeping {where}\")\n",
        "\n",
        "parrot_a = Parrot()\n",
        "\n",
        "parrot_a.sleep(\"In the tree\")\n",
        "parrot_a.eat(\"Mango\")"
      ],
      "metadata": {
        "colab": {
          "base_uri": "https://localhost:8080/"
        },
        "id": "f1DqGkVectEd",
        "outputId": "c91c741c-6631-412f-978a-f3ef0655a49d"
      },
      "execution_count": 23,
      "outputs": [
        {
          "output_type": "stream",
          "name": "stdout",
          "text": [
            "Parrot is sleeping In the tree\n",
            "Parrot is eating Mango\n"
          ]
        }
      ]
    },
    {
      "cell_type": "markdown",
      "source": [
        "Какие бывают методы?\n",
        "\n",
        "* Статические (зачем добавляем? Чтобы не передавал сам инстанс)\n",
        "\n",
        "* Классовые (передаем инфу только про класс, очень удобно)\n",
        "\n",
        "* Абстрактные (когда хотим объявить, что тако метод должен быть)"
      ],
      "metadata": {
        "id": "x43iAAT4cUse"
      }
    },
    {
      "cell_type": "code",
      "source": [
        "from abc import abstractmethod\n",
        "\n",
        "class Parrot:\n",
        "    \"\"\"\n",
        "    Here is a class for parrots\n",
        "    \"\"\"\n",
        "\n",
        "    def __init__(self,\n",
        "                 beak_size: int=5,\n",
        "                 color: str=\"red\",\n",
        "                 species: str=\"macaw\") -> None:\n",
        "\n",
        "        self.beak_size = beak_size\n",
        "        self.color = color\n",
        "        self.species = species\n",
        "\n",
        "    def eat(self, what: str) -> None:\n",
        "        print(f\"Parrot is eating {what}\")\n",
        "\n",
        "    def sleep(self, where: str) -> None:\n",
        "        print(f\"Parrot is sleeping {where}\")\n",
        "\n",
        "\n",
        "    @staticmethod\n",
        "    def is_same_species(parrot1, parrot2) -> bool:\n",
        "        \"\"\"\n",
        "        Static method to compare if two parrots are of the same species.\n",
        "\n",
        "        :param parrot1: First Parrot object\n",
        "        :param parrot2: Second Parrot object\n",
        "        :return: True if both parrots are of the same species, False otherwise\n",
        "        \"\"\"\n",
        "        return parrot1.species == parrot2.species\n",
        "\n",
        "    @classmethod\n",
        "    def from_dict(cls, parrot_data: dict):\n",
        "        \"\"\"\n",
        "        Class method to create a Parrot instance from a dictionary of attributes.\n",
        "\n",
        "        :param parrot_data: A dictionary with keys 'beak_size', 'color', and 'species'\n",
        "        :return: An instance of the Parrot class\n",
        "        \"\"\"\n",
        "        return cls(beak_size=parrot_data.get('beak_size', 5),\n",
        "                   color=parrot_data.get('color', 'red'),\n",
        "                   species=parrot_data.get('species', 'macaw'))\n",
        "\n",
        "    @abstractmethod\n",
        "    def do_smth(self):\n",
        "        pass\n",
        "\n",
        "\n",
        "parrot_info = {\n",
        "    'beak_size': 6,\n",
        "    'color': 'green',\n",
        "    'species': 'amazon'\n",
        "}\n",
        "\n",
        "parrot = Parrot.from_dict(parrot_info)\n",
        "print(parrot.color)\n",
        "print(parrot.species)\n",
        "\n",
        "first_parrot = Parrot()\n",
        "second_parrot = Parrot(species=\"cockatiel\")\n",
        "\n",
        "print(Parrot.is_same_species(first_parrot, second_parrot))"
      ],
      "metadata": {
        "colab": {
          "base_uri": "https://localhost:8080/"
        },
        "id": "D3z0sOXbc0lz",
        "outputId": "ad9bc9d6-e6ff-4c97-ea82-fc51d5f57d59"
      },
      "execution_count": 25,
      "outputs": [
        {
          "output_type": "stream",
          "name": "stdout",
          "text": [
            "green\n",
            "amazon\n",
            "False\n"
          ]
        }
      ]
    },
    {
      "cell_type": "markdown",
      "source": [
        "### Properties и уровни доступа"
      ],
      "metadata": {
        "id": "cUzok3OQd_-L"
      }
    },
    {
      "cell_type": "markdown",
      "source": [
        "Ключевая задача моделирования объекта в ООП – определить, какой будет внешний интерфейс данного объекта.\n",
        "Интерфейс – коллекция, набор атрибутов и методов, доступных для взаимо­действия с другими объектами. Особо стоит подчеркнуть, что свободный доступ извне к внутренней работе объекта не нужен.\n",
        "\n",
        "То есть сокрытие внутренней реализации объекта называют сокрытием информации. Также об этом можно сказать, что информация **инкапсулирована**.\n",
        "\n",
        "\n",
        "> Здесь стоит отметить, что аттрибуты с символом _ в начале имени - это переменные с режимом доступа **protected**. Они нужны только для обращения внутри класса и во всех наследуемых классах.\n",
        "\n",
        "> А аттрибуты __ в начале имени – это переменные с режимом доступа **private** и нужны они для того, чтобы обращаться внутри текущего класса.\n",
        "\n",
        "Представим, что мы полетели из Москвы на Бали.\n",
        "\n",
        "Мы как пассажиры используем самолет как средство передвижения и не используем его скрытые атрибуты и методы, такие как грузоподъемность и открытие/закрытие закрылок. Нас интересует только размер сидений, возможно ли их откидывать спинки и открытие шторок иллюминатора."
      ],
      "metadata": {
        "id": "Wv_vvfXxeF9F"
      }
    },
    {
      "cell_type": "code",
      "source": [
        "class Passenger:\n",
        "    \"\"\"\n",
        "    Класс для представления пассажира.\n",
        "    \"\"\"\n",
        "    def __init__(self, name: str, seat_number: str) -> None:\n",
        "        self.name = name\n",
        "        self.seat_number = seat_number\n",
        "\n",
        "    def recline_seat(self, airplane) -> None:\n",
        "        if airplane.can_recline(self.seat_number):\n",
        "            print(f\"{self.name} откидывает спинку сиденья {self.seat_number}.\")\n",
        "        else:\n",
        "            print(f\"{self.name} не может откинуть спинку сиденья {self.seat_number}.\")\n",
        "\n",
        "    def open_window_shade(self, airplane) -> None:\n",
        "        if airplane.has_window_shade(self.seat_number):\n",
        "            airplane.open_window_shade(self.seat_number)\n",
        "            print(f\"{self.name} открыл(а) шторку иллюминатора на месте {self.seat_number}.\")\n",
        "        else:\n",
        "            print(f\"На месте {self.seat_number} нет иллюминатора.\")\n",
        "\n",
        "\n",
        "class Airplane:\n",
        "    \"\"\"\n",
        "    Класс для представления самолета.\n",
        "    \"\"\"\n",
        "    def __init__(self, seat_config: dict, window_seats: list, max_cargo_weight: int) -> None:\n",
        "        self.seat_config = seat_config  # Конфигурация сидений (размеры и возможность откидывания)\n",
        "        self.window_seats = window_seats  # Места с иллюминаторами\n",
        "        self._window_shades = {seat: True for seat in window_seats}  # Шторки иллюминаторов\n",
        "        self.__max_cargo_weight = max_cargo_weight  # Максимальная грузоподъемность (в кг)\n",
        "        self.__current_cargo_weight = 0  # Текущий вес груза\n",
        "        self._engines_on = False  # Состояние двигателей (включены/выключены)\n",
        "        self._flaps_position = 0  # Позиция закрылков (в градусах)\n",
        "\n",
        "    # Публичные методы для взаимодействия с пассажирами\n",
        "    def can_recline(self, seat_number: str) -> bool:\n",
        "        \"\"\"\n",
        "        Проверяет, может ли пассажир на данном месте откинуть спинку сиденья.\n",
        "        \"\"\"\n",
        "        return self.seat_config.get(seat_number, {}).get('can_recline', False)\n",
        "\n",
        "    def has_window_shade(self, seat_number: str) -> bool:\n",
        "        \"\"\"\n",
        "        Проверяет, есть ли у пассажира на данном месте иллюминатор.\n",
        "        \"\"\"\n",
        "        return seat_number in self.window_seats\n",
        "\n",
        "    def open_window_shade(self, seat_number: str) -> None:\n",
        "        \"\"\"\n",
        "        Открывает шторку иллюминатора на указанном месте.\n",
        "        \"\"\"\n",
        "        if self.has_window_shade(seat_number):\n",
        "            self._window_shades[seat_number] = True\n",
        "            print(f\"Шторка на месте {seat_number} открыта.\")\n",
        "\n",
        "    def _start_engines(self) -> None:\n",
        "        \"\"\"\n",
        "        Включает двигатели самолета.\n",
        "        \"\"\"\n",
        "        self._engines_on = True\n",
        "        print(\"Двигатели включены.\")\n",
        "\n",
        "    def _stop_engines(self) -> None:\n",
        "        \"\"\"\n",
        "        Выключает двигатели самолета.\n",
        "        \"\"\"\n",
        "        self._engines_on = False\n",
        "        print(\"Двигатели выключены.\")\n",
        "\n",
        "    def _set_flaps(self, position: int) -> None:\n",
        "        \"\"\"\n",
        "        Устанавливает позицию закрылков.\n",
        "        :param position: Позиция закрылков в градусах\n",
        "        \"\"\"\n",
        "        if 0 <= position <= 30:\n",
        "            self._flaps_position = position\n",
        "            print(f\"Закрылки установлены на {position} градусов.\")\n",
        "        else:\n",
        "            print(\"Недопустимая позиция закрылков.\")\n",
        "\n",
        "    def __take_off(self) -> None:\n",
        "        \"\"\"\n",
        "        Выполняет взлет самолета, если двигатели включены и закрылки установлены правильно.\n",
        "        \"\"\"\n",
        "        if self._engines_on and self._flaps_position >= 10:\n",
        "            print(\"Самолет взлетает.\")\n",
        "        else:\n",
        "            print(\"Взлет невозможен. Проверьте состояние двигателей и позицию закрылков.\")\n",
        "\n",
        "    def __load_cargo(self, weight: int) -> None:\n",
        "        \"\"\"\n",
        "        Загружает груз в самолет, если общий вес не превышает максимальную грузоподъемность.\n",
        "        \"\"\"\n",
        "        if self.__current_cargo_weight + weight <= self.__max_cargo_weight:\n",
        "            self.__current_cargo_weight += weight\n",
        "            print(f\"Загружено {weight} кг груза. Текущий вес груза: {self.__current_cargo_weight} кг.\")\n",
        "        else:\n",
        "            print(\"Груз не может быть загружен, так как превышает максимальную грузоподъемность.\")"
      ],
      "metadata": {
        "id": "78xOBireeFsz"
      },
      "execution_count": null,
      "outputs": []
    },
    {
      "cell_type": "markdown",
      "source": [
        "Чтобы мы могли обращаться к нашим скрытым переменным, давайте напишем методы `set_variables` и `get_variables`.\n",
        "\n",
        "То есть **сэттер и геттер**."
      ],
      "metadata": {
        "id": "7_qJWBRseahb"
      }
    },
    {
      "cell_type": "code",
      "source": [
        "class Triangle:\n",
        "\n",
        "    def __init__(self, x, y, z):\n",
        "        self.__x = x\n",
        "        self.__y = y\n",
        "        self.__z = z\n",
        "\n",
        "    @classmethod\n",
        "    def __check_variables(cls, x, y, z):\n",
        "        if type(x) in [int] and type(y) in [int] and type(z) in [int]:\n",
        "            return True\n",
        "        return False\n",
        "\n",
        "    def set_variables(self, x, y, z):\n",
        "        if self.__check_variables(x, y, z):\n",
        "            self.__x = x\n",
        "            self.__y = y\n",
        "            self.__z = z\n",
        "\n",
        "    def get_variables(self):\n",
        "        return self.__x, self.__y, self.__z"
      ],
      "metadata": {
        "id": "xyhIvmWlejEn"
      },
      "execution_count": 29,
      "outputs": []
    },
    {
      "cell_type": "code",
      "source": [
        "a_triangle = Triangle(1, 2, 3)\n",
        "\n",
        "print(a_triangle.get_variables())"
      ],
      "metadata": {
        "colab": {
          "base_uri": "https://localhost:8080/"
        },
        "id": "uobgAtxkenno",
        "outputId": "e5233e5a-c856-49a8-88c9-5af7b55758b8"
      },
      "execution_count": 30,
      "outputs": [
        {
          "output_type": "stream",
          "name": "stdout",
          "text": [
            "(1, 2, 3)\n"
          ]
        }
      ]
    },
    {
      "cell_type": "markdown",
      "source": [
        "Но есть и другой способ записать наши сеттеры и геттеры.\n",
        "\n",
        "Есть `property` – это метод для обращения к атрибутам объектов. Прелесть в том, что таким образом вы запрещаете напрямую к этим атрибутам обращаться (или же вы хотите вызывать какое-то другое значение на основании значений параметра)\n",
        "\n",
        "property нужно для того, чтобы мы один раз написали наши методы и каждый раз не вспоминали, как они называются.\n",
        "\n",
        "`property(fget, fset, fdel, doc)` – функция, которая принимает 4 аргумента:\n",
        "\n",
        "* `fget` – функция для получения значения\n",
        "\n",
        "* `fset` – функция для изменения значения\n",
        "\n",
        "* `fdel` – функция для удаления значения\n",
        "\n",
        "* `doc` – документация для значения\n",
        "\n",
        "Давайте на примере:"
      ],
      "metadata": {
        "id": "Izvuh33Veo1q"
      }
    },
    {
      "cell_type": "code",
      "source": [
        "class TestProperty:\n",
        "    \"\"\"class example\"\"\"\n",
        "\n",
        "    S = 3\n",
        "    def __init__(self, x):\n",
        "        self._x = x\n",
        "\n",
        "    def set_x(self, x):\n",
        "        self._x = x * x\n",
        "\n",
        "    def get_x(self):\n",
        "        return self._x\n",
        "\n",
        "    def del_x(self):\n",
        "        del self._x #удаляем атрибут\n",
        "\n",
        "    x = property(get_x, set_x, del_x, \"Our precious variable\")\n",
        "\n",
        "a = TestProperty(3)\n",
        "print(a.x)\n",
        "a.x = 5\n",
        "print(a.x)\n",
        "del a.x\n",
        "print(a.x)"
      ],
      "metadata": {
        "colab": {
          "base_uri": "https://localhost:8080/",
          "height": 358
        },
        "id": "-7oDpayiesG0",
        "outputId": "630bfd05-6c12-49a7-8a24-0175993799b0"
      },
      "execution_count": 31,
      "outputs": [
        {
          "output_type": "stream",
          "name": "stdout",
          "text": [
            "3\n",
            "25\n"
          ]
        },
        {
          "output_type": "error",
          "ename": "AttributeError",
          "evalue": "'TestProperty' object has no attribute '_x'",
          "traceback": [
            "\u001b[0;31m---------------------------------------------------------------------------\u001b[0m",
            "\u001b[0;31mAttributeError\u001b[0m                            Traceback (most recent call last)",
            "\u001b[0;32m<ipython-input-31-f65d7be1512d>\u001b[0m in \u001b[0;36m<cell line: 24>\u001b[0;34m()\u001b[0m\n\u001b[1;32m     22\u001b[0m \u001b[0mprint\u001b[0m\u001b[0;34m(\u001b[0m\u001b[0ma\u001b[0m\u001b[0;34m.\u001b[0m\u001b[0mx\u001b[0m\u001b[0;34m)\u001b[0m\u001b[0;34m\u001b[0m\u001b[0;34m\u001b[0m\u001b[0m\n\u001b[1;32m     23\u001b[0m \u001b[0;32mdel\u001b[0m \u001b[0ma\u001b[0m\u001b[0;34m.\u001b[0m\u001b[0mx\u001b[0m\u001b[0;34m\u001b[0m\u001b[0;34m\u001b[0m\u001b[0m\n\u001b[0;32m---> 24\u001b[0;31m \u001b[0mprint\u001b[0m\u001b[0;34m(\u001b[0m\u001b[0ma\u001b[0m\u001b[0;34m.\u001b[0m\u001b[0mx\u001b[0m\u001b[0;34m)\u001b[0m\u001b[0;34m\u001b[0m\u001b[0;34m\u001b[0m\u001b[0m\n\u001b[0m",
            "\u001b[0;32m<ipython-input-31-f65d7be1512d>\u001b[0m in \u001b[0;36mget_x\u001b[0;34m(self)\u001b[0m\n\u001b[1;32m     10\u001b[0m \u001b[0;34m\u001b[0m\u001b[0m\n\u001b[1;32m     11\u001b[0m     \u001b[0;32mdef\u001b[0m \u001b[0mget_x\u001b[0m\u001b[0;34m(\u001b[0m\u001b[0mself\u001b[0m\u001b[0;34m)\u001b[0m\u001b[0;34m:\u001b[0m\u001b[0;34m\u001b[0m\u001b[0;34m\u001b[0m\u001b[0m\n\u001b[0;32m---> 12\u001b[0;31m         \u001b[0;32mreturn\u001b[0m \u001b[0mself\u001b[0m\u001b[0;34m.\u001b[0m\u001b[0m_x\u001b[0m\u001b[0;34m\u001b[0m\u001b[0;34m\u001b[0m\u001b[0m\n\u001b[0m\u001b[1;32m     13\u001b[0m \u001b[0;34m\u001b[0m\u001b[0m\n\u001b[1;32m     14\u001b[0m     \u001b[0;32mdef\u001b[0m \u001b[0mdel_x\u001b[0m\u001b[0;34m(\u001b[0m\u001b[0mself\u001b[0m\u001b[0;34m)\u001b[0m\u001b[0;34m:\u001b[0m\u001b[0;34m\u001b[0m\u001b[0;34m\u001b[0m\u001b[0m\n",
            "\u001b[0;31mAttributeError\u001b[0m: 'TestProperty' object has no attribute '_x'"
          ]
        }
      ]
    },
    {
      "cell_type": "markdown",
      "source": [
        "Аналогично с декораторами:"
      ],
      "metadata": {
        "id": "PZ4ZCTRpe1pn"
      }
    },
    {
      "cell_type": "code",
      "source": [
        "class DecoratorProperty:\n",
        "    \"\"\"class example\"\"\"\n",
        "\n",
        "    S = 3\n",
        "    def __init__(self, x):\n",
        "        self._x = x\n",
        "\n",
        "    @property #аналогия для get\n",
        "    def x(self):\n",
        "        return self._x\n",
        "\n",
        "    @x.setter #аналогия для set\n",
        "    def x(self, x):\n",
        "        self._x = x * x\n",
        "\n",
        "    @x.deleter #аналогия для delete\n",
        "    def x(self):\n",
        "        del self._x #удаляем атрибут\n",
        "\n",
        "a = DecoratorProperty(3)\n",
        "print(a.x)\n",
        "a.x = 5\n",
        "print(a.x)\n",
        "del a.x"
      ],
      "metadata": {
        "colab": {
          "base_uri": "https://localhost:8080/"
        },
        "id": "HW_dtpqJe306",
        "outputId": "954885c3-9f5a-4813-c448-cc992ce33198"
      },
      "execution_count": 33,
      "outputs": [
        {
          "output_type": "stream",
          "name": "stdout",
          "text": [
            "3\n",
            "25\n"
          ]
        }
      ]
    },
    {
      "cell_type": "markdown",
      "source": [
        "### Дескрипторы"
      ],
      "metadata": {
        "id": "ym0NTuurfERK"
      }
    },
    {
      "cell_type": "markdown",
      "source": [
        "Мы более-менее знаем, как задавать dunder методы, умеем создавать собственные методы и каким-то образом играться с нашими атрибутами (ограничивать, делать их скрытыми etc).\n",
        "\n",
        "Но одна вещь остается загадкой: а можем ли мы еще как-то менять в общем задавание и вывод наших атрибутов?\n",
        "\n",
        "Что имеется в виду: мы с вами знаем setter-getter-property, но он позволяет сделать это, ну, одному значению. А допустим, что мы хотим так для всего сделать? Не писать же нам каждый раз это все\n",
        "\n",
        "Вот за это, на самом деле, отвечают так называемые дескрипторы. Что это такое?\n",
        "\n",
        "Три метода:\n",
        "\n",
        "* `__get__`\n",
        "\n",
        "* ` __set__`\n",
        "\n",
        "* ` __delete__`\n",
        "\n",
        "Если мы определям один из методов, то наш класс сразу становится дескриптором. В чем прикол?"
      ],
      "metadata": {
        "id": "O6iCaMPufGeY"
      }
    },
    {
      "cell_type": "markdown",
      "source": [
        "Давайте вспомним, как у нас идет поиск и задание значений внутри объекта:\n",
        "\n",
        "```\n",
        "a.x -> a.__dict__['x']\n",
        "# обращаемся к dict и ищем нужное нам значение (если в слотах, то просто a['x'])\n",
        "```\n",
        "\n",
        "Что происходит в дескрипторе\n",
        "\n",
        "```\n",
        "a.x -> a.__get__('x')\n",
        "# непосредственно обращаемся к методу get\n",
        "```"
      ],
      "metadata": {
        "id": "9P_glyoPfN4T"
      }
    },
    {
      "cell_type": "code",
      "source": [
        "from operator import attrgetter\n",
        "\n",
        "class CustomProperty(object):\n",
        "    def __init__(self, attr):\n",
        "        self.attr = attr\n",
        "\n",
        "    def __get__(self, ins, type):\n",
        "        if ins is None:\n",
        "            return self\n",
        "        else:\n",
        "            return attrgetter(self.attr)(ins)\n",
        "\n",
        "    def __set__(self, ins, value):\n",
        "        value /= 2\n",
        "        setattr(ins, self.attr, value)\n",
        "\n",
        "class C:\n",
        "    def __init__(self, x):\n",
        "        self.__x = x\n",
        "\n",
        "    x = CustomProperty('__x')"
      ],
      "metadata": {
        "id": "z9FQw7eafeMZ"
      },
      "execution_count": 37,
      "outputs": []
    },
    {
      "cell_type": "code",
      "source": [
        "a = C(15)\n",
        "a.x = 12\n",
        "a.x"
      ],
      "metadata": {
        "colab": {
          "base_uri": "https://localhost:8080/"
        },
        "id": "7NwF10mdfhdD",
        "outputId": "6b608bc4-5051-4196-fc25-84193e2ac0e9"
      },
      "execution_count": 38,
      "outputs": [
        {
          "output_type": "execute_result",
          "data": {
            "text/plain": [
              "6.0"
            ]
          },
          "metadata": {},
          "execution_count": 38
        }
      ]
    },
    {
      "cell_type": "markdown",
      "source": [
        "### Контекстные менеджеры"
      ],
      "metadata": {
        "id": "9LS7sd0kyL6N"
      }
    },
    {
      "cell_type": "markdown",
      "source": [
        "Что есть контекстный менеджер? Давайте разберемся на примере:"
      ],
      "metadata": {
        "id": "GrWOQnj-yO6I"
      }
    },
    {
      "cell_type": "code",
      "source": [
        "with open(\"read.txt\", \"w\") as f: # открой файл, сохрани в f\n",
        "    f.write(\"15\")\n",
        "# закрой f\n",
        "\n",
        "!cat read.txt"
      ],
      "metadata": {
        "colab": {
          "base_uri": "https://localhost:8080/"
        },
        "id": "yhbTXbvuyrAj",
        "outputId": "498e93db-4391-478d-d0be-430f6109a09c"
      },
      "execution_count": null,
      "outputs": [
        {
          "output_type": "stream",
          "name": "stdout",
          "text": [
            "15"
          ]
        }
      ]
    },
    {
      "cell_type": "markdown",
      "source": [
        "Как мы говорили, что с помощью with можно не закрывать файлы (он откроет внутри, что-то сделает и закроет). Вот как раз вот это поведение и есть контекстный менеджер!\n",
        "\n",
        "С его помощью можно использовать with, открыть-запустить что-то внутри и затем после выхода из with что-то еще с этим сделать"
      ],
      "metadata": {
        "id": "ceGf-wZZyzI2"
      }
    },
    {
      "cell_type": "markdown",
      "source": [
        "Остается вопрос только а как это сделать внутри класса?\n",
        "\n",
        "Ответ просто: еще 2 dunder метода)\n",
        "\n",
        "__ enter __\n",
        "\n",
        "__ exit __"
      ],
      "metadata": {
        "id": "ym6Am1ftGNAn"
      }
    },
    {
      "cell_type": "code",
      "source": [
        "class ContextManager():\n",
        "    def __init__(self):\n",
        "        print('init method called')\n",
        "\n",
        "    def __enter__(self):\n",
        "        print('enter method called')\n",
        "        return self\n",
        "\n",
        "    def __exit__(self, exc_type, exc_value, exc_traceback):\n",
        "        print('exit method called')\n",
        "\n",
        "with ContextManager() as manager: # Здесь происходит init,а затем enter (входим в контекст)\n",
        "    print('with statement block')\n",
        "\n",
        "# Здесь происходит exit, выходим из контекста"
      ],
      "metadata": {
        "colab": {
          "base_uri": "https://localhost:8080/"
        },
        "id": "byMSVuoVGKsW",
        "outputId": "f23e7a14-239c-410b-cfce-157294020e0f"
      },
      "execution_count": null,
      "outputs": [
        {
          "output_type": "stream",
          "name": "stdout",
          "text": [
            "init method called\n",
            "enter method called\n",
            "with statement block\n",
            "exit method called\n"
          ]
        }
      ]
    },
    {
      "cell_type": "markdown",
      "source": [
        "Хорошо, видим, что в __ exit __ как-то больно много параметров прописано. Что это за покемоны?\n",
        "\n",
        "Есть 3 параметра, который принимаем в себя exit:\n",
        "\n",
        "* exc_type - ошибки, которые были пойманы за время работы\n",
        "\n",
        "* exc_value - значения ошибок (помним, например, текст)\n",
        "\n",
        "* exc_traceback - объект с тем, где это было (чаще всего не используется)"
      ],
      "metadata": {
        "id": "zlHANSxeG6MU"
      }
    },
    {
      "cell_type": "code",
      "source": [
        "class ContextManager():\n",
        "    def __init__(self):\n",
        "        print('init method called')\n",
        "\n",
        "    def __enter__(self):\n",
        "        print('enter method called')\n",
        "        return self\n",
        "\n",
        "    def __exit__(self, exc_type, exc_value, exc_traceback):\n",
        "        print(exc_type)\n",
        "        print(exc_value)\n",
        "        print(exc_traceback)\n",
        "        print('exit method called')\n",
        "\n",
        "with ContextManager() as manager: # Здесь происходит init,а затем enter (входим в контекст)\n",
        "    w = open(\"new_file.txt\", 'r')\n",
        "    print('with statement block')"
      ],
      "metadata": {
        "colab": {
          "base_uri": "https://localhost:8080/"
        },
        "id": "PYEMF_XfHXWW",
        "outputId": "ffe06d76-3438-4415-df12-c4232154c23b"
      },
      "execution_count": null,
      "outputs": [
        {
          "output_type": "stream",
          "name": "stdout",
          "text": [
            "init method called\n",
            "enter method called\n",
            "<class 'FileNotFoundError'>\n",
            "[Errno 2] No such file or directory: 'new_file.txt'\n",
            "<traceback object at 0x7f41a19cab90>\n",
            "exit method called\n"
          ]
        },
        {
          "output_type": "error",
          "ename": "FileNotFoundError",
          "evalue": "ignored",
          "traceback": [
            "\u001b[0;31m---------------------------------------------------------------------------\u001b[0m",
            "\u001b[0;31mFileNotFoundError\u001b[0m                         Traceback (most recent call last)",
            "\u001b[0;32m<ipython-input-17-0ef4638841f0>\u001b[0m in \u001b[0;36m<module>\u001b[0;34m\u001b[0m\n\u001b[1;32m     14\u001b[0m \u001b[0;34m\u001b[0m\u001b[0m\n\u001b[1;32m     15\u001b[0m \u001b[0;32mwith\u001b[0m \u001b[0mContextManager\u001b[0m\u001b[0;34m(\u001b[0m\u001b[0;34m)\u001b[0m \u001b[0;32mas\u001b[0m \u001b[0mmanager\u001b[0m\u001b[0;34m:\u001b[0m \u001b[0;31m# Здесь происходит init,а затем enter (входим в контекст)\u001b[0m\u001b[0;34m\u001b[0m\u001b[0;34m\u001b[0m\u001b[0m\n\u001b[0;32m---> 16\u001b[0;31m     \u001b[0mw\u001b[0m \u001b[0;34m=\u001b[0m \u001b[0mopen\u001b[0m\u001b[0;34m(\u001b[0m\u001b[0;34m\"new_file.txt\"\u001b[0m\u001b[0;34m,\u001b[0m \u001b[0;34m'r'\u001b[0m\u001b[0;34m)\u001b[0m\u001b[0;34m\u001b[0m\u001b[0;34m\u001b[0m\u001b[0m\n\u001b[0m\u001b[1;32m     17\u001b[0m     \u001b[0mprint\u001b[0m\u001b[0;34m(\u001b[0m\u001b[0;34m'with statement block'\u001b[0m\u001b[0;34m)\u001b[0m\u001b[0;34m\u001b[0m\u001b[0;34m\u001b[0m\u001b[0m\n",
            "\u001b[0;31mFileNotFoundError\u001b[0m: [Errno 2] No such file or directory: 'new_file.txt'"
          ]
        }
      ]
    },
    {
      "cell_type": "markdown",
      "source": [
        "Выдал ошибку, давайте обработаем:"
      ],
      "metadata": {
        "id": "enT1LsqzIBkF"
      }
    },
    {
      "cell_type": "code",
      "source": [
        "class ContextManager():\n",
        "    def __init__(self):\n",
        "        print('init method called')\n",
        "\n",
        "    def __enter__(self):\n",
        "        print('enter method called')\n",
        "        return self\n",
        "\n",
        "    def __exit__(self, exc_type, exc_value, exc_traceback):\n",
        "        if exc_type is FileNotFoundError:\n",
        "            print('exit method called')\n",
        "            return True\n",
        "\n",
        "with ContextManager() as manager: # Здесь происходит init,а затем enter (входим в контекст)\n",
        "    w = open(\"new_file.txt\", 'r') # __exit__ -> я устал, я мухожук\n",
        "    print('with statement block')"
      ],
      "metadata": {
        "colab": {
          "base_uri": "https://localhost:8080/"
        },
        "id": "no40ns5pIFp-",
        "outputId": "269d68e5-0fbf-4a1a-d37f-5e0f018742cc"
      },
      "execution_count": null,
      "outputs": [
        {
          "output_type": "stream",
          "name": "stdout",
          "text": [
            "init method called\n",
            "enter method called\n",
            "exit method called\n"
          ]
        }
      ]
    },
    {
      "cell_type": "markdown",
      "source": [
        "Попробуем на реальном примере (зачем он вообще нужен - ну, например, для подключения ко всяким БД)"
      ],
      "metadata": {
        "id": "QVlvt6skJdNQ"
      }
    },
    {
      "cell_type": "code",
      "source": [
        "from pymongo import MongoClient\n",
        "\n",
        "class MongoDBConnectionManager():\n",
        "    def __init__(self, hostname, port):\n",
        "        self.hostname = hostname\n",
        "        self.port = port\n",
        "        self.connection = None\n",
        "\n",
        "    def __enter__(self):\n",
        "        self.connection = MongoClient(self.hostname, self.port)\n",
        "        return self\n",
        "\n",
        "    def __exit__(self, exc_type, exc_value, exc_traceback):\n",
        "        self.connection.close()\n",
        "\n",
        "with MongoDBConnectionManager('localhost', 27017) as mongo:\n",
        "    collection = mongo.connection.SampleDb.test\n",
        "    data = collection.find({'_id': 1})\n",
        "# exit"
      ],
      "metadata": {
        "id": "xTEVyx0aIwRM"
      },
      "execution_count": null,
      "outputs": []
    },
    {
      "cell_type": "markdown",
      "source": [
        "## DataClass"
      ],
      "metadata": {
        "id": "BwiKavxPVBzt"
      }
    },
    {
      "cell_type": "markdown",
      "source": [
        "Иногда нам нужны классы, которые по существу представляют из себя словари (например, какие-то константные значения etc)\n",
        "\n",
        "Для этого отлично подойдет [DataClass](https://docs.python.org/3/library/dataclasses.html) - тип классов, который из себя представляет словарик, в виде которого мы и можем хранить предметы"
      ],
      "metadata": {
        "id": "3eXRfaVoVHr9"
      }
    },
    {
      "cell_type": "code",
      "source": [
        "from dataclasses import dataclass, field\n",
        "\n",
        "@dataclass\n",
        "class Item:\n",
        "    \"\"\"Class for keeping track of an item in inventory.\"\"\"\n",
        "    name: str\n",
        "    unit_price: float\n",
        "    quantity_on_hand: list\n",
        "\n",
        "    def total_cost(self):\n",
        "        return self.unit_price * self.quantity_on_hand"
      ],
      "metadata": {
        "id": "le3-dCJeViaF"
      },
      "execution_count": null,
      "outputs": []
    },
    {
      "cell_type": "code",
      "source": [
        "k = Item(15, 13.0, [1,2,3])\n",
        "print(k)"
      ],
      "metadata": {
        "colab": {
          "base_uri": "https://localhost:8080/"
        },
        "id": "ZatXHd8pBfJX",
        "outputId": "0236904c-e4bc-45ec-cb1e-22088bd8d284"
      },
      "execution_count": null,
      "outputs": [
        {
          "output_type": "stream",
          "name": "stdout",
          "text": [
            "Item(name=15, unit_price=13.0)\n"
          ]
        }
      ]
    },
    {
      "cell_type": "markdown",
      "source": [
        "Смотрите, как отличается от обычного класс. На самом деле это просто ЕЩЕ одна обертка над классом, которая самостоятельно строит init, repr, str etc"
      ],
      "metadata": {
        "id": "dEelbImMWkIf"
      }
    },
    {
      "cell_type": "code",
      "source": [
        "a = Item(\"cool\", 15.0)\n",
        "print(a)"
      ],
      "metadata": {
        "colab": {
          "base_uri": "https://localhost:8080/"
        },
        "id": "9Ug841xNW0rX",
        "outputId": "0df1e5c6-ffef-4fd6-f680-e68b494846c8"
      },
      "execution_count": null,
      "outputs": [
        {
          "output_type": "stream",
          "name": "stdout",
          "text": [
            "Item(name='cool', unit_price=15.0, quantity_on_hand=0)\n"
          ]
        }
      ]
    },
    {
      "cell_type": "markdown",
      "source": [
        "Но если он сам делает init, как делать наследование? Ну, есть post_init!"
      ],
      "metadata": {
        "id": "Uy0aLE5hXU5l"
      }
    },
    {
      "cell_type": "code",
      "source": [
        "@dataclass\n",
        "class Rectangle:\n",
        "    height: float\n",
        "    width: float\n",
        "\n",
        "@dataclass\n",
        "class Square(Rectangle):\n",
        "    side: float\n",
        "\n",
        "    def __post_init__(self): # по сути добавление к __init__\n",
        "        super().__init__(self.side, self.side)"
      ],
      "metadata": {
        "id": "M83lvvlQXa1f"
      },
      "execution_count": null,
      "outputs": []
    },
    {
      "cell_type": "markdown",
      "source": [
        "Окей, с простыми типами все понятно. А если мы хотим добавить список?"
      ],
      "metadata": {
        "id": "xaGMkKxGXwog"
      }
    },
    {
      "cell_type": "code",
      "source": [
        "from typing import List\n",
        "\n",
        "@dataclass\n",
        "class Item:\n",
        "    \"\"\"\n",
        "    Parameters:\n",
        "        name: string, descr\n",
        "        unit_price: float, sdfkeoifkeopf\n",
        "    Class for keeping track of an item in inventory.\n",
        "\n",
        "    \"\"\"\n",
        "    name: str\n",
        "    unit_price: float\n",
        "    depend: List[Rectangle]\n",
        "\n",
        "a = Rectangle(15, 20)\n",
        "b = Item(\"b\", 17, [a])\n",
        "print(b)"
      ],
      "metadata": {
        "colab": {
          "base_uri": "https://localhost:8080/"
        },
        "id": "GADaFQTYX2i_",
        "outputId": "8851aa8c-0b19-4a9d-8dae-6d55bfcc9e9b"
      },
      "execution_count": null,
      "outputs": [
        {
          "output_type": "stream",
          "name": "stdout",
          "text": [
            "Item(name='b', unit_price=17, depend=[Rectangle(height=15, width=20)])\n"
          ]
        }
      ]
    },
    {
      "cell_type": "markdown",
      "source": [
        "Опа, что за фигня, что за обозначения?\n",
        "\n",
        "А это все Typing! Которым по-хорошему надо пользоваться **всегда**"
      ],
      "metadata": {
        "id": "CPtdd0p9gD5p"
      }
    },
    {
      "cell_type": "markdown",
      "source": [
        "## Typing"
      ],
      "metadata": {
        "id": "w6PjvWBOgPDn"
      }
    },
    {
      "cell_type": "markdown",
      "source": [
        "Ссылка на документацию: [Тык](https://docs.python.org/3/library/typing.html)\n",
        "\n",
        "Главный плюс Pythonа - это динамическая типизация (мы не говорим, какой тип должен быть в переменной, он сам это понимает)\n",
        "\n",
        "Один из больших минусов Python - динамическая типизация (читаешь код, не понимаешь, что ожидаем, делаем ошибки)\n",
        "\n",
        "Как помочь с этим? Правильно, указывать тип! (Особенно полезно в класса и функциях)\n",
        "\n",
        "**WARNING:** сам по себе от этого Python не меняется, это сахар. Многие IDE уже умеют ловить по Typing какие-то проблемы, но это дополнительные наработки, с точки зрения Python вообще пофиг\n",
        "\n"
      ],
      "metadata": {
        "id": "JxF22_bKglds"
      }
    },
    {
      "cell_type": "code",
      "source": [
        "import typing\n",
        "\n",
        "a: int = 5 ## Обозначили, что тут лежит int\n",
        "print(a)"
      ],
      "metadata": {
        "colab": {
          "base_uri": "https://localhost:8080/"
        },
        "id": "ETjpGLyFiMXy",
        "outputId": "81f3e41a-d114-46fc-fd15-deba0d0cdb55"
      },
      "execution_count": 39,
      "outputs": [
        {
          "output_type": "stream",
          "name": "stdout",
          "text": [
            "5\n"
          ]
        }
      ]
    },
    {
      "cell_type": "code",
      "source": [
        "a: str = 5 ## Обозначили, что тут лежит str (и положили число, гении)\n",
        "print(a) ## Все равно отработает"
      ],
      "metadata": {
        "colab": {
          "base_uri": "https://localhost:8080/"
        },
        "id": "cbRj3HJeiPEE",
        "outputId": "27c9d4f8-0f26-478c-d4a5-b66dc5037de0"
      },
      "execution_count": 40,
      "outputs": [
        {
          "output_type": "stream",
          "name": "stdout",
          "text": [
            "5\n"
          ]
        }
      ]
    },
    {
      "cell_type": "markdown",
      "source": [
        "Базовая конструкция:\n",
        "\n",
        "\n",
        "\n",
        "```\n",
        "<variable>: <type> [= value] (последнее опционально) - для обозоначения переменных\n",
        "\n",
        "def f() -> <type>  - для обозначения функции\n",
        "```\n",
        "\n"
      ],
      "metadata": {
        "id": "61WXcbN7igph"
      }
    },
    {
      "cell_type": "code",
      "source": [
        "def f(number: int, value: int) -> float:\n",
        "    return number / value\n",
        "\n",
        "def g(number: int, value: int) -> None: ## тут ничего не ожидаем\n",
        "    print(number / value)\n",
        "\n",
        "print(f(5, 12))\n",
        "g(5, 1)"
      ],
      "metadata": {
        "colab": {
          "base_uri": "https://localhost:8080/"
        },
        "id": "h1UvSWcHi1U_",
        "outputId": "e790539f-f961-4de9-e340-37824bc613fc"
      },
      "execution_count": 42,
      "outputs": [
        {
          "output_type": "stream",
          "name": "stdout",
          "text": [
            "0.4166666666666667\n",
            "5.0\n"
          ]
        }
      ]
    },
    {
      "cell_type": "markdown",
      "source": [
        "Чуть-чуть сложнее (с классами):"
      ],
      "metadata": {
        "id": "2zgpDhxYjkJP"
      }
    },
    {
      "cell_type": "code",
      "source": [
        "class Book:\n",
        "    title: str ##обозначили, что элемент будет строкой (компилятор этот момент пропустит, пока не инициализировали, толка нет)\n",
        "    author: str\n",
        "\n",
        "    def __init__(self, title: str, author: str) -> None: ## для self мы не указываем никогда тип\n",
        "        self.title = title\n",
        "        self.author = author\n",
        "\n",
        "b: Book = Book(title='Fahrenheit 451', author='Bradbury') ## Тип - класс\n",
        "print(b.title)"
      ],
      "metadata": {
        "colab": {
          "base_uri": "https://localhost:8080/"
        },
        "id": "JhRMyPfFjf7C",
        "outputId": "226543fd-5254-4180-aeb5-859889daf15f"
      },
      "execution_count": 45,
      "outputs": [
        {
          "output_type": "stream",
          "name": "stdout",
          "text": [
            "Fahrenheit 451\n"
          ]
        }
      ]
    },
    {
      "cell_type": "markdown",
      "source": [
        "### Optional, Any, Union"
      ],
      "metadata": {
        "id": "0j5d3_qYj91r"
      }
    },
    {
      "cell_type": "markdown",
      "source": [
        "Не всегда есть вариант, что в переменной лежит что-то (например, там может лежать None)\n",
        "\n",
        "Что же делать? Просто int его не обозначить... Для этого есть Optional!\n",
        "\n",
        "* Optional - либо None, либо наш тип"
      ],
      "metadata": {
        "id": "fGuHvR_rkBRr"
      }
    },
    {
      "cell_type": "code",
      "source": [
        "from typing import Optional\n",
        "\n",
        "a: Optional[int]\n",
        "a = None\n",
        "print(a)"
      ],
      "metadata": {
        "colab": {
          "base_uri": "https://localhost:8080/"
        },
        "id": "e6trEIQ-kA2M",
        "outputId": "057eab3e-ae4d-41f1-a426-4fb0c990c9b1"
      },
      "execution_count": 47,
      "outputs": [
        {
          "output_type": "stream",
          "name": "stdout",
          "text": [
            "None\n"
          ]
        }
      ]
    },
    {
      "cell_type": "markdown",
      "source": [
        "А иногда нам плевать, какой тип находится в переменной, что же тогда сказать? Правильно, Any!\n",
        "\n",
        "* Any - вообще что угодно"
      ],
      "metadata": {
        "id": "Q2bQlc_EkcfX"
      }
    },
    {
      "cell_type": "code",
      "source": [
        "from typing import Any\n",
        "\n",
        "a: Any\n",
        "a = \"abc\"\n",
        "print(a)\n",
        "a = None\n",
        "print(a)"
      ],
      "metadata": {
        "colab": {
          "base_uri": "https://localhost:8080/"
        },
        "id": "wtx1G-Haknpe",
        "outputId": "c25474ea-222b-4486-a16d-0577b2f86110"
      },
      "execution_count": 49,
      "outputs": [
        {
          "output_type": "stream",
          "name": "stdout",
          "text": [
            "abc\n",
            "None\n"
          ]
        }
      ]
    },
    {
      "cell_type": "markdown",
      "source": [
        "Третий вариант - нам не пофиг, но типов несколько (скажем, может быть как int, так и float)\n",
        "\n",
        "Тогда используем Union!\n",
        "\n",
        "* Union[type_1, type_2, ...] - возможно несколько типов"
      ],
      "metadata": {
        "id": "_ovfaCL_k4to"
      }
    },
    {
      "cell_type": "code",
      "source": [
        "from typing import Union\n",
        "\n",
        "a: Union[float, int]\n",
        "a = 1\n",
        "print(a)"
      ],
      "metadata": {
        "colab": {
          "base_uri": "https://localhost:8080/"
        },
        "id": "Xh7rwe44lEoB",
        "outputId": "4d59dd6f-9037-40e4-8034-c1b7dd09d96c"
      },
      "execution_count": 50,
      "outputs": [
        {
          "output_type": "stream",
          "name": "stdout",
          "text": [
            "1\n"
          ]
        }
      ]
    },
    {
      "cell_type": "markdown",
      "source": [
        "### Списки, Множества, Словари, Кортежи"
      ],
      "metadata": {
        "id": "Q_NKt3SCqEHT"
      }
    },
    {
      "cell_type": "code",
      "source": [
        "from typing import List, Set, Dict, FrozenSet, Tuple\n",
        "\n",
        "a: List[int] = [1,2,3] #сколько угодно, тут все просто\n",
        "print(a)\n",
        "b: Tuple[int] = (1,) #1 элемент всего, если несколько, то надо перечислять\n",
        "c: Tuple[int, str] = (1, \"hi\")\n",
        "d: Tuple[int, ...] = (1, 2, 3) ##неизвестное число одонтипных элементов\n",
        "print(b, c, d)\n",
        "e: Dict[str, str] = {\"a\": \"b\"} #отдельно ключи, отдельно значения\n",
        "print(e)"
      ],
      "metadata": {
        "colab": {
          "base_uri": "https://localhost:8080/"
        },
        "id": "GRmXYXfSqHud",
        "outputId": "9f03341b-ebdb-4f87-cf28-cd29c52c8d6c"
      },
      "execution_count": 54,
      "outputs": [
        {
          "output_type": "stream",
          "name": "stdout",
          "text": [
            "[1, 2, 3]\n",
            "(1,) (1, 'hi') (1, 2, 3)\n",
            "{'a': 'b'}\n"
          ]
        }
      ]
    },
    {
      "cell_type": "markdown",
      "source": [
        "### Итераторы, генераторы, функции"
      ],
      "metadata": {
        "id": "_LWHdns9sLM0"
      }
    },
    {
      "cell_type": "markdown",
      "source": [
        "Тут опять-таки база: Iterable или же Generator"
      ],
      "metadata": {
        "id": "S4W2FcAgumHF"
      }
    },
    {
      "cell_type": "code",
      "source": [
        "from typing import Iterable, Generator\n",
        "\n",
        "def generate_two() -> Iterable[int]:\n",
        "    yield 1\n",
        "    yield 2"
      ],
      "metadata": {
        "id": "HWSeNjitu3R7"
      },
      "execution_count": null,
      "outputs": []
    },
    {
      "cell_type": "markdown",
      "source": [
        "С функциями чуть-чуть сложнее: Callable[[ArgTypes], ReturnType] - указываем типы аргументов и далее какой тип возвращает (единственное, что если у нас сколько угодно аргументов, то указывается только троеточие)"
      ],
      "metadata": {
        "id": "4nEyriU0vE16"
      }
    },
    {
      "cell_type": "code",
      "source": [
        "from typing import Callable\n",
        "\n",
        "def f() -> None:\n",
        "    print(\"This is string\")\n",
        "\n",
        "def render_hundreds(num: int) -> str:\n",
        "    return str(num // 100)\n",
        "\n",
        "def app(f: Callable[[], None], renderer: Callable[[int], str]): #  без именованных, к сожалению\n",
        "    f()\n",
        "    num = 12345\n",
        "    print(renderer(num))\n",
        "\n",
        "app(f, render_hundreds)"
      ],
      "metadata": {
        "colab": {
          "base_uri": "https://localhost:8080/"
        },
        "id": "vt-ywZMkvhFN",
        "outputId": "725acead-7c30-49c8-ecd9-1400b453fb98"
      },
      "execution_count": 56,
      "outputs": [
        {
          "output_type": "stream",
          "name": "stdout",
          "text": [
            "This is string\n",
            "123\n"
          ]
        }
      ]
    },
    {
      "cell_type": "code",
      "source": [
        "print(app.__annotations__) # Если говорить о том, где мы вообще что-то можем увидеть, то вуаля, в аннотации к функции"
      ],
      "metadata": {
        "colab": {
          "base_uri": "https://localhost:8080/"
        },
        "id": "1NEUX-AGySWe",
        "outputId": "f5ed7655-786b-4fca-ba0d-6daf96260e27"
      },
      "execution_count": 63,
      "outputs": [
        {
          "output_type": "stream",
          "name": "stdout",
          "text": [
            "{'f': typing.Callable[[], NoneType], 'renderer': typing.Callable[[int], str]}\n"
          ]
        }
      ]
    },
    {
      "cell_type": "markdown",
      "source": [
        "Последнее, про что расскажем - про дженерик типы. В некоторых случаях мы генерируем что-то, что имеет один тип, но этот тип может меняться (подумайте о всяких факториях). В данном случае нужно иметь нечто, что говорит: вот это все какой-то тип, он он один. Этот уровень абстракции можно достичь с помощью TypeVar:"
      ],
      "metadata": {
        "id": "CpNK9HqjxKBM"
      }
    },
    {
      "cell_type": "code",
      "source": [
        "from typing import TypeVar, Generic\n",
        "\n",
        "\n",
        "T = TypeVar(\"T\", float, int) # Можем задать ограничения\n",
        "\n",
        "class LinkedList(Generic[T]): # Создаем дженерик\n",
        "    data: T\n",
        "    next: \"LinkedList[T]\"\n",
        "\n",
        "    def __init__(self, data: T):\n",
        "        self.data = data\n",
        "\n",
        "head_int: LinkedList[int] = LinkedList(1)\n",
        "head_int.next = LinkedList(2)"
      ],
      "metadata": {
        "id": "KILYWeL6xlQq"
      },
      "execution_count": 64,
      "outputs": []
    },
    {
      "cell_type": "markdown",
      "source": [
        "## Pydantic"
      ],
      "metadata": {
        "id": "MR5x7KbggRoE"
      }
    },
    {
      "cell_type": "markdown",
      "source": [
        "Чуть-чуть поговорили про Typing, но как я уже говорил, для Python в чистом виде это все ничего, его это не особо волнует. Вот бы была библиотека, которая позволяет вас наказывать за неправильные типы...\n",
        "Вот для этого и нужен [Pydantic](https://docs.pydantic.dev/latest/)"
      ],
      "metadata": {
        "id": "KbeF19ySgmC1"
      }
    },
    {
      "cell_type": "code",
      "source": [
        "!pip install pydantic"
      ],
      "metadata": {
        "colab": {
          "base_uri": "https://localhost:8080/"
        },
        "id": "4QBmCaut0C7Q",
        "outputId": "16022d0e-e032-4823-c7fb-dfa6624732a4"
      },
      "execution_count": 65,
      "outputs": [
        {
          "output_type": "stream",
          "name": "stdout",
          "text": [
            "Requirement already satisfied: pydantic in /usr/local/lib/python3.10/dist-packages (2.9.1)\n",
            "Requirement already satisfied: annotated-types>=0.6.0 in /usr/local/lib/python3.10/dist-packages (from pydantic) (0.7.0)\n",
            "Requirement already satisfied: pydantic-core==2.23.3 in /usr/local/lib/python3.10/dist-packages (from pydantic) (2.23.3)\n",
            "Requirement already satisfied: typing-extensions>=4.6.1 in /usr/local/lib/python3.10/dist-packages (from pydantic) (4.12.2)\n"
          ]
        }
      ]
    },
    {
      "cell_type": "code",
      "source": [
        "from typing import List\n",
        "from pydantic import BaseModel\n",
        "\n",
        "class Fridge(BaseModel):\n",
        "    items: List[str]\n",
        "\n",
        "def toUpper(x: str):\n",
        "    return x.capitalize()\n",
        "\n",
        "def get_stuff(item:str, fridge:Fridge):\n",
        "    fridge.items.append(item)\n",
        "    return list(map(toUpper, fridge.items))\n",
        "\n",
        "print(get_stuff(item=\"orange\", fridge=Fridge(items={\"apple\", 1,  \"pear\"})))"
      ],
      "metadata": {
        "colab": {
          "base_uri": "https://localhost:8080/",
          "height": 376
        },
        "id": "obDBocO80GD_",
        "outputId": "178ff067-4d3b-4262-8734-b7c3a34ea566"
      },
      "execution_count": 70,
      "outputs": [
        {
          "output_type": "error",
          "ename": "ValidationError",
          "evalue": "1 validation error for Fridge\nitems.0\n  Input should be a valid string [type=string_type, input_value=1, input_type=int]\n    For further information visit https://errors.pydantic.dev/2.9/v/string_type",
          "traceback": [
            "\u001b[0;31m---------------------------------------------------------------------------\u001b[0m",
            "\u001b[0;31mValidationError\u001b[0m                           Traceback (most recent call last)",
            "\u001b[0;32m<ipython-input-70-c49c4f4367fc>\u001b[0m in \u001b[0;36m<cell line: 14>\u001b[0;34m()\u001b[0m\n\u001b[1;32m     12\u001b[0m     \u001b[0;32mreturn\u001b[0m \u001b[0mlist\u001b[0m\u001b[0;34m(\u001b[0m\u001b[0mmap\u001b[0m\u001b[0;34m(\u001b[0m\u001b[0mtoUpper\u001b[0m\u001b[0;34m,\u001b[0m \u001b[0mfridge\u001b[0m\u001b[0;34m.\u001b[0m\u001b[0mitems\u001b[0m\u001b[0;34m)\u001b[0m\u001b[0;34m)\u001b[0m\u001b[0;34m\u001b[0m\u001b[0;34m\u001b[0m\u001b[0m\n\u001b[1;32m     13\u001b[0m \u001b[0;34m\u001b[0m\u001b[0m\n\u001b[0;32m---> 14\u001b[0;31m \u001b[0mprint\u001b[0m\u001b[0;34m(\u001b[0m\u001b[0mget_stuff\u001b[0m\u001b[0;34m(\u001b[0m\u001b[0mitem\u001b[0m\u001b[0;34m=\u001b[0m\u001b[0;34m\"orange\"\u001b[0m\u001b[0;34m,\u001b[0m \u001b[0mfridge\u001b[0m\u001b[0;34m=\u001b[0m\u001b[0mFridge\u001b[0m\u001b[0;34m(\u001b[0m\u001b[0mitems\u001b[0m\u001b[0;34m=\u001b[0m\u001b[0;34m{\u001b[0m\u001b[0;34m\"apple\"\u001b[0m\u001b[0;34m,\u001b[0m \u001b[0;36m1\u001b[0m\u001b[0;34m,\u001b[0m  \u001b[0;34m\"pear\"\u001b[0m\u001b[0;34m}\u001b[0m\u001b[0;34m)\u001b[0m\u001b[0;34m)\u001b[0m\u001b[0;34m)\u001b[0m\u001b[0;34m\u001b[0m\u001b[0;34m\u001b[0m\u001b[0m\n\u001b[0m",
            "\u001b[0;32m/usr/local/lib/python3.10/dist-packages/pydantic/main.py\u001b[0m in \u001b[0;36m__init__\u001b[0;34m(self, **data)\u001b[0m\n\u001b[1;32m    207\u001b[0m         \u001b[0;31m# `__tracebackhide__` tells pytest and some other tools to omit this function from tracebacks\u001b[0m\u001b[0;34m\u001b[0m\u001b[0;34m\u001b[0m\u001b[0m\n\u001b[1;32m    208\u001b[0m         \u001b[0m__tracebackhide__\u001b[0m \u001b[0;34m=\u001b[0m \u001b[0;32mTrue\u001b[0m\u001b[0;34m\u001b[0m\u001b[0;34m\u001b[0m\u001b[0m\n\u001b[0;32m--> 209\u001b[0;31m         \u001b[0mvalidated_self\u001b[0m \u001b[0;34m=\u001b[0m \u001b[0mself\u001b[0m\u001b[0;34m.\u001b[0m\u001b[0m__pydantic_validator__\u001b[0m\u001b[0;34m.\u001b[0m\u001b[0mvalidate_python\u001b[0m\u001b[0;34m(\u001b[0m\u001b[0mdata\u001b[0m\u001b[0;34m,\u001b[0m \u001b[0mself_instance\u001b[0m\u001b[0;34m=\u001b[0m\u001b[0mself\u001b[0m\u001b[0;34m)\u001b[0m\u001b[0;34m\u001b[0m\u001b[0;34m\u001b[0m\u001b[0m\n\u001b[0m\u001b[1;32m    210\u001b[0m         \u001b[0;32mif\u001b[0m \u001b[0mself\u001b[0m \u001b[0;32mis\u001b[0m \u001b[0;32mnot\u001b[0m \u001b[0mvalidated_self\u001b[0m\u001b[0;34m:\u001b[0m\u001b[0;34m\u001b[0m\u001b[0;34m\u001b[0m\u001b[0m\n\u001b[1;32m    211\u001b[0m             warnings.warn(\n",
            "\u001b[0;31mValidationError\u001b[0m: 1 validation error for Fridge\nitems.0\n  Input should be a valid string [type=string_type, input_value=1, input_type=int]\n    For further information visit https://errors.pydantic.dev/2.9/v/string_type"
          ]
        }
      ]
    },
    {
      "cell_type": "code",
      "source": [
        "print(get_stuff(item=\"orange\", fridge=Fridge(items={\"apple\", \"pear\"})))"
      ],
      "metadata": {
        "colab": {
          "base_uri": "https://localhost:8080/"
        },
        "id": "XHi88kJm0nH0",
        "outputId": "72901acb-745b-48c8-cf67-d2fcc5d22026"
      },
      "execution_count": 67,
      "outputs": [
        {
          "output_type": "stream",
          "name": "stdout",
          "text": [
            "['Apple', 'Pear', 'Orange']\n"
          ]
        }
      ]
    },
    {
      "cell_type": "markdown",
      "source": [
        "Что позволяет Pydantic? Внутри классов он позволяет отдельно учитыать все те typing, которые были использованы, и если мы передаем какие-то значения не по правилам, то получаем ошибку. Просто и незатейливо\n",
        "\n",
        "И самый прикол, что за счет внутренней реализации Pydantic - это самый быстрый способ это сделать"
      ],
      "metadata": {
        "id": "B-VzpVju1NdQ"
      }
    },
    {
      "cell_type": "markdown",
      "source": [
        "## Попугай дня"
      ],
      "metadata": {
        "id": "i8k0a6eRgjk_"
      }
    },
    {
      "cell_type": "markdown",
      "source": [
        "![](https://upload.wikimedia.org/wikipedia/commons/thumb/b/b5/Cyanoliseus_patagonus_-Zoo_de_Lille-8a.jpg/2560px-Cyanoliseus_patagonus_-Zoo_de_Lille-8a.jpg)"
      ],
      "metadata": {
        "id": "l0heubvYgmeK"
      }
    },
    {
      "cell_type": "markdown",
      "source": [
        "Это скалистый попугай (или патагонский попугай). Населяют территории современных Чили и Аргентины (поэтому патагонские). Легко распознаются по их мейкапу возле глаза\n",
        "\n",
        "Птицы в своем роде гениальные, пока остальные пытаются найти более привлекательные места для жизни, они решили жить в скалах, где не так приятно, но зато места безлюдные, а значит - нет конкуренции! Отклывадывают яйца просто в ущельях и очень труднодоступных местах\n",
        "\n",
        "Но при этом достаточно дружелюбные, могут учить слова, но при этом они очень крикливые, из-за чего не настолько популярные\n"
      ],
      "metadata": {
        "id": "WICt1jAv21HA"
      }
    }
  ]
}