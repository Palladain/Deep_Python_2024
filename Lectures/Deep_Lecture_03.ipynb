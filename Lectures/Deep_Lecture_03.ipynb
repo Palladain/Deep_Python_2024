{
  "cells": [
    {
      "cell_type": "markdown",
      "metadata": {
        "id": "EdreDNqhqcdH"
      },
      "source": [
        "# Продвинутый Python, лекция 3\n",
        "\n",
        "**Лектор:** Петров Тимур\n",
        "\n",
        "**Семинаристы:** Бузаев Федор, Дешеулин Олег, Коган Александра, Васина Олеся, Садуллаев Музаффар"
      ]
    },
    {
      "cell_type": "markdown",
      "source": [
        "Сегодня говорим про тестирование и логгирование (на примере TDD)\n",
        "\n",
        "Любая программа, которую вы делаете, надо тестировать. К сожалению, в реальной жизни у вас нет сразу тестов, так что и писать их приходится самостоятельно"
      ],
      "metadata": {
        "id": "2n-q_KRCUNdD"
      }
    },
    {
      "cell_type": "markdown",
      "metadata": {
        "id": "DVyVtTvDqmoD"
      },
      "source": [
        "### Паттерн разработки TDD\n",
        "\n",
        "TDD - test-driven developement или разработка через тестирование. Достигается соблюдением трех правил.\n",
        "\n",
        "**Три правила TDD**:\n",
        "\n",
        " - Продакшн-код можно писать только для починки падающего теста\n",
        " - В тесте нужно писать ровно столько кода, сколько необходимо чтобы он упал. Ошибки компиляции считаются падениями теста.\n",
        " - В прод можно написать ровно столько кода, сколько требуется для починки дного падающего теста.\n",
        "\n",
        "\n",
        " Получается следйющий пайплайн - пишем падающий тест, пишем код чтобы тест не падал, рефакторим код так, чтобы тесты не падали. Повторяем до сходимости.\n",
        "\n",
        "1. [Test Driven Development: By Example 1st Edition](https://www.eecs.yorku.ca/course_archive/2003-04/W/3311/sectionM/case_studies/money/KentBeck_TDD_byexample.pdf)\n",
        "2. [On Growing Object Oriented Software, Guided by Tests](https://www.amazon.com/Growing-Object-Oriented-Software-Guided-Tests/dp/0321503627)\n",
        "\n",
        "\n",
        "### Каты\n",
        "\n",
        "![](https://karate.by/uploads/posts/2010-10/kkk0001s.png)\n",
        "\n",
        "Каты - упражнения по программированию, помогающие отточить навыки путем многократного повторнеия. Концепция взята из японских боевых искусств. Подробнее про них можно почитать в книжке [The Pragmatic Programmer](https://pragprog.com/titles/tpp20/the-pragmatic-programmer-20th-anniversary-edition/)\n",
        "\n",
        "\n",
        "\n",
        "**Ката Greeter**\n",
        "\n",
        "Данную кату надо выполнять строго по пунктам, не заглядывая вперед:\n",
        "\n",
        "- Создайте класс `Greeter`, у которого есть метод `greet` принимающий на вход имя и возвращающий \"Hello <имя>\".\n",
        "- Метод `greet` должен убирать лишние пробелы - в начале и в конце имени\n",
        "- Метод `greet` должен возвращать ошибку если имя - пустая строка (или строка с пробелами)\n",
        "- Метод `greet` возвращает \"Good evening <имя>\" если текущее время - 18:00-22:59"
      ]
    },
    {
      "cell_type": "markdown",
      "metadata": {
        "id": "0Emxf2a8rsik"
      },
      "source": [
        "## Первый тест\n",
        "\n",
        "Для автоматизированного тестирования написано много фреймворков на разных языках. Короткий список для python:\n",
        "\n",
        "* [unittest](https://docs.python.org/3/library/unittest.html)\n",
        "* [nose2](https://docs.nose2.io/en/latest/)\n",
        "* [pytest](https://docs.pytest.org/en/latest/)\n",
        "\n",
        "В рамках лекции мы остановимся на `pytest`. Почему он? Банально - он удобнее (если детально углубляться, глобально инчем не отличаются, просто в pytest уже достаточно много всего сделано из коробки)"
      ]
    },
    {
      "cell_type": "code",
      "execution_count": null,
      "metadata": {
        "id": "d7vdYWgZT_gk"
      },
      "outputs": [],
      "source": [
        "!pip install ipytest pytest coverage"
      ]
    },
    {
      "cell_type": "code",
      "execution_count": 2,
      "metadata": {
        "id": "uqLOf8B5rxpY"
      },
      "outputs": [],
      "source": [
        "import pytest\n",
        "import ipytest\n",
        "import coverage\n",
        "ipytest.autoconfig()\n",
        "__file__ = \"testing_and_logging_lection.ipynb\""
      ]
    },
    {
      "cell_type": "markdown",
      "metadata": {
        "id": "CKmzIj6_r-mY"
      },
      "source": [
        "#### Как pytest находит тесты:\n",
        "\n",
        "1. Рекурсивно находит все python-файлы в текущей директории\n",
        "2. Оставляет только файлы вида `test_*.py` и `*_test.py`\n",
        "3. В этих файлах\n",
        "  1. Находит все функции с префиксом `test`\n",
        "  2. Находит все методв с префиксом `test` внутри классов с префиксом `Test`. У классов не должно быть метода `__init__`\n",
        "  \n",
        "Поведение можно модифицировать. [Подробнее в документации](https://docs.pytest.org/en/stable/goodpractices.html#test-discovery)\n",
        "\n",
        "Напишем минимальный тест (который, естественно, упадет)"
      ]
    },
    {
      "cell_type": "code",
      "execution_count": 3,
      "metadata": {
        "colab": {
          "base_uri": "https://localhost:8080/"
        },
        "id": "8QDrK_virTQn",
        "outputId": "6dfe0570-9273-4398-ca92-bfbb4abf2547"
      },
      "outputs": [
        {
          "output_type": "stream",
          "name": "stdout",
          "text": [
            "\u001b[31mF\u001b[0m\u001b[31m                                                                                            [100%]\u001b[0m\n",
            "============================================= FAILURES =============================================\n",
            "\u001b[31m\u001b[1m___________________________________________ test_greeter ___________________________________________\u001b[0m\n",
            "\n",
            "    \u001b[94mdef\u001b[39;49;00m \u001b[92mtest_greeter\u001b[39;49;00m():\u001b[90m\u001b[39;49;00m\n",
            ">       Greeter()\u001b[90m\u001b[39;49;00m\n",
            "\u001b[1m\u001b[31mE       NameError: name 'Greeter' is not defined\u001b[0m\n",
            "\n",
            "\u001b[1m\u001b[31m<ipython-input-3-f0bf3d5080f2>\u001b[0m:2: NameError\n",
            "\u001b[36m\u001b[1m===================================== short test summary info ======================================\u001b[0m\n",
            "\u001b[31mFAILED\u001b[0m t_560cae9863044c19ac33e5104c62aee6.py::\u001b[1mtest_greeter\u001b[0m - NameError: name 'Greeter' is not defined\n"
          ]
        }
      ],
      "source": [
        "%%ipytest -q\n",
        "def test_greeter():\n",
        "    Greeter()"
      ]
    },
    {
      "cell_type": "markdown",
      "metadata": {
        "id": "RWwjlhgCT_gl"
      },
      "source": [
        "`pytest` выводит отчет, в котором можно посмотреть сколько у нас всего тестов, какие из них упали и по какой причине.\n",
        "\n",
        "Теперь сделаем так чтобы тест проходил"
      ]
    },
    {
      "cell_type": "markdown",
      "metadata": {
        "id": "xpXsYTSsT_gm"
      },
      "source": [
        "TDD выглядит следующим образом:\n",
        "\n",
        "1. Написали тест\n",
        "\n",
        "2. Написали кусок кода\n",
        "\n",
        "3. Проверили, что проходит тест\n",
        "\n",
        "4. PROFIT"
      ]
    },
    {
      "cell_type": "code",
      "execution_count": 8,
      "metadata": {
        "id": "cskIAApgrTVU"
      },
      "outputs": [],
      "source": [
        "class Greeter:\n",
        "    pass"
      ]
    },
    {
      "cell_type": "code",
      "source": [
        "%%ipytest -q\n",
        "def test_greeter():\n",
        "    assert Greeter()"
      ],
      "metadata": {
        "colab": {
          "base_uri": "https://localhost:8080/"
        },
        "id": "YahsLnfkWg8f",
        "outputId": "3294f32e-1dae-45e4-b854-a447209cffc5"
      },
      "execution_count": 9,
      "outputs": [
        {
          "output_type": "stream",
          "name": "stdout",
          "text": [
            "\u001b[32m.\u001b[0m\u001b[32m                                                                                            [100%]\u001b[0m\n"
          ]
        }
      ]
    },
    {
      "cell_type": "markdown",
      "metadata": {
        "id": "M9gkE6hCT_gm"
      },
      "source": [
        "Сначала мы пишем тесты на реализацию что должно проверять, а только потом делаем реализацию.\n",
        "\n",
        "Теперь наконец-то напишем нормальный тест, воспользовавшись основной фишкой `Pytest` - `assert`. `Pytest` находит все вызовы `assert` в коде тестов, а затем переписывает этот код так, чтобы в случае падения пользователь мог получить удобный дифф и трейсбек.\n",
        "\n",
        "- [Демки разных ассертов](https://docs.pytest.org/en/stable/example/reportingdemo.html#tbreportdemo)\n",
        "- [Цикл статей про то, как это работает](https://www.pythoninsight.com/2018/01/assertion-rewriting-in-pytest-part-1/)"
      ]
    },
    {
      "cell_type": "markdown",
      "source": [
        "Базово assert работает достаточно просто: мы вызываем некоторое выражение, которое должно выдавать True/False. Получилось True - мы молодцы, False - нет, роняем"
      ],
      "metadata": {
        "id": "kozgNXSRW7no"
      }
    },
    {
      "cell_type": "code",
      "execution_count": 10,
      "metadata": {
        "colab": {
          "base_uri": "https://localhost:8080/"
        },
        "id": "npG0hQEgT_gm",
        "outputId": "2f14926f-ff6f-4aa8-9262-a93701628162"
      },
      "outputs": [
        {
          "output_type": "stream",
          "name": "stdout",
          "text": [
            "\u001b[31mF\u001b[0m\u001b[31m                                                                                            [100%]\u001b[0m\n",
            "============================================= FAILURES =============================================\n",
            "\u001b[31m\u001b[1m___________________________________________ test_greeter ___________________________________________\u001b[0m\n",
            "\n",
            "    \u001b[94mdef\u001b[39;49;00m \u001b[92mtest_greeter\u001b[39;49;00m():\u001b[90m\u001b[39;49;00m\n",
            "        name = \u001b[33m\"\u001b[39;49;00m\u001b[33mMike\u001b[39;49;00m\u001b[33m\"\u001b[39;49;00m\u001b[90m\u001b[39;49;00m\n",
            ">       \u001b[94massert\u001b[39;49;00m Greeter().greet(name) == name\u001b[90m\u001b[39;49;00m\n",
            "\u001b[1m\u001b[31mE       AttributeError: 'Greeter' object has no attribute 'greet'\u001b[0m\n",
            "\n",
            "\u001b[1m\u001b[31m<ipython-input-10-91756f0b423d>\u001b[0m:3: AttributeError\n",
            "\u001b[36m\u001b[1m===================================== short test summary info ======================================\u001b[0m\n",
            "\u001b[31mFAILED\u001b[0m t_560cae9863044c19ac33e5104c62aee6.py::\u001b[1mtest_greeter\u001b[0m - AttributeError: 'Greeter' object has no attribute 'greet'\n"
          ]
        }
      ],
      "source": [
        "%%ipytest -q\n",
        "def test_greeter():\n",
        "    name = \"Mike\"\n",
        "    assert Greeter().greet(name) == name"
      ]
    },
    {
      "cell_type": "markdown",
      "metadata": {
        "id": "wveeUsYyT_gm"
      },
      "source": [
        "Еще одна итерация TDD:"
      ]
    },
    {
      "cell_type": "code",
      "execution_count": 12,
      "metadata": {
        "id": "HVf2P2o5T_gm"
      },
      "outputs": [],
      "source": [
        "class Greeter:\n",
        "    def greet(self, name):\n",
        "        return name"
      ]
    },
    {
      "cell_type": "code",
      "execution_count": 13,
      "metadata": {
        "colab": {
          "base_uri": "https://localhost:8080/"
        },
        "id": "dW_r3InvT_gm",
        "outputId": "e3a23ca2-8b67-4f35-9d8b-8e4a6e58d03a"
      },
      "outputs": [
        {
          "output_type": "stream",
          "name": "stdout",
          "text": [
            "\u001b[32m.\u001b[0m\u001b[32m                                                                                            [100%]\u001b[0m\n"
          ]
        }
      ],
      "source": [
        "%%ipytest -q\n",
        "def test_greeter():\n",
        "    name = \"Mike\"\n",
        "    assert Greeter().greet(name) == name"
      ]
    },
    {
      "cell_type": "markdown",
      "metadata": {
        "id": "G3e4Nn0HT_gn"
      },
      "source": [
        "#  Параметризация"
      ]
    },
    {
      "cell_type": "markdown",
      "source": [
        "Наша реализация представляет собой немного не то что мы хотели. В чем проблема? А в том, что у нас написан всего 1 тест, который можно обработать изощренно:"
      ],
      "metadata": {
        "id": "v_40PXysXqBl"
      }
    },
    {
      "cell_type": "code",
      "source": [
        "class Greeter:\n",
        "    def greet(self, name):\n",
        "        return \"Mike\""
      ],
      "metadata": {
        "id": "2u-gA17gXrpz"
      },
      "execution_count": 14,
      "outputs": []
    },
    {
      "cell_type": "code",
      "source": [
        "%%ipytest -q\n",
        "def test_greeter():\n",
        "    name = \"Mike\"\n",
        "    assert Greeter().greet(name) == name"
      ],
      "metadata": {
        "colab": {
          "base_uri": "https://localhost:8080/"
        },
        "id": "lYsmftKdXvdd",
        "outputId": "3bc96766-72c9-4060-a08b-9eae6a2db40d"
      },
      "execution_count": 15,
      "outputs": [
        {
          "output_type": "stream",
          "name": "stdout",
          "text": [
            "\u001b[32m.\u001b[0m\u001b[32m                                                                                            [100%]\u001b[0m\n"
          ]
        }
      ]
    },
    {
      "cell_type": "markdown",
      "metadata": {
        "id": "k0hTdPqoT_gn"
      },
      "source": [
        "Наверное стоит добавить больше разных тестов, чтобы вводы были разные.\n",
        "\n",
        "Чтобы не копировать один и тот же тест (и не плодить 100500 тестов), можно воспользоваться параметризацией:"
      ]
    },
    {
      "cell_type": "markdown",
      "metadata": {
        "id": "XrmeN4HYT_gn"
      },
      "source": [
        "Посмотрим что это такое на примере:"
      ]
    },
    {
      "cell_type": "code",
      "execution_count": 16,
      "metadata": {
        "colab": {
          "base_uri": "https://localhost:8080/"
        },
        "id": "bj7qqVl4T_gn",
        "outputId": "67845676-9f49-47a4-ac9e-91e0def71a03"
      },
      "outputs": [
        {
          "output_type": "stream",
          "name": "stdout",
          "text": [
            "\u001b[32m.\u001b[0m\u001b[32m.\u001b[0m\u001b[32m.\u001b[0m\u001b[32m                                                                                          [100%]\u001b[0m\n"
          ]
        }
      ],
      "source": [
        "%%ipytest -q\n",
        "import pytest\n",
        "\n",
        "\n",
        "@pytest.mark.parametrize(\"a, b, c\", [\n",
        "    (1, 2, 3),\n",
        "    (3, 4, 7),\n",
        "    (5, 6, 11),\n",
        "])\n",
        "def test_sample_parametrization(a, b, c):\n",
        "    assert a + b == c"
      ]
    },
    {
      "cell_type": "markdown",
      "metadata": {
        "id": "cDqW-zYoT_gn"
      },
      "source": [
        "Давайте рассмотрим что из себя оно представляет:\n",
        "\n",
        "Конкректно у нас фигурирует тут: `pytest.mark.parametrize`\n",
        "Декоратор, который позволяет параметризировать (использовать несколько наборов данных) на тестовую функцию.\n",
        "\n",
        "Каждая комбинация значений будет автоматически передаваться в тестовую функцию и pytest выполнит для каждого набора тестовых данных.\n",
        "\n",
        "\n",
        "\n",
        "```python\n",
        "@pytest.mark.parametrize(\"<аргумент1>, <аргумент2>, <аргумент3>, ...\", [<набор_Значений_для_аргумента_1>, <набор_значений_для_аргумента_2>, <набор_значений_для_аргумента_3>, ...]\n",
        "ИЛИ [\n",
        "    (<набор_Значений_для_аргумента_1>, <набор_значений_для_аргумента_2>, <набор_значений_для_аргумента_3>, ...),\n",
        "    (<набор_Значений_для_аргумента_1>, <набор_значений_для_аргумента_2>, <набор_значений_для_аргумента_3>, ...),\n",
        "    (<набор_Значений_для_аргумента_1>, <набор_значений_для_аргумента_2>, <набор_значений_для_аргумента_3>, ...)\n",
        "])\n",
        "def test_<название теста>(<аргумент1>, <аргумент2>, <аргумент3>, ...):\n",
        "\n",
        "    <подготовка или демонстрация тестового сценария>\n",
        "\n",
        "    assert <проверяемое выражение>\n",
        "\n",
        "```\n"
      ]
    },
    {
      "cell_type": "markdown",
      "metadata": {
        "id": "0Yfs5dZXT_gn"
      },
      "source": [
        "* аргументы в фикстурах -- переменные и для каждой переменной должно быть значение типа object (то есть любой объект)\n",
        "\n",
        "Если не будет хоть одного значения тест завершится ошибкой с проверкой на количество аргументов и значений  `assert len(param.values) != len(argnames)`"
      ]
    },
    {
      "cell_type": "code",
      "execution_count": 17,
      "metadata": {
        "colab": {
          "base_uri": "https://localhost:8080/"
        },
        "id": "Her2MTCiT_gn",
        "outputId": "421286f2-0f8d-493f-9fa7-56bfaf3987f0"
      },
      "outputs": [
        {
          "output_type": "stream",
          "name": "stdout",
          "text": [
            "\n",
            "============================================== ERRORS ==============================================\n",
            "\u001b[31m\u001b[1m______________________ ERROR collecting t_560cae9863044c19ac33e5104c62aee6.py ______________________\u001b[0m\n",
            "\u001b[1m\u001b[31m/usr/local/lib/python3.10/dist-packages/pluggy/_hooks.py\u001b[0m:513: in __call__\n",
            "    \u001b[94mreturn\u001b[39;49;00m \u001b[96mself\u001b[39;49;00m._hookexec(\u001b[96mself\u001b[39;49;00m.name, \u001b[96mself\u001b[39;49;00m._hookimpls.copy(), kwargs, firstresult)\u001b[90m\u001b[39;49;00m\n",
            "\u001b[1m\u001b[31m/usr/local/lib/python3.10/dist-packages/pluggy/_manager.py\u001b[0m:120: in _hookexec\n",
            "    \u001b[94mreturn\u001b[39;49;00m \u001b[96mself\u001b[39;49;00m._inner_hookexec(hook_name, methods, kwargs, firstresult)\u001b[90m\u001b[39;49;00m\n",
            "\u001b[1m\u001b[31m/usr/local/lib/python3.10/dist-packages/_pytest/python.py\u001b[0m:271: in pytest_pycollect_makeitem\n",
            "    \u001b[94mreturn\u001b[39;49;00m \u001b[96mlist\u001b[39;49;00m(collector._genfunctions(name, obj))\u001b[90m\u001b[39;49;00m\n",
            "\u001b[1m\u001b[31m/usr/local/lib/python3.10/dist-packages/_pytest/python.py\u001b[0m:498: in _genfunctions\n",
            "    \u001b[96mself\u001b[39;49;00m.ihook.pytest_generate_tests.call_extra(methods, \u001b[96mdict\u001b[39;49;00m(metafunc=metafunc))\u001b[90m\u001b[39;49;00m\n",
            "\u001b[1m\u001b[31m/usr/local/lib/python3.10/dist-packages/pluggy/_hooks.py\u001b[0m:574: in call_extra\n",
            "    \u001b[94mreturn\u001b[39;49;00m \u001b[96mself\u001b[39;49;00m._hookexec(\u001b[96mself\u001b[39;49;00m.name, hookimpls, kwargs, firstresult)\u001b[90m\u001b[39;49;00m\n",
            "\u001b[1m\u001b[31m/usr/local/lib/python3.10/dist-packages/pluggy/_manager.py\u001b[0m:120: in _hookexec\n",
            "    \u001b[94mreturn\u001b[39;49;00m \u001b[96mself\u001b[39;49;00m._inner_hookexec(hook_name, methods, kwargs, firstresult)\u001b[90m\u001b[39;49;00m\n",
            "\u001b[1m\u001b[31m/usr/local/lib/python3.10/dist-packages/_pytest/python.py\u001b[0m:150: in pytest_generate_tests\n",
            "    metafunc.parametrize(*marker.args, **marker.kwargs, _param_mark=marker)\u001b[90m\u001b[39;49;00m\n",
            "\u001b[1m\u001b[31m/usr/local/lib/python3.10/dist-packages/_pytest/python.py\u001b[0m:1303: in parametrize\n",
            "    argnames, parametersets = ParameterSet._for_parametrize(\u001b[90m\u001b[39;49;00m\n",
            "\u001b[1m\u001b[31m/usr/local/lib/python3.10/dist-packages/_pytest/mark/structures.py\u001b[0m:165: in _for_parametrize\n",
            "    \u001b[94mif\u001b[39;49;00m \u001b[96mlen\u001b[39;49;00m(param.values) != \u001b[96mlen\u001b[39;49;00m(argnames):\u001b[90m\u001b[39;49;00m\n",
            "\u001b[1m\u001b[31mE   TypeError: object of type 'int' has no len()\u001b[0m\n",
            "\u001b[36m\u001b[1m===================================== short test summary info ======================================\u001b[0m\n",
            "\u001b[31mERROR\u001b[0m t_560cae9863044c19ac33e5104c62aee6.py - TypeError: object of type 'int' has no len()\n",
            "!!!!!!!!!!!!!!!!!!!!!!!!!!!!!! Interrupted: 1 error during collection !!!!!!!!!!!!!!!!!!!!!!!!!!!!!!\n"
          ]
        }
      ],
      "source": [
        "%%ipytest -q\n",
        "\n",
        "@pytest.mark.parametrize(\"a, b, c\", [1, 2])\n",
        "def test_sample(a, b, c):\n",
        "    assert a + b == 3"
      ]
    },
    {
      "cell_type": "markdown",
      "metadata": {
        "id": "NLdjVamkT_gn"
      },
      "source": [
        "Видим отчеты пайтеста во всей красе. Починим тесты:"
      ]
    },
    {
      "cell_type": "code",
      "execution_count": 18,
      "metadata": {
        "colab": {
          "base_uri": "https://localhost:8080/"
        },
        "id": "AoSfsZsOT_gn",
        "outputId": "b5c5ac7a-e7b1-43c5-8cfa-73770e1d4445"
      },
      "outputs": [
        {
          "output_type": "stream",
          "name": "stdout",
          "text": [
            "\u001b[31mF\u001b[0m\u001b[31mF\u001b[0m\u001b[31mF\u001b[0m\u001b[31m                                                                                          [100%]\u001b[0m\n",
            "============================================= FAILURES =============================================\n",
            "\u001b[31m\u001b[1m__________________________________ test_greeter[Mike-Hello Mike] ___________________________________\u001b[0m\n",
            "\n",
            "name = 'Mike', greeting = 'Hello Mike'\n",
            "\n",
            "    \u001b[37m@pytest\u001b[39;49;00m.mark.parametrize(\u001b[33m\"\u001b[39;49;00m\u001b[33mname, greeting\u001b[39;49;00m\u001b[33m\"\u001b[39;49;00m, test_cases)\u001b[90m\u001b[39;49;00m\n",
            "    \u001b[94mdef\u001b[39;49;00m \u001b[92mtest_greeter\u001b[39;49;00m(name, greeting):\u001b[90m\u001b[39;49;00m\n",
            ">       \u001b[94massert\u001b[39;49;00m Greeter().greet(name) == greeting\u001b[90m\u001b[39;49;00m\n",
            "\u001b[1m\u001b[31mE       AssertionError: assert 'Mike' == 'Hello Mike'\u001b[0m\n",
            "\u001b[1m\u001b[31mE         - Hello Mike\u001b[0m\n",
            "\u001b[1m\u001b[31mE         + Mike\u001b[0m\n",
            "\n",
            "\u001b[1m\u001b[31m<ipython-input-18-e1e045608403>\u001b[0m:5: AssertionError\n",
            "\u001b[31m\u001b[1m__________________________________ test_greeter[John-Hello John] ___________________________________\u001b[0m\n",
            "\n",
            "name = 'John', greeting = 'Hello John'\n",
            "\n",
            "    \u001b[37m@pytest\u001b[39;49;00m.mark.parametrize(\u001b[33m\"\u001b[39;49;00m\u001b[33mname, greeting\u001b[39;49;00m\u001b[33m\"\u001b[39;49;00m, test_cases)\u001b[90m\u001b[39;49;00m\n",
            "    \u001b[94mdef\u001b[39;49;00m \u001b[92mtest_greeter\u001b[39;49;00m(name, greeting):\u001b[90m\u001b[39;49;00m\n",
            ">       \u001b[94massert\u001b[39;49;00m Greeter().greet(name) == greeting\u001b[90m\u001b[39;49;00m\n",
            "\u001b[1m\u001b[31mE       AssertionError: assert 'Mike' == 'Hello John'\u001b[0m\n",
            "\u001b[1m\u001b[31mE         - Hello John\u001b[0m\n",
            "\u001b[1m\u001b[31mE         + Mike\u001b[0m\n",
            "\n",
            "\u001b[1m\u001b[31m<ipython-input-18-e1e045608403>\u001b[0m:5: AssertionError\n",
            "\u001b[31m\u001b[1m__________________________________ test_greeter[Greg-Hello Greg] ___________________________________\u001b[0m\n",
            "\n",
            "name = 'Greg', greeting = 'Hello Greg'\n",
            "\n",
            "    \u001b[37m@pytest\u001b[39;49;00m.mark.parametrize(\u001b[33m\"\u001b[39;49;00m\u001b[33mname, greeting\u001b[39;49;00m\u001b[33m\"\u001b[39;49;00m, test_cases)\u001b[90m\u001b[39;49;00m\n",
            "    \u001b[94mdef\u001b[39;49;00m \u001b[92mtest_greeter\u001b[39;49;00m(name, greeting):\u001b[90m\u001b[39;49;00m\n",
            ">       \u001b[94massert\u001b[39;49;00m Greeter().greet(name) == greeting\u001b[90m\u001b[39;49;00m\n",
            "\u001b[1m\u001b[31mE       AssertionError: assert 'Mike' == 'Hello Greg'\u001b[0m\n",
            "\u001b[1m\u001b[31mE         - Hello Greg\u001b[0m\n",
            "\u001b[1m\u001b[31mE         + Mike\u001b[0m\n",
            "\n",
            "\u001b[1m\u001b[31m<ipython-input-18-e1e045608403>\u001b[0m:5: AssertionError\n",
            "\u001b[36m\u001b[1m===================================== short test summary info ======================================\u001b[0m\n",
            "\u001b[31mFAILED\u001b[0m t_560cae9863044c19ac33e5104c62aee6.py::\u001b[1mtest_greeter[Mike-Hello Mike]\u001b[0m - AssertionError: assert 'Mike' == 'Hello Mike'\n",
            "\u001b[31mFAILED\u001b[0m t_560cae9863044c19ac33e5104c62aee6.py::\u001b[1mtest_greeter[John-Hello John]\u001b[0m - AssertionError: assert 'Mike' == 'Hello John'\n",
            "\u001b[31mFAILED\u001b[0m t_560cae9863044c19ac33e5104c62aee6.py::\u001b[1mtest_greeter[Greg-Hello Greg]\u001b[0m - AssertionError: assert 'Mike' == 'Hello Greg'\n"
          ]
        }
      ],
      "source": [
        "%%ipytest -q\n",
        "test_cases = [(\"Mike\", \"Hello Mike\"), (\"John\", \"Hello John\"), (\"Greg\", \"Hello Greg\")]\n",
        "\n",
        "@pytest.mark.parametrize(\"name, greeting\", test_cases)\n",
        "def test_greeter(name, greeting):\n",
        "    assert Greeter().greet(name) == greeting"
      ]
    },
    {
      "cell_type": "code",
      "execution_count": 19,
      "metadata": {
        "id": "zUrdZT5BT_gn"
      },
      "outputs": [],
      "source": [
        "class Greeter:\n",
        "    def greet(self, name):\n",
        "        return \"Hello \" + name"
      ]
    },
    {
      "cell_type": "code",
      "execution_count": 20,
      "metadata": {
        "colab": {
          "base_uri": "https://localhost:8080/"
        },
        "id": "BTk-e8FYT_gn",
        "outputId": "b9810206-6f4c-4a79-a31b-86d34aef6396"
      },
      "outputs": [
        {
          "output_type": "stream",
          "name": "stdout",
          "text": [
            "\u001b[32m.\u001b[0m\u001b[32m.\u001b[0m\u001b[32m.\u001b[0m\u001b[32m                                                                                          [100%]\u001b[0m\n"
          ]
        }
      ],
      "source": [
        "%%ipytest -q\n",
        "test_cases = [(\"Mike\", \"Hello Mike\"), (\"John\", \"Hello John\"), (\"Greg\", \"Hello Greg\")]\n",
        "\n",
        "@pytest.mark.parametrize(\"name, greeting\", test_cases)\n",
        "def test_greeter(name, greeting):\n",
        "    assert Greeter().greet(name) == greeting"
      ]
    },
    {
      "cell_type": "markdown",
      "source": [
        "Ура, мы выполнили первый пункт!"
      ],
      "metadata": {
        "id": "zkzrkDBPYhGx"
      }
    },
    {
      "cell_type": "markdown",
      "metadata": {
        "id": "NP3vg1C0T_gn"
      },
      "source": [
        "Перейдем к следующему пункту нашего задания:\n",
        "\n",
        "- Метод `greet` должен убирать лишние пробелы - в начале и в конце имени\n",
        "\n",
        "Опять же, напишем тест:"
      ]
    },
    {
      "cell_type": "code",
      "execution_count": 21,
      "metadata": {
        "colab": {
          "base_uri": "https://localhost:8080/"
        },
        "id": "iltACXWhT_gn",
        "outputId": "df7c8bb9-cb4e-4fee-9fec-3b552a076baf"
      },
      "outputs": [
        {
          "output_type": "stream",
          "name": "stdout",
          "text": [
            "\u001b[32m.\u001b[0m\u001b[32m                                                                                            [100%]\u001b[0m\n"
          ]
        }
      ],
      "source": [
        "%%ipytest -q\n",
        "\n",
        "def test_spaces():\n",
        "    greeter = Greeter()\n",
        "    greeting = greeter.greet(\" Mike\")\n",
        "    assert not greeting.startswith(\" \")"
      ]
    },
    {
      "cell_type": "markdown",
      "metadata": {
        "id": "9CLII4d8T_gn"
      },
      "source": [
        "Обратим внимание что тест проходит и возникает соблазн продолжить работу. Однако если посмотреть на тест внимательно - можно увидеть в нем ошибку. (Какая?)\n",
        "\n",
        "\n",
        "Чтобы не наступать на такие грабли существует **правило** - только что написанный тест должен падать, при чем именно из-за того поведения, которое этот тест должен было покрыть.\n",
        "\n",
        "\n",
        "Вы можете писать тесты на уже существующий код - в таком случае они могут не падать т.к. код уже работает как надо. Тогда есть два варианта:\n",
        "* Сделать в продовом коде баг чтобы тест упал\n",
        "* Обратить проверяемое условие в тесте\n",
        "\n",
        "Поправим наш тест:"
      ]
    },
    {
      "cell_type": "code",
      "execution_count": 22,
      "metadata": {
        "colab": {
          "base_uri": "https://localhost:8080/"
        },
        "id": "ecs9sjIFT_gn",
        "outputId": "8b7daa8c-1d28-415f-c6a1-068dea4d0d71"
      },
      "outputs": [
        {
          "output_type": "stream",
          "name": "stdout",
          "text": [
            "\u001b[31mF\u001b[0m\u001b[31m                                                                                            [100%]\u001b[0m\n",
            "============================================= FAILURES =============================================\n",
            "\u001b[31m\u001b[1m___________________________________________ test_spaces ____________________________________________\u001b[0m\n",
            "\n",
            "    \u001b[94mdef\u001b[39;49;00m \u001b[92mtest_spaces\u001b[39;49;00m():\u001b[90m\u001b[39;49;00m\n",
            "        greeter = Greeter()\u001b[90m\u001b[39;49;00m\n",
            "        greeted_name = greeter.greet(\u001b[33m\"\u001b[39;49;00m\u001b[33m Mike\u001b[39;49;00m\u001b[33m\"\u001b[39;49;00m).split(\u001b[33m\"\u001b[39;49;00m\u001b[33m \u001b[39;49;00m\u001b[33m\"\u001b[39;49;00m, \u001b[94m1\u001b[39;49;00m)[\u001b[94m1\u001b[39;49;00m]\u001b[90m\u001b[39;49;00m\n",
            "    \u001b[90m\u001b[39;49;00m\n",
            ">       \u001b[94massert\u001b[39;49;00m \u001b[95mnot\u001b[39;49;00m greeted_name.startswith(\u001b[33m\"\u001b[39;49;00m\u001b[33m \u001b[39;49;00m\u001b[33m\"\u001b[39;49;00m)\u001b[90m\u001b[39;49;00m\n",
            "\u001b[1m\u001b[31mE       AssertionError: assert not True\u001b[0m\n",
            "\u001b[1m\u001b[31mE        +  where True = <built-in method startswith of str object at 0x7ac7d11350f0>(' ')\u001b[0m\n",
            "\u001b[1m\u001b[31mE        +    where <built-in method startswith of str object at 0x7ac7d11350f0> = ' Mike'.startswith\u001b[0m\n",
            "\n",
            "\u001b[1m\u001b[31m<ipython-input-22-952847da0f49>\u001b[0m:5: AssertionError\n",
            "\u001b[36m\u001b[1m===================================== short test summary info ======================================\u001b[0m\n",
            "\u001b[31mFAILED\u001b[0m t_560cae9863044c19ac33e5104c62aee6.py::\u001b[1mtest_spaces\u001b[0m - AssertionError: assert not True\n"
          ]
        }
      ],
      "source": [
        "%%ipytest -q\n",
        "\n",
        "def test_spaces():\n",
        "    greeter = Greeter()\n",
        "    greeted_name = greeter.greet(\" Mike\").split(\" \", 1)[1]\n",
        "    assert not greeted_name.startswith(\" \")"
      ]
    },
    {
      "cell_type": "code",
      "execution_count": 23,
      "metadata": {
        "id": "QTf2nw5uT_go"
      },
      "outputs": [],
      "source": [
        "class Greeter:\n",
        "    def greet(self, name):\n",
        "        if name.startswith(\" \"):\n",
        "            name = name[1:]\n",
        "        return \"Hello \" + name"
      ]
    },
    {
      "cell_type": "code",
      "execution_count": 24,
      "metadata": {
        "colab": {
          "base_uri": "https://localhost:8080/"
        },
        "id": "9Ve-4Hu2T_go",
        "outputId": "f9876cb1-16b8-44a4-d6d3-5da8170caf01"
      },
      "outputs": [
        {
          "output_type": "stream",
          "name": "stdout",
          "text": [
            "\u001b[32m.\u001b[0m\u001b[32m                                                                                            [100%]\u001b[0m\n"
          ]
        }
      ],
      "source": [
        "%%ipytest -q\n",
        "\n",
        "def test_spaces():\n",
        "    greeter = Greeter()\n",
        "    greeted_name = greeter.greet(\" Mike\").split(\" \", 1)[1]\n",
        "\n",
        "    assert not greeted_name.startswith(\" \")"
      ]
    },
    {
      "cell_type": "markdown",
      "metadata": {
        "id": "UmQTzBlXT_go"
      },
      "source": [
        "Перечитаем наше задание:\n",
        "* Метод greet должен убирать лишние пробелы - в начале и **в конце имени**\n",
        "\n",
        "Видимо нам нужно расширить тест:"
      ]
    },
    {
      "cell_type": "code",
      "execution_count": 25,
      "metadata": {
        "colab": {
          "base_uri": "https://localhost:8080/"
        },
        "id": "fphLxCeTT_go",
        "outputId": "9e9dae96-cef5-4ee8-a323-3e953edfd7e3"
      },
      "outputs": [
        {
          "output_type": "stream",
          "name": "stdout",
          "text": [
            "\u001b[31mF\u001b[0m\u001b[31m                                                                                            [100%]\u001b[0m\n",
            "============================================= FAILURES =============================================\n",
            "\u001b[31m\u001b[1m___________________________________________ test_spaces ____________________________________________\u001b[0m\n",
            "\n",
            "    \u001b[94mdef\u001b[39;49;00m \u001b[92mtest_spaces\u001b[39;49;00m():\u001b[90m\u001b[39;49;00m\n",
            "        greeter = Greeter()\u001b[90m\u001b[39;49;00m\n",
            "        greeted_name = greeter.greet(\u001b[33m\"\u001b[39;49;00m\u001b[33m Mike \u001b[39;49;00m\u001b[33m\"\u001b[39;49;00m).split(\u001b[33m\"\u001b[39;49;00m\u001b[33m \u001b[39;49;00m\u001b[33m\"\u001b[39;49;00m, \u001b[94m1\u001b[39;49;00m)[\u001b[94m1\u001b[39;49;00m]\u001b[90m\u001b[39;49;00m\n",
            ">       \u001b[94massert\u001b[39;49;00m \u001b[95mnot\u001b[39;49;00m greeted_name.startswith(\u001b[33m\"\u001b[39;49;00m\u001b[33m \u001b[39;49;00m\u001b[33m\"\u001b[39;49;00m) \u001b[95mand\u001b[39;49;00m \u001b[95mnot\u001b[39;49;00m greeted_name.endswith(\u001b[33m\"\u001b[39;49;00m\u001b[33m \u001b[39;49;00m\u001b[33m\"\u001b[39;49;00m)\u001b[90m\u001b[39;49;00m\n",
            "\u001b[1m\u001b[31mE       AssertionError: assert (not False and not True)\u001b[0m\n",
            "\u001b[1m\u001b[31mE        +  where False = <built-in method startswith of str object at 0x7ac7d145b2f0>(' ')\u001b[0m\n",
            "\u001b[1m\u001b[31mE        +    where <built-in method startswith of str object at 0x7ac7d145b2f0> = 'Mike '.startswith\u001b[0m\n",
            "\u001b[1m\u001b[31mE        +  and   True = <built-in method endswith of str object at 0x7ac7d145b2f0>(' ')\u001b[0m\n",
            "\u001b[1m\u001b[31mE        +    where <built-in method endswith of str object at 0x7ac7d145b2f0> = 'Mike '.endswith\u001b[0m\n",
            "\n",
            "\u001b[1m\u001b[31m<ipython-input-25-c19cda56cb96>\u001b[0m:4: AssertionError\n",
            "\u001b[36m\u001b[1m===================================== short test summary info ======================================\u001b[0m\n",
            "\u001b[31mFAILED\u001b[0m t_560cae9863044c19ac33e5104c62aee6.py::\u001b[1mtest_spaces\u001b[0m - AssertionError: assert (not False and not True)\n"
          ]
        }
      ],
      "source": [
        "%%ipytest -q\n",
        "\n",
        "def test_spaces():\n",
        "    greeter = Greeter()\n",
        "    greeted_name = greeter.greet(\" Mike \").split(\" \", 1)[1]\n",
        "    assert not greeted_name.startswith(\" \") and not greeted_name.endswith(\" \")"
      ]
    },
    {
      "cell_type": "markdown",
      "metadata": {
        "id": "e8K6FiQZT_go"
      },
      "source": [
        "Починим тест"
      ]
    },
    {
      "cell_type": "code",
      "execution_count": 26,
      "metadata": {
        "id": "dRTHICsvT_go"
      },
      "outputs": [],
      "source": [
        "class Greeter:\n",
        "    def greet(self, name):\n",
        "        if name.startswith(\" \"):\n",
        "            name = name[1:]\n",
        "        if name.endswith(\" \"):\n",
        "            name = name[:1]\n",
        "        return \"Hello \" + name"
      ]
    },
    {
      "cell_type": "code",
      "execution_count": 27,
      "metadata": {
        "colab": {
          "base_uri": "https://localhost:8080/"
        },
        "id": "L557DuEIT_go",
        "outputId": "a284e8cd-5d10-475d-9013-3bd597f82746"
      },
      "outputs": [
        {
          "output_type": "stream",
          "name": "stdout",
          "text": [
            "\u001b[32m.\u001b[0m\u001b[32m                                                                                            [100%]\u001b[0m\n"
          ]
        }
      ],
      "source": [
        "%%ipytest -q\n",
        "\n",
        "def test_spaces():\n",
        "    greeter = Greeter()\n",
        "    greeted_name = greeter.greet(\" Mike \").split(\" \", 1)[1]\n",
        "\n",
        "    assert not greeted_name.startswith(\" \") and not greeted_name.endswith(\" \")"
      ]
    },
    {
      "cell_type": "markdown",
      "metadata": {
        "id": "WTd1XLSUT_go"
      },
      "source": [
        "Наш тест все еще недостаточно хорош. Хороший набор тестов должен покрывать разные граничные условия и заходить во все ветки исполнения кода. Параметризуем наш тест так чтобы покрывал как можно ветвей исполнения кода:"
      ]
    },
    {
      "cell_type": "code",
      "execution_count": 28,
      "metadata": {
        "colab": {
          "base_uri": "https://localhost:8080/"
        },
        "id": "xTDKafYvT_gp",
        "outputId": "48d03e13-9cb0-4c9b-f3d5-cf88a52d9b3b"
      },
      "outputs": [
        {
          "output_type": "stream",
          "name": "stdout",
          "text": [
            "\u001b[32m.\u001b[0m\u001b[32m.\u001b[0m\u001b[32m.\u001b[0m\u001b[32m.\u001b[0m\u001b[31mF\u001b[0m\u001b[31mF\u001b[0m\u001b[31m                                                                                       [100%]\u001b[0m\n",
            "============================================= FAILURES =============================================\n",
            "\u001b[31m\u001b[1m_______________________________________ test_spaces[  Mike] ________________________________________\u001b[0m\n",
            "\n",
            "name = '  Mike'\n",
            "\n",
            "    \u001b[37m@pytest\u001b[39;49;00m.mark.parametrize(\u001b[33m\"\u001b[39;49;00m\u001b[33mname\u001b[39;49;00m\u001b[33m\"\u001b[39;49;00m, [\u001b[33m\"\u001b[39;49;00m\u001b[33mMike\u001b[39;49;00m\u001b[33m\"\u001b[39;49;00m, \u001b[33m\"\u001b[39;49;00m\u001b[33m Mike\u001b[39;49;00m\u001b[33m\"\u001b[39;49;00m, \u001b[33m\"\u001b[39;49;00m\u001b[33mMike \u001b[39;49;00m\u001b[33m\"\u001b[39;49;00m, \u001b[33m\"\u001b[39;49;00m\u001b[33m Mike \u001b[39;49;00m\u001b[33m\"\u001b[39;49;00m, \u001b[33m\"\u001b[39;49;00m\u001b[33m  Mike\u001b[39;49;00m\u001b[33m\"\u001b[39;49;00m, \u001b[33m\"\u001b[39;49;00m\u001b[33m  Mike  \u001b[39;49;00m\u001b[33m\"\u001b[39;49;00m])\u001b[90m\u001b[39;49;00m\n",
            "    \u001b[94mdef\u001b[39;49;00m \u001b[92mtest_spaces\u001b[39;49;00m(name):\u001b[90m\u001b[39;49;00m\n",
            "        greeter = Greeter()\u001b[90m\u001b[39;49;00m\n",
            "        greeted_name = greeter.greet(name).split(\u001b[33m\"\u001b[39;49;00m\u001b[33m \u001b[39;49;00m\u001b[33m\"\u001b[39;49;00m, \u001b[94m1\u001b[39;49;00m)[\u001b[94m1\u001b[39;49;00m]\u001b[90m\u001b[39;49;00m\n",
            "    \u001b[90m\u001b[39;49;00m\n",
            ">       \u001b[94massert\u001b[39;49;00m \u001b[95mnot\u001b[39;49;00m greeted_name.startswith(\u001b[33m\"\u001b[39;49;00m\u001b[33m \u001b[39;49;00m\u001b[33m\"\u001b[39;49;00m) \u001b[95mand\u001b[39;49;00m \u001b[95mnot\u001b[39;49;00m greeted_name.endswith(\u001b[33m\"\u001b[39;49;00m\u001b[33m \u001b[39;49;00m\u001b[33m\"\u001b[39;49;00m)\u001b[90m\u001b[39;49;00m\n",
            "\u001b[1m\u001b[31mE       AssertionError: assert (not True)\u001b[0m\n",
            "\u001b[1m\u001b[31mE        +  where True = <built-in method startswith of str object at 0x7ac7d14ce6b0>(' ')\u001b[0m\n",
            "\u001b[1m\u001b[31mE        +    where <built-in method startswith of str object at 0x7ac7d14ce6b0> = ' Mike'.startswith\u001b[0m\n",
            "\n",
            "\u001b[1m\u001b[31m<ipython-input-28-06978f9470a6>\u001b[0m:6: AssertionError\n",
            "\u001b[31m\u001b[1m______________________________________ test_spaces[  Mike  ] _______________________________________\u001b[0m\n",
            "\n",
            "name = '  Mike  '\n",
            "\n",
            "    \u001b[37m@pytest\u001b[39;49;00m.mark.parametrize(\u001b[33m\"\u001b[39;49;00m\u001b[33mname\u001b[39;49;00m\u001b[33m\"\u001b[39;49;00m, [\u001b[33m\"\u001b[39;49;00m\u001b[33mMike\u001b[39;49;00m\u001b[33m\"\u001b[39;49;00m, \u001b[33m\"\u001b[39;49;00m\u001b[33m Mike\u001b[39;49;00m\u001b[33m\"\u001b[39;49;00m, \u001b[33m\"\u001b[39;49;00m\u001b[33mMike \u001b[39;49;00m\u001b[33m\"\u001b[39;49;00m, \u001b[33m\"\u001b[39;49;00m\u001b[33m Mike \u001b[39;49;00m\u001b[33m\"\u001b[39;49;00m, \u001b[33m\"\u001b[39;49;00m\u001b[33m  Mike\u001b[39;49;00m\u001b[33m\"\u001b[39;49;00m, \u001b[33m\"\u001b[39;49;00m\u001b[33m  Mike  \u001b[39;49;00m\u001b[33m\"\u001b[39;49;00m])\u001b[90m\u001b[39;49;00m\n",
            "    \u001b[94mdef\u001b[39;49;00m \u001b[92mtest_spaces\u001b[39;49;00m(name):\u001b[90m\u001b[39;49;00m\n",
            "        greeter = Greeter()\u001b[90m\u001b[39;49;00m\n",
            "        greeted_name = greeter.greet(name).split(\u001b[33m\"\u001b[39;49;00m\u001b[33m \u001b[39;49;00m\u001b[33m\"\u001b[39;49;00m, \u001b[94m1\u001b[39;49;00m)[\u001b[94m1\u001b[39;49;00m]\u001b[90m\u001b[39;49;00m\n",
            "    \u001b[90m\u001b[39;49;00m\n",
            ">       \u001b[94massert\u001b[39;49;00m \u001b[95mnot\u001b[39;49;00m greeted_name.startswith(\u001b[33m\"\u001b[39;49;00m\u001b[33m \u001b[39;49;00m\u001b[33m\"\u001b[39;49;00m) \u001b[95mand\u001b[39;49;00m \u001b[95mnot\u001b[39;49;00m greeted_name.endswith(\u001b[33m\"\u001b[39;49;00m\u001b[33m \u001b[39;49;00m\u001b[33m\"\u001b[39;49;00m)\u001b[90m\u001b[39;49;00m\n",
            "\u001b[1m\u001b[31mE       AssertionError: assert (not True)\u001b[0m\n",
            "\u001b[1m\u001b[31mE        +  where True = <built-in method startswith of str object at 0x7ac7ff898130>(' ')\u001b[0m\n",
            "\u001b[1m\u001b[31mE        +    where <built-in method startswith of str object at 0x7ac7ff898130> = ' '.startswith\u001b[0m\n",
            "\n",
            "\u001b[1m\u001b[31m<ipython-input-28-06978f9470a6>\u001b[0m:6: AssertionError\n",
            "\u001b[36m\u001b[1m===================================== short test summary info ======================================\u001b[0m\n",
            "\u001b[31mFAILED\u001b[0m t_560cae9863044c19ac33e5104c62aee6.py::\u001b[1mtest_spaces[  Mike]\u001b[0m - AssertionError: assert (not True)\n",
            "\u001b[31mFAILED\u001b[0m t_560cae9863044c19ac33e5104c62aee6.py::\u001b[1mtest_spaces[  Mike  ]\u001b[0m - AssertionError: assert (not True)\n"
          ]
        }
      ],
      "source": [
        "%%ipytest -q\n",
        "\n",
        "@pytest.mark.parametrize(\"name\", [\"Mike\", \" Mike\", \"Mike \", \" Mike \", \"  Mike\", \"  Mike  \"])\n",
        "def test_spaces(name):\n",
        "    greeter = Greeter()\n",
        "    greeted_name = greeter.greet(name).split(\" \", 1)[1]\n",
        "\n",
        "    assert not greeted_name.startswith(\" \") and not greeted_name.endswith(\" \")"
      ]
    },
    {
      "cell_type": "markdown",
      "metadata": {
        "id": "d6BtMPBQT_gp"
      },
      "source": [
        "Можно давать имена отдельным наборам параметров - тогда будет удобнее читать вывод пайтеста"
      ]
    },
    {
      "cell_type": "code",
      "execution_count": 29,
      "metadata": {
        "colab": {
          "base_uri": "https://localhost:8080/"
        },
        "id": "iYCwlBrHT_gp",
        "outputId": "8ad21779-4184-4146-a578-2f619e72410a"
      },
      "outputs": [
        {
          "output_type": "stream",
          "name": "stdout",
          "text": [
            "\u001b[32m.\u001b[0m\u001b[32m.\u001b[0m\u001b[32m.\u001b[0m\u001b[32m.\u001b[0m\u001b[31mF\u001b[0m\u001b[31mF\u001b[0m\u001b[31m                                                                                       [100%]\u001b[0m\n",
            "============================================= FAILURES =============================================\n",
            "\u001b[31m\u001b[1m____________________________________ test_spaces[double space] _____________________________________\u001b[0m\n",
            "\n",
            "name = '  Mike'\n",
            "\n",
            "    \u001b[37m@pytest\u001b[39;49;00m.mark.parametrize(\u001b[33m\"\u001b[39;49;00m\u001b[33mname\u001b[39;49;00m\u001b[33m\"\u001b[39;49;00m, [\u001b[33m\"\u001b[39;49;00m\u001b[33mMike\u001b[39;49;00m\u001b[33m\"\u001b[39;49;00m, \u001b[33m\"\u001b[39;49;00m\u001b[33m Mike\u001b[39;49;00m\u001b[33m\"\u001b[39;49;00m, \u001b[33m\"\u001b[39;49;00m\u001b[33mMike \u001b[39;49;00m\u001b[33m\"\u001b[39;49;00m, \u001b[33m\"\u001b[39;49;00m\u001b[33m Mike \u001b[39;49;00m\u001b[33m\"\u001b[39;49;00m, \u001b[33m\"\u001b[39;49;00m\u001b[33m  Mike\u001b[39;49;00m\u001b[33m\"\u001b[39;49;00m, \u001b[33m\"\u001b[39;49;00m\u001b[33m  Mike  \u001b[39;49;00m\u001b[33m\"\u001b[39;49;00m],\u001b[90m\u001b[39;49;00m\n",
            "                             ids=[\u001b[33m\"\u001b[39;49;00m\u001b[33mno spaces\u001b[39;49;00m\u001b[33m\"\u001b[39;49;00m, \u001b[33m\"\u001b[39;49;00m\u001b[33mleft space\u001b[39;49;00m\u001b[33m\"\u001b[39;49;00m, \u001b[33m\"\u001b[39;49;00m\u001b[33mright space\u001b[39;49;00m\u001b[33m\"\u001b[39;49;00m,\u001b[90m\u001b[39;49;00m\n",
            "                                  \u001b[33m\"\u001b[39;49;00m\u001b[33mtwo-side space\u001b[39;49;00m\u001b[33m\"\u001b[39;49;00m, \u001b[33m\"\u001b[39;49;00m\u001b[33mdouble space\u001b[39;49;00m\u001b[33m\"\u001b[39;49;00m, \u001b[33m\"\u001b[39;49;00m\u001b[33mtwo-sided double space\u001b[39;49;00m\u001b[33m\"\u001b[39;49;00m])\u001b[90m\u001b[39;49;00m\n",
            "    \u001b[94mdef\u001b[39;49;00m \u001b[92mtest_spaces\u001b[39;49;00m(name):\u001b[90m\u001b[39;49;00m\n",
            "        greeter = Greeter()\u001b[90m\u001b[39;49;00m\n",
            "        greeted_name = greeter.greet(name).split(\u001b[33m\"\u001b[39;49;00m\u001b[33m \u001b[39;49;00m\u001b[33m\"\u001b[39;49;00m, \u001b[94m1\u001b[39;49;00m)[\u001b[94m1\u001b[39;49;00m]\u001b[90m\u001b[39;49;00m\n",
            "    \u001b[90m\u001b[39;49;00m\n",
            ">       \u001b[94massert\u001b[39;49;00m \u001b[95mnot\u001b[39;49;00m greeted_name.startswith(\u001b[33m\"\u001b[39;49;00m\u001b[33m \u001b[39;49;00m\u001b[33m\"\u001b[39;49;00m) \u001b[95mand\u001b[39;49;00m \u001b[95mnot\u001b[39;49;00m greeted_name.endswith(\u001b[33m\"\u001b[39;49;00m\u001b[33m \u001b[39;49;00m\u001b[33m\"\u001b[39;49;00m)\u001b[90m\u001b[39;49;00m\n",
            "\u001b[1m\u001b[31mE       AssertionError: assert (not True)\u001b[0m\n",
            "\u001b[1m\u001b[31mE        +  where True = <built-in method startswith of str object at 0x7ac7d12c1470>(' ')\u001b[0m\n",
            "\u001b[1m\u001b[31mE        +    where <built-in method startswith of str object at 0x7ac7d12c1470> = ' Mike'.startswith\u001b[0m\n",
            "\n",
            "\u001b[1m\u001b[31m<ipython-input-29-4545c8eb55a1>\u001b[0m:8: AssertionError\n",
            "\u001b[31m\u001b[1m_______________________________ test_spaces[two-sided double space] ________________________________\u001b[0m\n",
            "\n",
            "name = '  Mike  '\n",
            "\n",
            "    \u001b[37m@pytest\u001b[39;49;00m.mark.parametrize(\u001b[33m\"\u001b[39;49;00m\u001b[33mname\u001b[39;49;00m\u001b[33m\"\u001b[39;49;00m, [\u001b[33m\"\u001b[39;49;00m\u001b[33mMike\u001b[39;49;00m\u001b[33m\"\u001b[39;49;00m, \u001b[33m\"\u001b[39;49;00m\u001b[33m Mike\u001b[39;49;00m\u001b[33m\"\u001b[39;49;00m, \u001b[33m\"\u001b[39;49;00m\u001b[33mMike \u001b[39;49;00m\u001b[33m\"\u001b[39;49;00m, \u001b[33m\"\u001b[39;49;00m\u001b[33m Mike \u001b[39;49;00m\u001b[33m\"\u001b[39;49;00m, \u001b[33m\"\u001b[39;49;00m\u001b[33m  Mike\u001b[39;49;00m\u001b[33m\"\u001b[39;49;00m, \u001b[33m\"\u001b[39;49;00m\u001b[33m  Mike  \u001b[39;49;00m\u001b[33m\"\u001b[39;49;00m],\u001b[90m\u001b[39;49;00m\n",
            "                             ids=[\u001b[33m\"\u001b[39;49;00m\u001b[33mno spaces\u001b[39;49;00m\u001b[33m\"\u001b[39;49;00m, \u001b[33m\"\u001b[39;49;00m\u001b[33mleft space\u001b[39;49;00m\u001b[33m\"\u001b[39;49;00m, \u001b[33m\"\u001b[39;49;00m\u001b[33mright space\u001b[39;49;00m\u001b[33m\"\u001b[39;49;00m,\u001b[90m\u001b[39;49;00m\n",
            "                                  \u001b[33m\"\u001b[39;49;00m\u001b[33mtwo-side space\u001b[39;49;00m\u001b[33m\"\u001b[39;49;00m, \u001b[33m\"\u001b[39;49;00m\u001b[33mdouble space\u001b[39;49;00m\u001b[33m\"\u001b[39;49;00m, \u001b[33m\"\u001b[39;49;00m\u001b[33mtwo-sided double space\u001b[39;49;00m\u001b[33m\"\u001b[39;49;00m])\u001b[90m\u001b[39;49;00m\n",
            "    \u001b[94mdef\u001b[39;49;00m \u001b[92mtest_spaces\u001b[39;49;00m(name):\u001b[90m\u001b[39;49;00m\n",
            "        greeter = Greeter()\u001b[90m\u001b[39;49;00m\n",
            "        greeted_name = greeter.greet(name).split(\u001b[33m\"\u001b[39;49;00m\u001b[33m \u001b[39;49;00m\u001b[33m\"\u001b[39;49;00m, \u001b[94m1\u001b[39;49;00m)[\u001b[94m1\u001b[39;49;00m]\u001b[90m\u001b[39;49;00m\n",
            "    \u001b[90m\u001b[39;49;00m\n",
            ">       \u001b[94massert\u001b[39;49;00m \u001b[95mnot\u001b[39;49;00m greeted_name.startswith(\u001b[33m\"\u001b[39;49;00m\u001b[33m \u001b[39;49;00m\u001b[33m\"\u001b[39;49;00m) \u001b[95mand\u001b[39;49;00m \u001b[95mnot\u001b[39;49;00m greeted_name.endswith(\u001b[33m\"\u001b[39;49;00m\u001b[33m \u001b[39;49;00m\u001b[33m\"\u001b[39;49;00m)\u001b[90m\u001b[39;49;00m\n",
            "\u001b[1m\u001b[31mE       AssertionError: assert (not True)\u001b[0m\n",
            "\u001b[1m\u001b[31mE        +  where True = <built-in method startswith of str object at 0x7ac7ff898130>(' ')\u001b[0m\n",
            "\u001b[1m\u001b[31mE        +    where <built-in method startswith of str object at 0x7ac7ff898130> = ' '.startswith\u001b[0m\n",
            "\n",
            "\u001b[1m\u001b[31m<ipython-input-29-4545c8eb55a1>\u001b[0m:8: AssertionError\n",
            "\u001b[36m\u001b[1m===================================== short test summary info ======================================\u001b[0m\n",
            "\u001b[31mFAILED\u001b[0m t_560cae9863044c19ac33e5104c62aee6.py::\u001b[1mtest_spaces[double space]\u001b[0m - AssertionError: assert (not True)\n",
            "\u001b[31mFAILED\u001b[0m t_560cae9863044c19ac33e5104c62aee6.py::\u001b[1mtest_spaces[two-sided double space]\u001b[0m - AssertionError: assert (not True)\n"
          ]
        }
      ],
      "source": [
        "%%ipytest -q\n",
        "\n",
        "@pytest.mark.parametrize(\"name\", [\"Mike\", \" Mike\", \"Mike \", \" Mike \", \"  Mike\", \"  Mike  \"],\n",
        "                         ids=[\"no spaces\", \"left space\", \"right space\",\n",
        "                              \"two-side space\", \"double space\", \"two-sided double space\"])\n",
        "def test_spaces(name):\n",
        "    greeter = Greeter()\n",
        "    greeted_name = greeter.greet(name).split(\" \", 1)[1]\n",
        "\n",
        "    assert not greeted_name.startswith(\" \") and not greeted_name.endswith(\" \")"
      ]
    },
    {
      "cell_type": "code",
      "execution_count": 30,
      "metadata": {
        "id": "dzU6qHsDT_gp"
      },
      "outputs": [],
      "source": [
        "class Greeter:\n",
        "    def greet(self, name):\n",
        "        while name.startswith(\" \"):\n",
        "            name = name[1:]\n",
        "        while name.endswith(\" \"):\n",
        "            name = name[:1]\n",
        "        return \"Hello \" + name"
      ]
    },
    {
      "cell_type": "code",
      "execution_count": 31,
      "metadata": {
        "colab": {
          "base_uri": "https://localhost:8080/"
        },
        "id": "VDassPT5T_gp",
        "outputId": "a419b413-84ca-49cb-d7f9-14285f043dd2"
      },
      "outputs": [
        {
          "output_type": "stream",
          "name": "stdout",
          "text": [
            "\u001b[32m.\u001b[0m\u001b[32m.\u001b[0m\u001b[32m.\u001b[0m\u001b[32m.\u001b[0m\u001b[32m.\u001b[0m\u001b[32m.\u001b[0m\u001b[32m                                                                                       [100%]\u001b[0m\n"
          ]
        }
      ],
      "source": [
        "%%ipytest -q\n",
        "\n",
        "@pytest.mark.parametrize(\"name\", [\"Mike\", \" Mike\", \"Mike \", \" Mike \", \"  Mike\", \"  Mike  \"],\n",
        "                         ids=[\"no spaces\", \"left space\", \"right space\",\n",
        "                              \"two-side space\", \"double space\", \"two-sided double space\"])\n",
        "def test_spaces(name):\n",
        "    greeter = Greeter()\n",
        "    greeted_name = greeter.greet(name).split(\" \", 1)[1]\n",
        "\n",
        "    assert not greeted_name.startswith(\" \") and not greeted_name.endswith(\" \")"
      ]
    },
    {
      "cell_type": "markdown",
      "metadata": {
        "id": "8NCOMrl5T_gp"
      },
      "source": [
        "Код кажется многословным! (как будто можем проще, правда?) После рефакторинга необходимо его подчистить!"
      ]
    },
    {
      "cell_type": "code",
      "execution_count": 32,
      "metadata": {
        "id": "cgaiShUAT_gp"
      },
      "outputs": [],
      "source": [
        "class Greeter:\n",
        "    def greet(self, name):\n",
        "        return \"Hello \" + name.strip()"
      ]
    },
    {
      "cell_type": "code",
      "execution_count": 33,
      "metadata": {
        "colab": {
          "base_uri": "https://localhost:8080/"
        },
        "id": "tyD2RN4vT_gp",
        "outputId": "4f658671-df4d-4c4d-f1ff-f933bc9f34bd"
      },
      "outputs": [
        {
          "output_type": "stream",
          "name": "stdout",
          "text": [
            "\u001b[32m.\u001b[0m\u001b[32m.\u001b[0m\u001b[32m.\u001b[0m\u001b[32m.\u001b[0m\u001b[32m.\u001b[0m\u001b[32m.\u001b[0m\u001b[32m.\u001b[0m\u001b[32m.\u001b[0m\u001b[32m.\u001b[0m\u001b[32m                                                                                    [100%]\u001b[0m\n"
          ]
        }
      ],
      "source": [
        "%%ipytest -q\n",
        "\n",
        "\n",
        "@pytest.mark.parametrize(\"name, greeting\", [(\"Mike\", \"Hello Mike\"), (\"John\", \"Hello John\"), (\"Greg\", \"Hello Greg\")])\n",
        "def test_greeter(name, greeting):\n",
        "    assert Greeter().greet(name) == greeting\n",
        "\n",
        "\n",
        "@pytest.mark.parametrize(\"name\", [\"Mike\", \" Mike\", \"Mike \", \" Mike \", \"  Mike\", \"  Mike  \"],\n",
        "                         ids=[\"no spaces\", \"left space\", \"right space\",\n",
        "                              \"two-side space\", \"double space\", \"two-sided double space\"])\n",
        "def test_spaces(name):\n",
        "    greeter = Greeter()\n",
        "    greeted_name = greeter.greet(name).split(\" \", 1)[1]\n",
        "\n",
        "    assert not greeted_name.startswith(\" \") and not greeted_name.endswith(\" \")"
      ]
    },
    {
      "cell_type": "markdown",
      "source": [
        "Шикарно, выполнили 2 пункта из 4, а также познакомились с параметризацией, можем сразу много кода написать"
      ],
      "metadata": {
        "id": "YuBEzwkdZLaK"
      }
    },
    {
      "cell_type": "markdown",
      "metadata": {
        "id": "f3obKQZnT_gp"
      },
      "source": [
        "## Моки и фикстуры"
      ]
    },
    {
      "cell_type": "markdown",
      "metadata": {
        "id": "d9mMpYbsT_gp"
      },
      "source": [
        "Mock (с англ - подделка, заглушка и тд) -- объекты, которые создаются для замены реальных объектов в процессе тестирования.\n",
        "\n",
        "Основная идея мока заключается в том, чтобы изолировать тестируемую часть системы от других компонентов, которые могут быть сложными, медленными или недоступными на момент тестирования.\n",
        "\n",
        "Большая потребность их возникает тогда, когда мы пишем большое и сложное приложение в котором имеется очень сложная логика и невозможно протестировать as appropriate, уже сразу написанный код.\n",
        "\n",
        "То есть логика следующая: мы не знаем, что у нас будет за объект/мы не хотим к нему обращаться. Чтобы протестировать функционал, нам необходимо создать какой-то фейк, который ***симулирует*** поведение нужного объекта. Вот это и есть Mock"
      ]
    },
    {
      "cell_type": "markdown",
      "metadata": {
        "id": "8Sea_9-0T_gp"
      },
      "source": [
        "Fixture (c англ - крепление, зацепка) -- уже подготовленные наборы данных, которые имеют состояние. В данном случае у нас уже есть какие-то данные, которые мы не хотим постоянно собирать (потому что собирать на каждый тест - долго/дорого). Идея: взять и зафиксировать их"
      ]
    },
    {
      "cell_type": "markdown",
      "metadata": {
        "id": "QaoYWpwpT_gp"
      },
      "source": [
        "Fixture != Mock"
      ]
    },
    {
      "cell_type": "markdown",
      "metadata": {
        "id": "fLiwslboT_gp"
      },
      "source": [
        "Рассмотрим типичную ситуацию когда прибегают к мокам:"
      ]
    },
    {
      "cell_type": "markdown",
      "metadata": {
        "id": "tExkpp83T_gp"
      },
      "source": [
        "**Проблема**\n",
        "Есть класс который взаимодействует со внешней системой, количество запросов ограниченно. Нужно уметь тестировать логику в которой фигурирует вызов этой внешней системы независя от реальных вызовов."
      ]
    },
    {
      "cell_type": "code",
      "execution_count": 34,
      "metadata": {
        "id": "CPgoPIvVT_gq"
      },
      "outputs": [],
      "source": [
        "class UserService:\n",
        "    def __init__(self, db):\n",
        "        self._db = db\n",
        "\n",
        "    def get_user_status(self, user_id):\n",
        "        user_data = self._db.get_user(user_id)  # представим что реализация и вызов этого метода нет\n",
        "        if user_data.get('active'):\n",
        "            return f\"User {user_id} is active\"\n",
        "        return f\"User {user_id} is deactivated\""
      ]
    },
    {
      "cell_type": "markdown",
      "metadata": {
        "id": "sEMSbyQkT_gq"
      },
      "source": [
        "Для того чтобы протестировать этот функционал приходят на помощь мокирование этого вызова. Мы пропишем в тесте что мы ожидаем от этого вызова и вернем значение:"
      ]
    },
    {
      "cell_type": "code",
      "source": [
        "!pip install mock"
      ],
      "metadata": {
        "id": "YXIGDoh3Z7GS"
      },
      "execution_count": null,
      "outputs": []
    },
    {
      "cell_type": "code",
      "execution_count": 37,
      "metadata": {
        "colab": {
          "base_uri": "https://localhost:8080/"
        },
        "id": "ZclI1NM-T_gq",
        "outputId": "193ec7ca-eab2-4205-aed2-fe72c50b5cbe"
      },
      "outputs": [
        {
          "output_type": "stream",
          "name": "stdout",
          "text": [
            "\u001b[32m.\u001b[0m\u001b[32m.\u001b[0m\u001b[32m.\u001b[0m\u001b[32m                                                                                          [100%]\u001b[0m\n"
          ]
        }
      ],
      "source": [
        "%%ipytest -q\n",
        "\n",
        "from mock import Mock\n",
        "\n",
        "@pytest.mark.parametrize(\"user_id, db_response, expected_message\", [\n",
        "    (1, {\"active\": True}, f\"User 1 is active\"),   # Активный пользователь\n",
        "    (2, {\"active\": False}, f\"User 2 is deactivated\"),  # Неактивный пользователь\n",
        "    (3, {}, \"User 3 is deactivated\"),  # Пустые данные пользователя\n",
        "])\n",
        "\n",
        "def test_user_service(user_id, db_response, expected_message):\n",
        "    mock_db = Mock()\n",
        "\n",
        "    mock_db.get_user.return_value = db_response\n",
        "\n",
        "    service = UserService(mock_db)\n",
        "\n",
        "    result = service.get_user_status(user_id)\n",
        "    assert result == expected_message\n",
        "\n",
        "    mock_db.get_user.assert_called_once_with(user_id)"
      ]
    },
    {
      "cell_type": "markdown",
      "metadata": {
        "id": "ewgT4W6_T_gq"
      },
      "source": [
        "Давайте рассмотрим что мы описали тут:\n",
        "\n",
        "* `mock_db = Mock()` -- создали пустой объект мока\n",
        "\n",
        "* `mock_db.get_user.return_value` -- Перегрузка мока. В буквальном смысле: при вызове метода `get` объекта `db` верни ответ `db_response`.\n",
        "\n",
        "Структура записи такова:\n",
        "\n",
        "`<экземпляр класса мока>.<подменяющий вызывающий метод>.return_value = <значение>`\n"
      ]
    },
    {
      "cell_type": "markdown",
      "metadata": {
        "id": "S9hewWvsT_gq"
      },
      "source": [
        "А что если мы хотим проверять вызов ошибки?"
      ]
    },
    {
      "cell_type": "markdown",
      "metadata": {
        "id": "GSgKCLH5T_gq"
      },
      "source": [
        "Давайте добавим в класс обработку ошибок:"
      ]
    },
    {
      "cell_type": "code",
      "execution_count": 38,
      "metadata": {
        "id": "lSYG4PeyT_gq"
      },
      "outputs": [],
      "source": [
        "class UserService:\n",
        "    def __init__(self, db):\n",
        "        self._db = db\n",
        "\n",
        "    def get_user_status(self, user_id):\n",
        "        try:\n",
        "            user_data = self._db.get_user(user_id)\n",
        "            if user_data.get('active'):\n",
        "                return f\"User {user_id} is active\"\n",
        "            return f\"User {user_id} is deactivated\"\n",
        "        except Exception as e:\n",
        "            return f\"Error retrieving user {user_id}: {str(e)}\""
      ]
    },
    {
      "cell_type": "markdown",
      "metadata": {
        "id": "yCaQLzJfT_gq"
      },
      "source": [
        "Напишем сценарий в котором при вызове метода будет вызываться ошибка:"
      ]
    },
    {
      "cell_type": "code",
      "execution_count": 39,
      "metadata": {
        "colab": {
          "base_uri": "https://localhost:8080/"
        },
        "id": "axgjpYaOT_gq",
        "outputId": "373de962-1357-458b-ef5a-1f8025494195"
      },
      "outputs": [
        {
          "output_type": "stream",
          "name": "stdout",
          "text": [
            "\u001b[32m.\u001b[0m\u001b[32m                                                                                            [100%]\u001b[0m\n"
          ]
        }
      ],
      "source": [
        "%%ipytest -q\n",
        "\n",
        "@pytest.mark.parametrize(\"user_id, db_response, expected_message, should_raise\", [\n",
        "    (4, None, \"Error retrieving user 4: Database connection failed\", True),\n",
        "])\n",
        "def test_user_service(user_id, db_response, expected_message, should_raise):\n",
        "    mock_db = Mock()\n",
        "\n",
        "    if should_raise:\n",
        "        mock_db.get_user.side_effect = Exception(\"Database connection failed\")\n",
        "    else:\n",
        "        mock_db.get_user.return_value = db_response\n",
        "\n",
        "    service = UserService(mock_db)\n",
        "    result = service.get_user_status(user_id)\n",
        "    assert result == expected_message\n",
        "    assert mock_db.get_user.call_count == 1"
      ]
    },
    {
      "cell_type": "markdown",
      "metadata": {
        "id": "22gN4HHKT_gq"
      },
      "source": [
        "Все что мы заготавливали мы оставляем все как и есть. Но только заменяем `return_value` на `side_effect` и прописываем какую ошибку мы ждали:\n",
        "\n",
        "Структура записи такова:\n",
        "\n",
        "`<экземпляр класса мока>.<подменяющий вызывающий метод>.side_effect = <значение>`"
      ]
    },
    {
      "cell_type": "markdown",
      "metadata": {
        "id": "pusHisN1T_gq"
      },
      "source": [
        "Наблюдаемая проблема:\n",
        "\n",
        "* У нас появился Boiler Print в тестах от которого нужно избавляться!"
      ]
    },
    {
      "cell_type": "markdown",
      "metadata": {
        "id": "hocj8GyXT_gq"
      },
      "source": [
        "Фикстуры так же могут чистить использованный инвентарь за создаваемым объектом в конце теста и иметь разный scope - например создваться на каждый тест, модуль или тред, запускающий тесты. [Подробнее в документации](https://docs.pytest.org/en/stable/fixture.html).\n",
        "\n",
        "Scopes (скоупы) у фикстур бывают:\n",
        "* function (по умолчанию)\n",
        "* class -- внутри класса\n",
        "* module -- создаваемый внутри модуля"
      ]
    },
    {
      "cell_type": "markdown",
      "metadata": {
        "id": "IEqdo4FCT_gq"
      },
      "source": [
        "Давайте перепишем это в фикстуру!"
      ]
    },
    {
      "cell_type": "code",
      "execution_count": 40,
      "metadata": {
        "colab": {
          "base_uri": "https://localhost:8080/"
        },
        "id": "SwjHHtNsT_gq",
        "outputId": "9201feb5-1d45-4424-abc0-20ef6f1bad1b"
      },
      "outputs": [
        {
          "output_type": "stream",
          "name": "stdout",
          "text": [
            "\n"
          ]
        }
      ],
      "source": [
        "%%ipytest -q\n",
        "\n",
        "\n",
        "@pytest.fixture(scope='function')\n",
        "def mock_db(request):\n",
        "    mock_db = Mock()\n",
        "\n",
        "    db_response, should_raise = request.param\n",
        "\n",
        "    if should_raise:\n",
        "        mock_db.get_user.side_effect = Exception(\"Database connection failed\")\n",
        "    else:\n",
        "        mock_db.get_user.return_value = db_response\n",
        "\n",
        "    return mock_db\n"
      ]
    },
    {
      "cell_type": "code",
      "execution_count": 41,
      "metadata": {
        "colab": {
          "base_uri": "https://localhost:8080/"
        },
        "id": "q-EugYokT_gq",
        "outputId": "3c1c4ea2-6872-4a2f-afbf-fb9351921e45"
      },
      "outputs": [
        {
          "output_type": "stream",
          "name": "stdout",
          "text": [
            "\u001b[32m.\u001b[0m\u001b[32m.\u001b[0m\u001b[32m.\u001b[0m\u001b[32m.\u001b[0m\u001b[32m                                                                                         [100%]\u001b[0m\n"
          ]
        }
      ],
      "source": [
        "%%ipytest -q\n",
        "\n",
        "\n",
        "@pytest.mark.parametrize(\"mock_db, user_id, expected_message\", [\n",
        "    (({\"active\": True}, False), 1, \"User 1 is active\"),\n",
        "    (({\"active\": False}, False), 2, \"User 2 is deactivated\"),\n",
        "    (({}, False), 3, \"User 3 is deactivated\"),\n",
        "    ((None, True), 4, \"Error retrieving user 4: Database connection failed\"),\n",
        "], indirect=[\"mock_db\"])\n",
        "def test_user_service(mock_db, user_id, expected_message):\n",
        "    service = UserService(mock_db)\n",
        "\n",
        "    result = service.get_user_status(user_id)\n",
        "\n",
        "    assert result == expected_message\n",
        "\n",
        "    assert mock_db.get_user.call_count == 1"
      ]
    },
    {
      "cell_type": "markdown",
      "metadata": {
        "id": "G0Tw5JdZT_gr"
      },
      "source": [
        "Что мы тут сделали?\n",
        "* создали фикстуру в которой происходит подготовка всего необходимого для возвращения значений\n",
        "* немного поправили входные параметры в нашей параметризации: то есть мы прокинули туда Mock объект и прописали логику при которой будет вызываться новое поведение в `request.params`\n",
        "\n",
        "Такой механизм называется \"непрямая параметризация\" - `indirect parametrization`"
      ]
    },
    {
      "cell_type": "markdown",
      "metadata": {
        "id": "SRVNO7VeT_gr"
      },
      "source": [
        "В `pytest` объект request автоматически передается в фикстуры, когда они вызываются.\n",
        "Например, с его помощью можно получить параметры, переданные в фикстуру, или информацию о тестовой функции, которая используетcя оной.\n",
        "Когда используется параметризация тестов с флагом `indirect`, параметры передаются через фикстуру. Внутри фикстуры они становятся доступными через `request.param`"
      ]
    },
    {
      "cell_type": "markdown",
      "metadata": {
        "id": "MkjHn4QtT_gr"
      },
      "source": [
        "Для БД фикстура может выглядеть примерно так:"
      ]
    },
    {
      "cell_type": "code",
      "execution_count": 42,
      "metadata": {
        "colab": {
          "base_uri": "https://localhost:8080/"
        },
        "id": "xId3kTSrT_gr",
        "outputId": "738ab82c-5f7f-4b0f-92bc-28be9554559e"
      },
      "outputs": [
        {
          "output_type": "stream",
          "name": "stdout",
          "text": [
            "\u001b[32m.\u001b[0m\u001b[32m.\u001b[0m\u001b[32m                                                                                           [100%]\u001b[0m\n"
          ]
        }
      ],
      "source": [
        "%%ipytest -q\n",
        "\n",
        "class DBConnection:\n",
        "    pass\n",
        "\n",
        "class TestDB:\n",
        "    def init_db(self):\n",
        "        print(\"init db\")\n",
        "\n",
        "    def get_connection(self):\n",
        "        return DBConnection()\n",
        "\n",
        "    def shutdown(self):\n",
        "        print(\"close db\")\n",
        "\n",
        "@pytest.fixture(scope=\"module\")\n",
        "def db_connection():\n",
        "    db = TestDB()\n",
        "    db.init_db()\n",
        "    try:\n",
        "        yield db.get_connection()\n",
        "    finally:\n",
        "        db.shutdown()\n",
        "\n",
        "def test_db_1(db_connection):\n",
        "    assert db_connection\n",
        "\n",
        "def test_db_2(db_connection):\n",
        "    assert db_connection"
      ]
    },
    {
      "cell_type": "markdown",
      "metadata": {
        "id": "2PBSbqT5T_gr"
      },
      "source": [
        "Заключение:\n",
        "\n",
        "* Мок может меняться и быть в тесте, а в свою очередь фикстура имеет свою структуру и не может меняться\n",
        "* Моки легко параметризировать и писать различные тест кейсы на каждый случай\n",
        "* Легко \"вшивать фикстуры в тесты и прокидывать тестовые аргументы в параметры фикстуры тем самым задавая им свое поведение"
      ]
    },
    {
      "cell_type": "markdown",
      "metadata": {
        "id": "Gs2aPevqT_gr"
      },
      "source": [
        "#### Вернемся к решению каты:"
      ]
    },
    {
      "cell_type": "markdown",
      "metadata": {
        "id": "s8K1wvw6T_gr"
      },
      "source": [
        "Тесты нужно рефакторить. В основном главная задача тестов:\n",
        "* проверять код, покрывая все возможные случаи на берегу (чтобы не отправить багу в production и при этом не потерять деньги)\n",
        "* понятность и простота тестов (нельзя долго писать тесты на определенную фичу, это стоит очень дорого и ресурсы не предрасположены чтобы заниматься ими. Помните: тесты хоть и не помогают в зарабатыванию денег, но при этом без них есть шанс потерять много денег)\n",
        "* documentation as a code (когда вы придете работать куда-нибудь, они вам помогут быстрее разобраться в коде, чем вы сами сидели и читали код)"
      ]
    },
    {
      "cell_type": "markdown",
      "metadata": {
        "id": "nBfbmIRFT_gr"
      },
      "source": [
        "**[Первая проблема]**:\n",
        "* Имена тестов не очень информативны. Если упадет тест `test_greater` - будет не совсем понятно что именно тестировалось и что надо чинить. В целом имена тестам надо давать как можно более подробные - тесты вызываются автоматически, автоматике длинна имени безразлична, а вот человеку, читающему выхлоп пайтеста, лучше предоставить как можно больше информации.\n",
        "\n",
        "[Статья на тему](https://enterprisecraftsmanship.com/posts/you-naming-tests-wrong)"
      ]
    },
    {
      "cell_type": "code",
      "execution_count": 43,
      "metadata": {
        "colab": {
          "base_uri": "https://localhost:8080/"
        },
        "id": "C4jCFkqyT_gr",
        "outputId": "15ce3159-0284-4f17-eea5-87dfc0ef1f9a"
      },
      "outputs": [
        {
          "output_type": "stream",
          "name": "stdout",
          "text": [
            "\u001b[32m.\u001b[0m\u001b[32m.\u001b[0m\u001b[32m.\u001b[0m\u001b[32m.\u001b[0m\u001b[32m.\u001b[0m\u001b[32m.\u001b[0m\u001b[32m.\u001b[0m\u001b[32m.\u001b[0m\u001b[32m.\u001b[0m\u001b[32m                                                                                    [100%]\u001b[0m\n"
          ]
        }
      ],
      "source": [
        "%%ipytest -q\n",
        "\n",
        "@pytest.mark.parametrize(\"name\", [\"Mike\", \"John\", \"Greg\"])\n",
        "def test_greet_returns_name_with_greeting(name):\n",
        "    assert Greeter().greet(name) == \"Hello \" + name\n",
        "\n",
        "\n",
        "@pytest.mark.parametrize(\"name\", [\"Mike\", \" Mike\", \"Mike \", \" Mike \", \"  Mike\", \"  Mike  \"],\n",
        "                         ids=[\"no spaces\", \"left space\", \"right space\",\n",
        "                              \"two-side space\", \"double space\", \"two-sided double space\"])\n",
        "def test_greet_removes_leading_and_trailing_spaces_from_name(name):\n",
        "    greeter = Greeter()\n",
        "    greeted_name = greeter.greet(name).split(\" \", 1)[1]\n",
        "\n",
        "    assert not greeted_name.startswith(\" \") and not greeted_name.endswith(\" \")"
      ]
    },
    {
      "cell_type": "markdown",
      "metadata": {
        "id": "PQVAfaz-T_gr"
      },
      "source": [
        "**[Вторая проблема]**\n",
        "\n",
        "В обоих тестах мы создаем `greeter`. Это привожит к дублированию кода. Кроме того, на практике вместо `greeter` у нас может быть какой-нибудь тяжелый объект типа базы даных или контекста сессии, который надо каждый раз инициализировать и чистить. Решить эти проблемы нам поможет механизм фикстур:"
      ]
    },
    {
      "cell_type": "code",
      "execution_count": 44,
      "metadata": {
        "colab": {
          "base_uri": "https://localhost:8080/"
        },
        "id": "eiU4OzgDT_gr",
        "outputId": "54f9a026-5763-4ded-add4-5ef4ff0551a1"
      },
      "outputs": [
        {
          "output_type": "stream",
          "name": "stdout",
          "text": [
            "\u001b[32m.\u001b[0m\u001b[32m.\u001b[0m\u001b[32m.\u001b[0m\u001b[32m.\u001b[0m\u001b[32m.\u001b[0m\u001b[32m.\u001b[0m\u001b[32m.\u001b[0m\u001b[32m.\u001b[0m\u001b[32m.\u001b[0m\u001b[32m                                                                                    [100%]\u001b[0m\n"
          ]
        }
      ],
      "source": [
        "%%ipytest -q\n",
        "\n",
        "@pytest.fixture(scope=\"module\")\n",
        "def greeter():\n",
        "    yield Greeter()\n",
        "\n",
        "@pytest.mark.parametrize(\"name\", [\"Mike\", \"John\", \"Greg\"])\n",
        "def test_greet_returns_name_with_greeting(greeter, name):\n",
        "    assert Greeter().greet(name) == \"Hello \" + name\n",
        "\n",
        "\n",
        "@pytest.mark.parametrize(\"name\", [\"Mike\", \" Mike\", \"Mike \", \" Mike \", \"  Mike\", \"  Mike  \"],\n",
        "                         ids=[\"no spaces\", \"left space\", \"right space\",\n",
        "                              \"two-side space\", \"double space\", \"two-sided double space\"])\n",
        "def test_greet_removes_leading_and_trailing_spaces_from_name(greeter, name):\n",
        "    greeted_name = greeter.greet(name).split(\" \", 1)[1]\n",
        "    assert not greeted_name.startswith(\" \") and not greeted_name.endswith(\" \")"
      ]
    },
    {
      "cell_type": "markdown",
      "metadata": {
        "id": "06O3-ulsT_gr"
      },
      "source": [
        "Так же в `pytest` есть разные встроенные фикстуры. [Список лежит здесь](https://docs.pytest.org/en/stable/fixture.html). Наиболее интересные:\n",
        "* monkeypatch - временно можифицирует методы классов, модулей и т.д.\n",
        "* testdir - создает верменную директорию для каждого теста, которую потом чистит"
      ]
    },
    {
      "cell_type": "markdown",
      "metadata": {
        "id": "1qa49ByLT_gr"
      },
      "source": [
        "## Тестирование исключений, патчинг и работа с тестами где фигурируют флоты"
      ]
    },
    {
      "cell_type": "markdown",
      "source": [
        "Возвращаемся к катам. Третья часть:\n",
        "\n",
        "- Метод `greet` должен возвращать ошибку если имя - пустая строка (или строка с пробелами)"
      ],
      "metadata": {
        "id": "teftPzR1cJ8N"
      }
    },
    {
      "cell_type": "markdown",
      "metadata": {
        "id": "sZHnPXY8T_gr"
      },
      "source": [
        "Проблема: мы должны тестировать исключение, но при этом мы не должны его ловить стандартным try-catch в тесте а просто создать среду в котором будет **ожидаться** падение теста. Для этого необходимо это создать в тесте. На помощь приходит ```pytest.raises``` (который ожидает, что БУДЕТ ошибка)"
      ]
    },
    {
      "cell_type": "code",
      "execution_count": 45,
      "metadata": {
        "colab": {
          "base_uri": "https://localhost:8080/"
        },
        "id": "QAnfzBx1T_gs",
        "outputId": "de2e70ce-2024-41ea-e268-9680c948cedf"
      },
      "outputs": [
        {
          "output_type": "stream",
          "name": "stdout",
          "text": [
            "\u001b[31mF\u001b[0m\u001b[31m                                                                                            [100%]\u001b[0m\n",
            "============================================= FAILURES =============================================\n",
            "\u001b[31m\u001b[1m__________________________ test_greet_raises_value_error_on_empty_string ___________________________\u001b[0m\n",
            "\n",
            "greeter = <__main__.Greeter object at 0x7ac7d0427100>\n",
            "\n",
            "    \u001b[94mdef\u001b[39;49;00m \u001b[92mtest_greet_raises_value_error_on_empty_string\u001b[39;49;00m(greeter):\u001b[90m\u001b[39;49;00m\n",
            ">       \u001b[94mwith\u001b[39;49;00m pytest.raises(\u001b[96mException\u001b[39;49;00m): \u001b[90m# (*)\u001b[39;49;00m\u001b[90m\u001b[39;49;00m\n",
            "\u001b[1m\u001b[31mE       Failed: DID NOT RAISE <class 'Exception'>\u001b[0m\n",
            "\n",
            "\u001b[1m\u001b[31m<ipython-input-45-b4c7ee57e28b>\u001b[0m:6: Failed\n",
            "\u001b[36m\u001b[1m===================================== short test summary info ======================================\u001b[0m\n",
            "\u001b[31mFAILED\u001b[0m t_560cae9863044c19ac33e5104c62aee6.py::\u001b[1mtest_greet_raises_value_error_on_empty_string\u001b[0m - Failed: DID NOT RAISE <class 'Exception'>\n"
          ]
        }
      ],
      "source": [
        "%%ipytest -q\n",
        "\n",
        "@pytest.fixture(scope=\"module\")\n",
        "def greeter():\n",
        "    yield Greeter()\n",
        "\n",
        "def test_greet_raises_value_error_on_empty_string(greeter):\n",
        "    with pytest.raises(Exception): # (*)\n",
        "        greeter.greet(\"\")\n",
        "\n",
        "# (*) обычно вы тут ждать определенную ошибку которую вы сами создали, к примеру вы написали класс ошибки которым отнаследовались от базового класса Exception"
      ]
    },
    {
      "cell_type": "markdown",
      "metadata": {
        "id": "EeH-K3PsT_gs"
      },
      "source": [
        "По тексту отчета видим, что тест ожидал исключения, но его не было. Починим тест:"
      ]
    },
    {
      "cell_type": "code",
      "execution_count": 63,
      "metadata": {
        "id": "51dqu9SmT_gs"
      },
      "outputs": [],
      "source": [
        "class Greeter:\n",
        "    def greet(self, name):\n",
        "        name = name.strip()\n",
        "        if not name:\n",
        "            raise ValueError(\"Empty name!\")\n",
        "        return \"Hello \" + name"
      ]
    },
    {
      "cell_type": "markdown",
      "source": [
        "И дополнительно параметризуем:"
      ],
      "metadata": {
        "id": "qhTO6c0gco3D"
      }
    },
    {
      "cell_type": "code",
      "execution_count": 53,
      "metadata": {
        "colab": {
          "base_uri": "https://localhost:8080/"
        },
        "id": "wY3lGILyT_gs",
        "outputId": "72ad9b24-99bc-40dc-e800-1b692e247c89"
      },
      "outputs": [
        {
          "output_type": "stream",
          "name": "stdout",
          "text": [
            "\u001b[32m.\u001b[0m\u001b[32m.\u001b[0m\u001b[32m.\u001b[0m\u001b[32m.\u001b[0m\u001b[32m.\u001b[0m\u001b[32m.\u001b[0m\u001b[32m.\u001b[0m\u001b[32m.\u001b[0m\u001b[32m.\u001b[0m\u001b[32m.\u001b[0m\u001b[32m.\u001b[0m\u001b[32m.\u001b[0m\u001b[32m.\u001b[0m\u001b[32m                                                                                [100%]\u001b[0m\n"
          ]
        }
      ],
      "source": [
        "%%ipytest -q\n",
        "\n",
        "@pytest.fixture(scope=\"module\")\n",
        "def greeter():\n",
        "    yield Greeter()\n",
        "\n",
        "@pytest.mark.parametrize(\"name\", [\"Mike\", \"John\", \"Greg\"])\n",
        "def test_greet_returns_name_with_greeting(greeter, name):\n",
        "    assert Greeter().greet(name) == \"Hello \" + name\n",
        "\n",
        "\n",
        "@pytest.mark.parametrize(\"name\", [\"Mike\", \" Mike\", \"Mike \", \" Mike \", \"  Mike\", \"  Mike  \"],\n",
        "                         ids=[\"no spaces\", \"left space\", \"right space\",\n",
        "                              \"two-side space\", \"double space\", \"two-sided double space\"])\n",
        "def test_greet_removes_leading_and_trailing_spaces_from_name(greeter, name):\n",
        "    greeted_name = greeter.greet(name).split(\" \", 1)[1]\n",
        "    assert not greeted_name.startswith(\" \") and not greeted_name.endswith(\" \")\n",
        "\n",
        "@pytest.mark.parametrize(\"name\", [\"\", \"   \", \"  \", \" \"])\n",
        "def test_greet_raises_value_error_on_empty_string(greeter, name):\n",
        "    with pytest.raises(ValueError):\n",
        "        greeter.greet(name)"
      ]
    },
    {
      "cell_type": "markdown",
      "source": [
        "Ура, осталась последняя ката:\n",
        "\n",
        "- Метод `greet` возвращает \"Good evening <имя>\" если текущее время - 18:00-22:59"
      ],
      "metadata": {
        "id": "9G6zGcXQcs-o"
      }
    },
    {
      "cell_type": "markdown",
      "metadata": {
        "id": "r5wk5mltT_gs"
      },
      "source": [
        " ## Работа с тестами при участии времени"
      ]
    },
    {
      "cell_type": "markdown",
      "source": [
        "Пишем тест:"
      ],
      "metadata": {
        "id": "O0y03Q06dI8d"
      }
    },
    {
      "cell_type": "code",
      "source": [
        "%%ipytest -q\n",
        "\n",
        "import datetime\n",
        "\n",
        "@pytest.fixture(scope=\"module\")\n",
        "def greeter():\n",
        "    yield Greeter()\n",
        "\n",
        "def test_greeting_is_good_evening_in_evening(monkeypatch, greeter):\n",
        "    fake_time =  datetime.datetime(2020, 11, 10, 19)\n",
        "    class mydatetime:\n",
        "        @classmethod\n",
        "        def now(cls):\n",
        "            return fake_time\n",
        "\n",
        "    monkeypatch.setattr(datetime, 'datetime', mydatetime)\n",
        "    assert greeter.greet(\"Mike\").startswith(\"Good evening\")"
      ],
      "metadata": {
        "colab": {
          "base_uri": "https://localhost:8080/"
        },
        "id": "HxXELQCRdG5D",
        "outputId": "596b443b-5121-4b43-8e91-86a940dad270"
      },
      "execution_count": 64,
      "outputs": [
        {
          "output_type": "stream",
          "name": "stdout",
          "text": [
            "\u001b[31mF\u001b[0m\u001b[31m                                                                                            [100%]\u001b[0m\n",
            "============================================= FAILURES =============================================\n",
            "\u001b[31m\u001b[1m_____________________________ test_greeting_is_good_evening_in_evening _____________________________\u001b[0m\n",
            "\n",
            "monkeypatch = <_pytest.monkeypatch.MonkeyPatch object at 0x7ac7d04d2c80>\n",
            "greeter = <__main__.Greeter object at 0x7ac7d04d3a00>\n",
            "\n",
            "    \u001b[94mdef\u001b[39;49;00m \u001b[92mtest_greeting_is_good_evening_in_evening\u001b[39;49;00m(monkeypatch, greeter):\u001b[90m\u001b[39;49;00m\n",
            "        fake_time =  datetime.datetime(\u001b[94m2020\u001b[39;49;00m, \u001b[94m11\u001b[39;49;00m, \u001b[94m10\u001b[39;49;00m, \u001b[94m19\u001b[39;49;00m)\u001b[90m\u001b[39;49;00m\n",
            "        \u001b[94mclass\u001b[39;49;00m \u001b[04m\u001b[92mmydatetime\u001b[39;49;00m:\u001b[90m\u001b[39;49;00m\n",
            "            \u001b[37m@classmethod\u001b[39;49;00m\u001b[90m\u001b[39;49;00m\n",
            "            \u001b[94mdef\u001b[39;49;00m \u001b[92mnow\u001b[39;49;00m(\u001b[96mcls\u001b[39;49;00m):\u001b[90m\u001b[39;49;00m\n",
            "                \u001b[94mreturn\u001b[39;49;00m fake_time\u001b[90m\u001b[39;49;00m\n",
            "    \u001b[90m\u001b[39;49;00m\n",
            "        monkeypatch.setattr(datetime, \u001b[33m'\u001b[39;49;00m\u001b[33mdatetime\u001b[39;49;00m\u001b[33m'\u001b[39;49;00m, mydatetime)\u001b[90m\u001b[39;49;00m\n",
            ">       \u001b[94massert\u001b[39;49;00m greeter.greet(\u001b[33m\"\u001b[39;49;00m\u001b[33mMike\u001b[39;49;00m\u001b[33m\"\u001b[39;49;00m).startswith(\u001b[33m\"\u001b[39;49;00m\u001b[33mGood evening\u001b[39;49;00m\u001b[33m\"\u001b[39;49;00m)\u001b[90m\u001b[39;49;00m\n",
            "\u001b[1m\u001b[31mE       AssertionError: assert False\u001b[0m\n",
            "\u001b[1m\u001b[31mE        +  where False = <built-in method startswith of str object at 0x7ac7d0263cf0>('Good evening')\u001b[0m\n",
            "\u001b[1m\u001b[31mE        +    where <built-in method startswith of str object at 0x7ac7d0263cf0> = 'Hello Mike'.startswith\u001b[0m\n",
            "\u001b[1m\u001b[31mE        +      where 'Hello Mike' = <bound method Greeter.greet of <__main__.Greeter object at 0x7ac7d04d3a00>>('Mike')\u001b[0m\n",
            "\u001b[1m\u001b[31mE        +        where <bound method Greeter.greet of <__main__.Greeter object at 0x7ac7d04d3a00>> = <__main__.Greeter object at 0x7ac7d04d3a00>.greet\u001b[0m\n",
            "\n",
            "\u001b[1m\u001b[31m<ipython-input-64-640258560748>\u001b[0m:15: AssertionError\n",
            "\u001b[36m\u001b[1m===================================== short test summary info ======================================\u001b[0m\n",
            "\u001b[31mFAILED\u001b[0m t_560cae9863044c19ac33e5104c62aee6.py::\u001b[1mtest_greeting_is_good_evening_in_evening\u001b[0m - AssertionError: assert False\n"
          ]
        }
      ]
    },
    {
      "cell_type": "markdown",
      "source": [
        "Изменим код, и разберем тест выше:"
      ],
      "metadata": {
        "id": "W8vRbCOPdZ30"
      }
    },
    {
      "cell_type": "code",
      "execution_count": 67,
      "metadata": {
        "id": "C9eD9iEyT_gs"
      },
      "outputs": [],
      "source": [
        "import datetime\n",
        "\n",
        "class Greeter:\n",
        "    def greet(self, name):\n",
        "        name = name.strip()\n",
        "        if not name:\n",
        "            raise ValueError(\"Empty name!\")\n",
        "        hour = datetime.datetime.now().hour\n",
        "        if 18 <= hour <= 22:\n",
        "            return \"Good evening \" + name\n",
        "        return \"Hello \" + name"
      ]
    },
    {
      "cell_type": "markdown",
      "metadata": {
        "id": "n8MgaC5FT_gs"
      },
      "source": [
        "Посмотрим, что со старыми тестами (они не будут падать, но как будто что-то не то)"
      ]
    },
    {
      "cell_type": "code",
      "execution_count": 68,
      "metadata": {
        "colab": {
          "base_uri": "https://localhost:8080/"
        },
        "id": "PLY4F9z8T_gs",
        "outputId": "4a758b32-f1a4-44cc-b5ca-0f8883863aaa"
      },
      "outputs": [
        {
          "output_type": "stream",
          "name": "stdout",
          "text": [
            "\u001b[32m.\u001b[0m\u001b[32m.\u001b[0m\u001b[32m.\u001b[0m\u001b[32m.\u001b[0m\u001b[32m.\u001b[0m\u001b[32m.\u001b[0m\u001b[32m.\u001b[0m\u001b[32m.\u001b[0m\u001b[32m.\u001b[0m\u001b[32m.\u001b[0m\u001b[32m.\u001b[0m\u001b[32m.\u001b[0m\u001b[32m.\u001b[0m\u001b[32m                                                                                [100%]\u001b[0m\n"
          ]
        }
      ],
      "source": [
        "%%ipytest -q\n",
        "\n",
        "@pytest.fixture(scope=\"module\")\n",
        "def greeter():\n",
        "    yield Greeter()\n",
        "\n",
        "@pytest.mark.parametrize(\"name\", [\"Mike\", \"John\", \"Greg\"])\n",
        "def test_greet_returns_name_with_greeting(greeter, name):\n",
        "    assert Greeter().greet(name) == \"Hello \" + name\n",
        "\n",
        "\n",
        "@pytest.mark.parametrize(\"name\", [\"Mike\", \" Mike\", \"Mike \", \" Mike \", \"  Mike\", \"  Mike  \"],\n",
        "                         ids=[\"no spaces\", \"left space\", \"right space\",\n",
        "                              \"two-side space\", \"double space\", \"two-sided double space\"])\n",
        "def test_greet_removes_leading_and_trailing_spaces_from_name(greeter, name):\n",
        "    greeted_name = greeter.greet(name).split(\" \", 1)[1]\n",
        "    assert not greeted_name.startswith(\" \") and not greeted_name.endswith(\" \")\n",
        "\n",
        "@pytest.mark.parametrize(\"name\", [\"\", \"   \", \"  \", \" \"])\n",
        "def test_greet_raises_value_error_on_empty_string(greeter, name):\n",
        "    with pytest.raises(ValueError):\n",
        "        greeter.greet(name)"
      ]
    },
    {
      "cell_type": "markdown",
      "metadata": {
        "id": "F8JLAnDQT_gs"
      },
      "source": [
        "Будет падать, потому что время текущее не матчится. Зададим дефолтное время."
      ]
    },
    {
      "cell_type": "code",
      "execution_count": 70,
      "metadata": {
        "colab": {
          "base_uri": "https://localhost:8080/"
        },
        "id": "hTLTElK0T_gs",
        "outputId": "06f3eca1-705c-45a7-83a9-5111ca8343af"
      },
      "outputs": [
        {
          "output_type": "stream",
          "name": "stdout",
          "text": [
            "\u001b[32m.\u001b[0m\u001b[32m.\u001b[0m\u001b[32m.\u001b[0m\u001b[32m.\u001b[0m\u001b[32m.\u001b[0m\u001b[32m.\u001b[0m\u001b[32m.\u001b[0m\u001b[32m.\u001b[0m\u001b[32m.\u001b[0m\u001b[32m.\u001b[0m\u001b[32m                                                                                   [100%]\u001b[0m\n"
          ]
        }
      ],
      "source": [
        "%%ipytest -q\n",
        "import datetime\n",
        "\n",
        "\n",
        "@pytest.fixture(scope=\"function\")\n",
        "def set_time(monkeypatch):\n",
        "    def set_time_(time):\n",
        "        class mydatetime:\n",
        "            @classmethod\n",
        "            def now(cls):\n",
        "                return time\n",
        "\n",
        "        monkeypatch.setattr(datetime, 'datetime', mydatetime)\n",
        "    yield set_time_\n",
        "\n",
        "\n",
        "@pytest.fixture(scope=\"function\")\n",
        "def set_day_time(set_time):\n",
        "    yield set_time(datetime.datetime(2020, 10, 10, 10))\n",
        "\n",
        "\n",
        "@pytest.mark.parametrize(\"name\", [\"Mike\", \"John\", \"Greg\"])\n",
        "def test_greet_returns_name_with_greeting(set_day_time, greeter, name):\n",
        "    assert Greeter().greet(name) == \"Hello \" + name\n",
        "\n",
        "\n",
        "@pytest.mark.parametrize(\"name\", [\"Mike\", \" Mike\", \"Mike \", \" Mike \", \"  Mike\", \"  Mike  \"],\n",
        "                         ids=[\"no spaces\", \"left space\", \"right space\",\n",
        "                              \"two-side space\", \"double space\", \"two-sided double space\"])\n",
        "def test_greet_removes_leading_and_trailing_spaces_from_name(set_day_time, greeter, name):\n",
        "    greeted_name = greeter.greet(name).split(\" \", 1)[1]\n",
        "    assert not greeted_name.startswith(\" \") and not greeted_name.endswith(\" \")\n",
        "\n",
        "\n",
        "def test_greeting_is_good_evening_in_evening(set_time, monkeypatch, greeter):\n",
        "    set_time(datetime.datetime(2020, 11, 10, 19))\n",
        "    assert greeter.greet(\"Mike\").startswith(\"Good evening\")"
      ]
    },
    {
      "cell_type": "markdown",
      "source": [
        "Ну вроде все, у нас все удалось, поздравляю!"
      ],
      "metadata": {
        "id": "16V3MjJuemoI"
      }
    },
    {
      "cell_type": "markdown",
      "metadata": {
        "id": "A30PpPoIT_gs"
      },
      "source": [
        "## Работа с плавающей точкой"
      ]
    },
    {
      "cell_type": "markdown",
      "metadata": {
        "id": "XR2AWUjaT_gs"
      },
      "source": [
        "Сравнение `float` сталось за кадром - разберем его отдельно.\n",
        " Из-за ошибок округления `float` трудно сравнивать через `==`"
      ]
    },
    {
      "cell_type": "code",
      "execution_count": 72,
      "metadata": {
        "colab": {
          "base_uri": "https://localhost:8080/"
        },
        "id": "XAuVo3DmT_gs",
        "outputId": "c19b85c7-2408-4809-e35d-c0ddae4a93b4"
      },
      "outputs": [
        {
          "output_type": "stream",
          "name": "stdout",
          "text": [
            "\u001b[31mF\u001b[0m\u001b[31m                                                                                            [100%]\u001b[0m\n",
            "============================================= FAILURES =============================================\n",
            "\u001b[31m\u001b[1m____________________________________________ test_float ____________________________________________\u001b[0m\n",
            "\n",
            "    \u001b[94mdef\u001b[39;49;00m \u001b[92mtest_float\u001b[39;49;00m():\u001b[90m\u001b[39;49;00m\n",
            ">       \u001b[94massert\u001b[39;49;00m \u001b[94m0.1\u001b[39;49;00m + \u001b[94m0.2\u001b[39;49;00m == \u001b[94m0.3\u001b[39;49;00m\u001b[90m\u001b[39;49;00m\n",
            "\u001b[1m\u001b[31mE       assert (0.1 + 0.2) == 0.3\u001b[0m\n",
            "\n",
            "\u001b[1m\u001b[31m<ipython-input-72-d4fdc5effe72>\u001b[0m:2: AssertionError\n",
            "\u001b[36m\u001b[1m===================================== short test summary info ======================================\u001b[0m\n",
            "\u001b[31mFAILED\u001b[0m t_560cae9863044c19ac33e5104c62aee6.py::\u001b[1mtest_float\u001b[0m - assert (0.1 + 0.2) == 0.3\n"
          ]
        }
      ],
      "source": [
        "%%ipytest -q\n",
        "def test_float():\n",
        "    assert 0.1 + 0.2 == 0.3"
      ]
    },
    {
      "cell_type": "markdown",
      "metadata": {
        "id": "uagSvK3PT_gs"
      },
      "source": [
        "На помощь приходит API pytest'а заиспользуем `pytest.approx`"
      ]
    },
    {
      "cell_type": "code",
      "execution_count": 71,
      "metadata": {
        "colab": {
          "base_uri": "https://localhost:8080/"
        },
        "id": "4mUqq8g_T_gs",
        "outputId": "c6f0c803-2bec-4d57-954f-1c097b7d8a63"
      },
      "outputs": [
        {
          "output_type": "stream",
          "name": "stdout",
          "text": [
            "\u001b[32m.\u001b[0m\u001b[32m                                                                                            [100%]\u001b[0m\n"
          ]
        }
      ],
      "source": [
        "%%ipytest -q\n",
        "def test_float():\n",
        "    assert [0.1 + 0.2, 0.5] == pytest.approx([0.3, 0.5])"
      ]
    },
    {
      "cell_type": "markdown",
      "metadata": {
        "id": "cICypLWKT_gt"
      },
      "source": [
        "## Манкипатчинг запросов"
      ]
    },
    {
      "cell_type": "markdown",
      "metadata": {
        "id": "frhV6EdlT_gt"
      },
      "source": [
        "В вашей системе используется платное апи и просто так делать запросы дорого или невозможно. Но проверить логику необходимо.\n",
        "\n",
        "Что для этого нужно?\n",
        "* знать что приходит к нам на вход после сделанного запроса"
      ]
    },
    {
      "cell_type": "markdown",
      "metadata": {
        "id": "wmmo4Sd2T_gt"
      },
      "source": [
        "Возьмем любую публичную API, к примеру апи которая предоставляет рандомные шутки"
      ]
    },
    {
      "cell_type": "code",
      "execution_count": 76,
      "metadata": {
        "colab": {
          "base_uri": "https://localhost:8080/"
        },
        "id": "n7UTOoUyT_gt",
        "outputId": "4900e72c-20d3-4b87-f512-068a5f54bfbb"
      },
      "outputs": [
        {
          "output_type": "stream",
          "name": "stdout",
          "text": [
            "{\"type\":\"programming\",\"setup\":\"How many React developers does it take to change a lightbulb?\",\"punchline\":\"None, they prefer dark mode.\",\"id\":410}\n"
          ]
        }
      ],
      "source": [
        "import requests\n",
        "\n",
        "URL = \"https://official-joke-api.appspot.com/random_joke\"\n",
        "\n",
        "print(requests.get(URL).text)"
      ]
    },
    {
      "cell_type": "code",
      "execution_count": 74,
      "metadata": {
        "id": "mvAlEbdMT_gt"
      },
      "outputs": [],
      "source": [
        "def get_json(url: str):\n",
        "    \"\"\"Takes a URL, and returns the JSON.\"\"\"\n",
        "    return requests.get(url).json()"
      ]
    },
    {
      "cell_type": "markdown",
      "metadata": {
        "id": "4MXf1n0KT_gt"
      },
      "source": [
        "Как мы могли заметить, структура JSON'а такова:\n",
        "\n",
        "```json\n",
        "{\n",
        "    \"type\":\"general\",\n",
        "    \"setup\":\"Why didn't the skeleton go for prom?\",\n",
        "    \"punchline\":\"Because it had nobody.\",\n",
        "    \"id\":396\n",
        "}\n",
        "\n",
        "```"
      ]
    },
    {
      "cell_type": "code",
      "execution_count": 77,
      "metadata": {
        "colab": {
          "base_uri": "https://localhost:8080/"
        },
        "id": "LMQqKXHkT_gt",
        "outputId": "752453c6-af60-4620-93bb-72646c3d6a19"
      },
      "outputs": [
        {
          "output_type": "stream",
          "name": "stdout",
          "text": [
            "\u001b[32m.\u001b[0m\u001b[32m                                                                                            [100%]\u001b[0m\n"
          ]
        }
      ],
      "source": [
        "%%ipytest -q\n",
        "import pytest\n",
        "import requests\n",
        "import json\n",
        "\n",
        "FAKED_ANSWER = {\"type\": \"test0\", \"setup\": \"some test joke\", \"punchline\": \"some test punchline\", \"id\": 0}\n",
        "\n",
        "# делаем mock на  response-объект библиотеки requests\n",
        "class MockResponse:\n",
        "    @staticmethod\n",
        "    def json():\n",
        "        return FAKED_ANSWER\n",
        "\n",
        "\n",
        "def test_get_json(monkeypatch):\n",
        "\n",
        "    # Делаем фальшивый метод get\n",
        "    def mock_get(*args, **kwargs):\n",
        "        return MockResponse()\n",
        "\n",
        "\n",
        "    monkeypatch.setattr(requests, \"get\", mock_get)\n",
        "\n",
        "    result = get_json(URL)\n",
        "    assert result[\"id\"] == 0"
      ]
    },
    {
      "cell_type": "markdown",
      "metadata": {
        "id": "COzfPXa3T_gt"
      },
      "source": [
        "Можно сделать также аналогично используя библиотеку `mock`"
      ]
    },
    {
      "cell_type": "markdown",
      "metadata": {
        "id": "ucqGZgmXT_gt"
      },
      "source": [
        "Подменим реальный запрос на фейковый результат и количество вызов просчета не будет. Также давай посчитаем сколько раз мы вызвали этот метод"
      ]
    },
    {
      "cell_type": "code",
      "execution_count": 78,
      "metadata": {
        "colab": {
          "base_uri": "https://localhost:8080/"
        },
        "id": "1Ymz8dgzT_gt",
        "outputId": "9d99064a-dda5-4635-d204-d500be59bc81"
      },
      "outputs": [
        {
          "output_type": "stream",
          "name": "stdout",
          "text": [
            "\u001b[32m.\u001b[0m\u001b[32m                                                                                            [100%]\u001b[0m\n"
          ]
        }
      ],
      "source": [
        "%%ipytest -q\n",
        "import mock\n",
        "import requests\n",
        "\n",
        "def test_with_mock_patch():\n",
        "    mock_answer = mock.Mock()\n",
        "    mock_answer.json.return_value = FAKED_ANSWER\n",
        "\n",
        "    with mock.patch('requests.get', return_value=mock_answer) as mock_request:\n",
        "        assert get_json(URL)['id'] == 0\n",
        "\n",
        "    assert mock_request.call_count == 1"
      ]
    },
    {
      "cell_type": "markdown",
      "metadata": {
        "id": "A30AUK4wT_gt"
      },
      "source": [
        "А что если у нас возврат метода это изменение чего нибудь? К примеру состояния чего-то там, или оно влияет на что-то и необходимо помимо возврата что-то менять..."
      ]
    },
    {
      "cell_type": "code",
      "execution_count": 79,
      "metadata": {
        "id": "Z-XA83AAT_gt"
      },
      "outputs": [],
      "source": [
        "class API:\n",
        "    def compute(self, value):\n",
        "        return value\n",
        "\n",
        "api = API()\n",
        "\n",
        "def process_data(value):\n",
        "    return api.compute(value)"
      ]
    },
    {
      "cell_type": "code",
      "execution_count": 80,
      "metadata": {
        "colab": {
          "base_uri": "https://localhost:8080/"
        },
        "id": "ml5v-F1KT_gt",
        "outputId": "b1674ffc-0d8e-4e33-b6fb-57b8334dca4a"
      },
      "outputs": [
        {
          "output_type": "stream",
          "name": "stdout",
          "text": [
            "\u001b[32m.\u001b[0m\u001b[32m                                                                                            [100%]\u001b[0m\n"
          ]
        }
      ],
      "source": [
        "%%ipytest -q\n",
        "def test_process_data():\n",
        "\n",
        "    def side_effect_multiply_by_two(x):\n",
        "        return x * 2\n",
        "\n",
        "    mock_api = mock.Mock()\n",
        "    mock_api.compute.side_effect = side_effect_multiply_by_two\n",
        "\n",
        "    # Подменяем глобальный объект api на наш мок\n",
        "    with mock.patch('__main__.api', mock_api):\n",
        "        result = process_data(5)\n",
        "\n",
        "    assert result == 10"
      ]
    },
    {
      "cell_type": "markdown",
      "metadata": {
        "id": "uM_VxRrcT_gt"
      },
      "source": [
        "`return_value` -- позволяет возвращать, то что должен возвращать определенный метод\n",
        "\n",
        "`side_effect` -- позволяет заменить метод на свой метод который будет делать, то что написано в методе"
      ]
    },
    {
      "cell_type": "markdown",
      "metadata": {
        "id": "5VIHC9bvT_gt"
      },
      "source": [
        "## Итого\n",
        "\n",
        "Мы сделали небольшую кату, познакомились с TDD и основной функциональностью `pytest`:\n",
        "\n",
        "* Как пайтест находит тесты\n",
        "* Ассерты `pyteset`\n",
        "* Параметризация тестов\n",
        "* Фикстуры\n",
        "* Тестирование исключений\n",
        "* Манкипатчинг\n",
        "\n",
        "Какие в итоге профиты у тестов:\n",
        " - Тесты помогают следить за тем что код соответствует спецификации\n",
        " - Тесты позволяют рефакторить код и не бояться при этом посадить баг\n",
        " - Тесты документируют код\n",
        "\n",
        "Что осталось за кадром:\n",
        " - Виды тестов - юнит, интеграционные и т.д.\n",
        " - Настройка тестов в ci/cd\n",
        " - Плагины pytest"
      ]
    },
    {
      "cell_type": "markdown",
      "metadata": {
        "id": "_mjpDG8iT_gv"
      },
      "source": [
        "## Логгирование"
      ]
    },
    {
      "cell_type": "markdown",
      "metadata": {
        "id": "zLh3lVUwT_gw"
      },
      "source": [
        "Импортнем и настроим всю его сущность для работы"
      ]
    },
    {
      "cell_type": "code",
      "execution_count": 81,
      "metadata": {
        "colab": {
          "base_uri": "https://localhost:8080/"
        },
        "id": "oikttRDST_gw",
        "outputId": "db542498-ffdb-43af-c323-1b98af9ab770"
      },
      "outputs": [
        {
          "output_type": "stream",
          "name": "stdout",
          "text": [
            "Watch out!\n"
          ]
        },
        {
          "output_type": "stream",
          "name": "stderr",
          "text": [
            "WARNING:my_logger:Watch out!\n"
          ]
        }
      ],
      "source": [
        "import sys\n",
        "import logging\n",
        "\n",
        "logger = logging.getLogger('my_logger')\n",
        "\n",
        "stdout_handler = logging.StreamHandler(stream=sys.stdout)\n",
        "stdout_handler.setLevel(logging.INFO)\n",
        "logger.addHandler(stdout_handler)\n",
        "\n",
        "logger.warning('Watch out!')"
      ]
    },
    {
      "cell_type": "markdown",
      "metadata": {
        "id": "N1u0YonthBrc"
      },
      "source": [
        "**Логгирование и его уровни**"
      ]
    },
    {
      "cell_type": "markdown",
      "metadata": {
        "id": "ZfN5EJinhanp"
      },
      "source": [
        "Логгировать можно при помощи следующих методов:\n",
        "* `logger.debug()`\n",
        "* `logger.info()`\n",
        "* `logger.warning()`\n",
        "* `logger.error()`\n",
        "* `logger.critical()`\n",
        "* `logger.exception()`\n"
      ]
    },
    {
      "cell_type": "markdown",
      "metadata": {
        "id": "yrKwxNylhveg"
      },
      "source": [
        "С самого маленького до самого большого:"
      ]
    },
    {
      "cell_type": "markdown",
      "metadata": {
        "id": "rzKX29FDhz5H"
      },
      "source": [
        "|Уровень | Когда используется|\n",
        "|:------ |:------------------|\n",
        "|`DEBUG`|Для диагностической информации|\n",
        "|`INFO`|Для подтверждения того, что всё работает как запланировано|\n",
        "|`WARNING`|Когда нужно предупредить что вскоре возможна поломка или программа используется не совсем так как нужно|\n",
        "|`ERROR`|Для логгирования сепъезных ошибок, из-за которых программа теряет часть функциональности|\n",
        "|`CRITICAL`|Для логгирования ошибок, после которых программа не может продолжать работу|\n",
        "\n",
        "\n",
        "\n"
      ]
    },
    {
      "cell_type": "markdown",
      "metadata": {
        "id": "7KLevJwXiQEQ"
      },
      "source": [
        "Стандартный уровень логгирования - `WARNING`"
      ]
    },
    {
      "cell_type": "code",
      "execution_count": 82,
      "metadata": {
        "colab": {
          "base_uri": "https://localhost:8080/"
        },
        "id": "H6Spt_xPiSW2",
        "outputId": "de1028e6-acd2-4f96-985b-06cf1b1702b8"
      },
      "outputs": [
        {
          "output_type": "stream",
          "name": "stdout",
          "text": [
            "Will be printed\n"
          ]
        },
        {
          "output_type": "stream",
          "name": "stderr",
          "text": [
            "WARNING:my_logger:Will be printed\n"
          ]
        }
      ],
      "source": [
        "logger.info('Will not be printed')\n",
        "logger.warning('Will be printed')"
      ]
    },
    {
      "cell_type": "markdown",
      "metadata": {
        "id": "AfgnAs6rioqJ"
      },
      "source": [
        "Поменяем уровни логирования:"
      ]
    },
    {
      "cell_type": "code",
      "execution_count": 83,
      "metadata": {
        "colab": {
          "base_uri": "https://localhost:8080/"
        },
        "id": "1evHOakWi3Xj",
        "outputId": "1297fbaf-0aaa-4474-db1e-4531bb0cfe26"
      },
      "outputs": [
        {
          "output_type": "stream",
          "name": "stdout",
          "text": [
            "Will not be printed\n"
          ]
        },
        {
          "output_type": "stream",
          "name": "stderr",
          "text": [
            "INFO:my_logger:Will not be printed\n"
          ]
        },
        {
          "output_type": "stream",
          "name": "stdout",
          "text": [
            "Will be printed\n"
          ]
        },
        {
          "output_type": "stream",
          "name": "stderr",
          "text": [
            "WARNING:my_logger:Will be printed\n"
          ]
        }
      ],
      "source": [
        "logger.setLevel(logging.INFO)\n",
        "logger.info('Will not be printed')\n",
        "logger.warning('Will be printed')\n",
        "logger.setLevel(logging.WARNING)"
      ]
    },
    {
      "cell_type": "code",
      "execution_count": 84,
      "metadata": {
        "colab": {
          "base_uri": "https://localhost:8080/"
        },
        "id": "T1NkCVAFi6s1",
        "outputId": "4ab917ac-053e-4c0d-9d5f-4958e5ea357a"
      },
      "outputs": [
        {
          "output_type": "stream",
          "name": "stdout",
          "text": [
            "Will be printed\n"
          ]
        },
        {
          "output_type": "stream",
          "name": "stderr",
          "text": [
            "WARNING:my_logger:Will be printed\n"
          ]
        }
      ],
      "source": [
        "logger.log(logging.WARNING, 'Will be printed')"
      ]
    },
    {
      "cell_type": "markdown",
      "metadata": {
        "id": "zdNsF6V2i9gs"
      },
      "source": [
        "Также, существует такой вид как `logger.exception`, в нем есть особенность"
      ]
    },
    {
      "cell_type": "code",
      "execution_count": 86,
      "metadata": {
        "colab": {
          "base_uri": "https://localhost:8080/"
        },
        "id": "oHXBeIqmjGXt",
        "outputId": "b80b1d55-a5b4-4323-f47b-0f05a549f1c4"
      },
      "outputs": [
        {
          "output_type": "stream",
          "name": "stdout",
          "text": [
            "Caught error:\n",
            "Traceback (most recent call last):\n",
            "  File \"<ipython-input-86-27946ed9687e>\", line 2, in <cell line: 1>\n",
            "    1 / 0\n",
            "ZeroDivisionError: division by zero\n"
          ]
        },
        {
          "output_type": "stream",
          "name": "stderr",
          "text": [
            "ERROR:my_logger:Caught error:\n",
            "Traceback (most recent call last):\n",
            "  File \"<ipython-input-86-27946ed9687e>\", line 2, in <cell line: 1>\n",
            "    1 / 0\n",
            "ZeroDivisionError: division by zero\n"
          ]
        }
      ],
      "source": [
        "try:\n",
        "  1 / 0\n",
        "except Exception as e: # будем ловить абсолютно любой экзепшен и словим\n",
        "  logger.exception(\"Caught error:\")"
      ]
    },
    {
      "cell_type": "code",
      "execution_count": 87,
      "metadata": {
        "colab": {
          "base_uri": "https://localhost:8080/",
          "height": 36
        },
        "id": "lJOIWIpmT_gx",
        "outputId": "c7bdec4c-a7eb-42f1-991a-0ca3a1203b8a"
      },
      "outputs": [
        {
          "output_type": "execute_result",
          "data": {
            "text/plain": [
              "'EXAMPLE DATA'"
            ],
            "application/vnd.google.colaboratory.intrinsic+json": {
              "type": "string"
            }
          },
          "metadata": {},
          "execution_count": 87
        }
      ],
      "source": [
        "def process_data(data):\n",
        "    logger.debug(f\"Received data: {data}\")\n",
        "\n",
        "    if not data:\n",
        "        logger.error(\"No data received!\")\n",
        "        return None\n",
        "\n",
        "    logger.info(\"Processing data...\")\n",
        "    processed_data = data.upper()\n",
        "\n",
        "    logger.info(f\"Data processed: {processed_data}\")\n",
        "    return processed_data\n",
        "\n",
        "process_data(\"example data\")"
      ]
    },
    {
      "cell_type": "code",
      "execution_count": null,
      "metadata": {
        "id": "lreF5hmrT_gx",
        "outputId": "83a20ed6-0ce4-40fc-b8c9-a88dc6a7e7de"
      },
      "outputs": [
        {
          "name": "stdout",
          "output_type": "stream",
          "text": [
            "No data received!\n"
          ]
        }
      ],
      "source": [
        "process_data(\"\")"
      ]
    },
    {
      "cell_type": "markdown",
      "metadata": {
        "id": "qJsizWRFjavd"
      },
      "source": [
        "# Логгирование в файл и хендлеры"
      ]
    },
    {
      "cell_type": "markdown",
      "metadata": {
        "id": "qcwV7PgYjgz0"
      },
      "source": [
        "Научимся логгировать в файл (напоминание с прошлого года)"
      ]
    },
    {
      "cell_type": "code",
      "execution_count": 88,
      "metadata": {
        "id": "g9oOcVinjfLB"
      },
      "outputs": [],
      "source": [
        "fh = logging.FileHandler('debug.log')\n",
        "fh.setLevel(logging.DEBUG)  # Выставляем уровень сообщений, которые будут логгироваться в файл.\n",
        "logger.addHandler(fh)"
      ]
    },
    {
      "cell_type": "code",
      "execution_count": 89,
      "metadata": {
        "colab": {
          "base_uri": "https://localhost:8080/"
        },
        "id": "UdRGXCzajqa9",
        "outputId": "e6586ac5-024e-4314-b9e9-d17276efd55a"
      },
      "outputs": [
        {
          "output_type": "stream",
          "name": "stderr",
          "text": [
            "DEBUG:my_logger:Debug message\n"
          ]
        },
        {
          "output_type": "stream",
          "name": "stdout",
          "text": [
            "debug.log contents:\n",
            "Debug message\n",
            "\n"
          ]
        }
      ],
      "source": [
        "logger.setLevel(logging.DEBUG)\n",
        "logger.debug(\"Debug message\")  # Не попадет в stdout, зато попадет в файл\n",
        "print (\"debug.log contents:\")\n",
        "\n",
        "with open(\"debug.log\") as f:\n",
        "    for l in f.readlines():\n",
        "        print(l)"
      ]
    },
    {
      "cell_type": "markdown",
      "metadata": {
        "id": "FMqqKXs7jsxf"
      },
      "source": [
        "Другие полезные хендлеры из библиотеки `logging`:\n",
        "\n",
        "* `StreamHandler` - используется для логгирования в `stderr` и `stdout`\n",
        "* `RotatingFileHandler` - Работает как файл хендлер, но при этом если файл, в который пишет логгер, достигнет определенного размера, начнет писать в новый файл. Старый файл либо удалит, либо оставит как бекап. Число бэкапов настраивается.\n",
        "* `TimedRotatingFileHandler` - Работает как логгер выше, но файлы делятся не по размеру, а по времени записей\n",
        "* `NullHandler` - Используется чтобы заглушить какой-нибудь логгер"
      ]
    },
    {
      "cell_type": "code",
      "execution_count": null,
      "metadata": {
        "id": "gdIGElIhT_gx"
      },
      "outputs": [],
      "source": [
        "# StreamHandler\n",
        "\n",
        "stream_handler = logging.StreamHandler(sys.stdout)\n",
        "stream_handler.setLevel(logging.INFO)\n",
        "stream_handler.setFormatter(logging.Formatter('%(asctime)s - %(levelname)s - %(message)s'))\n",
        "\n",
        "logger = logging.getLogger(__name__)\n",
        "logger.setLevel(logging.DEBUG)\n",
        "logger.addHandler(stream_handler)"
      ]
    },
    {
      "cell_type": "code",
      "execution_count": null,
      "metadata": {
        "id": "SsK4Ygo_T_gx",
        "outputId": "42cf132f-cc06-414c-98fe-4da4eccd17e0"
      },
      "outputs": [
        {
          "name": "stdout",
          "output_type": "stream",
          "text": [
            "2024-09-22 04:39:03,560 - INFO - Инфо в stdout\n"
          ]
        }
      ],
      "source": [
        "logger.info(\"Инфо в stdout\")"
      ]
    },
    {
      "cell_type": "code",
      "execution_count": null,
      "metadata": {
        "id": "65alfGRdT_gx",
        "outputId": "2aeba92f-6db8-4183-fef6-b9bf4de15b96"
      },
      "outputs": [
        {
          "name": "stdout",
          "output_type": "stream",
          "text": [
            "2024-09-22 04:39:05,313 - ERROR - Ошибка!\n"
          ]
        }
      ],
      "source": [
        "logger.error(\"Ошибка!\")"
      ]
    },
    {
      "cell_type": "markdown",
      "metadata": {
        "id": "1ZejCiclT_gx"
      },
      "source": [
        "RotatingFileHandler используется для создания файлов логов с ограничением по размеру.\n",
        "\n",
        "Когда файл достигает указанного размера, создается новый файл, а старый либо удаляется, либо сохраняется в виде бэкапа."
      ]
    },
    {
      "cell_type": "code",
      "execution_count": null,
      "metadata": {
        "id": "MEB_T9dfT_gx"
      },
      "outputs": [],
      "source": [
        "# RotatingFileHandler\n",
        "\n",
        "import logging\n",
        "from logging.handlers import RotatingFileHandler\n",
        "\n",
        "rotating_handler = RotatingFileHandler('app.log', maxBytes=2000, backupCount=5)\n",
        "rotating_handler.setLevel(logging.DEBUG)\n",
        "rotating_handler.setFormatter(logging.Formatter('%(asctime)s - %(levelname)s - %(message)s'))\n",
        "\n",
        "logger = logging.getLogger(__name__)\n",
        "logger.setLevel(logging.DEBUG)\n",
        "logger.addHandler(rotating_handler)\n",
        "\n",
        "for i in range(300):\n",
        "    logger.debug(f\"Номер лога {i}\")"
      ]
    },
    {
      "cell_type": "markdown",
      "metadata": {
        "id": "VHbl2KBAT_gx"
      },
      "source": [
        "TimedRotatingFileHandler логгирование с ротацией файлы логов не по размеру, а по времени.\n",
        "\n",
        "Например, можно настроить ротацию каждый день, час, или минуту."
      ]
    },
    {
      "cell_type": "code",
      "execution_count": null,
      "metadata": {
        "id": "He_d7n3aT_gx",
        "outputId": "e0d98cb3-cfd8-40bd-f751-70ab1a507533"
      },
      "outputs": [
        {
          "name": "stdout",
          "output_type": "stream",
          "text": [
            "2024-09-22 04:43:40,064 - INFO - This log entry will rotate every midnight.\n"
          ]
        }
      ],
      "source": [
        "#TimedRotatingFileHandler\n",
        "\n",
        "import logging\n",
        "from logging.handlers import TimedRotatingFileHandler\n",
        "\n",
        "timed_handler = TimedRotatingFileHandler('timed_app.log', when='midnight', interval=1, backupCount=7)\n",
        "timed_handler.setLevel(logging.INFO)\n",
        "timed_handler.setFormatter(logging.Formatter('%(asctime)s - %(levelname)s - %(message)s'))\n",
        "\n",
        "logger = logging.getLogger(__name__)\n",
        "logger.setLevel(logging.INFO)\n",
        "logger.addHandler(timed_handler)\n",
        "\n",
        "logger.info(\"Эта запись в журнале будет обновляться каждую полночь....\")"
      ]
    },
    {
      "cell_type": "markdown",
      "metadata": {
        "id": "P9K6HSpDT_gx"
      },
      "source": [
        "NullHandler: Отключение логирования\n",
        "\n",
        "Например у нас много логгеров и нам нужно отключить какой то из них..."
      ]
    },
    {
      "cell_type": "code",
      "execution_count": null,
      "metadata": {
        "id": "WrIYhN_XT_gx",
        "outputId": "640fa59e-578d-4268-ecad-e23165d9eb97"
      },
      "outputs": [
        {
          "name": "stdout",
          "output_type": "stream",
          "text": [
            "2024-09-22 04:43:35,118 - INFO - Вырубили логгер\n"
          ]
        }
      ],
      "source": [
        "import logging\n",
        "\n",
        "null_handler = logging.NullHandler()\n",
        "\n",
        "logger = logging.getLogger(__name__)\n",
        "logger.addHandler(null_handler)\n",
        "\n",
        "logger.info(\"Вырубили логгер\")"
      ]
    },
    {
      "cell_type": "markdown",
      "source": [
        "## Попугай дня"
      ],
      "metadata": {
        "id": "iEIZLjBn7VZc"
      }
    },
    {
      "cell_type": "markdown",
      "source": [
        "![](https://do-slez.com/uploads/posts/2020-02/1582813051_pesquets-dracula-parrots-birds-new-guinea-1-5e55392f17e1e__700.jpg)"
      ],
      "metadata": {
        "id": "drlXbB4w_RnG"
      }
    },
    {
      "cell_type": "markdown",
      "source": [
        "Сегодня у нас очень красивый орлиный попугай (орлиный за счет его клюва) и сходит в семейство щетиноголовых попугаев (видите какая щетина у него прям)"
      ],
      "metadata": {
        "id": "6z3hTgu9_Xk9"
      }
    },
    {
      "cell_type": "markdown",
      "source": [
        "![](https://img.theepochtimes.com/assets/uploads/2020/05/14/Dracula-Parrot-i.jpg)"
      ],
      "metadata": {
        "id": "BgnEsrFe_mGd"
      }
    },
    {
      "cell_type": "markdown",
      "source": [
        "Исторически живет в Новой Гвинее и его очень редко можно встретить в зоопарках из-за очень прихотливого питания (им обязательно нужны тропические фрукты для ферментации) и требований к содержанию (температура, влажность)\n",
        "\n",
        "Еще один, к сожалению, вымирающий вид, потому что на них охотятся индейцы за их красные перья (хоть и достаточно распространен в авикультуре, но выращивать его очень сложно)."
      ],
      "metadata": {
        "id": "GW5PDacP_yNY"
      }
    }
  ],
  "metadata": {
    "colab": {
      "provenance": []
    },
    "kernelspec": {
      "display_name": "Python 3",
      "name": "python3"
    },
    "language_info": {
      "codemirror_mode": {
        "name": "ipython",
        "version": 3
      },
      "file_extension": ".py",
      "mimetype": "text/x-python",
      "name": "python",
      "nbconvert_exporter": "python",
      "pygments_lexer": "ipython3",
      "version": "3.9.6"
    }
  },
  "nbformat": 4,
  "nbformat_minor": 0
}