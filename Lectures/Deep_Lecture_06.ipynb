{
  "nbformat": 4,
  "nbformat_minor": 0,
  "metadata": {
    "colab": {
      "provenance": [],
      "collapsed_sections": [
        "8FH8gsRRnwbo"
      ]
    },
    "kernelspec": {
      "name": "python3",
      "display_name": "Python 3"
    },
    "language_info": {
      "name": "python"
    }
  },
  "cells": [
    {
      "cell_type": "markdown",
      "source": [
        "# Продвинутый Python, лекция 6\n",
        "\n",
        "**Лектор:** Петров Тимур\n",
        "\n",
        "**Семинаристы:** Петров Тимур, Бузаев Федор, Дешеулин Олег, Коган Александра, Васина Олеся, Садуллаев Музаффар\n",
        "\n",
        "**Spoiler Alert:** в рамках курса нельзя изучить ни одну из тем от и до досконально (к сожалению, на это требуется больше времени, чем даже 3 часа в неделю). Но мы попробуем рассказать столько, сколько возможно :)"
      ],
      "metadata": {
        "id": "3eC1wMyC-yPs"
      }
    },
    {
      "cell_type": "markdown",
      "source": [
        "## Базы данных"
      ],
      "metadata": {
        "id": "zC0A1jWL-0yk"
      }
    },
    {
      "cell_type": "markdown",
      "source": [
        "![](https://habrastorage.org/r/w1560/getpro/habr/upload_files/1e6/32d/9c0/1e632d9c081a0ab5591f11a3764571b3.jpg)"
      ],
      "metadata": {
        "id": "TqItGiipuQQD"
      }
    },
    {
      "cell_type": "markdown",
      "source": [
        "Вначале немного подушним (но полезно подушним). Есть два понятия: БД (база данных) и СУБД (система управления базы данных). В чем разница?\n",
        "\n",
        "* БД - набор данных (таблиц), логически связанных между собой, буквально место, где они находятся\n",
        "\n",
        "* СУБД - набор инструментов, которые позволяют что-то делать с БД (осуществляет connection к БД для операций)\n",
        "\n",
        "Очевидно, что устройство БД и СУБД связаны друг с другом (достаточно странно, напрмиер, есть суп вилкой или лапшу ложкой)\n",
        "\n",
        "Какие СУБД бывают? Реляционные и нереляционные\n",
        "\n",
        "* Реляционные - нужна структура, нормальные формы etc (MySQL, PostgreSQL)\n",
        "\n",
        "* Нереляционные - можно хранить что угодно и примерно как угодно (MongoDB, концепция DataLake)\n",
        "\n",
        "Мы будем говорить про реляционные (потому что это стандарт, SQL, но различаются между СУБД), на следующей лекции поговорим про нереляционные (так называемые NoSQL и иже с ними)"
      ],
      "metadata": {
        "id": "1Tdbvh_B-2pU"
      }
    },
    {
      "cell_type": "markdown",
      "source": [
        "## Интро в SQL"
      ],
      "metadata": {
        "id": "8oP3Y3kVugRm"
      }
    },
    {
      "cell_type": "markdown",
      "source": [
        "Чтобы понимать, как работать с СУБД, разберем, на каком языке говорят все реляционные СУБД - а говорят они не на Питоне, а на SQL.\n",
        "\n",
        "SQL (Structured Query Language) - язык запросов для обращения и выполнения операций реляционной БД. Скорее всего вы слышали что-нибудь из списка: MySQL, PostgreSQL, Oracle SQL, KQL и так далее. Это все различные диалекты, у которых есть общая база и дальше разные доработки/изменения, что-то может по-другому называться, но суть одинаковая. Вот про эту суть и поговорим\n",
        "\n",
        "Что из себя представляет таблица? Набор строк и столбцов, где любые операции начинаются с того, что вы выбираете нужный срез. На самом деле, достаточно просто понять SQL, если вспомните, как работает pandas.\n",
        "\n",
        "Базовый запрос к таблице:\n",
        "\n",
        "```\n",
        "SELECT * -- выбери все\n",
        "FROM table -- из данной таблицы\n",
        "```\n",
        "\n",
        "В качестве выбора в селекте мы указываем столбцы:\n",
        "\n",
        "```\n",
        "SELECT DISTINCT -- уникальные значения\n",
        "    column1 as c, -- колонки можно переименовывать, а еще можно создавать\n",
        "    column2,\n",
        "    column1 + column2 as s,\n",
        "    ...\n",
        "FROM table\n",
        "LIMIT 15 -- выведи только первые 15 значений\n",
        "```\n",
        "\n",
        "Как выбрать только нужные строки? С помощью ограничений по столбцам:\n",
        "\n",
        "```\n",
        "SELECT\n",
        "    column1,\n",
        "    column2,\n",
        "    ...\n",
        "FROM table\n",
        "WHERE column1 != <value>\n",
        "AND column2 IN (<values>)\n",
        "OR column3 IS NOT NULL\n",
        "AND column4 + column5 >= <value>\n",
        "```\n",
        "\n",
        "Что еще умеем? Группировки!\n",
        "\n",
        "```\n",
        "SELECT\n",
        "    SUM/AVG/MIN/MAX/MEDIAN/AGGREGATE(column1) as c -- функции аггрегации\n",
        "    column2,\n",
        "    column3\n",
        "FROM table\n",
        "GROUP BY column2, column3 -- по чему группируем (ВАЖНО: тут будут минимум все неагрегированные столбцы из запроса)\n",
        "```\n",
        "\n",
        "Отдельно умеем фильтровать по агрегациям:\n",
        "\n",
        "```\n",
        "SELECT\n",
        "    SUM/AVG/MIN/MAX/MEDIAN/AGGREGATE(column1) as c -- функции аггрегации\n",
        "    column2,\n",
        "    column3\n",
        "FROM table\n",
        "GROUP BY column2, column3 -- по чему группируем (ВАЖНО: тут будут минимум все неагрегированные столбцы из запроса)\n",
        "HAVING c > <value>\n",
        "```\n",
        "\n",
        "И последнее, что базово надо знать: подзапросы и JOINы\n",
        "\n",
        "```\n",
        "SELECT *\n",
        "FROM table\n",
        "WHERE column1 IN (SELECT col FROM table_2)\n",
        "```\n",
        "\n",
        "```\n",
        "SELECT\n",
        "    t.*,\n",
        "    t2.*\n",
        "FROM table as t\n",
        "LEFT/RIGHT/INNER/OUTER JOIN table_2 as t2\n",
        "ON t.column = t2.col\n",
        "```\n",
        "\n",
        "\n"
      ],
      "metadata": {
        "id": "engXJ164uoA8"
      }
    },
    {
      "cell_type": "markdown",
      "source": [
        "![](https://user-images.githubusercontent.com/19540357/65278347-7b417c80-db1b-11e9-825d-280605deaccc.png)"
      ],
      "metadata": {
        "id": "ryuncI4Fyyan"
      }
    },
    {
      "cell_type": "markdown",
      "source": [
        "Общая картинка (что и в каком порядке):\n",
        "\n",
        "```\n",
        "SELECT ...\n",
        "FROM table\n",
        "JOIN table_2 ON ...\n",
        "WHERE ...\n",
        "GROUP BY ...\n",
        "HAVING ...\n",
        "LIMIT ...\n",
        "```"
      ],
      "metadata": {
        "id": "dXh6gHKwy6in"
      }
    },
    {
      "cell_type": "markdown",
      "source": [
        "## Операции и иже с ним"
      ],
      "metadata": {
        "id": "uOII5qvluiyc"
      }
    },
    {
      "cell_type": "markdown",
      "source": [
        "Любая операция по изменению данных должна соблюдать ACID-свойства. Это свойства, необходимые для поддержания любой системы в порядке. Что это такое?\n",
        "\n",
        "* A - Atomicity (атомарность)\n",
        "\n",
        "Любая транзакция должны быть выполнена полностью или не быть выполнена совсем. Отличный пример с переводом денег: деньги надо снять с одного счета и положить на другой. Не должно быть такой ситуации, что выполнилась только 1 часть, должны выполниться либо обе части, либо ни одна.\n",
        "\n",
        "* C - Consistency (консистентность)\n",
        "\n",
        "Любая транзакция должна сохранять консистентность данных. Пример: у нас есть таблица с телефонами (по типу UserId - PhoneNumber) и таблица с пользователем (UserId - FirstName - SecondName), и при регистрации надо добавить запись и в пользователей, и в телефоны, иначе теряется консистентность\n",
        "\n",
        "* I - Isolation (изоляция)\n",
        "\n",
        "Вспоминаем threads и race condition. За счет чего появляется проблема и как она чинится? Такую же проблему нужно учитывать и при транзакциях в БД\n",
        "\n",
        "* D - Durability (надежность)\n",
        "\n",
        "Любая выполненная транзакция выполнена, вне зависимости от других условий (нельзя говорить, что операция выполнена до тех пор, пока мы ее не выполнили)"
      ],
      "metadata": {
        "id": "h41iWFu9zQlT"
      }
    },
    {
      "cell_type": "markdown",
      "source": [
        "## Нормальные формы"
      ],
      "metadata": {
        "id": "ZdhL2mIx4-G3"
      }
    },
    {
      "cell_type": "markdown",
      "source": [
        "Как правильно проектировать собственные БД? Если мы говорим про реляционные БД, то на это есть целый ответ: проводить нормализацию (или приводить к так называемым нормальным формам)\n",
        "\n",
        "Что это такое и зачем это нужно? Начнем с последнего:\n",
        "\n",
        "* Избегаем избыточности (не храним одно и то же несколько раз)\n",
        "\n",
        "* Избегаем всевозможных аномалий данных при обновлении\n",
        "\n",
        "* Упрощаем жизнь\n",
        "\n",
        "То есть логика понятная - пытаемся выстроить систему, где все лежит на своем месте\n",
        "\n",
        "Что такое нормальные формы? Условия, которые БД должна содержать для достижения данного состояния. Выделяют 6 нормальных форм (одна сложнее другой), в идеале все смотрят на 3НФ (третья нормальная форма)"
      ],
      "metadata": {
        "id": "9wEdsH6T5FKJ"
      }
    },
    {
      "cell_type": "markdown",
      "source": [
        "* 1НФ - есть маппинг 1:1 в значениях строк (одна запись - одна строка) и данные в каждом столбце про одно и то же (один домен)\n",
        "\n",
        "* 2НФ - 1НФ + каждый неключевые значения непосредственно зависят от всего ключа\n",
        "\n",
        "* 3НФ - 2НФ + каждый атрибут должен предоставлять информацию о ключе, полном ключе и ни о чём, кроме ключа"
      ],
      "metadata": {
        "id": "cj9-e78i7B6S"
      }
    },
    {
      "cell_type": "markdown",
      "source": [
        "Давайте на примере:\n",
        "\n",
        "У нас изначально есть вот такая табличка:\n",
        "\n",
        "\\begin{array}{cccс}\n",
        "\\text{Фамилия}&\\text{Имя}&\\text{Должность}&\\text{Персональная информация}\\\\\n",
        "Петров&Тимур&Попугай&79000000000; example1@mail.com \\\\\n",
        "Дешеулин&Олег&Олег&example2@mail.com \\\\\n",
        "Бузаев&Федор&Daddy&79000000002\n",
        "\\end{array}\n",
        "\n",
        "Она не в 1НФ за счет того, что находится в Персональной информации, давайте исправим:\n",
        "\n",
        "\\begin{array}{cccс}\n",
        "\\text{Фамилия}&\\text{Имя}&\\text{Должность}&\\text{Телефон}&\\text{Почта}\\\\\n",
        "Петров&Тимур&Попугай&79000000000&example1@mail.com \\\\\n",
        "Дешеулин&Олег&Олег&NULL&example2@mail.com \\\\\n",
        "Бузаев&Федор&Daddy&79000000002&NULL\n",
        "\\end{array}\n",
        "\n",
        "Допустим, что у нас добавилась зарплата, которая зависит от должности:\n",
        "\n",
        "\\begin{array}{cccс}\n",
        "\\text{Фамилия}&\\text{Имя}&\\text{Должность}&\\text{Телефон}&\\text{Почта}&\\text{ЗП}\\\\\n",
        "Петров&Тимур&Попугай&79000000000&example1@mail.com&0 \\\\\n",
        "Дешеулин&Олег&Олег&NULL&example2@mail.com&300000 \\\\\n",
        "Бузаев&Федор&Daddy&79000000002&NULL&150000\n",
        "\\end{array}\n",
        "\n",
        "Таблица перестала быть в 2НФ (потому что связь не с ФИО + должность, а только от должности). Тогда должно быть 2 таблицы:\n",
        "\n",
        "Таблица 1:\n",
        "\n",
        "\\begin{array}{cccс}\n",
        "\\text{Фамилия}&\\text{Имя}&\\text{Должность}&\\text{Телефон}&\\text{Почта}\\\\\n",
        "Петров&Тимур&Попугай&79000000000&example1@mail.com \\\\\n",
        "Дешеулин&Олег&Олег&NULL&example2@mail.com \\\\\n",
        "Бузаев&Федор&Daddy&79000000002&NULL\n",
        "\\end{array}\n",
        "\n",
        "Таблица 2:\n",
        "\n",
        "\n",
        "\\begin{array}{cccс}\n",
        "\\text{Должность}&\\text{ЗП}\\\\\n",
        "Попугай&0 \\\\\n",
        "Олег&300000 \\\\\n",
        "Daddy&150000\n",
        "\\end{array}\n",
        "\n",
        "А теперь еще и добавим оператора связи:\n",
        "\n",
        "Таблица 1:\n",
        "\n",
        "\\begin{array}{cccс}\n",
        "\\text{Фамилия}&\\text{Имя}&\\text{Должность}&\\text{Телефон}&\\text{Почта}&\\text{Оператор связи}\\\\\n",
        "Петров&Тимур&Попугай&79000000000&example1@mail.com&A \\\\\n",
        "Дешеулин&Олег&Олег&NULL&example2@mail.com&NULL \\\\\n",
        "Бузаев&Федор&Daddy&79000000002&NULL&B\n",
        "\\end{array}\n",
        "\n",
        "Таблица 2:\n",
        "\n",
        "\n",
        "\\begin{array}{cccс}\n",
        "\\text{Должность}&\\text{ЗП}\\\\\n",
        "Попугай&0 \\\\\n",
        "Олег&300000 \\\\\n",
        "Daddy&150000\n",
        "\\end{array}\n",
        "\n",
        "Формально все данные все еще в 2НФ: от связки Имя + Фамилия + Должность зависит оператор связи. Но тем не менее, есть связь Телефон -> Оператор связи, от которой мы как раз и избавляемся (по сути 3НФ ровно про это: никаких транзитивных штук):\n",
        "\n",
        "Таблица 1:\n",
        "\n",
        "\\begin{array}{cccс}\n",
        "\\text{Фамилия}&\\text{Имя}&\\text{Должность}&\\text{Телефон}&\\text{Почта}\\\\\n",
        "Петров&Тимур&Попугай&79000000000&example1@mail.com \\\\\n",
        "Дешеулин&Олег&Олег&NULL&example2@mail.com \\\\\n",
        "Бузаев&Федор&Daddy&79000000002&NULL\n",
        "\\end{array}\n",
        "\n",
        "Таблица 2:\n",
        "\n",
        "\\begin{array}{cccс}\n",
        "\\text{Должность}&\\text{ЗП}\\\\\n",
        "Попугай&0 \\\\\n",
        "Олег&300000 \\\\\n",
        "Daddy&150000\n",
        "\\end{array}\n",
        "\n",
        "Таблица 3:\n",
        "\n",
        "\\begin{array}{cccс}\n",
        "\\text{Телефон}&\\text{Оператор}\\\\\n",
        "79000000000&A \\\\\n",
        "79000000002&B \\\\\n",
        "\\end{array}"
      ],
      "metadata": {
        "id": "nACdMLHP9Gl9"
      }
    },
    {
      "cell_type": "markdown",
      "source": [
        "Все, поговорили про все, прежде чем тыкаться в Python. Давайте теперь к нему!"
      ],
      "metadata": {
        "id": "pvBPDuXxCW8F"
      }
    },
    {
      "cell_type": "markdown",
      "source": [
        "## Как подключаться к БД?"
      ],
      "metadata": {
        "id": "PTHegdmRBmu9"
      }
    },
    {
      "cell_type": "markdown",
      "source": [
        "Первое, что нам нужно при любой работе - это уметь подключаться к базе данных. А как, а что?\n",
        "\n",
        "База данных обычно лежит на отдельном сервере, где и крутится сама по себе (что-то обновляет etc). А приложение на другом сервере к нему подключается. Поэтому надо уметь подключаться :з\n",
        "\n",
        "Подключение идет через т.н. драйвера, но люди уже давно этим занимаются, поэтому подключение происходит через менеджер драйверов, который позволяет легко подключиться практически к любой СУБД:\n",
        "\n",
        "* ODBC (Open Database Connectivity)\n",
        "\n",
        "```\n",
        "Driver=(SQL Server);Server=(serverName);Database=(instanceName)(;property=value)\n",
        "```\n",
        "\n",
        "* JDBC (Java Database Connectivity)\n",
        "\n",
        "```\n",
        "Driver=(SQL Server);Server=(serverName);Database=(instanceName)(;property=value)\n",
        "```\n",
        "\n",
        "* Кастомные драйвера\n",
        "\n",
        "В общем виде что должно быть при подключении:\n",
        "\n",
        "- тип СУБД\n",
        "\n",
        "- хост\n",
        "\n",
        "- порт\n",
        "\n",
        "- название БД\n",
        "\n",
        "- данные для авторизации (логин-пароль)"
      ],
      "metadata": {
        "id": "1yikDuGtBpbe"
      }
    },
    {
      "cell_type": "markdown",
      "source": [
        "## Теперь к Python"
      ],
      "metadata": {
        "id": "XtX_y3wkI0G8"
      }
    },
    {
      "cell_type": "code",
      "source": [
        "!pip install pyodbc #ODBC\n",
        "!pip install jaydebeapi #JDBC\n",
        "!pip install psycopg2 #PostgreSQL (отдельно, не мучаясь с менеджерами)"
      ],
      "metadata": {
        "id": "CLw--h9VI3sj"
      },
      "execution_count": null,
      "outputs": []
    },
    {
      "cell_type": "markdown",
      "source": [
        "Все коннекторы к БД внутри Python должны подчиняться [pep249](https://peps.python.org/pep-0249/) - спецификация для бибилотек с БД. Как выглядит абсолютно любая библиотека:\n",
        "\n",
        "![](https://i.pinimg.com/originals/be/c7/c1/bec7c10b61f5cb2b851d04f0fbeeee2e.png)"
      ],
      "metadata": {
        "id": "-J-UJYO_JU6d"
      }
    },
    {
      "cell_type": "markdown",
      "source": [
        "Метод connect - возращает объект типа Connection (связь с БД непосредственно), который должен обладать методами:\n",
        "\n",
        "* cursor() - получить объект типа cursor (для доступа к данным)\n",
        "\n",
        "* commit(), rollback() - необходимо для транзакций\n",
        "\n",
        "* close() - закрыть связь (всегда надо, потому что держит ресурсы)\n",
        "\n",
        "Разберем это все на базовом СУБД - sqlite3 (есть всегда)"
      ],
      "metadata": {
        "id": "kMTjEB2bJrrK"
      }
    },
    {
      "cell_type": "code",
      "source": [
        "!wget https://github.com/Palladain/Deep_Python_2023/raw/main/week07/chinook.db"
      ],
      "metadata": {
        "id": "83c0wouiCrkw"
      },
      "execution_count": null,
      "outputs": []
    },
    {
      "cell_type": "code",
      "source": [
        "import sqlite3\n",
        "\n",
        "connection = sqlite3.connect(\"chinook.db\") # открыли\n",
        "connection.close() # закрыли"
      ],
      "metadata": {
        "id": "rhnbkfHsK-lb"
      },
      "execution_count": 2,
      "outputs": []
    },
    {
      "cell_type": "markdown",
      "source": [
        "![](https://www.sqlitetutorial.net/wp-content/uploads/2015/11/sqlite-sample-database-color.jpg)"
      ],
      "metadata": {
        "id": "RmEmi7mDK5v9"
      }
    },
    {
      "cell_type": "markdown",
      "source": [
        "Что такое cursor?\n",
        "\n",
        "Cursor - это объект для выполнения запросов и получения результатов (по сути объект контеста для запроса, а мы где вообще)\n",
        "\n",
        "И cursor тоже стоит закрывать (но вообще он закрывается вместе с connection) :)"
      ],
      "metadata": {
        "id": "hxI57pGtLwCA"
      }
    },
    {
      "cell_type": "code",
      "source": [
        "connection = sqlite3.connect(\"chinook.db\") # открыли\n",
        "cursor = connection.cursor()\n",
        "set(dir(cursor)) - set(dir(object)) #смотрим на методы\n",
        "# execute - выполни запрос\n",
        "# fetch - дай результаты"
      ],
      "metadata": {
        "colab": {
          "base_uri": "https://localhost:8080/"
        },
        "id": "gaLb2gRjM9ls",
        "outputId": "65becc52-6d9d-4cd0-eeef-9fdd38e50c62"
      },
      "execution_count": null,
      "outputs": [
        {
          "output_type": "execute_result",
          "data": {
            "text/plain": [
              "{'__iter__',\n",
              " '__next__',\n",
              " 'arraysize',\n",
              " 'close',\n",
              " 'connection',\n",
              " 'description',\n",
              " 'execute',\n",
              " 'executemany',\n",
              " 'executescript',\n",
              " 'fetchall',\n",
              " 'fetchmany',\n",
              " 'fetchone',\n",
              " 'lastrowid',\n",
              " 'row_factory',\n",
              " 'rowcount',\n",
              " 'setinputsizes',\n",
              " 'setoutputsize'}"
            ]
          },
          "metadata": {},
          "execution_count": 3
        }
      ]
    },
    {
      "cell_type": "code",
      "source": [
        "cursor.execute(\"SELECT name, type, rootpage FROM sqlite_master WHERE type='table'\")"
      ],
      "metadata": {
        "colab": {
          "base_uri": "https://localhost:8080/"
        },
        "id": "JGhTN4ScNZDl",
        "outputId": "dd914b5b-d50a-4374-9744-b45c5f0bbf07"
      },
      "execution_count": null,
      "outputs": [
        {
          "output_type": "execute_result",
          "data": {
            "text/plain": [
              "<sqlite3.Cursor at 0x7f837e9a9b90>"
            ]
          },
          "metadata": {},
          "execution_count": 9
        }
      ]
    },
    {
      "cell_type": "code",
      "source": [
        "one_row = cursor.fetchone() # дай одну строку, 1 строка - 1 кортеж\n",
        "some_rows = cursor.fetchmany(5) # дай много строк\n",
        "remain_rows = cursor.fetchall() # дай все остальные строки\n",
        "print(one_row)\n",
        "print('-' * 30)\n",
        "print(some_rows)\n",
        "print('-' * 30)\n",
        "print(remain_rows)\n",
        "print('-' * 30)\n",
        "# Курсор буквально ходит по таблице\n",
        "print(cursor.fetchall())"
      ],
      "metadata": {
        "colab": {
          "base_uri": "https://localhost:8080/"
        },
        "id": "urPwRtrQNrPe",
        "outputId": "0387b547-e5f7-44cf-a0d0-8def1f15f1da"
      },
      "execution_count": null,
      "outputs": [
        {
          "output_type": "stream",
          "name": "stdout",
          "text": [
            "('albums', 'table', 2)\n",
            "------------------------------\n",
            "[('sqlite_sequence', 'table', 3), ('artists', 'table', 4), ('customers', 'table', 5), ('employees', 'table', 8), ('genres', 'table', 10)]\n",
            "------------------------------\n",
            "[('invoices', 'table', 11), ('invoice_items', 'table', 13), ('media_types', 'table', 15), ('playlists', 'table', 16), ('playlist_track', 'table', 17), ('tracks', 'table', 20), ('sqlite_stat1', 'table', 864)]\n",
            "------------------------------\n",
            "[]\n"
          ]
        }
      ]
    },
    {
      "cell_type": "markdown",
      "source": [
        "## Что умеем делать?"
      ],
      "metadata": {
        "id": "spSWLTA8A_Em"
      }
    },
    {
      "cell_type": "markdown",
      "source": [
        "Надобно делать запросы, и получать ответ. А как писать запросы? Есть несколько вариантов:\n",
        "\n",
        "* Чисто с помощью SQL - кайф, но не очень удобно (мы же в Питоне)\n",
        "\n",
        "* Query Builder - удобнее, но нужна отдельная библиотека\n",
        "\n",
        "* ORM - уровень посложнее"
      ],
      "metadata": {
        "id": "lzFIwHnEBiFk"
      }
    },
    {
      "cell_type": "markdown",
      "source": [
        "### Часть 1. Сырые запросы"
      ],
      "metadata": {
        "id": "Hs0OEIJST9c_"
      }
    },
    {
      "cell_type": "code",
      "execution_count": null,
      "metadata": {
        "colab": {
          "base_uri": "https://localhost:8080/"
        },
        "id": "o7gsxlx5-tRT",
        "outputId": "b6a89d04-1ba0-4ad8-89a1-8dca3ab2f641"
      },
      "outputs": [
        {
          "output_type": "stream",
          "name": "stdout",
          "text": [
            "[(11, 'Brazilian Music')]\n"
          ]
        }
      ],
      "source": [
        "def search_by_name(name, cursor):\n",
        "    cursor.execute(f\"SELECT * FROM playlists WHERE Name LIKE '%{name}%'\")\n",
        "    return cursor.fetchall()\n",
        "\n",
        "print(search_by_name(\"Brazil\", cursor))"
      ]
    },
    {
      "cell_type": "markdown",
      "source": [
        "Проблема - легко ломается! (можно передать какую-нибудь дичь, SQL injection etc). Давайте делать все более безопасно - через словари:"
      ],
      "metadata": {
        "id": "oNt61Pe_PS24"
      }
    },
    {
      "cell_type": "code",
      "source": [
        "cursor.execute(\"SELECT * FROM playlists WHERE Name LIKE :name\", {\"name\": f'%{name}%'})\n",
        "# двоеточие - название переменных из словаря, драйвер сам все сделает, а также делает экранирование (и преобразование типов)"
      ],
      "metadata": {
        "id": "9sB94PWlQGu3"
      },
      "execution_count": null,
      "outputs": []
    },
    {
      "cell_type": "markdown",
      "source": [
        "Но дополнительная сила делать все через словари - это возможность сделать сразу несколько запросов в одном! (например, для вставки значений)"
      ],
      "metadata": {
        "id": "zvtSjfKGRgAA"
      }
    },
    {
      "cell_type": "code",
      "source": [
        "cursor.executemany(\"\"\"\n",
        "INSERT INTO tracks (Name, AlbumId, MediaTypeId, GenreId, Composer, Milliseconds, Bytes, UnitPrice)\n",
        "VALUES(?, ?, ?, ?, ?, ?, ?, ?)\n",
        "\"\"\", [\n",
        "    (\"name\", 1, 1, 1, None, 1, 0, 0),\n",
        "    (\"name_2\", 2, 1, 1, None, 1, 0, 0)\n",
        "])\n",
        "cursor.execute(\"SELECT * FROM tracks WHERE Name LIKE 'name%'\")\n",
        "cursor.fetchall()"
      ],
      "metadata": {
        "colab": {
          "base_uri": "https://localhost:8080/"
        },
        "id": "VM0mf62fRmE8",
        "outputId": "0cb76fd7-e703-4c98-cd88-3b76394b668f"
      },
      "execution_count": null,
      "outputs": [
        {
          "output_type": "execute_result",
          "data": {
            "text/plain": [
              "[(3504, 'name', 1, 1, 1, None, 1, 0, 0),\n",
              " (3505, 'name_2', 2, 1, 1, None, 1, 0, 0)]"
            ]
          },
          "metadata": {},
          "execution_count": 18
        }
      ]
    },
    {
      "cell_type": "markdown",
      "source": [
        "### Транзакции"
      ],
      "metadata": {
        "id": "o3YyALbIS2kl"
      }
    },
    {
      "cell_type": "markdown",
      "source": [
        "Посмотрим на вот этот код:"
      ],
      "metadata": {
        "id": "CwJ8PZU2S5N3"
      }
    },
    {
      "cell_type": "code",
      "source": [
        "connection_2 = sqlite3.connect(\"chinook.db\") # открыли\n",
        "cursor_2 = connection_2.cursor()\n",
        "cursor_2.execute(\"SELECT * FROM tracks WHERE Name LIKE 'name%'\")\n",
        "cursor_2.fetchall()"
      ],
      "metadata": {
        "colab": {
          "base_uri": "https://localhost:8080/"
        },
        "id": "OfFNBymoS_Cx",
        "outputId": "84169a2d-6ac7-446f-faad-a324f8c38e14"
      },
      "execution_count": null,
      "outputs": [
        {
          "output_type": "execute_result",
          "data": {
            "text/plain": [
              "[]"
            ]
          },
          "metadata": {},
          "execution_count": 19
        }
      ]
    },
    {
      "cell_type": "markdown",
      "source": [
        "Вообще ничего нет. А где...\n",
        "\n",
        "Если посмотреть в файлы ноутбука, то мы увидим такую вещь, как chinook.db-journal. Это история всех изменений. Мы их сделали, но не закоммитили! А чтобы это сделать, надо сделать commit()"
      ],
      "metadata": {
        "id": "Kvam48BwTG6r"
      }
    },
    {
      "cell_type": "code",
      "source": [
        "connection.commit() # сделать commit\n",
        "# connection.rollback() # отменить все это добро, до commit() надо делать, так как после commit не откатить"
      ],
      "metadata": {
        "id": "OGhJ-tMUTYiZ"
      },
      "execution_count": null,
      "outputs": []
    },
    {
      "cell_type": "code",
      "source": [
        "cursor_2.execute(\"SELECT * FROM tracks WHERE Name LIKE 'name%'\")\n",
        "cursor_2.fetchall()"
      ],
      "metadata": {
        "colab": {
          "base_uri": "https://localhost:8080/"
        },
        "id": "ccfq336XTpqW",
        "outputId": "dadf593d-7c11-4097-fb91-26ef4d562d19"
      },
      "execution_count": null,
      "outputs": [
        {
          "output_type": "execute_result",
          "data": {
            "text/plain": [
              "[(3504, 'name', 1, 1, 1, None, 1, 0, 0),\n",
              " (3505, 'name_2', 2, 1, 1, None, 1, 0, 0)]"
            ]
          },
          "metadata": {},
          "execution_count": 21
        }
      ]
    },
    {
      "cell_type": "code",
      "source": [
        "connection.close()\n",
        "connection_2.close()"
      ],
      "metadata": {
        "id": "vQkb4jdGTxIq"
      },
      "execution_count": null,
      "outputs": []
    },
    {
      "cell_type": "markdown",
      "source": [
        "### Часть 2. Query Builder"
      ],
      "metadata": {
        "id": "yFueMAXgUFBE"
      }
    },
    {
      "cell_type": "markdown",
      "source": [
        "В чем плюсы?\n",
        "\n",
        "1. Вы не пишите SQL код\n",
        "\n",
        "2. Делаете по частям (логическим), форматировать не надо\n",
        "\n",
        "3. Можно с разными диалектами (иногда может в ногу выстрелить)\n",
        "\n",
        "4. Чуть менее гибкий (но редко когда на это наткнешься, не видел я таких)\n",
        "\n",
        "Но запрос руками, обработка руками (все равно ручками много что делать). Это все библиотека [PyPika](https://pypika.readthedocs.io/en/latest/) (а есть еще другие, но по сути, это одно и то же, вообще в теории и руками можно написать)"
      ],
      "metadata": {
        "id": "QVQZk9eNVc8a"
      }
    },
    {
      "cell_type": "code",
      "source": [
        "!pip install pypika"
      ],
      "metadata": {
        "id": "WRoHOFjSWD31"
      },
      "execution_count": null,
      "outputs": []
    },
    {
      "cell_type": "markdown",
      "source": [
        "#### Как формируются запросы?"
      ],
      "metadata": {
        "id": "z7Cn932DWqV2"
      }
    },
    {
      "cell_type": "code",
      "source": [
        "from pypika import Query\n",
        "\n",
        "q = Query.from_('tracks').select(\"TrackId\", \"Name\").limit(10) #создаем запрос, после from_ можно вообще в любом порядке писать\n",
        "q_1 = Query.from_('tracks').limit(10).select(\"TrackId\", \"Name\")\n",
        "str(q), str(q_1) # Это все просто текст, запроса к БД еще нет"
      ],
      "metadata": {
        "colab": {
          "base_uri": "https://localhost:8080/"
        },
        "id": "OfjTEsWkWaz7",
        "outputId": "dead74f8-8845-4428-84b3-237af13274b6"
      },
      "execution_count": null,
      "outputs": [
        {
          "output_type": "execute_result",
          "data": {
            "text/plain": [
              "('SELECT \"TrackId\",\"Name\" FROM \"tracks\" LIMIT 10',\n",
              " 'SELECT \"TrackId\",\"Name\" FROM \"tracks\" LIMIT 10')"
            ]
          },
          "metadata": {},
          "execution_count": 29
        }
      ]
    },
    {
      "cell_type": "markdown",
      "source": [
        "#### Подбор под диалекты:"
      ],
      "metadata": {
        "id": "PtDUU2PrXbtp"
      }
    },
    {
      "cell_type": "code",
      "source": [
        "from pypika import MSSQLQuery, OracleQuery, PostgreSQLQuery\n",
        "\n",
        "oracle = OracleQuery.from_('tracks').select(\"TrackId\", \"Name\").limit(10)\n",
        "ms = MSSQLQuery.from_('tracks').select(\"TrackId\", \"Name\").limit(10) # в MSSQL не существует LIMIT))0)\n",
        "postgre = PostgreSQLQuery.from_('tracks').select(\"TrackId\", \"Name\").limit(10)\n",
        "str(oracle), str(ms), str(postgre)"
      ],
      "metadata": {
        "colab": {
          "base_uri": "https://localhost:8080/"
        },
        "id": "RfC6L5-YXfsq",
        "outputId": "9f15ead3-fac8-4aed-e265-a51fb26f2f5e"
      },
      "execution_count": null,
      "outputs": [
        {
          "output_type": "execute_result",
          "data": {
            "text/plain": [
              "('SELECT TrackId,Name FROM tracks LIMIT 10',\n",
              " 'SELECT \"TrackId\",\"Name\" FROM \"tracks\" OFFSET 0 ROWS FETCH NEXT 10 ROWS ONLY',\n",
              " 'SELECT \"TrackId\",\"Name\" FROM \"tracks\" LIMIT 10')"
            ]
          },
          "metadata": {},
          "execution_count": 30
        }
      ]
    },
    {
      "cell_type": "markdown",
      "source": [
        "#### Давайте усложнять и упрощать!"
      ],
      "metadata": {
        "id": "JppkS7bNX9i3"
      }
    },
    {
      "cell_type": "code",
      "source": [
        "from pypika import Table, Field # более явный способ разметки\n",
        "\n",
        "tracks = Table(\"tracks\")\n",
        "q = Query.from_(tracks) \\\n",
        "    .where(Field('Name').like('%Music%')).select(\"TrackId\", 'Name') \\\n",
        "    .where(Field('TrackId') < 100)\n",
        "\n",
        "print(str(q))\n",
        "\n",
        "q = Query.from_(tracks) \\\n",
        "    .where(Field('Name').like('\\' OR 1=1')).where(tracks.TrackId < 100) \\\n",
        "    .select('TrackId', 'Name') #прикол экранирования и SQL-injection\n",
        "\n",
        "print(str(q))"
      ],
      "metadata": {
        "colab": {
          "base_uri": "https://localhost:8080/"
        },
        "id": "YKCe4MjdYBsV",
        "outputId": "ce6d7942-8179-4d72-a6cb-26796a58e928"
      },
      "execution_count": null,
      "outputs": [
        {
          "output_type": "stream",
          "name": "stdout",
          "text": [
            "SELECT \"TrackId\",\"Name\" FROM \"tracks\" WHERE \"Name\" LIKE '%Music%' AND \"TrackId\"<100\n",
            "SELECT \"TrackId\",\"Name\" FROM \"tracks\" WHERE \"Name\" LIKE ''' OR 1=1' AND \"TrackId\"<100\n"
          ]
        }
      ]
    },
    {
      "cell_type": "markdown",
      "source": [
        "#### Ну и параметры:"
      ],
      "metadata": {
        "id": "bbooNnfSePcL"
      }
    },
    {
      "cell_type": "code",
      "source": [
        "from pypika import Parameter\n",
        "\n",
        "q = Query.from_(tracks) \\\n",
        "    .where(Field('Name').like(Parameter(':name'))).where(tracks.TrackId < 100) \\\n",
        "    .select('TrackId', 'Name') #если не делать параметр, то он посчитает это просто строкой\n",
        "\n",
        "print(str(q))"
      ],
      "metadata": {
        "colab": {
          "base_uri": "https://localhost:8080/"
        },
        "id": "cbp8KfaxeTke",
        "outputId": "1b9239f8-a0fb-4702-8459-1c0ae11b6f3b"
      },
      "execution_count": null,
      "outputs": [
        {
          "output_type": "stream",
          "name": "stdout",
          "text": [
            "SELECT \"TrackId\",\"Name\" FROM \"tracks\" WHERE \"Name\" LIKE :name AND \"TrackId\"<100\n"
          ]
        }
      ]
    },
    {
      "cell_type": "markdown",
      "source": [
        "#### Далее у нас наши любимые JOINы:"
      ],
      "metadata": {
        "id": "t4tfIMnpe3eV"
      }
    },
    {
      "cell_type": "code",
      "source": [
        "albums = Table('albums')\n",
        "\n",
        "q = q.inner_join(albums)\n",
        "q = q.using('AlbumId') #второй вариант, суть такая же\n",
        "#q = q.on(tracks.AlbumId == albums.AlbumId) # Первый вариант\n",
        "q = q.select(albums.Title)\n",
        "str(q)"
      ],
      "metadata": {
        "colab": {
          "base_uri": "https://localhost:8080/"
        },
        "id": "tcvShsxee6Gh",
        "outputId": "37a9906d-f7a7-433a-b486-f1f30ea7722b"
      },
      "execution_count": null,
      "outputs": [
        {
          "output_type": "execute_result",
          "data": {
            "text/plain": [
              "'SELECT \"tracks\".\"TrackId\",\"tracks\".\"Name\",\"albums\".\"Title\",\"albums\".\"Title\" FROM \"tracks\" JOIN \"albums\" ON \"tracks\".\"AlbumId\"=\"albums\".\"AlbumId\" JOIN \"albums\" USING (\"AlbumId\") WHERE \"Name\" LIKE :name AND \"tracks\".\"TrackId\"<100'"
            ],
            "application/vnd.google.colaboratory.intrinsic+json": {
              "type": "string"
            }
          },
          "metadata": {},
          "execution_count": 38
        }
      ]
    },
    {
      "cell_type": "markdown",
      "source": [
        "#### Подзапросы:"
      ],
      "metadata": {
        "id": "4-EO5G3VgLRV"
      }
    },
    {
      "cell_type": "code",
      "source": [
        "import pypika.functions as fn\n",
        "from pypika import Order\n",
        "\n",
        "q1 = Query.from_(tracks).groupby('GenreId').select('GenreId', fn.Count('*').as_('num_tracks'))\n",
        "print(str(q1))\n",
        "\n",
        "num_tracks = Field('num_tracks')\n",
        "q2 = Query.from_('genres').join(q1).using('GenreId').select('Name', num_tracks).orderby(num_tracks, order=Order.desc).limit(10)\n",
        "\n",
        "print(str(q2))"
      ],
      "metadata": {
        "colab": {
          "base_uri": "https://localhost:8080/"
        },
        "id": "QnZfaBo1gcGv",
        "outputId": "4ae29be8-b443-4c7d-d194-73c956901486"
      },
      "execution_count": null,
      "outputs": [
        {
          "output_type": "stream",
          "name": "stdout",
          "text": [
            "SELECT \"GenreId\",COUNT(*) \"num_tracks\" FROM \"tracks\" GROUP BY \"GenreId\"\n",
            "SELECT \"genres\".\"Name\",\"num_tracks\" FROM \"genres\" JOIN (SELECT \"GenreId\",COUNT(*) \"num_tracks\" FROM \"tracks\" GROUP BY \"GenreId\") \"sq0\" USING (\"GenreId\") ORDER BY \"num_tracks\" DESC LIMIT 10\n"
          ]
        }
      ]
    },
    {
      "cell_type": "markdown",
      "source": [
        "#### А теперь в Sqlite3"
      ],
      "metadata": {
        "id": "M8OmDT82hWw6"
      }
    },
    {
      "cell_type": "code",
      "source": [
        "connection = sqlite3.connect('chinook.db')\n",
        "\n",
        "def get_res(query):\n",
        "    cursor = connection.cursor()\n",
        "    cursor.execute(str(query))\n",
        "    cols = [full_column_info[0] for full_column_info in cursor.description]\n",
        "    res = cursor.fetchall()\n",
        "    return [{name: value for name, value in zip(cols, r)} for r in res]\n",
        "\n",
        "get_res(q2)"
      ],
      "metadata": {
        "colab": {
          "base_uri": "https://localhost:8080/"
        },
        "id": "yFUcsV1shauT",
        "outputId": "fb76d089-f126-4308-802f-b17c7b6f66f6"
      },
      "execution_count": null,
      "outputs": [
        {
          "output_type": "execute_result",
          "data": {
            "text/plain": [
              "[{'Name': 'Rock', 'num_tracks': 1299},\n",
              " {'Name': 'Latin', 'num_tracks': 579},\n",
              " {'Name': 'Metal', 'num_tracks': 374},\n",
              " {'Name': 'Alternative & Punk', 'num_tracks': 332},\n",
              " {'Name': 'Jazz', 'num_tracks': 130},\n",
              " {'Name': 'TV Shows', 'num_tracks': 93},\n",
              " {'Name': 'Blues', 'num_tracks': 81},\n",
              " {'Name': 'Classical', 'num_tracks': 74},\n",
              " {'Name': 'Drama', 'num_tracks': 64},\n",
              " {'Name': 'R&B/Soul', 'num_tracks': 61}]"
            ]
          },
          "metadata": {},
          "execution_count": 41
        }
      ]
    },
    {
      "cell_type": "markdown",
      "source": [
        "### Часть 3. ORM"
      ],
      "metadata": {
        "id": "HR7eL8t3UILW"
      }
    },
    {
      "cell_type": "markdown",
      "source": [
        "Ну и теперь вершина - ORM (Object-Relational Mapping)\n",
        "\n",
        "Плюсы:\n",
        "\n",
        "* Еще удобнее, чем Query Builder (вообще SQL не почувствуем)\n",
        "\n",
        "* Таблицы - почти DataClass\n",
        "\n",
        "* Результат автоматически отображается в красивые объекты\n",
        "\n",
        "Минусы:\n",
        "\n",
        "* Иногда нафиг не надо (бывает хуже производительность, на простых примерах из 1-2 таблицы не надо)\n",
        "\n",
        "Пример: [SQLAlchemy](https://www.sqlalchemy.org/)"
      ],
      "metadata": {
        "id": "Q8USp8rNiZDB"
      }
    },
    {
      "cell_type": "markdown",
      "source": [
        "Выглядит это вот так:\n",
        "\n",
        "![](https://s3.amazonaws.com/media-p.slid.es/uploads/10882/images/5116660/sqlalchemy__3_.png)"
      ],
      "metadata": {
        "id": "G5Tikw7-jsts"
      }
    },
    {
      "cell_type": "markdown",
      "source": [
        "* DB API - все, что про cursor, connection etc\n",
        "\n",
        "* Core - это похожее на Query Builder структура, возможность создавать запросы\n",
        "\n",
        "* ORM - уже модуль для маппинга результатов к объектам"
      ],
      "metadata": {
        "id": "PD5vvb4Lj169"
      }
    },
    {
      "cell_type": "markdown",
      "source": [
        "#### Движок"
      ],
      "metadata": {
        "id": "lP1glGlXkJPX"
      }
    },
    {
      "cell_type": "code",
      "source": [
        "!pip install sqlalchemy"
      ],
      "metadata": {
        "id": "XfiVna_AkM0S",
        "colab": {
          "base_uri": "https://localhost:8080/"
        },
        "outputId": "15b9eeb9-1687-416d-8d68-4623493016da"
      },
      "execution_count": 3,
      "outputs": [
        {
          "output_type": "stream",
          "name": "stdout",
          "text": [
            "Requirement already satisfied: sqlalchemy in /usr/local/lib/python3.10/dist-packages (2.0.35)\n",
            "Requirement already satisfied: typing-extensions>=4.6.0 in /usr/local/lib/python3.10/dist-packages (from sqlalchemy) (4.12.2)\n",
            "Requirement already satisfied: greenlet!=0.4.17 in /usr/local/lib/python3.10/dist-packages (from sqlalchemy) (3.1.1)\n"
          ]
        }
      ]
    },
    {
      "cell_type": "code",
      "source": [
        "from sqlalchemy import create_engine, Column, Integer, String, Float\n",
        "from sqlalchemy.ext.declarative import declarative_base\n",
        "\n",
        "# Единственное место с подсоединением к СУБД\n",
        "engine = create_engine('sqlite+pysqlite:///chinook.db', echo=True)\n",
        "Base = declarative_base() # предок для всех моделей (таблиц)"
      ],
      "metadata": {
        "id": "vuAl8VNykLk1",
        "colab": {
          "base_uri": "https://localhost:8080/"
        },
        "outputId": "08cb81fa-57ad-44e8-f8cd-981970d0fc0e"
      },
      "execution_count": 4,
      "outputs": [
        {
          "output_type": "stream",
          "name": "stderr",
          "text": [
            "<ipython-input-4-22dd3c689ed3>:6: MovedIn20Warning: The ``declarative_base()`` function is now available as sqlalchemy.orm.declarative_base(). (deprecated since: 2.0) (Background on SQLAlchemy 2.0 at: https://sqlalche.me/e/b8d9)\n",
            "  Base = declarative_base() # предок для всех моделей (таблиц)\n"
          ]
        }
      ]
    },
    {
      "cell_type": "markdown",
      "source": [
        "#### Модели"
      ],
      "metadata": {
        "id": "AoYJV5G3k207"
      }
    },
    {
      "cell_type": "code",
      "source": [
        "class Tracks(Base):\n",
        "    __tablename__ = 'tracks' # имя таблицы\n",
        "\n",
        "    track_id = Column(Integer, name='TrackId', primary_key=True) # обязательно должен быть PrimaryKey\n",
        "    Name = Column(String)\n",
        "    GenreId = Column(Integer)\n",
        "    UnitPrice = Column(Float)\n",
        "    MediaTypeId = Column(Integer)\n",
        "    Milliseconds = Column(Integer)\n",
        "\n",
        "    # создаем колонки, дублируя БД"
      ],
      "metadata": {
        "id": "bgZBQ9hLk4sO"
      },
      "execution_count": 5,
      "outputs": []
    },
    {
      "cell_type": "markdown",
      "source": [
        "#### Сессия"
      ],
      "metadata": {
        "id": "c_aoJUDNltsv"
      }
    },
    {
      "cell_type": "markdown",
      "source": [
        "Что такое Session? По сути дела Connection в другом виде, содержит в себе объекты моделей, ленивое подключение (когда надо)"
      ],
      "metadata": {
        "id": "0hDEYlxRl-KC"
      }
    },
    {
      "cell_type": "code",
      "source": [
        "from sqlalchemy.orm import sessionmaker\n",
        "\n",
        "Session = sessionmaker(bind=engine, future=True, expire_on_commit=False) #future - использование второй версии, expire_on_commit - убиваем на commitу\n",
        "\n",
        "session = Session() #объект сессии\n",
        "session_2 = Session()"
      ],
      "metadata": {
        "id": "GyrikIVqlwu1"
      },
      "execution_count": 6,
      "outputs": []
    },
    {
      "cell_type": "markdown",
      "source": [
        "#### Select"
      ],
      "metadata": {
        "id": "JdUp4U4Cms2g"
      }
    },
    {
      "cell_type": "code",
      "source": [
        "from sqlalchemy import select\n",
        "\n",
        "query = select(Tracks).where(Tracks.Name.like('%name%'))\n",
        "\n",
        "retr_1 = session.execute(query).scalar() #scalar - преобразование результата в объект\n",
        "retr_2 = session.execute(query).scalar()\n",
        "\n",
        "retr_3 = session.execute(select(Tracks).where(Tracks.Name.like('%name%'))).scalar()\n",
        "\n",
        "res = retr_1 is retr_2, retr_1 is retr_3, retr_2 is retr_3\n",
        "\n",
        "res"
      ],
      "metadata": {
        "id": "Ik_EllNymwUI",
        "colab": {
          "base_uri": "https://localhost:8080/"
        },
        "outputId": "47a834d8-ab46-4fdd-f99f-473fbf5c44a2"
      },
      "execution_count": 7,
      "outputs": [
        {
          "output_type": "stream",
          "name": "stdout",
          "text": [
            "2024-10-13 13:30:09,559 INFO sqlalchemy.engine.Engine BEGIN (implicit)\n"
          ]
        },
        {
          "output_type": "stream",
          "name": "stderr",
          "text": [
            "INFO:sqlalchemy.engine.Engine:BEGIN (implicit)\n"
          ]
        },
        {
          "output_type": "stream",
          "name": "stdout",
          "text": [
            "2024-10-13 13:30:09,567 INFO sqlalchemy.engine.Engine SELECT tracks.\"TrackId\", tracks.\"Name\", tracks.\"GenreId\", tracks.\"UnitPrice\", tracks.\"MediaTypeId\", tracks.\"Milliseconds\" \n",
            "FROM tracks \n",
            "WHERE tracks.\"Name\" LIKE ?\n"
          ]
        },
        {
          "output_type": "stream",
          "name": "stderr",
          "text": [
            "INFO:sqlalchemy.engine.Engine:SELECT tracks.\"TrackId\", tracks.\"Name\", tracks.\"GenreId\", tracks.\"UnitPrice\", tracks.\"MediaTypeId\", tracks.\"Milliseconds\" \n",
            "FROM tracks \n",
            "WHERE tracks.\"Name\" LIKE ?\n"
          ]
        },
        {
          "output_type": "stream",
          "name": "stdout",
          "text": [
            "2024-10-13 13:30:09,570 INFO sqlalchemy.engine.Engine [generated in 0.00319s] ('%name%',)\n"
          ]
        },
        {
          "output_type": "stream",
          "name": "stderr",
          "text": [
            "INFO:sqlalchemy.engine.Engine:[generated in 0.00319s] ('%name%',)\n"
          ]
        },
        {
          "output_type": "stream",
          "name": "stdout",
          "text": [
            "2024-10-13 13:30:09,575 INFO sqlalchemy.engine.Engine SELECT tracks.\"TrackId\", tracks.\"Name\", tracks.\"GenreId\", tracks.\"UnitPrice\", tracks.\"MediaTypeId\", tracks.\"Milliseconds\" \n",
            "FROM tracks \n",
            "WHERE tracks.\"Name\" LIKE ?\n"
          ]
        },
        {
          "output_type": "stream",
          "name": "stderr",
          "text": [
            "INFO:sqlalchemy.engine.Engine:SELECT tracks.\"TrackId\", tracks.\"Name\", tracks.\"GenreId\", tracks.\"UnitPrice\", tracks.\"MediaTypeId\", tracks.\"Milliseconds\" \n",
            "FROM tracks \n",
            "WHERE tracks.\"Name\" LIKE ?\n"
          ]
        },
        {
          "output_type": "stream",
          "name": "stdout",
          "text": [
            "2024-10-13 13:30:09,579 INFO sqlalchemy.engine.Engine [cached since 0.01269s ago] ('%name%',)\n"
          ]
        },
        {
          "output_type": "stream",
          "name": "stderr",
          "text": [
            "INFO:sqlalchemy.engine.Engine:[cached since 0.01269s ago] ('%name%',)\n"
          ]
        },
        {
          "output_type": "stream",
          "name": "stdout",
          "text": [
            "2024-10-13 13:30:09,584 INFO sqlalchemy.engine.Engine SELECT tracks.\"TrackId\", tracks.\"Name\", tracks.\"GenreId\", tracks.\"UnitPrice\", tracks.\"MediaTypeId\", tracks.\"Milliseconds\" \n",
            "FROM tracks \n",
            "WHERE tracks.\"Name\" LIKE ?\n"
          ]
        },
        {
          "output_type": "stream",
          "name": "stderr",
          "text": [
            "INFO:sqlalchemy.engine.Engine:SELECT tracks.\"TrackId\", tracks.\"Name\", tracks.\"GenreId\", tracks.\"UnitPrice\", tracks.\"MediaTypeId\", tracks.\"Milliseconds\" \n",
            "FROM tracks \n",
            "WHERE tracks.\"Name\" LIKE ?\n"
          ]
        },
        {
          "output_type": "stream",
          "name": "stdout",
          "text": [
            "2024-10-13 13:30:09,587 INFO sqlalchemy.engine.Engine [cached since 0.02089s ago] ('%name%',)\n"
          ]
        },
        {
          "output_type": "stream",
          "name": "stderr",
          "text": [
            "INFO:sqlalchemy.engine.Engine:[cached since 0.02089s ago] ('%name%',)\n"
          ]
        },
        {
          "output_type": "execute_result",
          "data": {
            "text/plain": [
              "(True, True, True)"
            ]
          },
          "metadata": {},
          "execution_count": 7
        }
      ]
    },
    {
      "cell_type": "markdown",
      "source": [
        "Вообще запросы такие же, как и в Query Builder"
      ],
      "metadata": {
        "id": "rAFw6iprnsOy"
      }
    },
    {
      "cell_type": "markdown",
      "source": [
        "#### Insert"
      ],
      "metadata": {
        "id": "8FH8gsRRnwbo"
      }
    },
    {
      "cell_type": "code",
      "source": [
        "new_track = Tracks(track_id=100000, MediaTypeId=1, Name='new_track', GenreId=1, UnitPrice=1.0, Milliseconds=15)\n",
        "session.add(new_track)\n",
        "# ничего не сделал..."
      ],
      "metadata": {
        "id": "Mhv3tYSDnkmO"
      },
      "execution_count": null,
      "outputs": []
    },
    {
      "cell_type": "code",
      "source": [
        "res = session.execute(select(Tracks).filter_by(Name='new_track')).scalar() #а вот тут случился insert\n",
        "res is new_track"
      ],
      "metadata": {
        "colab": {
          "base_uri": "https://localhost:8080/"
        },
        "id": "_8XA8z3XoHDG",
        "outputId": "8a2131db-37f1-4d68-d6a8-520f8d2378c2"
      },
      "execution_count": null,
      "outputs": [
        {
          "output_type": "stream",
          "name": "stdout",
          "text": [
            "2022-12-04 15:08:41,458 INFO sqlalchemy.engine.Engine INSERT INTO tracks (\"TrackId\", \"Name\", \"GenreId\", \"UnitPrice\", \"MediaTypeId\", \"Milliseconds\") VALUES (?, ?, ?, ?, ?, ?)\n"
          ]
        },
        {
          "output_type": "stream",
          "name": "stderr",
          "text": [
            "INFO:sqlalchemy.engine.Engine:INSERT INTO tracks (\"TrackId\", \"Name\", \"GenreId\", \"UnitPrice\", \"MediaTypeId\", \"Milliseconds\") VALUES (?, ?, ?, ?, ?, ?)\n"
          ]
        },
        {
          "output_type": "stream",
          "name": "stdout",
          "text": [
            "2022-12-04 15:08:41,464 INFO sqlalchemy.engine.Engine [generated in 0.00659s] (100000, 'new_track', 1, 1.0, 1, 15)\n"
          ]
        },
        {
          "output_type": "stream",
          "name": "stderr",
          "text": [
            "INFO:sqlalchemy.engine.Engine:[generated in 0.00659s] (100000, 'new_track', 1, 1.0, 1, 15)\n"
          ]
        },
        {
          "output_type": "stream",
          "name": "stdout",
          "text": [
            "2022-12-04 15:08:41,470 INFO sqlalchemy.engine.Engine SELECT tracks.\"TrackId\", tracks.\"Name\", tracks.\"GenreId\", tracks.\"UnitPrice\", tracks.\"MediaTypeId\", tracks.\"Milliseconds\" \n",
            "FROM tracks \n",
            "WHERE tracks.\"Name\" = ?\n"
          ]
        },
        {
          "output_type": "stream",
          "name": "stderr",
          "text": [
            "INFO:sqlalchemy.engine.Engine:SELECT tracks.\"TrackId\", tracks.\"Name\", tracks.\"GenreId\", tracks.\"UnitPrice\", tracks.\"MediaTypeId\", tracks.\"Milliseconds\" \n",
            "FROM tracks \n",
            "WHERE tracks.\"Name\" = ?\n"
          ]
        },
        {
          "output_type": "stream",
          "name": "stdout",
          "text": [
            "2022-12-04 15:08:41,474 INFO sqlalchemy.engine.Engine [generated in 0.00414s] ('new_track',)\n"
          ]
        },
        {
          "output_type": "stream",
          "name": "stderr",
          "text": [
            "INFO:sqlalchemy.engine.Engine:[generated in 0.00414s] ('new_track',)\n"
          ]
        },
        {
          "output_type": "execute_result",
          "data": {
            "text/plain": [
              "True"
            ]
          },
          "metadata": {},
          "execution_count": 6
        }
      ]
    },
    {
      "cell_type": "markdown",
      "source": [
        "#### Relations (или же Joins)"
      ],
      "metadata": {
        "id": "sAclwkEgpOLf"
      }
    },
    {
      "cell_type": "code",
      "source": [
        "from sqlalchemy import ForeignKey, select\n",
        "from sqlalchemy.orm import relationship\n",
        "\n",
        "class RelatedTrack(Base):\n",
        "    __tablename__ = 'tracks'\n",
        "    __table_args__ = {'extend_existing': True} #дабы не было конфликтов (то есть ссылка есть всегда)\n",
        "\n",
        "\n",
        "    track_id = Column(Integer, name='TrackId', primary_key=True) # обязательно должен быть PrimaryKey\n",
        "    Name = Column(String)\n",
        "    GenreId = Column(Integer, ForeignKey('genres.GenreId'))\n",
        "    UnitPrice = Column(Float)\n",
        "    MediaTypeId = Column(Integer)\n",
        "    Milliseconds = Column(Integer)\n",
        "\n",
        "    genre = relationship('Genre', back_populates='tracks')\n",
        "\n",
        "class Genre(Base):\n",
        "    __tablename__ = 'genres'\n",
        "    __table_args__ = {'extend_existing': True}\n",
        "\n",
        "    GenreId = Column(Integer, primary_key=True)\n",
        "    Name = Column(String)\n",
        "\n",
        "    tracks = relationship(\"RelatedTrack\", back_populates='genre', uselist=True) #uselist - список"
      ],
      "metadata": {
        "id": "-ffYgF3fpThO"
      },
      "execution_count": 8,
      "outputs": []
    },
    {
      "cell_type": "code",
      "source": [
        "genre_1 = session.execute(select(Genre).filter_by(GenreId=1)).scalar()\n",
        "len(genre_1.tracks)"
      ],
      "metadata": {
        "id": "-pqRc8w0rPKR",
        "colab": {
          "base_uri": "https://localhost:8080/"
        },
        "outputId": "4a208ed5-abdb-4394-d7c4-95d626a07da7"
      },
      "execution_count": 9,
      "outputs": [
        {
          "output_type": "stream",
          "name": "stdout",
          "text": [
            "2024-10-13 13:30:57,531 INFO sqlalchemy.engine.Engine SELECT genres.\"GenreId\", genres.\"Name\" \n",
            "FROM genres \n",
            "WHERE genres.\"GenreId\" = ?\n"
          ]
        },
        {
          "output_type": "stream",
          "name": "stderr",
          "text": [
            "INFO:sqlalchemy.engine.Engine:SELECT genres.\"GenreId\", genres.\"Name\" \n",
            "FROM genres \n",
            "WHERE genres.\"GenreId\" = ?\n"
          ]
        },
        {
          "output_type": "stream",
          "name": "stdout",
          "text": [
            "2024-10-13 13:30:57,535 INFO sqlalchemy.engine.Engine [generated in 0.00401s] (1,)\n"
          ]
        },
        {
          "output_type": "stream",
          "name": "stderr",
          "text": [
            "INFO:sqlalchemy.engine.Engine:[generated in 0.00401s] (1,)\n"
          ]
        },
        {
          "output_type": "stream",
          "name": "stdout",
          "text": [
            "2024-10-13 13:30:57,542 INFO sqlalchemy.engine.Engine SELECT tracks.\"TrackId\" AS \"tracks_TrackId\", tracks.\"Name\" AS \"tracks_Name\", tracks.\"GenreId\" AS \"tracks_GenreId\", tracks.\"UnitPrice\" AS \"tracks_UnitPrice\", tracks.\"MediaTypeId\" AS \"tracks_MediaTypeId\", tracks.\"Milliseconds\" AS \"tracks_Milliseconds\" \n",
            "FROM tracks \n",
            "WHERE ? = tracks.\"GenreId\"\n"
          ]
        },
        {
          "output_type": "stream",
          "name": "stderr",
          "text": [
            "INFO:sqlalchemy.engine.Engine:SELECT tracks.\"TrackId\" AS \"tracks_TrackId\", tracks.\"Name\" AS \"tracks_Name\", tracks.\"GenreId\" AS \"tracks_GenreId\", tracks.\"UnitPrice\" AS \"tracks_UnitPrice\", tracks.\"MediaTypeId\" AS \"tracks_MediaTypeId\", tracks.\"Milliseconds\" AS \"tracks_Milliseconds\" \n",
            "FROM tracks \n",
            "WHERE ? = tracks.\"GenreId\"\n"
          ]
        },
        {
          "output_type": "stream",
          "name": "stdout",
          "text": [
            "2024-10-13 13:30:57,545 INFO sqlalchemy.engine.Engine [generated in 0.00306s] (1,)\n"
          ]
        },
        {
          "output_type": "stream",
          "name": "stderr",
          "text": [
            "INFO:sqlalchemy.engine.Engine:[generated in 0.00306s] (1,)\n"
          ]
        },
        {
          "output_type": "execute_result",
          "data": {
            "text/plain": [
              "1297"
            ]
          },
          "metadata": {},
          "execution_count": 9
        }
      ]
    },
    {
      "cell_type": "code",
      "source": [
        "genre_1.tracks[0].Name"
      ],
      "metadata": {
        "colab": {
          "base_uri": "https://localhost:8080/",
          "height": 36
        },
        "id": "TUvSrQ2trwR9",
        "outputId": "49872608-b2d7-4ed7-eada-c3a7682a9f73"
      },
      "execution_count": 10,
      "outputs": [
        {
          "output_type": "execute_result",
          "data": {
            "text/plain": [
              "'For Those About To Rock (We Salute You)'"
            ],
            "application/vnd.google.colaboratory.intrinsic+json": {
              "type": "string"
            }
          },
          "metadata": {},
          "execution_count": 10
        }
      ]
    },
    {
      "cell_type": "code",
      "source": [
        "genre_1.tracks[0].genre is genre_1 #есть обратная связь"
      ],
      "metadata": {
        "colab": {
          "base_uri": "https://localhost:8080/"
        },
        "id": "c2ZgGF_lrzaA",
        "outputId": "40c8e5c4-bc68-4fef-a8db-34a20c07261d"
      },
      "execution_count": 11,
      "outputs": [
        {
          "output_type": "execute_result",
          "data": {
            "text/plain": [
              "True"
            ]
          },
          "metadata": {},
          "execution_count": 11
        }
      ]
    },
    {
      "cell_type": "markdown",
      "source": [
        "#### Фильтрация по связям"
      ],
      "metadata": {
        "id": "Ec9DnJC8r6qD"
      }
    },
    {
      "cell_type": "code",
      "source": [
        "tracks = session.execute(select(RelatedTrack).join(Genre).where(Genre.Name.like('%Rock%')).limit(5)).scalars().all()\n",
        "for track in tracks:\n",
        "    print(track.genre.Name)"
      ],
      "metadata": {
        "id": "RCGQ-ml8r9Ke",
        "colab": {
          "base_uri": "https://localhost:8080/"
        },
        "outputId": "724062fe-341f-4edc-88b8-3f0f8e04de16"
      },
      "execution_count": 12,
      "outputs": [
        {
          "output_type": "stream",
          "name": "stdout",
          "text": [
            "2024-10-13 13:31:12,009 INFO sqlalchemy.engine.Engine SELECT tracks.\"TrackId\", tracks.\"Name\", tracks.\"GenreId\", tracks.\"UnitPrice\", tracks.\"MediaTypeId\", tracks.\"Milliseconds\" \n",
            "FROM tracks JOIN genres ON genres.\"GenreId\" = tracks.\"GenreId\" \n",
            "WHERE genres.\"Name\" LIKE ?\n",
            " LIMIT ? OFFSET ?\n"
          ]
        },
        {
          "output_type": "stream",
          "name": "stderr",
          "text": [
            "INFO:sqlalchemy.engine.Engine:SELECT tracks.\"TrackId\", tracks.\"Name\", tracks.\"GenreId\", tracks.\"UnitPrice\", tracks.\"MediaTypeId\", tracks.\"Milliseconds\" \n",
            "FROM tracks JOIN genres ON genres.\"GenreId\" = tracks.\"GenreId\" \n",
            "WHERE genres.\"Name\" LIKE ?\n",
            " LIMIT ? OFFSET ?\n"
          ]
        },
        {
          "output_type": "stream",
          "name": "stdout",
          "text": [
            "2024-10-13 13:31:12,012 INFO sqlalchemy.engine.Engine [generated in 0.00339s] ('%Rock%', 5, 0)\n"
          ]
        },
        {
          "output_type": "stream",
          "name": "stderr",
          "text": [
            "INFO:sqlalchemy.engine.Engine:[generated in 0.00339s] ('%Rock%', 5, 0)\n"
          ]
        },
        {
          "output_type": "stream",
          "name": "stdout",
          "text": [
            "Rock\n",
            "Rock\n",
            "Rock\n",
            "Rock\n",
            "Rock\n"
          ]
        }
      ]
    },
    {
      "cell_type": "markdown",
      "source": [
        "## Животное дня"
      ],
      "metadata": {
        "id": "4WE30PWSsZsr"
      }
    },
    {
      "cell_type": "markdown",
      "source": [
        "![](https://upload.wikimedia.org/wikipedia/commons/thumb/4/4f/Wied%27s_Marmoset_at_Blank_Park_Zoo.gk.jpg/1920px-Wied%27s_Marmoset_at_Blank_Park_Zoo.gk.jpg)"
      ],
      "metadata": {
        "id": "Nl7mt-s-sdjv"
      }
    },
    {
      "cell_type": "markdown",
      "source": [
        "Это игрунка Жоффруа. Меня всегда поражало, что морда очень похожа на человеческое лицо. А еще у нее есть симпатричный вид (то есть животное, которое живет в одном ареале) - это Золотистоголовая львиная игрунка"
      ],
      "metadata": {
        "id": "LxsWbO6uuDB8"
      }
    },
    {
      "cell_type": "markdown",
      "source": [
        "![](https://upload.wikimedia.org/wikipedia/commons/c/c8/Tamarin_Tête_de_lion.jpg)"
      ],
      "metadata": {
        "id": "ULLl8_V9uQLn"
      }
    },
    {
      "cell_type": "markdown",
      "source": [
        "Они часто путешествуют вместе с группами игрунок Куля, ищет с ними пищу и предупреждает о нападении хищников. Социальное поведение у игрунок Куля сильно развито, большую часть дня животные проводят в совместных поисках пищи, взаимной чистке и играх. О молодняке проявляют заботу все члены группы. Повзрослев, самки остаются в родной группе, а самцы покидают её. (у них тоже матриархат)"
      ],
      "metadata": {
        "id": "fhziVEPoukef"
      }
    }
  ]
}