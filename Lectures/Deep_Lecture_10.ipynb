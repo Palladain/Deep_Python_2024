{
  "cells": [
    {
      "cell_type": "markdown",
      "metadata": {
        "id": "gijAq0ynFrxZ"
      },
      "source": [
        "# Продвинутый Python, лекция 10\n",
        "\n",
        "**Лектор:** Петров Тимур\n",
        "\n",
        "**Семинаристы:** Бузаев Федор, Дешеулин Олег, Коган Александра, Васина Олеся, Садуллаев Музаффар"
      ]
    },
    {
      "cell_type": "markdown",
      "metadata": {
        "id": "z3pQmioHFrxZ"
      },
      "source": [
        "На прошлых занятиях мы говорили про `Flask`, помните? Что ж... забудьте! Шутка. Сегодня мы рассмотрим более современный и свежий формат реализации веб-серверов. Будем изучать библиотеку `FastAPI`. Заодно поговорим про надежность эксплуатации в терминах клиент-серверной архитектуры."
      ]
    },
    {
      "cell_type": "markdown",
      "metadata": {
        "id": "ZmPPOmHBFrxa"
      },
      "source": [
        "**Пример.** Напишем сервер, у которого будет только одна ручка, через которую клиент может узнать, жив ли сервер."
      ]
    },
    {
      "cell_type": "markdown",
      "metadata": {
        "id": "rJnG5TX2Frxa"
      },
      "source": [
        "**Примечание.** Запускайте код не в `Jupyter Notebook`, так как есть некоторые особенности реализации, не позволяющие это сделать."
      ]
    },
    {
      "cell_type": "code",
      "execution_count": null,
      "metadata": {
        "id": "DCsO-8v5Frxa"
      },
      "outputs": [],
      "source": [
        "from http import HTTPStatus\n",
        "\n",
        "import uvicorn\n",
        "from fastapi import FastAPI, Response\n",
        "\n",
        "app = FastAPI()\n",
        "\n",
        "\n",
        "@app.get(\"/api/v1/healthcheck\")\n",
        "def healthcheck() -> Response:\n",
        "    \"\"\"Проверить, что сервер активен.\"\"\"\n",
        "    return Response(status_code=HTTPStatus.OK)\n",
        "\n",
        "\n",
        "def main() -> None:\n",
        "    \"\"\"Запустить сервер.\"\"\"\n",
        "    uvicorn.run(app)\n",
        "\n",
        "\n",
        "if __name__ == \"__main__\":\n",
        "    main()"
      ]
    },
    {
      "cell_type": "markdown",
      "metadata": {
        "id": "fxn4QU0eFrxa"
      },
      "source": [
        "Главное изменение, которое можно заметить, это явное указание HTTP-метода еще на уровне процедуры. А еще есть какой-то `uvicorn`... Про него расскажем на семинаре. В остальном все максимально похоже на `Flask`."
      ]
    },
    {
      "cell_type": "markdown",
      "metadata": {
        "id": "xEE7KSwdFrxa"
      },
      "source": [
        "Теперь откроем `http://localhost:8000/docs`. О, магия! Что-то симпатичное. Этот интерфейс называется `Swagger`. Если очень коротко и примтивно, то это инструмент, который позволяет на основе некоторой спецификации (формальное описание API) выполнять запросы к некоторому серверу от имени клиента."
      ]
    },
    {
      "cell_type": "markdown",
      "metadata": {
        "id": "AnetN5YYFrxa"
      },
      "source": [
        "`Swagger` строится на основе спецификации от `OpenAPI`. Давайте взглянем на спецификацию на примере нашего сервера. Перейдем в `Swagger`. Слева вверху можно увидеть гиперссылку на `/openapi.json` - перейдем по ней. Увидим следующее:"
      ]
    },
    {
      "cell_type": "markdown",
      "metadata": {
        "id": "X-FaqLKlFrxa"
      },
      "source": [
        "```json\n",
        "{\n",
        "  \"openapi\": \"3.1.0\",\n",
        "  \"info\": {\n",
        "    \"title\": \"FastAPI\",\n",
        "    \"version\": \"0.1.0\"\n",
        "  },\n",
        "  \"paths\": {\n",
        "    \"/api/v1/healtcheck\": {\n",
        "      \"get\": {\n",
        "        \"summary\": \"Healthcheck\",\n",
        "        \"description\": \"Проверить, что сервер активен.\",\n",
        "        \"operationId\": \"healthcheck_api_v1_healtcheck_get\",\n",
        "        \"responses\": {\n",
        "          \"200\": {\n",
        "            \"description\": \"Successful Response\",\n",
        "            \"content\": {\n",
        "              \"application/json\": {\n",
        "                \"schema\": {\n",
        "\n",
        "                }\n",
        "              }\n",
        "            }\n",
        "          }\n",
        "        }\n",
        "      }\n",
        "    }\n",
        "  }\n",
        "}\n",
        "```"
      ]
    },
    {
      "cell_type": "markdown",
      "metadata": {
        "id": "0Oe29kZzFrxa"
      },
      "source": [
        "Как уже было сказано, это формализация методов нашего сервера. Мы описали, какие ручки существуют, что они могут вернуть и для чего они предназначены. Обратите внимание, что `FastAPI` подхватил название функции и ее докстринг прямо из кода. Круто ж! Это один из значимых плюсов `FastAPI`. Код становится самодокументируемым."
      ]
    },
    {
      "cell_type": "markdown",
      "metadata": {
        "id": "BvfhI6ImFrxb"
      },
      "source": [
        "Давайте, на всякий случай, еще раз уточним:\n",
        "\n",
        "* `Swagger` - инструмент (UI);\n",
        "* `OpenAPI` - спецификация (документ)."
      ]
    },
    {
      "cell_type": "markdown",
      "metadata": {
        "id": "CxAgzIh0Frxb"
      },
      "source": [
        "Зачем вообще нужна `OpenAPI`-спецификация? Во-первых, чтобы генерировать `Swagger UI`. Это очевидно. Но это, к слову, не единственное применение. Давайте рассмотрим следующий пример."
      ]
    },
    {
      "cell_type": "markdown",
      "metadata": {
        "id": "DTImeWRlFrxb"
      },
      "source": [
        "**Пример.** Напишем сервер, который будет делать какую-то сложную вычислительную задачу и возвращать клиенту ее результат."
      ]
    },
    {
      "cell_type": "code",
      "execution_count": null,
      "metadata": {
        "id": "DPtjfRpUFrxb"
      },
      "outputs": [],
      "source": [
        "from math import ceil, sqrt\n",
        "\n",
        "import uvicorn\n",
        "from fastapi import FastAPI\n",
        "\n",
        "app = FastAPI()\n",
        "\n",
        "\n",
        "def is_prime(n: int) -> bool:\n",
        "    \"\"\"Проверить, что число простое.\"\"\"\n",
        "    if n == 2:\n",
        "        return True\n",
        "\n",
        "    if n % 2 == 0:\n",
        "        return False\n",
        "\n",
        "    bound = ceil(sqrt(n))\n",
        "    start, step = 3, 2\n",
        "\n",
        "    return all(n % divisor != 0 for divisor in range(start, bound + 1, step))\n",
        "\n",
        "\n",
        "def cpu(n: int) -> int:\n",
        "    \"\"\"Посчитать количество простых чисел от `2` до `n`.\"\"\"\n",
        "    return sum(is_prime(number) for number in range(2, n + 1))\n",
        "\n",
        "\n",
        "@app.get(\"/api/v1/primes\")\n",
        "def count_primes(n: int) -> int:\n",
        "    \"\"\"Посчитать количество простых чисел от `2` до `n`.\"\"\"\n",
        "    return cpu(n)\n",
        "\n",
        "\n",
        "def main() -> None:\n",
        "    \"\"\"Запустить сервер.\"\"\"\n",
        "    uvicorn.run(app)\n",
        "\n",
        "\n",
        "if __name__ == \"__main__\":\n",
        "    main()"
      ]
    },
    {
      "cell_type": "markdown",
      "metadata": {
        "id": "o7pj1ljJFrxb"
      },
      "source": [
        "Теперь откроем спецификацию:"
      ]
    },
    {
      "cell_type": "markdown",
      "metadata": {
        "id": "IY_6XqJpFrxb"
      },
      "source": [
        "```json\n",
        "{\n",
        "  \"openapi\": \"3.1.0\",\n",
        "  \"info\": {\n",
        "    \"title\": \"FastAPI\",\n",
        "    \"version\": \"0.1.0\"\n",
        "  },\n",
        "  \"paths\": {\n",
        "    \"/api/v1/primes\": {\n",
        "      \"get\": {\n",
        "        \"summary\": \"Count Primes\",\n",
        "        \"description\": \"Посчитать количество простых чисел от `2` до `n`.\",\n",
        "        \"operationId\": \"count_primes_api_v1_primes_get\",\n",
        "        \"parameters\": [\n",
        "          {\n",
        "            \"name\": \"n\",\n",
        "            \"in\": \"query\",\n",
        "            \"required\": true,\n",
        "            \"schema\": {\n",
        "              \"type\": \"integer\",\n",
        "              \"title\": \"N\"\n",
        "            }\n",
        "          }\n",
        "        ],\n",
        "        \"responses\": {\n",
        "          \"200\": {\n",
        "            \"description\": \"Successful Response\",\n",
        "            \"content\": {\n",
        "              \"application/json\": {\n",
        "                \"schema\": {\n",
        "                  \"type\": \"integer\",\n",
        "                  \"title\": \"Response Count Primes Api V1 Primes Get\"\n",
        "                }\n",
        "              }\n",
        "            }\n",
        "          },\n",
        "          \"422\": {\n",
        "            \"description\": \"Validation Error\",\n",
        "            \"content\": {\n",
        "              \"application/json\": {\n",
        "                \"schema\": {\n",
        "                  \"$ref\": \"#/components/schemas/HTTPValidationError\"\n",
        "                }\n",
        "              }\n",
        "            }\n",
        "          }\n",
        "        }\n",
        "      }\n",
        "    }\n",
        "  },\n",
        "  \"components\": {\n",
        "    \"schemas\": {\n",
        "      \"HTTPValidationError\": {\n",
        "        \"properties\": {\n",
        "          \"detail\": {\n",
        "            \"items\": {\n",
        "              \"$ref\": \"#/components/schemas/ValidationError\"\n",
        "            },\n",
        "            \"type\": \"array\",\n",
        "            \"title\": \"Detail\"\n",
        "          }\n",
        "        },\n",
        "        \"type\": \"object\",\n",
        "        \"title\": \"HTTPValidationError\"\n",
        "      },\n",
        "      \"ValidationError\": {\n",
        "        \"properties\": {\n",
        "          \"loc\": {\n",
        "            \"items\": {\n",
        "              \"anyOf\": [\n",
        "                {\n",
        "                  \"type\": \"string\"\n",
        "                },\n",
        "                {\n",
        "                  \"type\": \"integer\"\n",
        "                }\n",
        "              ]\n",
        "            },\n",
        "            \"type\": \"array\",\n",
        "            \"title\": \"Location\"\n",
        "          },\n",
        "          \"msg\": {\n",
        "            \"type\": \"string\",\n",
        "            \"title\": \"Message\"\n",
        "          },\n",
        "          \"type\": {\n",
        "            \"type\": \"string\",\n",
        "            \"title\": \"Error Type\"\n",
        "          }\n",
        "        },\n",
        "        \"type\": \"object\",\n",
        "        \"required\": [\n",
        "          \"loc\",\n",
        "          \"msg\",\n",
        "          \"type\"\n",
        "        ],\n",
        "        \"title\": \"ValidationError\"\n",
        "      }\n",
        "    }\n",
        "  }\n",
        "}\n",
        "```"
      ]
    },
    {
      "cell_type": "markdown",
      "metadata": {
        "id": "nfDjhjgVFrxb"
      },
      "source": [
        "Обратите внимание, насколько выросло описание. Что изменилось? Появились входные и выходные типы. Причем они появились как для успешных ответов (`2XX`), так и для ошибочных (`4XX`). И все же, где наша выгода? Зачем нужна `OpenAPI`-спецификацию, кроме генерации `Swagger`? Наша выгода называется \"автоклиент\"."
      ]
    },
    {
      "cell_type": "markdown",
      "metadata": {
        "id": "5TY2TaqLFrxb"
      },
      "source": [
        "**Автоклиент** - это программа, которая по описанию API строит библиотечный интерфейс для взаимодействия с сервером, который удовлетворяет этой спецификации. Сгенерированная библиотека включает в себя модели ответов и методы для взаимодействия с сервером. Иногда автоклиентом называют саму сгенерированную библиотеку."
      ]
    },
    {
      "cell_type": "markdown",
      "metadata": {
        "id": "GNGcxbiZFrxb"
      },
      "source": [
        "**Пример.** Автоклиент для сервера выше мог бы выглядеть следующим образом."
      ]
    },
    {
      "cell_type": "code",
      "execution_count": null,
      "metadata": {
        "id": "8bE3SpvVFrxb"
      },
      "outputs": [],
      "source": [
        "def count_primes(n: int) -> int:\n",
        "    \"\"\"Посчитать количество простых чисел от `2` до `n`.\"\"\"\n",
        "    # 1. Установить соединение с сервером\n",
        "    # 2. Выполнить запрос к серверу\n",
        "    # 3. Дождаться ответа со стороны сервера\n",
        "    # 4. Обработать ответ и вернуть пользователю"
      ]
    },
    {
      "cell_type": "markdown",
      "metadata": {
        "id": "cBR9jbqaFrxb"
      },
      "source": [
        "Тогда в коде это могло бы выглядеть вот так:"
      ]
    },
    {
      "cell_type": "code",
      "execution_count": null,
      "metadata": {
        "id": "vzK88ecKFrxb"
      },
      "outputs": [],
      "source": [
        "from random import randint\n",
        "\n",
        "\n",
        "def main() -> None:\n",
        "    n = randint(2, 100500 + 1)\n",
        "\n",
        "    # Неявный запрос на сервер\n",
        "    count = count_primes(n)\n",
        "\n",
        "    print(f\"Между 2 и {n} существует {count} простыъ чисел\")"
      ]
    },
    {
      "cell_type": "markdown",
      "metadata": {
        "id": "Yi6fgK99Frxb"
      },
      "source": [
        "Такой подход распространен в промышленной разработке в условиях микросервисной архитектуры. Вместо того, чтобы самостоятельно писать библиотеки под API каждого сервиса, достаточно скормить автоклиенту спецификацию. А он уже сам сгенерирует библиотеку, через которую можно взаимодействовать с API сервиса."
      ]
    },
    {
      "cell_type": "markdown",
      "metadata": {
        "id": "ckvSb3GaFrxb"
      },
      "source": [
        "Это особенно полезно в условиях часто меняющихся (регулярно обновляющихся) API, так как не придется по десять раз переписывать собственный код. Для разработчиков это избавление от рутины, а для бизнеса дешевизна разработки, так как все происходит автоматически."
      ]
    },
    {
      "cell_type": "markdown",
      "metadata": {
        "id": "WvPbsTV1Frxb"
      },
      "source": [
        "**Примечание.** Попробуйте передать НЕ число. `FastAPI` это отловит. Причем как на уровне `Swagger`, так и на уровне самого сервера. Для второго случая, чтобы убедиться, перейдите по ссылке: http://localhost:8000/api/v1/primes?n=bebra."
      ]
    },
    {
      "cell_type": "markdown",
      "metadata": {
        "id": "czJimkdhFrxb"
      },
      "source": [
        "**Пример.** Напишем сервер, который будет возвращать клиенту список файлов в текущей директории сервера."
      ]
    },
    {
      "cell_type": "code",
      "execution_count": null,
      "metadata": {
        "id": "Fc4yA9NiFrxb"
      },
      "outputs": [],
      "source": [
        "from os import getcwd, listdir\n",
        "\n",
        "import uvicorn\n",
        "from fastapi import FastAPI\n",
        "\n",
        "app = FastAPI()\n",
        "\n",
        "\n",
        "@app.get(\"/api/v1/ls\")\n",
        "def ls() -> list[str]:\n",
        "    \"\"\"Вывести содержимое текущей директории [со стороны сервера].\"\"\"\n",
        "    cwd = getcwd()\n",
        "    return listdir(cwd)\n",
        "\n",
        "\n",
        "def main() -> None:\n",
        "    \"\"\"Запустить сервер.\"\"\"\n",
        "    uvicorn.run(app)\n",
        "\n",
        "\n",
        "if __name__ == \"__main__\":\n",
        "    main()"
      ]
    },
    {
      "cell_type": "markdown",
      "metadata": {
        "id": "65Ju8t1aFrxb"
      },
      "source": [
        "**Примечание.** Помним, что вместо `os.getcwd` и `os.lisdir` лучше пользоваться `pathlib.Path.cwd` и `pathlib.Path.iterdir` соответственно."
      ]
    },
    {
      "cell_type": "markdown",
      "metadata": {
        "id": "0peUBpo4Frxb"
      },
      "source": [
        "**Вопрос.** Уважаемые знатоки, в чем проблема кода выше? Вспоминаем недавние занятия."
      ]
    },
    {
      "cell_type": "markdown",
      "metadata": {
        "id": "vXMasLqhFrxb"
      },
      "source": [
        "**Ответ.** Самые внимательные сразу заметят, что мы выполняем системный вызов. По сути мы передаем управление некоторому внешнему источнику (операционной системе), который явным образом не связан с нашей программой. Получается, мы блокируем основной поток до тех пор, пока не получим ответ от этой системы. Это значит, что сервер в течение всего времени системного будет обрабатывать буквально один запрос от одного пользователя, то есть для других пользователей наш сервер зависнет. Давайте вспомним одно из недавних занятий. Как избегают блокирующий ввод-вывод? Правильно, через асинхронность. Как Вы можете понять, `FastAPI` поддерживает асинхронность."
      ]
    },
    {
      "cell_type": "markdown",
      "metadata": {
        "id": "eA4XtId4Frxc"
      },
      "source": [
        "**Пример.** Перепишем сервер на асинхронный формат."
      ]
    },
    {
      "cell_type": "code",
      "execution_count": null,
      "metadata": {
        "id": "M9d9TK9hFrxc"
      },
      "outputs": [],
      "source": [
        "from asyncio import to_thread\n",
        "from os import getcwd, listdir\n",
        "\n",
        "import uvicorn\n",
        "from fastapi import FastAPI\n",
        "\n",
        "app = FastAPI()\n",
        "\n",
        "\n",
        "@app.get(\"/api/v1/ls\")\n",
        "async def ls() -> list[str]:\n",
        "    \"\"\"Вывести содержимое текущей директории [со стороны сервера].\"\"\"\n",
        "    cwd = await to_thread(getcwd)\n",
        "    return await to_thread(listdir, cwd)\n",
        "\n",
        "\n",
        "def main() -> None:\n",
        "    \"\"\"Запустить сервер.\"\"\"\n",
        "    uvicorn.run(app)\n",
        "\n",
        "\n",
        "if __name__ == \"__main__\":\n",
        "    main()"
      ]
    },
    {
      "cell_type": "markdown",
      "metadata": {
        "id": "t5_jcwWKFrxc"
      },
      "source": [
        "Теперь нашему серверу не страшно зависание операционной системы, потому что ожиданием занимается отдельный поток (не основной). Использование `asyncio.to_thread` - это классический способ превратить блокирующую операцию ввода-вывода в не блокирующую, асинхронную. В частности, библиотека `aioshutil`, которую мы когда-то упоминали, просто оборачивает вызовы оригинального `shutil` в поток. Вот и получаем асинхронность."
      ]
    },
    {
      "cell_type": "markdown",
      "metadata": {
        "id": "EM1kjAonFrxc"
      },
      "source": [
        "Еще раз отдельно выделим, что `FastAPI` из-под коробки поддерживает асинхронность! На семинаре покажем более полезные примеры. Будем интегрироваться с БД. Это, пожалуй, наиболее частое применение асинхронности."
      ]
    },
    {
      "cell_type": "markdown",
      "metadata": {
        "id": "RQLozDq7Frxc"
      },
      "source": [
        "**Пример.** Поддержка `enum`-классов."
      ]
    },
    {
      "cell_type": "code",
      "execution_count": null,
      "metadata": {
        "id": "Cs-D36PPFrxc"
      },
      "outputs": [],
      "source": [
        "from enum import StrEnum, auto\n",
        "from http import HTTPStatus\n",
        "\n",
        "import uvicorn\n",
        "from fastapi import FastAPI\n",
        "\n",
        "app = FastAPI()\n",
        "\n",
        "\n",
        "# Имитируем базу данных\n",
        "db: dict[str, int] = {}\n",
        "\n",
        "\n",
        "class Seminarist(StrEnum):\n",
        "    \"\"\"Семинарист.\"\"\"\n",
        "\n",
        "    MUZAFFAR = auto()\n",
        "    FEDYA = auto()\n",
        "    LESIA = auto()\n",
        "    OLEZHA = auto()\n",
        "    SASHA = auto()\n",
        "\n",
        "\n",
        "@app.get(\"/api/v1/scores\")\n",
        "async def get_scores() -> dict[str, int]:\n",
        "    \"\"\"Получить результаты голосования.\"\"\"\n",
        "    return db\n",
        "\n",
        "\n",
        "@app.post(\"/api/v1/vote\", status_code=HTTPStatus.ACCEPTED)\n",
        "async def vote(seminarist: Seminarist) -> None:\n",
        "    \"\"\"Проголосовать за семинариста.\"\"\"\n",
        "    db[seminarist] = db.get(seminarist, 0) + 1\n",
        "\n",
        "\n",
        "def main() -> None:\n",
        "    \"\"\"Запустить сервер.\"\"\"\n",
        "    uvicorn.run(app)\n",
        "\n",
        "\n",
        "if __name__ == \"__main__\":\n",
        "    main()"
      ]
    },
    {
      "cell_type": "markdown",
      "metadata": {
        "id": "fN7ZV9jnFrxc"
      },
      "source": [
        "Что хорошего в этом примере:\n",
        "\n",
        "1. В `Swagger` будут отображаться только значения из `enum`-класса;\n",
        "2. В спецификации от `OpenAPI` значения `seminarist` будут ограничены `enum`-классом;\n",
        "3. Любое значение, отличное от `enum`-класса, не пройдет валидацию на стороне сервера;\n",
        "4. Можно задать возвращаемый по умолчанию HTTP-код (взгляните на `POST`-метод)."
      ]
    },
    {
      "cell_type": "markdown",
      "metadata": {
        "id": "0hS-3EzqFrxc"
      },
      "source": [
        "**Пример.** Давайте спрячем аргументы в адрес страницы."
      ]
    },
    {
      "cell_type": "code",
      "execution_count": null,
      "metadata": {
        "id": "DeIovl4hFrxc"
      },
      "outputs": [],
      "source": [
        "from enum import StrEnum, auto\n",
        "from http import HTTPStatus\n",
        "\n",
        "import uvicorn\n",
        "from fastapi import FastAPI\n",
        "\n",
        "app = FastAPI()\n",
        "\n",
        "\n",
        "# Имитируем базу данных\n",
        "db: dict[str, int] = {}\n",
        "\n",
        "\n",
        "class Seminarist(StrEnum):\n",
        "    \"\"\"Семинарист.\"\"\"\n",
        "\n",
        "    MUZAFFAR = auto()\n",
        "    FEDYA = auto()\n",
        "    LESIA = auto()\n",
        "    OLEZHA = auto()\n",
        "    SASHA = auto()\n",
        "\n",
        "\n",
        "@app.get(\"/api/v1/scores\")\n",
        "async def get_scores() -> dict[str, int]:\n",
        "    \"\"\"Получить результаты голосования.\"\"\"\n",
        "    return db\n",
        "\n",
        "\n",
        "@app.post(\"/api/v1/vote/{seminarist}/{n}\", status_code=HTTPStatus.ACCEPTED)\n",
        "async def vote(seminarist: Seminarist, n: int) -> None:\n",
        "    \"\"\"Проголосовать за семинариста.\"\"\"\n",
        "    db[seminarist] = db.get(seminarist, 0) + n\n",
        "\n",
        "\n",
        "def main() -> None:\n",
        "    \"\"\"Запустить сервер.\"\"\"\n",
        "    uvicorn.run(app)\n",
        "\n",
        "\n",
        "if __name__ == \"__main__\":\n",
        "    main()"
      ]
    },
    {
      "cell_type": "markdown",
      "metadata": {
        "id": "K46YcG9UFrxg"
      },
      "source": [
        "В коде выше есть проблема. Она называется \"отрицательные числа\". Попобуйте передать отрицательное число. Что произойдет с числом голосов? А если ноль? Что-то изменится?"
      ]
    },
    {
      "cell_type": "markdown",
      "metadata": {
        "id": "cmMlgrixFrxg"
      },
      "source": [
        "Отнимать голоса (или не повышать их количество) мы не хотим. Давайте только прибавлять! Как решить проблему? Нужно научиться валидировать числа относительно нуля. Предостерегаем от добавления `if`-блока. Сделаем по-умному. `FastAPI` прекрасно интегрирован с `pydantic`."
      ]
    },
    {
      "cell_type": "code",
      "execution_count": null,
      "metadata": {
        "id": "-238A0QZFrxg"
      },
      "outputs": [],
      "source": [
        "from enum import StrEnum, auto\n",
        "from http import HTTPStatus\n",
        "\n",
        "import uvicorn\n",
        "from fastapi import FastAPI\n",
        "from pydantic import PositiveInt  # (!)\n",
        "\n",
        "app = FastAPI()\n",
        "\n",
        "\n",
        "# Имитируем базу данных\n",
        "db: dict[str, int] = {}\n",
        "\n",
        "\n",
        "class Seminarist(StrEnum):\n",
        "    \"\"\"Семинарист.\"\"\"\n",
        "\n",
        "    MUZAFFAR = auto()\n",
        "    FEDYA = auto()\n",
        "    LESIA = auto()\n",
        "    OLEZHA = auto()\n",
        "    SASHA = auto()\n",
        "\n",
        "\n",
        "@app.get(\"/api/v1/scores\")\n",
        "async def get_scores() -> dict[str, int]:\n",
        "    \"\"\"Получить результаты голосования.\"\"\"\n",
        "    return db\n",
        "\n",
        "\n",
        "@app.post(\"/api/v1/vote/{seminarist}/{n}\", status_code=HTTPStatus.ACCEPTED)\n",
        "async def vote(seminarist: Seminarist, n: PositiveInt) -> None:\n",
        "    \"\"\"Проголосовать за семинариста.\"\"\"\n",
        "    db[seminarist] = db.get(seminarist, 0) + n\n",
        "\n",
        "\n",
        "def main() -> None:\n",
        "    \"\"\"Запустить сервер.\"\"\"\n",
        "    uvicorn.run(app)\n",
        "\n",
        "\n",
        "if __name__ == \"__main__\":\n",
        "    main()"
      ]
    },
    {
      "cell_type": "markdown",
      "metadata": {
        "id": "or31XY39Frxg"
      },
      "source": [
        "Теперь `FastAPI` будет ругаться на всех, кто попробует приуменьшить заслуги наших семинаристов."
      ]
    },
    {
      "cell_type": "markdown",
      "metadata": {
        "id": "AuIiHSkoFrxg"
      },
      "source": [
        "**Пример.** Давайте сломаем спецификацию, которую генерирует `FastAPI`. Попробуем обмануть пользователя, передав не то, что ожидалось."
      ]
    },
    {
      "cell_type": "code",
      "execution_count": null,
      "metadata": {
        "id": "8BeEfIZQFrxg"
      },
      "outputs": [],
      "source": [
        "from random import randint\n",
        "\n",
        "import uvicorn\n",
        "from fastapi import FastAPI\n",
        "from pydantic import PositiveInt\n",
        "\n",
        "app = FastAPI()\n",
        "\n",
        "\n",
        "@app.get(\"/api/v1/randint\")\n",
        "async def get_random_integer() -> PositiveInt:\n",
        "    \"\"\"Получить случайное положительное целое число.\"\"\"\n",
        "    return -1 * randint(1, 100)\n",
        "\n",
        "\n",
        "def main() -> None:\n",
        "    \"\"\"Запустить сервер.\"\"\"\n",
        "    uvicorn.run(app)\n",
        "\n",
        "\n",
        "if __name__ == \"__main__\":\n",
        "    main()"
      ]
    },
    {
      "cell_type": "markdown",
      "metadata": {
        "id": "gVRm2rhEFrxg"
      },
      "source": [
        "Прелесть `FastAPI` в том, что он защищает не только разработчика от ошибок пользователя, но и пользователя от ошибок разработчика. А нужна была лишь аннотация типов. типов. Давайте рассмотрим еще несколько примеров, как, используя аннотации типов, можно уменьшить количество кода, а значит, упростить себе жизнь."
      ]
    },
    {
      "cell_type": "markdown",
      "metadata": {
        "id": "SLeV9GUPFrxg"
      },
      "source": [
        "**Пример.** Напишем сервер, который занимается переписью населения."
      ]
    },
    {
      "cell_type": "code",
      "execution_count": null,
      "metadata": {
        "id": "Em4kh2wIFrxg"
      },
      "outputs": [],
      "source": [
        "from http import HTTPStatus\n",
        "from typing import Self\n",
        "\n",
        "import uvicorn\n",
        "from fastapi import FastAPI, HTTPException\n",
        "from pydantic import BaseModel, Field, PositiveFloat, PositiveInt, field_validator\n",
        "\n",
        "app = FastAPI()\n",
        "\n",
        "\n",
        "# Имитируем базу данных\n",
        "db: dict[str, int] = {}\n",
        "\n",
        "\n",
        "class Citizen(BaseModel):\n",
        "    \"\"\"Сущность гражданина.\"\"\"\n",
        "\n",
        "    name: str = Field(min_length=2, max_length=32)\n",
        "    age: PositiveInt = Field(ge=18, le=100)\n",
        "\n",
        "    @field_validator(\"name\")\n",
        "    @classmethod\n",
        "    def ensure_name(cls: type[Self], name: str) -> str:\n",
        "        \"\"\"Проверить валидность имени.\"\"\"\n",
        "        if not name.isalpha():\n",
        "            detail = \"The name must consist from letters only\"\n",
        "            raise ValueError(detail)\n",
        "\n",
        "        if not name[0].isupper():\n",
        "            detail = \"The name must start with the capital letter\"\n",
        "            raise ValueError(detail)\n",
        "\n",
        "        if name != name.lower().capitalize():\n",
        "            detail = \"Only the first letter must be capitalized\"\n",
        "            raise ValueError(detail)\n",
        "\n",
        "        return name\n",
        "\n",
        "\n",
        "@app.post(\"/api/v1/register\", status_code=HTTPStatus.ACCEPTED)\n",
        "async def register(citizen: Citizen) -> None:\n",
        "    \"\"\"Зарегистрировать гражданина.\"\"\"\n",
        "    if citizen.name in db:\n",
        "        detail = f\"{citizen.name} has already been registered\"\n",
        "        raise HTTPException(HTTPStatus.CONFLICT, detail)\n",
        "\n",
        "    db[citizen.name] = citizen.age\n",
        "\n",
        "\n",
        "@app.get(\"/api/v1/statistics/age/mean\")\n",
        "async def get_mean_age() -> PositiveFloat:\n",
        "    \"\"\"Получить средний возраст участника.\"\"\"\n",
        "    if not db:\n",
        "        detail = \"The database is empty - try again later\"\n",
        "        raise HTTPException(HTTPStatus.TOO_EARLY, detail)\n",
        "\n",
        "    return sum(db.values()) / len(db)\n",
        "\n",
        "\n",
        "def main() -> None:\n",
        "    \"\"\"Запустить сервер.\"\"\"\n",
        "    uvicorn.run(app)\n",
        "\n",
        "\n",
        "if __name__ == \"__main__\":\n",
        "    main()"
      ]
    },
    {
      "cell_type": "markdown",
      "metadata": {
        "id": "lWk0G-ZZFrxg"
      },
      "source": [
        "На сей раз происходит много чего интересного. Во-первых, мы объявили `pydantic`-модель, которая содержит некоторые персональные данные гражданина. Давайте быстренько по ней пробежимся:\n",
        "\n",
        "Базово:\n",
        "1. Имя - строка, не меньше 2 и не больше 32 по длине;\n",
        "2. Возраст - положительное число, не меньше 18 и не больше 100.\n",
        "\n",
        "Дополнительно:\n",
        "1. Имя состоит из букв;\n",
        "2. Имя начинается с заглавной буквы;\n",
        "3. Имя содержит лишь одну заглавную букву.\n",
        "\n",
        "Попробуйте поделать разные запросы, которые будут нарушать эти правила. Какую ошибку вы получите?"
      ]
    },
    {
      "cell_type": "markdown",
      "metadata": {
        "id": "c-JmiuTzFrxg"
      },
      "source": [
        "Надеемся, что теперь вы окончательно убедились в том, что с `FastAPI` вы можете обеспечить себя максимальными гарантиями на валидность входных и выходных данных, чем заметно сократить код."
      ]
    },
    {
      "cell_type": "markdown",
      "metadata": {
        "id": "jBfbMDY2Frxg"
      },
      "source": [
        "Идем дальше. Ошибки типа `4XX` в терминах пользовательского опыта, как правило, сопоставимы с исключениями. Эту парадигму перенял `FastAPI`. Для этого используется класс `HTTPException`, куда достаточно передать два объекта - код ошибки и ее текст."
      ]
    },
    {
      "cell_type": "markdown",
      "metadata": {
        "id": "ifZUIubYFrxg"
      },
      "source": [
        "**Примечание.** Давайте взглянем на `OpenAPI`-спецификацию. Сможет ли `FastAPI` распознать более сложную структуру? Спойлер, конечно сможет."
      ]
    },
    {
      "cell_type": "markdown",
      "metadata": {
        "id": "wWqLEBNfFrxg"
      },
      "source": [
        "```json\n",
        "{\n",
        "  \"openapi\": \"3.1.0\",\n",
        "  \"info\": {\n",
        "    \"title\": \"FastAPI\",\n",
        "    \"version\": \"0.1.0\"\n",
        "  },\n",
        "  \"paths\": {\n",
        "    \"/api/v1/register\": {\n",
        "      \"post\": {\n",
        "        \"summary\": \"Register\",\n",
        "        \"description\": \"Зарегистрировать гражданина.\",\n",
        "        \"operationId\": \"register_api_v1_register_post\",\n",
        "        \"requestBody\": {\n",
        "          \"content\": {\n",
        "            \"application/json\": {\n",
        "              \"schema\": {\n",
        "                \"$ref\": \"#/components/schemas/Citizen\"\n",
        "              }\n",
        "            }\n",
        "          },\n",
        "          \"required\": true\n",
        "        },\n",
        "        \"responses\": {\n",
        "          \"202\": {\n",
        "            \"description\": \"Successful Response\",\n",
        "            \"content\": {\n",
        "              \"application/json\": {\n",
        "                \"schema\": {\n",
        "\n",
        "                }\n",
        "              }\n",
        "            }\n",
        "          },\n",
        "          \"422\": {\n",
        "            \"description\": \"Validation Error\",\n",
        "            \"content\": {\n",
        "              \"application/json\": {\n",
        "                \"schema\": {\n",
        "                  \"$ref\": \"#/components/schemas/HTTPValidationError\"\n",
        "                }\n",
        "              }\n",
        "            }\n",
        "          }\n",
        "        }\n",
        "      }\n",
        "    },\n",
        "    \"/api/v1/statistics/age/mean\": {\n",
        "      \"get\": {\n",
        "        \"summary\": \"Get Mean Age\",\n",
        "        \"description\": \"Получить средний возраст участника.\",\n",
        "        \"operationId\": \"get_mean_age_api_v1_statistics_age_mean_get\",\n",
        "        \"responses\": {\n",
        "          \"200\": {\n",
        "            \"description\": \"Successful Response\",\n",
        "            \"content\": {\n",
        "              \"application/json\": {\n",
        "                \"schema\": {\n",
        "                  \"type\": \"number\",\n",
        "                  \"exclusiveMinimum\": 0,\n",
        "                  \"title\": \"Response Get Mean Age Api V1 Statistics Age Mean Get\"\n",
        "                }\n",
        "              }\n",
        "            }\n",
        "          }\n",
        "        }\n",
        "      }\n",
        "    }\n",
        "  },\n",
        "  \"components\": {\n",
        "    \"schemas\": {\n",
        "      \"Citizen\": {\n",
        "        \"properties\": {\n",
        "          \"name\": {\n",
        "            \"type\": \"string\",\n",
        "            \"maxLength\": 32,\n",
        "            \"minLength\": 2,\n",
        "            \"title\": \"Name\"\n",
        "          },\n",
        "          \"age\": {\n",
        "            \"type\": \"integer\",\n",
        "            \"maximum\": 100,\n",
        "            \"minimum\": 18,\n",
        "            \"exclusiveMinimum\": 0,\n",
        "            \"title\": \"Age\"\n",
        "          }\n",
        "        },\n",
        "        \"type\": \"object\",\n",
        "        \"required\": [\n",
        "          \"name\",\n",
        "          \"age\"\n",
        "        ],\n",
        "        \"title\": \"Citizen\",\n",
        "        \"description\": \"Сущность гражданина.\"\n",
        "      },\n",
        "      \"HTTPValidationError\": {\n",
        "        \"properties\": {\n",
        "          \"detail\": {\n",
        "            \"items\": {\n",
        "              \"$ref\": \"#/components/schemas/ValidationError\"\n",
        "            },\n",
        "            \"type\": \"array\",\n",
        "            \"title\": \"Detail\"\n",
        "          }\n",
        "        },\n",
        "        \"type\": \"object\",\n",
        "        \"title\": \"HTTPValidationError\"\n",
        "      },\n",
        "      \"ValidationError\": {\n",
        "        \"properties\": {\n",
        "          \"loc\": {\n",
        "            \"items\": {\n",
        "              \"anyOf\": [\n",
        "                {\n",
        "                  \"type\": \"string\"\n",
        "                },\n",
        "                {\n",
        "                  \"type\": \"integer\"\n",
        "                }\n",
        "              ]\n",
        "            },\n",
        "            \"type\": \"array\",\n",
        "            \"title\": \"Location\"\n",
        "          },\n",
        "          \"msg\": {\n",
        "            \"type\": \"string\",\n",
        "            \"title\": \"Message\"\n",
        "          },\n",
        "          \"type\": {\n",
        "            \"type\": \"string\",\n",
        "            \"title\": \"Error Type\"\n",
        "          }\n",
        "        },\n",
        "        \"type\": \"object\",\n",
        "        \"required\": [\n",
        "          \"loc\",\n",
        "          \"msg\",\n",
        "          \"type\"\n",
        "        ],\n",
        "        \"title\": \"ValidationError\"\n",
        "      }\n",
        "    }\n",
        "  }\n",
        "}\n",
        "```"
      ]
    },
    {
      "cell_type": "markdown",
      "metadata": {
        "id": "9dzOKp8JFrxg"
      },
      "source": [
        "Обратите внимание, как все, что было описано на уровне типов, было перенесно в спецификцию (ограничения на возраст и длину имени). `FastAPI` формирует спецификацию настолько точно, насколько это вообще возможно."
      ]
    },
    {
      "cell_type": "markdown",
      "metadata": {
        "id": "4zGPtHIFFrxh"
      },
      "source": [
        "**Примечание.** Кстати говоря, `FastAPI` поддерживает еще и вложенные `pydantic`-модели. На семинаре попробуем и такое."
      ]
    },
    {
      "cell_type": "markdown",
      "metadata": {
        "id": "Q1qMsggkFrxh"
      },
      "source": [
        "**Пример.** Давайте теперь представим, что нам нужна какая-то абстрактная ручка, в которую в качестве аргумента можно передавать только буквы. Получается, достаточно ограничить минимальную и максимальную единицей. В `pydantic` таких типов нет. Как быть? Ответ - пользоваться возможностями `FastAPI`."
      ]
    },
    {
      "cell_type": "code",
      "execution_count": null,
      "metadata": {
        "id": "CCgVZkJ1Frxh"
      },
      "outputs": [],
      "source": [
        "from typing import Annotated\n",
        "\n",
        "import uvicorn\n",
        "from fastapi import FastAPI, Query\n",
        "\n",
        "app = FastAPI()\n",
        "\n",
        "\n",
        "@app.get(\"/api/v1/ascii\")\n",
        "async def to_ascii(letter: Annotated[str, Query(min_length=1, max_length=1)]) -> int:\n",
        "    \"\"\"Получить `ASCII`-код.\"\"\"\n",
        "    return ord(letter)\n",
        "\n",
        "\n",
        "def main() -> None:\n",
        "    \"\"\"Запустить сервер.\"\"\"\n",
        "    uvicorn.run(app)\n",
        "\n",
        "\n",
        "if __name__ == \"__main__\":\n",
        "    main()"
      ]
    },
    {
      "cell_type": "markdown",
      "metadata": {
        "id": "r4jybZLRFrxh"
      },
      "source": [
        "Итак, у нас есть `query`-параметр `letter`. `FastAPI` распознает его как `str`, к которому через `typing.Annotated` добавлена дополнительная информация, а именно правила валидации. В этих правилах мы как раз-таки и описали, что нам нужна однобуквенная строка."
      ]
    },
    {
      "cell_type": "markdown",
      "metadata": {
        "id": "6N0VutyLFrxh"
      },
      "source": [
        "**Пример.** Давайте отобразим параметр `letter` в `path`-аргумент."
      ]
    },
    {
      "cell_type": "code",
      "execution_count": null,
      "metadata": {
        "id": "g0qlYkEUFrxh"
      },
      "outputs": [],
      "source": [
        "from typing import Annotated\n",
        "\n",
        "import uvicorn\n",
        "from fastapi import FastAPI, Query\n",
        "\n",
        "app = FastAPI()\n",
        "\n",
        "\n",
        "@app.get(\"/api/v1/ascii/{letter}\")\n",
        "async def to_ascii(letter: Annotated[str, Query(min_length=1, max_length=1)]) -> int:\n",
        "    \"\"\"Получить `ASCII`-код.\"\"\"\n",
        "    return ord(letter)\n",
        "\n",
        "\n",
        "def main() -> None:\n",
        "    \"\"\"Запустить сервер.\"\"\"\n",
        "    uvicorn.run(app)\n",
        "\n",
        "\n",
        "if __name__ == \"__main__\":\n",
        "    main()"
      ]
    },
    {
      "cell_type": "markdown",
      "metadata": {
        "id": "gg-GmBdpFrxh"
      },
      "source": [
        "Такой код работать не будет, потому что `fastapi.Query`, как можно понять, применяется только для `query`-параметров. Достаточно заменить на `fastapi.Path`. По сути это то же самое, но применимо к сущностям другого уровня."
      ]
    },
    {
      "cell_type": "code",
      "execution_count": null,
      "metadata": {
        "id": "TK8WnT2wFrxh"
      },
      "outputs": [],
      "source": [
        "from typing import Annotated\n",
        "\n",
        "import uvicorn\n",
        "from fastapi import FastAPI, Path\n",
        "\n",
        "app = FastAPI()\n",
        "\n",
        "\n",
        "@app.get(\"/api/v1/ascii/{letter}\")\n",
        "async def to_ascii(letter: Annotated[str, Path(min_length=1, max_length=1)]) -> int:\n",
        "    \"\"\"Получить `ASCII`-код.\"\"\"\n",
        "    return ord(letter)\n",
        "\n",
        "\n",
        "def main() -> None:\n",
        "    \"\"\"Запустить сервер.\"\"\"\n",
        "    uvicorn.run(app)\n",
        "\n",
        "\n",
        "if __name__ == \"__main__\":\n",
        "    main()"
      ]
    },
    {
      "cell_type": "markdown",
      "metadata": {
        "id": "b9sUGhicFrxh"
      },
      "source": [
        "Согласитесь, что это не особо-то и удобно... На помощь снова спешит `pydantic`! На самом деле, `pydantic.Field`, который мы используем для описания моделей можно использовть и для классической аннотации."
      ]
    },
    {
      "cell_type": "code",
      "execution_count": null,
      "metadata": {
        "id": "t1VILdy7Frxh"
      },
      "outputs": [],
      "source": [
        "from typing import Annotated\n",
        "\n",
        "import uvicorn\n",
        "from fastapi import FastAPI\n",
        "from pydantic import Field\n",
        "\n",
        "app = FastAPI()\n",
        "\n",
        "\n",
        "@app.get(\"/api/v1/ascii/{letter}\")\n",
        "async def to_ascii(letter: Annotated[str, Field(min_length=1, max_length=1)]) -> int:\n",
        "    \"\"\"Получить `ASCII`-код.\"\"\"\n",
        "    return ord(letter)\n",
        "\n",
        "\n",
        "def main() -> None:\n",
        "    \"\"\"Запустить сервер.\"\"\"\n",
        "    uvicorn.run(app)\n",
        "\n",
        "\n",
        "if __name__ == \"__main__\":\n",
        "    main()"
      ]
    },
    {
      "cell_type": "markdown",
      "metadata": {
        "id": "n25F1D8CFrxh"
      },
      "source": [
        "Причем `pydantic.Field`, в отличие от `fastapi.Query` и `fastapi.Path`, работет в обоих случаях."
      ]
    },
    {
      "cell_type": "code",
      "execution_count": null,
      "metadata": {
        "id": "pWG5FA1oFrxh"
      },
      "outputs": [],
      "source": [
        "from typing import Annotated\n",
        "\n",
        "import uvicorn\n",
        "from fastapi import FastAPI\n",
        "from pydantic import Field\n",
        "\n",
        "app = FastAPI()\n",
        "\n",
        "\n",
        "@app.get(\"/api/v1/ascii\")\n",
        "async def to_ascii(letter: Annotated[str, Field(min_length=1, max_length=1)]) -> int:\n",
        "    \"\"\"Получить `ASCII`-код.\"\"\"\n",
        "    return ord(letter)\n",
        "\n",
        "\n",
        "def main() -> None:\n",
        "    \"\"\"Запустить сервер.\"\"\"\n",
        "    uvicorn.run(app)\n",
        "\n",
        "\n",
        "if __name__ == \"__main__\":\n",
        "    main()"
      ]
    },
    {
      "cell_type": "markdown",
      "metadata": {
        "id": "Sw83T3yBFrxh"
      },
      "source": [
        "Из рассказа выше можно четко отследить, за счет чего, собственно, `FastAPI` получил свое название. Вся валидация лежит на аннотациях. Вы буквально занимаетесь написанием API, а не проверкой предикатов. Более того, `FastAPI` просто идеально интегрирован с `Pydantic`, благодаря чему мед становится еще слаще. Связка этих библиотек - это в чистом виде дзен Python. Явное лучше, чем не явное. Простое лучше, чем сложное."
      ]
    },
    {
      "cell_type": "markdown",
      "metadata": {
        "id": "3ooPc3fbFrxh"
      },
      "source": [
        "На этом с `pydantic` закончим. Давайте вернемся к самой библиотеке. В примерах выше вы наверняка заметили, что мы везде пишем `/api/v1`. А вдруг мы захотим изменить префикс на что-то другое? Значит, по-хорошему должно быть единое место для изменений."
      ]
    },
    {
      "cell_type": "markdown",
      "metadata": {
        "id": "6ff2GtDXFrxh"
      },
      "source": [
        "В `FastAPI` за это отвечает сущность `Router`. Она объединяет ручки и прочие роутеры в единое целое. Это, в целом, способ сокращения кода и уменьшения зависимостей между элементами API."
      ]
    },
    {
      "cell_type": "code",
      "execution_count": null,
      "metadata": {
        "id": "kKt33nqtFrxh"
      },
      "outputs": [],
      "source": [
        "import uvicorn\n",
        "from fastapi import APIRouter, FastAPI\n",
        "\n",
        "router = APIRouter(prefix=\"/api/v1\")\n",
        "\n",
        "\n",
        "@router.get(\"/echo\")\n",
        "async def to_ascii(text: str) -> str:\n",
        "    \"\"\"Эхо-метод.\"\"\"\n",
        "    return text\n",
        "\n",
        "\n",
        "def main() -> None:\n",
        "    \"\"\"Запустить сервер.\"\"\"\n",
        "    app = FastAPI()\n",
        "    app.include_router(router)\n",
        "\n",
        "    uvicorn.run(app)\n",
        "\n",
        "\n",
        "if __name__ == \"__main__\":\n",
        "    main()"
      ]
    },
    {
      "cell_type": "markdown",
      "metadata": {
        "id": "sQfl_xohFrxh"
      },
      "source": [
        "Пока не интересно. Давайте добавим логики, чтобы стало понятнее, зачем пользоваться роутерами."
      ]
    },
    {
      "cell_type": "markdown",
      "metadata": {
        "id": "wH_wvT13Frxh"
      },
      "source": [
        "**Пример.** Вернемся к переписи населения. Добавим еще несколько методов статистики по возрасту."
      ]
    },
    {
      "cell_type": "code",
      "execution_count": null,
      "metadata": {
        "id": "5viyXZCQFrxh"
      },
      "outputs": [],
      "source": [
        "from http import HTTPStatus\n",
        "from typing import Self\n",
        "\n",
        "import uvicorn\n",
        "from fastapi import APIRouter, FastAPI, HTTPException\n",
        "from pydantic import BaseModel, Field, PositiveFloat, PositiveInt, field_validator\n",
        "\n",
        "v1 = APIRouter(prefix=\"/api/v1\")\n",
        "\n",
        "registration = APIRouter(prefix=\"/register\")\n",
        "statistics = APIRouter(prefix=\"/statistics\")\n",
        "\n",
        "\n",
        "# Имитируем базу данных\n",
        "db: dict[str, int] = {}\n",
        "\n",
        "\n",
        "class Citizen(BaseModel):\n",
        "    \"\"\"Сущность гражданина.\"\"\"\n",
        "\n",
        "    name: str = Field(min_length=2, max_length=32)\n",
        "    age: PositiveInt = Field(ge=18, le=100)\n",
        "\n",
        "    @field_validator(\"name\")\n",
        "    @classmethod\n",
        "    def ensure_name(cls: type[Self], name: str) -> str:\n",
        "        \"\"\"Проверить валидность имени.\"\"\"\n",
        "        if not name.isalpha():\n",
        "            detail = \"The name must consist from letters only\"\n",
        "            raise ValueError(detail)\n",
        "\n",
        "        if not name[0].isupper():\n",
        "            detail = \"The name must start with the capital letter\"\n",
        "            raise ValueError(detail)\n",
        "\n",
        "        if name != name.lower().capitalize():\n",
        "            detail = \"Only the first letter must be capitalized\"\n",
        "            raise ValueError(detail)\n",
        "\n",
        "        return name\n",
        "\n",
        "\n",
        "@registration.post(\"\", status_code=HTTPStatus.ACCEPTED)\n",
        "async def register(citizen: Citizen) -> None:\n",
        "    \"\"\"Зарегистрировать гражданина.\"\"\"\n",
        "    if citizen.name in db:\n",
        "        detail = f\"{citizen.name} has already been registered\"\n",
        "        raise HTTPException(HTTPStatus.CONFLICT, detail)\n",
        "\n",
        "    db[citizen.name] = citizen.age\n",
        "\n",
        "\n",
        "@statistics.get(\"/age/mean\")\n",
        "async def get_mean_age() -> PositiveFloat:\n",
        "    \"\"\"Получить средний возраст участника.\"\"\"\n",
        "    if not db:\n",
        "        detail = \"The database is empty - try again later\"\n",
        "        raise HTTPException(HTTPStatus.TOO_EARLY, detail)\n",
        "\n",
        "    return sum(db.values()) / len(db)\n",
        "\n",
        "\n",
        "@statistics.get(\"/age/max\")\n",
        "async def get_max_age() -> PositiveInt:\n",
        "    \"\"\"Получить максимальный возраст участника.\"\"\"\n",
        "    if not db:\n",
        "        detail = \"The database is empty - try again later\"\n",
        "        raise HTTPException(HTTPStatus.TOO_EARLY, detail)\n",
        "\n",
        "    return max(db.values())\n",
        "\n",
        "\n",
        "@statistics.get(\"/age/min\")\n",
        "async def get_min_age() -> PositiveInt:\n",
        "    \"\"\"Получить минимальный возраст участника.\"\"\"\n",
        "    if not db:\n",
        "        detail = \"The database is empty - try again later\"\n",
        "        raise HTTPException(HTTPStatus.TOO_EARLY, detail)\n",
        "\n",
        "    return min(db.values())\n",
        "\n",
        "\n",
        "def main() -> None:\n",
        "    \"\"\"Запустить сервер.\"\"\"\n",
        "    v1.include_router(statistics)\n",
        "    v1.include_router(registration)\n",
        "\n",
        "    app = FastAPI()\n",
        "    app.include_router(v1)\n",
        "\n",
        "    uvicorn.run(app)\n",
        "\n",
        "\n",
        "if __name__ == \"__main__\":\n",
        "    main()"
      ]
    },
    {
      "cell_type": "markdown",
      "metadata": {
        "id": "7fpyQUrCFrxh"
      },
      "source": [
        "По-хорошему на каждый роутер надо заводить отдельный файл, чтобы не перемешивать логику. Это одно из применений роутеров - разделение логики. Но мы работаем в `Jupyter Notebook`, поэтому такой возможности нет. В идеальном мире у нас бы было три файла:\n",
        "\n",
        "* Методы `/register`;\n",
        "* Методы `/statistics/...`;\n",
        "* Фабрика `/api/v1/...`."
      ]
    },
    {
      "cell_type": "markdown",
      "metadata": {
        "id": "k_7Njr8kFrxi"
      },
      "source": [
        "Кроме того, роутеры используют для упрощения включения / исключения методов. Например, на каком-то этапе жизненного цикла продукта нам потребуется вычленить методы регистрации. Возможно, нашли баг. Код удалять не нужно, а вот убрать метод из публичного API нужно. Тогда достаточно выкинуть роутер из `include_router`. Своего рода, `Feature-Toggle`."
      ]
    },
    {
      "cell_type": "markdown",
      "metadata": {
        "id": "bVF-fW_QFrxi"
      },
      "source": [
        "На этом не все. Можно заметить, что в `Swagger` методы налепились друг на друга - идут подряд без какой-либо логики. Хочется иметь какую-то разбивку. За это отвечают теги роутеров. Давайте добавим их и снова взглянем на UI."
      ]
    },
    {
      "cell_type": "code",
      "execution_count": null,
      "metadata": {
        "id": "5ZY5KIaoFrxi"
      },
      "outputs": [],
      "source": [
        "from http import HTTPStatus\n",
        "from typing import Self\n",
        "\n",
        "import uvicorn\n",
        "from fastapi import APIRouter, FastAPI, HTTPException\n",
        "from pydantic import BaseModel, Field, PositiveFloat, PositiveInt, field_validator\n",
        "\n",
        "v1 = APIRouter(prefix=\"/api/v1\")\n",
        "\n",
        "registration = APIRouter(prefix=\"/register\", tags=[\"register\"])\n",
        "statistics = APIRouter(prefix=\"/statistics\", tags=[\"statistics\"])\n",
        "\n",
        "\n",
        "# Имитируем базу данных\n",
        "db: dict[str, int] = {}\n",
        "\n",
        "\n",
        "class Citizen(BaseModel):\n",
        "    \"\"\"Сущность гражданина.\"\"\"\n",
        "\n",
        "    name: str = Field(min_length=2, max_length=32)\n",
        "    age: PositiveInt = Field(ge=18, le=100)\n",
        "\n",
        "    @field_validator(\"name\")\n",
        "    @classmethod\n",
        "    def ensure_name(cls: type[Self], name: str) -> str:\n",
        "        \"\"\"Проверить валидность имени.\"\"\"\n",
        "        if not name.isalpha():\n",
        "            detail = \"The name must consist from letters only\"\n",
        "            raise ValueError(detail)\n",
        "\n",
        "        if not name[0].isupper():\n",
        "            detail = \"The name must start with the capital letter\"\n",
        "            raise ValueError(detail)\n",
        "\n",
        "        if name != name.lower().capitalize():\n",
        "            detail = \"Only the first letter must be capitalized\"\n",
        "            raise ValueError(detail)\n",
        "\n",
        "        return name\n",
        "\n",
        "\n",
        "@registration.post(\"\", status_code=HTTPStatus.ACCEPTED)\n",
        "async def register(citizen: Citizen) -> None:\n",
        "    \"\"\"Зарегистрировать гражданина.\"\"\"\n",
        "    if citizen.name in db:\n",
        "        detail = f\"{citizen.name} has already been registered\"\n",
        "        raise HTTPException(HTTPStatus.CONFLICT, detail)\n",
        "\n",
        "    db[citizen.name] = citizen.age\n",
        "\n",
        "\n",
        "@statistics.get(\"/age/mean\")\n",
        "async def get_mean_age() -> PositiveFloat:\n",
        "    \"\"\"Получить средний возраст участника.\"\"\"\n",
        "    if not db:\n",
        "        detail = \"The database is empty - try again later\"\n",
        "        raise HTTPException(HTTPStatus.TOO_EARLY, detail)\n",
        "\n",
        "    return sum(db.values()) / len(db)\n",
        "\n",
        "\n",
        "@statistics.get(\"/age/max\")\n",
        "async def get_max_age() -> PositiveInt:\n",
        "    \"\"\"Получить максимальный возраст участника.\"\"\"\n",
        "    if not db:\n",
        "        detail = \"The database is empty - try again later\"\n",
        "        raise HTTPException(HTTPStatus.TOO_EARLY, detail)\n",
        "\n",
        "    return max(db.values())\n",
        "\n",
        "\n",
        "@statistics.get(\"/age/min\")\n",
        "async def get_min_age() -> PositiveInt:\n",
        "    \"\"\"Получить минимальный возраст участника.\"\"\"\n",
        "    if not db:\n",
        "        detail = \"The database is empty - try again later\"\n",
        "        raise HTTPException(HTTPStatus.TOO_EARLY, detail)\n",
        "\n",
        "    return min(db.values())\n",
        "\n",
        "\n",
        "def main() -> None:\n",
        "    \"\"\"Запустить сервер.\"\"\"\n",
        "    v1.include_router(statistics)\n",
        "    v1.include_router(registration)\n",
        "\n",
        "    app = FastAPI()\n",
        "    app.include_router(v1)\n",
        "\n",
        "    uvicorn.run(app)\n",
        "\n",
        "\n",
        "if __name__ == \"__main__\":\n",
        "    main()"
      ]
    },
    {
      "cell_type": "markdown",
      "metadata": {
        "id": "fnZnQK6jFrxi"
      },
      "source": [
        "Ура, все симпатично! Никогда не пренебрегайте красотой :)"
      ]
    },
    {
      "cell_type": "markdown",
      "metadata": {
        "id": "1k3AR4y5Frxi"
      },
      "source": [
        "**Спойлер.** На семинаре сделаем уклон на практику:\n",
        "\n",
        "1. Инъекция зависимостей;\n",
        "2. Интеграция с БД;\n",
        "3. Сборка автоклиента;\n",
        "4. Политика повторных запросов."
      ]
    },
    {
      "cell_type": "markdown",
      "source": [
        "## Птица дня"
      ],
      "metadata": {
        "id": "IjmC9vzOyXFC"
      }
    },
    {
      "cell_type": "markdown",
      "source": [
        "![](https://upload.wikimedia.org/wikipedia/commons/thumb/a/ac/6371_Pantanal_toucan_JF.jpg/1280px-6371_Pantanal_toucan_JF.jpg)"
      ],
      "metadata": {
        "id": "HLFxXTJwyZjB"
      }
    },
    {
      "cell_type": "markdown",
      "source": [
        "Сегодня у нас туканы!\n",
        "\n",
        "Они так называются, потому что люди слышали это, когда они кричат)\n",
        "\n",
        "Обитают в Южной Америке, являются ДЯТЛАМИ (да-да, это по сути дятел, просто вот такой у него интересный клювик)\n",
        "\n",
        "Что интересного в тукане? Клюв, конечно же!\n",
        "\n",
        "Выглядит громоздким (составляет почти половину туловища), но при этом он полый (то есть легкий), но при этом достаточно крепкий\n",
        "\n",
        "Вот примерно как он выглядит:"
      ],
      "metadata": {
        "id": "N0qXYLcdybgr"
      }
    },
    {
      "cell_type": "markdown",
      "source": [
        "![](https://habrastorage.org/r/w1560/getpro/geektimes/post_images/015/4bb/3ca/0154bb3cab3df71d551979592bdcc953.jpg)"
      ],
      "metadata": {
        "id": "JEn3tkafzn5g"
      }
    },
    {
      "cell_type": "markdown",
      "source": [
        "По сути - костная ткань и мембраны, что и делает его одновременно и легким, и прочным (а еще обратите внимание на зазубрины - они нужны, чтобы было удобно еду держать в клюве)"
      ],
      "metadata": {
        "id": "SduKhw7hzrcO"
      }
    }
  ],
  "metadata": {
    "kernelspec": {
      "display_name": "Python 3",
      "language": "python",
      "name": "python3"
    },
    "language_info": {
      "codemirror_mode": {
        "name": "ipython",
        "version": 3
      },
      "file_extension": ".py",
      "mimetype": "text/x-python",
      "name": "python",
      "nbconvert_exporter": "python",
      "pygments_lexer": "ipython3",
      "version": "3.12.3"
    },
    "colab": {
      "provenance": []
    }
  },
  "nbformat": 4,
  "nbformat_minor": 0
}