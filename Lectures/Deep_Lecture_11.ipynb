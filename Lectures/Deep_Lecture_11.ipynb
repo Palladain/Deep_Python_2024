{
  "nbformat": 4,
  "nbformat_minor": 0,
  "metadata": {
    "colab": {
      "provenance": []
    },
    "kernelspec": {
      "name": "python3",
      "display_name": "Python 3"
    },
    "language_info": {
      "name": "python"
    }
  },
  "cells": [
    {
      "cell_type": "markdown",
      "source": [
        "# Продвинутый Python, лекция 11\n",
        "\n",
        "**Лектор:** Петров Тимур\n",
        "\n",
        "**Семинаристы:** Бузаев Федор, Дешеулин Олег, Коган Александра, Васина Олеся, Садуллаев Музаффар\n",
        "\n",
        "**NB:** код внутри колаба не запустится"
      ],
      "metadata": {
        "id": "pAzrErrqV9Oe"
      }
    },
    {
      "cell_type": "markdown",
      "source": [
        "## API"
      ],
      "metadata": {
        "id": "j71HnUGwWCCm"
      }
    },
    {
      "cell_type": "markdown",
      "source": [
        "Итак, давайте вначале быстренько напомним, что такое API, и дальше к телеге перейдем\n",
        "\n",
        "Что такое API?\n",
        "\n",
        "API (Application Programming Interface) - по существу это контракт, который предоставляется пользователю того или иного сервиса. Что это обозначает?\n",
        "\n",
        "* Сервис говорит: ты вызываешь вот такую ручку (функцию), передавая такие данные, я тебе выдаю ответ\n",
        "\n",
        "* Мы говорим: мы даем вот так вот данные, забирай, ожидаем от тебя ответа\n",
        "\n",
        "По сути - набор функций, который предоставляет сервис. Эти функции мы вызываем либо напрямую, либо скрытно через использование других функций\n",
        "\n",
        "Что такое в таком случае какой-нибудь REST API? Это API, которое соблюдает REST-стиль, в целом все\n",
        "\n",
        "А теперь можно и про телегу поговорить"
      ],
      "metadata": {
        "id": "7NNn2DwpWEfl"
      }
    },
    {
      "cell_type": "markdown",
      "source": [
        "## Telegram API"
      ],
      "metadata": {
        "id": "MtPjtCmdZON8"
      }
    },
    {
      "cell_type": "markdown",
      "source": [
        "Телеграм, как и множество других сервисов, имеет собственное API: [тык](https://core.telegram.org/) - это вот тот самый набор ручек, через которые мы можем выполнять различные действия. Как это применимо к нашему питончику?\n",
        "\n",
        "А очень просто - python-бибилотеки есть обертки над взаимодействием с данным API, созданный достаточно часто как 1 к 1 с исходным API.\n",
        "\n",
        "Вариантов библиотек много, вот часть из них:\n",
        "\n",
        "* https://docs.python-telegram-bot.org/en/stable/index.html - PyTelegramBot\n",
        "\n",
        "* https://aiogram.dev/ - AioGram\n",
        "\n",
        "* https://docs.pyrogram.org/ - PyroGram\n",
        "\n",
        "\n",
        "Чем они отличаются? Если вкапываться в суть, то не особо они и отличаются: общий предок - это Telegram API, дальше в зависимости от того, как и что обрабатывается внутри, мы получаем немного различный интерфейс и способ вазимодействия. Что может быть важно: не все поддерживают асинхронность (до определенной версии тот же PyTelegramBot был неасинхронный, сейчас вроде как он уже работает и так)\n",
        "\n",
        "Вариаций много и разных, в нашем случае мы будем пользоваться aiogram.\n"
      ],
      "metadata": {
        "id": "zBw3kvAqZVFX"
      }
    },
    {
      "cell_type": "markdown",
      "source": [
        "## Aiogram"
      ],
      "metadata": {
        "id": "rjJMTU38bztF"
      }
    },
    {
      "cell_type": "markdown",
      "source": [
        "Ссылка на документацию: [Тык](https://docs.aiogram.dev/en/stable/)\n",
        "\n"
      ],
      "metadata": {
        "id": "j1DquAgIb1cW"
      }
    },
    {
      "cell_type": "code",
      "execution_count": null,
      "metadata": {
        "id": "QpqHL0qAV7Lr"
      },
      "outputs": [],
      "source": [
        "!pip install aiogram"
      ]
    },
    {
      "cell_type": "markdown",
      "source": [
        "Сегодня попробуем создать не очень полезного бота, в которого напихнем кучу всего разного-интересного. Поехали!"
      ],
      "metadata": {
        "id": "3pY_nRzick2o"
      }
    },
    {
      "cell_type": "markdown",
      "source": [
        "### Шаг 1. Создать бота в Телеге"
      ],
      "metadata": {
        "id": "CE20l3-cdT5I"
      }
    },
    {
      "cell_type": "markdown",
      "source": [
        "Чтобы управлять ботом, нужно его создать. Делаем это в телеграме через @BotFather - отдельный бот для создания ботов\n",
        "\n",
        "Через /newbot придумываем имя и название (которое будет отображаться через @), далее получаем token - идентификатор, с помощью которого мы сможем управлять командами внутри нашего бота.\n"
      ],
      "metadata": {
        "id": "1ce9kq41dWZN"
      }
    },
    {
      "cell_type": "markdown",
      "source": [
        "Создаем самого простого бота (умеет только говорить Hello + ваше имя):\n"
      ],
      "metadata": {
        "id": "eFUBcm8Qe4xz"
      }
    },
    {
      "cell_type": "code",
      "source": [
        "import asyncio\n",
        "import logging\n",
        "import sys\n",
        "from os import getenv\n",
        "\n",
        "from aiogram import Bot, Dispatcher, html\n",
        "from aiogram.client.default import DefaultBotProperties\n",
        "from aiogram.enums import ParseMode\n",
        "from aiogram.filters import CommandStart\n",
        "from aiogram.types import Message\n",
        "\n",
        "TOKEN = '7826404927:AAHkbNPz1Jy8L-_MyRatl3XeOtS5zqOMRWA'\n",
        "\n",
        "dp = Dispatcher()\n",
        "\n",
        "@dp.message(CommandStart())\n",
        "async def command_start_handler(message: Message) -> None:\n",
        "    \"\"\"\n",
        "    This handler receives messages with `/start` command\n",
        "    \"\"\"\n",
        "    await message.answer(f\"Hello, {html.bold(message.from_user.full_name)}!\")\n",
        "\n",
        "async def main() -> None:\n",
        "    # Initialize Bot instance with default bot properties which will be passed to all API calls\n",
        "    bot = Bot(token=TOKEN, default=DefaultBotProperties(parse_mode=ParseMode.HTML))\n",
        "    # And the run events dispatching\n",
        "    await dp.start_polling(bot)\n",
        "\n",
        "if __name__ == \"__main__\":\n",
        "    logging.basicConfig(level=logging.INFO, stream=sys.stdout)\n",
        "    asyncio.run(main())"
      ],
      "metadata": {
        "id": "fLjzbQUVe6vr"
      },
      "execution_count": null,
      "outputs": []
    },
    {
      "cell_type": "markdown",
      "source": [
        "Что мы здесь сделали?\n",
        "\n",
        "* Ввели наш токен (понятное дело, что вот так его хранить не надо, но для учебных целей подойдет)\n",
        "\n",
        "* Создали бота (отдельный объект Bot)\n",
        "\n",
        "* Создали диспетчера, который забирает входящий поток и отправляет его на обработку. По сути дела, мы и будем наделять этот диспетчер всей начинкой, которая происходит внутри бота\n",
        "\n",
        "* Добавили хендлер, который отсылает сообщение (dp.message), внутри которого указываем, какие сообщения он должен обрабывать (в нашем случае это CommandStart - /start)\n",
        "\n",
        "* Сделали start_polling - опросник (диспетчер ходит и слушает запросы к указанному боту)\n",
        "\n",
        "Из полезного - у нас сразу же есть встроенный логгер, с помощью которого можно сразу понимать, что происходит\n",
        "\n",
        "Сразу же понятно, зачем нам тут асинхронщина - при большей нагрузке это имеет смысл."
      ],
      "metadata": {
        "id": "z7YpsJSlgGhD"
      }
    },
    {
      "cell_type": "markdown",
      "source": [
        "Ура, первый бот готов! Что дальше?"
      ],
      "metadata": {
        "id": "AD81DqBBicYh"
      }
    },
    {
      "cell_type": "markdown",
      "source": [
        "### Шаг 2. Учимся понимать, что происходит внутри"
      ],
      "metadata": {
        "id": "SsmxtAhhiiQ1"
      }
    },
    {
      "cell_type": "markdown",
      "source": [
        "Итак, в handler у нас передается такая штука, как Message. Давайте разбираться, что там внутри находится:\n",
        "\n",
        "https://docs.aiogram.dev/en/stable/api/types/message.html\n",
        "\n",
        "На самом деле, передается дохрена всего. Давайте попробуем сделать несколько простых вещей:\n",
        "\n",
        "* Вывести id пользователя (в качестве ответа пользователю)\n",
        "\n",
        "* Сделать ответ на фотку, что она классная!"
      ],
      "metadata": {
        "id": "T5E_lfR9i2yi"
      }
    },
    {
      "cell_type": "code",
      "source": [
        "import asyncio\n",
        "import logging\n",
        "import sys\n",
        "from os import getenv\n",
        "\n",
        "from aiogram import Bot, Dispatcher, html, F\n",
        "from aiogram.client.default import DefaultBotProperties\n",
        "from aiogram.enums import ParseMode\n",
        "from aiogram.filters import CommandStart\n",
        "from aiogram.types import Message\n",
        "\n",
        "TOKEN = '7826404927:AAHkbNPz1Jy8L-_MyRatl3XeOtS5zqOMRWA'\n",
        "\n",
        "dp = Dispatcher()\n",
        "\n",
        "@dp.message(CommandStart())\n",
        "async def command_start_handler(message: Message) -> None:\n",
        "    \"\"\"\n",
        "    This handler receives messages with `/start` command\n",
        "    \"\"\"\n",
        "    await message.answer(f\"Hello, {html.bold(message.from_user.full_name)}!\")\n",
        "\n",
        "@dp.message(F.text == 'my id')\n",
        "async def command_my_id_handler(message: Message) -> None:\n",
        "    await message.reply(f\"Your id is: {message.from_user.id}!\")\n",
        "\n",
        "@dp.message(F.photo != None)\n",
        "async def command_my_photo_handler(message: Message) -> None:\n",
        "    await message.reply(f\"Nice photo!\")\n",
        "\n",
        "async def main() -> None:\n",
        "    # Initialize Bot instance with default bot properties which will be passed to all API calls\n",
        "    bot = Bot(token=TOKEN, default=DefaultBotProperties(parse_mode=ParseMode.HTML))\n",
        "    # And the run events dispatching\n",
        "    await dp.start_polling(bot)\n",
        "\n",
        "if __name__ == \"__main__\":\n",
        "    logging.basicConfig(level=logging.INFO, stream=sys.stdout)\n",
        "    asyncio.run(main())"
      ],
      "metadata": {
        "id": "D9L2029zjRuT"
      },
      "execution_count": null,
      "outputs": []
    },
    {
      "cell_type": "markdown",
      "source": [
        "Как тут работать с фильтрами и в каком приоритете они будут работать?\n",
        "\n",
        "Внутри aiogram есть отдельный модуль F, который и отвечает за фильтрацию. По сути, он принимает объект, который мы получаем и проверяет его по необходимомум условию. Далее, если результат True, то запускается обработка.\n",
        "\n",
        "Что делать, если несколько handlerов получит нужный результат? Давайте пробовать:"
      ],
      "metadata": {
        "id": "9oKWVA9ZmiLk"
      }
    },
    {
      "cell_type": "code",
      "source": [
        "import asyncio\n",
        "import logging\n",
        "import sys\n",
        "from os import getenv\n",
        "\n",
        "from aiogram import Bot, Dispatcher, html, F\n",
        "from aiogram.client.default import DefaultBotProperties\n",
        "from aiogram.enums import ParseMode\n",
        "from aiogram.filters import CommandStart\n",
        "from aiogram.types import Message\n",
        "\n",
        "TOKEN = '7826404927:AAHkbNPz1Jy8L-_MyRatl3XeOtS5zqOMRWA'\n",
        "\n",
        "dp = Dispatcher()\n",
        "\n",
        "@dp.message(CommandStart())\n",
        "async def command_start_handler(message: Message) -> None:\n",
        "    \"\"\"\n",
        "    This handler receives messages with `/start` command\n",
        "    \"\"\"\n",
        "    await message.answer(f\"Hello, {html.bold(message.from_user.full_name)}!\")\n",
        "\n",
        "@dp.message(F.text == 'my id')\n",
        "async def command_my_id_handler(message: Message) -> None:\n",
        "    await message.reply(f\"Your id is: {message.from_user.id}!\")\n",
        "\n",
        "@dp.message(F.photo != None)\n",
        "async def command_my_photo_handler(message: Message) -> None:\n",
        "    await message.reply(f\"Nice photo!\")\n",
        "\n",
        "@dp.message(F.photo != None)\n",
        "async def command_my_photo_handler_1(message: Message) -> None:\n",
        "    await message.reply(f\"Nice photo!!!\")\n",
        "\n",
        "async def main() -> None:\n",
        "    # Initialize Bot instance with default bot properties which will be passed to all API calls\n",
        "    bot = Bot(token=TOKEN, default=DefaultBotProperties(parse_mode=ParseMode.HTML))\n",
        "    # And the run events dispatching\n",
        "    await dp.start_polling(bot)\n",
        "3\n",
        "if __name__ == \"__main__\":\n",
        "    logging.basicConfig(level=logging.INFO, stream=sys.stdout)\n",
        "    asyncio.run(main())"
      ],
      "metadata": {
        "id": "OtCVfOIVm-KM"
      },
      "execution_count": null,
      "outputs": []
    },
    {
      "cell_type": "markdown",
      "source": [
        "Ответ - линейная логика (что раньше, то и возьмет в обработку)"
      ],
      "metadata": {
        "id": "caxg6OlYnP5u"
      }
    },
    {
      "cell_type": "markdown",
      "source": [
        "Так, ну хорошо, предлагаешь писать все в основном теле и страдать?\n",
        "\n",
        "Конечно же нет! Давайте наводить порядок и в этом нам помогут роутеры. В чем разница?\n",
        "\n",
        "Диспетчер (Dispatcher) - это центральный маршрутизтор для всех запросов. Поступает запрос - он его переводит в обработку куда надо\n",
        "\n",
        "Роутер (Router) - это подсчасть маршрутизатора, который владеет своей частью внутри модуля\n",
        "\n",
        "Соответственно логикак такая:\n",
        "\n",
        "* Создаем на каждую часть свой собственный роутер\n",
        "\n",
        "* Роутер добавляем к диспетчеру\n",
        "\n",
        "* Profit!\n"
      ],
      "metadata": {
        "id": "QxaqBOG-ntHf"
      }
    },
    {
      "cell_type": "markdown",
      "source": [
        "![](https://docs.aiogram.dev/en/dev-3.x/_images/update_propagation_flow.png)"
      ],
      "metadata": {
        "id": "p1oJrLI96Bci"
      }
    },
    {
      "cell_type": "markdown",
      "source": [
        "Итак, разделили отдельно наши хендлеры (один работает по сообщениям, другой по картинкам). В целом структура более-менее понятная\n",
        "\n",
        "Что еще умеем в рамках наших ботов? Давайте добавим еще кастомную команду, с помощью которой будем выводить рандомного попугая, если в сообщении есть слово parrot (для чего этот курс еще нужен) или с помощью отдельной команды:"
      ],
      "metadata": {
        "id": "HYT7i0scrLE9"
      }
    },
    {
      "cell_type": "code",
      "source": [
        "parrots = {1: 'https://glavnoehvost.by/upload/medialibrary/b39/eco9kya7tmtlxkdbgky3cuyb3rbs0mfv.jpg',\n",
        "           2: 'https://avatars.mds.yandex.net/get-mpic/11396862/2a0000018c290b5f7aa193f4ebf41c9c4b77/orig',\n",
        "           3: 'https://kotsobaka.com/wp-content/uploads/2018/08/2748131046_8a253489b5_b.jpg',\n",
        "           4: 'https://get.wallhere.com/photo/parrot-bird-color-feathers-1091582.jpg',\n",
        "           5: 'https://img2.akspic.ru/attachments/originals/7/8/6/4/84687-ara-nerazluchnik-dlinnohvostyj_popugaj-roza_kolchatoj_popugaj-klyuv-2560x1600.jpg',\n",
        "           6: 'https://avatars.mds.yandex.net/i?id=3bba204af3c534feb91529b1ff1b56f7_l-4809943-images-thumbs&n=13'}\n",
        "\n",
        "@text_router.message(F.text.contains(\"parrot\"))\n",
        "async def text_my_parrot_handler(message: Message) -> None:\n",
        "    await message.react(reaction=[{\"type\": \"emoji\", \"emoji\": \"👀\"}])\n",
        "    await message.reply_photo(parrots[randint(1, 7)])\n",
        "\n",
        "@text_router.message(Command(\"parrot\"))\n",
        "async def command_parrot_handler(message: Message) -> None:\n",
        "    await message.reply_photo(parrots[randint(1, 7)])"
      ],
      "metadata": {
        "id": "3gNFcknIuptc"
      },
      "execution_count": null,
      "outputs": []
    },
    {
      "cell_type": "markdown",
      "source": [
        "Ура, успех! Что еще можно отправлять:\n",
        "\n",
        "* Видосики\n",
        "\n",
        "* Эмодзи\n",
        "\n",
        "* Игры\n",
        "\n",
        "* Контакты\n",
        "\n",
        "И так далее, как вашей духе захочется. Что еще важно? Форматирование\n",
        "\n",
        "Внутри себя aiogram проддерживает HTML-разметку, подробнее можно вот тут: https://docs.aiogram.dev/en/latest/utils/formatting.html"
      ],
      "metadata": {
        "id": "i946QghIsPnP"
      }
    },
    {
      "cell_type": "markdown",
      "source": [
        "### Шаг 2.5 Параметры внутри команды"
      ],
      "metadata": {
        "id": "SJxJ98Xt6kt4"
      }
    },
    {
      "cell_type": "markdown",
      "source": [
        "Мы не всегда хотим отправлять просто команды, в какие-то моменты нам нужно отправлять команду с параметрами (например, пришли мне сообщение через час).\n",
        "\n",
        "Что нам с этим сделать? На самом деле, внутри уже есть обработка параметров, давайте на примере:"
      ],
      "metadata": {
        "id": "iQuKjwKE6n1I"
      }
    },
    {
      "cell_type": "code",
      "source": [
        "from aiogram import Bot, Dispatcher, html, F, Router\n",
        "from aiogram.filters import CommandStart, Command, CommandObject\n",
        "from aiogram.types import Message\n",
        "\n",
        "sch_router = Router()\n",
        "\n",
        "@sch_router.message(Command(commands=[\"bomb\"]))\n",
        "async def add_bomb_timer(message: Message, command: CommandObject): ## Внутри любой команды есть CommandObject, в который передаются аргументы\n",
        "    commands = command.args\n",
        "    if commands is None:\n",
        "        await message.answer(r\"Вы не передали параметр. Попробуйте вот так: /bomb 10\")\n",
        "        return\n",
        "    try:\n",
        "        delay_t = int(commands.split()[0])\n",
        "    except ValueError:\n",
        "        await message.answer(r\"Вы не передали правильный параметр. Попробуйте вот так: /bomb 10\")\n",
        "        return\n",
        "    await message.answer(f\"The clock is ticking! Timer: {delay_t} seconds\")"
      ],
      "metadata": {
        "id": "ptmj6Q2F601a"
      },
      "execution_count": null,
      "outputs": []
    },
    {
      "cell_type": "markdown",
      "source": [
        "### Шаг 2.9 Выбрасываем запросы"
      ],
      "metadata": {
        "id": "sSrVY8tiFsVT"
      }
    },
    {
      "cell_type": "markdown",
      "source": [
        "Если мы выключаем бота и продолжаем посылать сообщения, то при включении бота они все отработают (почему? Потому что запрос есть, они хранятся в очереди)\n",
        "\n",
        "Чтобы такого сделать, дабы не перезагрузить все добро? 1 строчка:"
      ],
      "metadata": {
        "id": "dIoq_TiVFxUi"
      }
    },
    {
      "cell_type": "code",
      "source": [
        "await bot.delete_webhook(drop_pending_updates=True) ## удаляем вебхук, удаляя все, что ожидает"
      ],
      "metadata": {
        "id": "ZmpfKo_fGLZa"
      },
      "execution_count": null,
      "outputs": []
    },
    {
      "cell_type": "markdown",
      "source": [
        "### Шаг 3. Кнопки"
      ],
      "metadata": {
        "id": "CoG3V4nByGib"
      }
    },
    {
      "cell_type": "markdown",
      "source": [
        "Так, ну хорошо, было бы славно добавить обработку не только сообщений, но и добавить какой-нибудь красивый UI.\n",
        "\n",
        "Есть два способа:\n",
        "\n",
        "* Кнопки - то, что появляется внизу\n",
        "\n",
        "* Инлайн-кнопки - кнопки, которые привязаны к сообщению (про них на семинаре)\n",
        "\n",
        "Сейчас сделаем простые кнопки. У кнопочек самый простой дизайн: то, что тыкаем, мы отправляем в бота отдельным сообщением (которое дальше мы можем обрабатывать)\n",
        "\n",
        "Давайте модифицируем наш start, чтоб он отправлял кнопочки:"
      ],
      "metadata": {
        "id": "N3J73j_pARd4"
      }
    },
    {
      "cell_type": "code",
      "source": [
        "from aiogram import Bot, Dispatcher, html, F, Router\n",
        "from aiogram.filters import CommandStart, Command\n",
        "from aiogram.types import Message, KeyboardButton, ReplyKeyboardMarkup\n",
        "\n",
        "@text_router.message(Command(\"start\"))\n",
        "async def cmd_start(message: Message):\n",
        "    kb = [\n",
        "        [KeyboardButton(text=\"parrot!!!\")],\n",
        "        [KeyboardButton(text=\"Get my id\")]\n",
        "    ]\n",
        "    keyboard = ReplyKeyboardMarkup(keyboard=kb)\n",
        "    await message.answer(\"Чего желаете?\", reply_markup=keyboard)"
      ],
      "metadata": {
        "id": "vM-pnY7tBBsf"
      },
      "execution_count": null,
      "outputs": []
    },
    {
      "cell_type": "markdown",
      "source": [
        "Чет некрасиво выглядит (по дефолту он закидывает их поштучно сверху вниз как есть)\n",
        "\n",
        "И давайте еще попробуем поменять текст (вместо \"Write a message\" сделаем что-нибудь другое):"
      ],
      "metadata": {
        "id": "NXHBU55xBnZv"
      }
    },
    {
      "cell_type": "code",
      "source": [
        "@text_router.message(Command(\"start\"))\n",
        "async def cmd_start(message: Message):\n",
        "    kb = [\n",
        "        [KeyboardButton(text=\"parrot!!!\")],\n",
        "        [KeyboardButton(text=\"Get my id\")]\n",
        "    ]\n",
        "    keyboard = ReplyKeyboardMarkup(keyboard=kb, resize_keyboard=True, input_field_placeholder=\"Чего хочешь\")\n",
        "    ## resize_keayboard - передвинь по клавиатуре, input_field_placeholder - замена input\n",
        "    await message.answer(\"Чего желаете?\", reply_markup=keyboard)\n",
        "\n",
        "@text_router.message(F.text == 'Get my id')\n",
        "async def command_my_id_handler(message: Message) -> None:\n",
        "    await message.reply(f\"Your id is: {message.from_user.id}!\")"
      ],
      "metadata": {
        "id": "Z-eme8XBCBEv"
      },
      "execution_count": null,
      "outputs": []
    },
    {
      "cell_type": "markdown",
      "source": [
        "Все равно не так красиво (две кнопки можно было бы сделать слева направо, а не сверху вниз). Ну, давайте чинить с помощью конструктора кнопок - ReplyKeyboardBuilder:"
      ],
      "metadata": {
        "id": "rHfHfBZ0Cfvi"
      }
    },
    {
      "cell_type": "code",
      "source": [
        "@text_router.message(Command(\"start\"))\n",
        "async def cmd_start(message: Message):\n",
        "    builder = ReplyKeyboardBuilder() ## создаем строение\n",
        "    builder.add(KeyboardButton(text=\"parrot!!!\")) ## добавляем кнопочки\n",
        "    builder.add(KeyboardButton(text=\"Get my id\"))\n",
        "    builder.adjust(2) ## сколько кнопок на 1 строку (в целом можно сразу задать размер)\n",
        "    await message.answer(\"Чего желаете?\", reply_markup=builder.as_markup(resize_keyboard=True, input_field_placeholder=\"Чего хочешь\")) ##переводим"
      ],
      "metadata": {
        "id": "jNqrl51IClba"
      },
      "execution_count": null,
      "outputs": []
    },
    {
      "cell_type": "markdown",
      "source": [
        "Но вот таким образом можно задать только ровные кнопочки... А допустим, мы хотим что-то более веселое. Давайте это пробовать на примере еще специальных кнопок:\n",
        "\n",
        "* Запрос геолокации\n",
        "\n",
        "* Запрос контакта\n",
        "\n",
        "* Создать опрос"
      ],
      "metadata": {
        "id": "q5HZx2XPD4-m"
      }
    },
    {
      "cell_type": "code",
      "source": [
        "@text_router.message(Command(\"special_buttons\"))\n",
        "async def cmd_special_buttons(message: Message):\n",
        "    builder = ReplyKeyboardBuilder()\n",
        "    builder.row(\n",
        "        KeyboardButton(text=\"Запросить геолокацию\", request_location=True),\n",
        "        KeyboardButton(text=\"Запросить контакт\", request_contact=True)\n",
        "    )\n",
        "    builder.row(KeyboardButton(\n",
        "        text=\"Создать викторину\",\n",
        "        request_poll=KeyboardButtonPollType(type=\"quiz\"))\n",
        "    )\n",
        "\n",
        "    await message.answer(\n",
        "        \"Выберите действие:\",\n",
        "        reply_markup=builder.as_markup(resize_keyboard=True, input_field_placeholder=\"Чего хочешь\"),\n",
        "    )"
      ],
      "metadata": {
        "id": "2bT4uG3XEaa3"
      },
      "execution_count": null,
      "outputs": []
    },
    {
      "cell_type": "markdown",
      "source": [
        "## Шаг 4. Фильтры"
      ],
      "metadata": {
        "id": "Ds2s6gZhATB-"
      }
    },
    {
      "cell_type": "markdown",
      "source": [
        "Итак, давайте рассуждать, что нам еще нужно. Допустим, мы хотим делать мультифункционального бота: чтобы и в чате отвечал, и сам по себе что-то да делал, но при этом функционал будет разным, верно ведь?\n",
        "\n",
        "Давайте сделаем вот такой функционал:\n",
        "\n",
        "* Хотим уметь запускать рулетку в группах, но не в личном чате\n",
        "\n",
        "Начнем с рулетки:"
      ],
      "metadata": {
        "id": "tkAzy_HLIfax"
      }
    },
    {
      "cell_type": "code",
      "source": [
        "from aiogram.enums.dice_emoji import DiceEmoji\n",
        "\n",
        "@router.message(Command(commands=[\"dice\"]))\n",
        "async def cmd_dice(message: Message):\n",
        "    await message.answer_dice(emoji=DiceEmoji.SLOT_MACHINE)"
      ],
      "metadata": {
        "id": "b-MWwDqhJPiU"
      },
      "execution_count": null,
      "outputs": []
    },
    {
      "cell_type": "markdown",
      "source": [
        "Опа, работает! Но в чате работает, а мы допустим такого не хотим\n",
        "\n",
        "Что будем делать? А давайте добавлять фильтры!"
      ],
      "metadata": {
        "id": "ogQDjfb6JowZ"
      }
    },
    {
      "cell_type": "code",
      "source": [
        "from typing import Union\n",
        "from aiogram.filters import BaseFilter\n",
        "from aiogram.types import Message\n",
        "\n",
        "\n",
        "class ChatTypeFilter(BaseFilter): # Создаем базовый фильтр\n",
        "    def __init__(self, chat_type: Union[str, list]):\n",
        "        self.chat_type = chat_type #Какие нам нужны типы чатов\n",
        "\n",
        "    async def __call__(self, message: Message) -> bool:\n",
        "        if isinstance(self.chat_type, str):\n",
        "            return message.chat.type == self.chat_type\n",
        "        else:\n",
        "            return message.chat.type in self.chat_type"
      ],
      "metadata": {
        "id": "fdoUiQZSKBL3"
      },
      "execution_count": null,
      "outputs": []
    },
    {
      "cell_type": "code",
      "source": [
        "@text_router.message(ChatTypeFilter(chat_type=[\"group\", \"supergroup\"]), Command(commands=[\"dice\"]))\n",
        "async def cmd_dice(message: Message):\n",
        "    await message.answer_dice(emoji=DiceEmoji.SLOT_MACHINE)"
      ],
      "metadata": {
        "id": "3ful_Ug_KKqc"
      },
      "execution_count": null,
      "outputs": []
    },
    {
      "cell_type": "markdown",
      "source": [
        "Опа, работает в чате, но не работает в личке! Ух тыыыы\n",
        "\n",
        "Но теперь структурно выглядит не очень: вот тут все вместе. Давайте заведем отдельно все только для групп (на роутер можно нацепить фильтр!)"
      ],
      "metadata": {
        "id": "CVXRqHNIKiRu"
      }
    },
    {
      "cell_type": "code",
      "source": [
        "group_router = Router()\n",
        "group_router.message.filter(\n",
        "    ChatTypeFilter(chat_type=[\"group\", \"supergroup\"])\n",
        ")\n",
        "\n",
        "@text_router.message(Command(commands=[\"dice\"]))\n",
        "async def cmd_dice(message: Message):\n",
        "    await message.answer_dice(emoji=DiceEmoji.SLOT_MACHINE)"
      ],
      "metadata": {
        "id": "G3xlKT09LEAd"
      },
      "execution_count": null,
      "outputs": []
    },
    {
      "cell_type": "markdown",
      "source": [
        "### Шаг 4. Middleware"
      ],
      "metadata": {
        "id": "S9E79SOlMIs3"
      }
    },
    {
      "cell_type": "markdown",
      "source": [
        "![](https://docs.aiogram.dev/en/dev-3.x/_images/basics_middleware.png)"
      ],
      "metadata": {
        "id": "lQMz4D-jMShL"
      }
    },
    {
      "cell_type": "markdown",
      "source": [
        "Что такое Middleware и нафиг он нужен? По сути, это прослойка между запросом и итоговым результатом (с помощью которого можно каким-то образом обогащать данные, фильтровать и так далее)\n",
        "\n",
        "Аналог: Декораторы! (это же обертка по сути)\n",
        "\n",
        "Middleware бывает 2 типов: outer и inner (где оно выполняется - на картинке)\n"
      ],
      "metadata": {
        "id": "mCZ7E_RONOVd"
      }
    },
    {
      "cell_type": "markdown",
      "source": [
        "Давайте напишем Middleware, который будет специально замедлять работу бота на n секунд"
      ],
      "metadata": {
        "id": "bEnBgvfxNzwn"
      }
    },
    {
      "cell_type": "code",
      "source": [
        "import asyncio\n",
        "from typing import Any, Callable, Dict, Awaitable\n",
        "from aiogram import BaseMiddleware\n",
        "from aiogram.types import TelegramObject\n",
        "\n",
        "class SlowpokeMiddleware(BaseMiddleware):\n",
        "    def __init__(self, sleep_sec: int):\n",
        "        self.sleep_sec = sleep_sec\n",
        "\n",
        "    async def __call__(\n",
        "            self,\n",
        "            handler: Callable[[TelegramObject, Dict[str, Any]], Awaitable[Any]],\n",
        "            event: TelegramObject,\n",
        "            data: Dict[str, Any],\n",
        "    ) -> Any:\n",
        "        await asyncio.sleep(self.sleep_sec)\n",
        "        result = await handler(event, data)\n",
        "        print(f\"Handler was delayed by {self.sleep_sec} seconds\")\n",
        "        return result"
      ],
      "metadata": {
        "id": "O2kG9TgDOcGs"
      },
      "execution_count": null,
      "outputs": []
    },
    {
      "cell_type": "code",
      "source": [
        "group_router = Router()\n",
        "group_router.message.filter(\n",
        "    ChatTypeFilter(chat_type=[\"group\", \"supergroup\"])\n",
        ")\n",
        "group_router.message.middleware(SlowpokeMiddleware(sleep_sec=5))"
      ],
      "metadata": {
        "id": "ZDGnz_GCOd_a"
      },
      "execution_count": null,
      "outputs": []
    },
    {
      "cell_type": "markdown",
      "source": [
        "Вопрос: какой тут middleware: inner или outer?\n",
        "\n",
        "Ответ: inner. Чтобы сделать его outer, то мы делаем outer_middleware"
      ],
      "metadata": {
        "id": "tRUTSbg9Oh4m"
      }
    },
    {
      "cell_type": "markdown",
      "source": [
        "О чем поговорим на семинаре?\n",
        "\n",
        "* Конечные автоматы - что это и как их использовать в телеге\n",
        "\n",
        "* Инлайн-режим - как к картинкам, сообщениям и так далее добавить кнопки!\n",
        "\n",
        "И все это будет на примере оформления заказа в одном ресторане)"
      ],
      "metadata": {
        "id": "ZbJlmsKhyibv"
      }
    },
    {
      "cell_type": "markdown",
      "source": [
        "## Попугай дня"
      ],
      "metadata": {
        "id": "nhZyaEQdvYIl"
      }
    },
    {
      "cell_type": "markdown",
      "source": [
        "![](https://upload.wikimedia.org/wikipedia/commons/thumb/b/ba/Ara_militaris_-London_Zoo-8a.jpg/1280px-Ara_militaris_-London_Zoo-8a.jpg)"
      ],
      "metadata": {
        "id": "ywN6sfroz5NI"
      }
    },
    {
      "cell_type": "markdown",
      "source": [
        "Это солдатский ара. Назван так, потому что его внешний вид напоминает солдатскую униформу (интересно где)\n",
        "\n",
        "К сожалению, их численность сейчас насчитывает около 5000 особей из-за уничтожения их естественной среды обитания. Поэтому считается одним из самых дорогих попугаев для заведения, но тем не менее, спокойно размножаются в неволе\n",
        "\n",
        "Они одни из самых долгоживущий ар - живут до 60 лет, но чтобы их содержать нужно очень много с ними тратить времени. А также у них может быть проблема бутылочного горлышка в будущем (недостаточное разнообразие генов и их изменений приводит к вырождению рода)"
      ],
      "metadata": {
        "id": "_1l91U3qz62L"
      }
    }
  ]
}