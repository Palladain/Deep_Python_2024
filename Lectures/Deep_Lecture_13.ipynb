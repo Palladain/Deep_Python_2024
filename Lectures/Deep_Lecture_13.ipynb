{
  "nbformat": 4,
  "nbformat_minor": 0,
  "metadata": {
    "colab": {
      "provenance": []
    },
    "kernelspec": {
      "name": "python3",
      "display_name": "Python 3"
    },
    "language_info": {
      "name": "python"
    }
  },
  "cells": [
    {
      "cell_type": "markdown",
      "source": [
        "# Продвинутый Python, лекция 13\n",
        "\n",
        "**Лектор:** Петров Тимур\n",
        "\n",
        "**Семинаристы:** Бузаев Федор, Дешеулин Олег, Коган Александра, Васина Олеся, Садуллаев Музаффар"
      ],
      "metadata": {
        "id": "1CuyGxuwJETb"
      }
    },
    {
      "cell_type": "markdown",
      "source": [
        "## Поговорим про аналитику"
      ],
      "metadata": {
        "id": "uyDCcBquJHll"
      }
    },
    {
      "cell_type": "markdown",
      "source": [
        "Итак, давайте поговорим про другую часть жизни, а именно про аналитику. Если вы зайдете на сайт вакансий, то увидите просто бесконечное многообразие:\n",
        "\n",
        "* Бизнес-аналитик\n",
        "\n",
        "* Аналитик данных\n",
        "\n",
        "* Продуктовый аналитик\n",
        "\n",
        "* Системный аналитик\n",
        "\n",
        "* Маркетинговый аналитик\n",
        "\n",
        "* BI-аналитик\n",
        "\n",
        "И так далее. Что их объединяет? Аналитика занимается сбором и обработкой информации для получения полезной инфы (а дальше уже в зависимости от деятельности выводы и профиль исследований бывает разный)\n",
        "\n",
        "Мы с вами сегодня поговорим больше про продуктовую аналитику, но тем не менее, все эти вещи полезны также и для других сфер анализа.\n",
        "\n",
        "Чем занимается продуктовый аналитик?\n",
        "\n",
        "* Оценка эффективности продукта (как он вообще живет, все ли ок)\n",
        "\n",
        "* Выделение ключевых метрик\n",
        "\n",
        "* Исследование потребностей и инсайтов в поведении пользователей\n",
        "\n",
        "* Проведение АБ-тестов для оценки эффективности той или иной фичи, добавленной в продукт\n",
        "\n"
      ],
      "metadata": {
        "id": "NhDzIgwoJLEJ"
      }
    },
    {
      "cell_type": "markdown",
      "source": [
        "## На чем основывается аналитик?"
      ],
      "metadata": {
        "id": "l-0puMdKFQWZ"
      }
    },
    {
      "cell_type": "markdown",
      "source": [
        "Очевидно - на данных, которые имеем. Чаще всего инструменты аналитика это:\n",
        "\n",
        "* SQL (которого мы уже так или иначе коснулись)\n",
        "\n",
        "* Python (вот он, наш любимый родной)"
      ],
      "metadata": {
        "id": "TIi1Tfz7FTaM"
      }
    },
    {
      "cell_type": "markdown",
      "source": [
        "Мы же поговорим про две части: АБ-тестирование и про визализацию (это достаточно большая часть жизни аналитика). И начнем с АБ"
      ],
      "metadata": {
        "id": "Q6eqNTzsGCip"
      }
    },
    {
      "cell_type": "markdown",
      "source": [
        "## Что такое AB-тест и с чем его кушать"
      ],
      "metadata": {
        "id": "Zn5AfrLwGMD-"
      }
    },
    {
      "cell_type": "markdown",
      "source": [
        "AB-тест - по сути это сравнение двух версий разного продукта:"
      ],
      "metadata": {
        "id": "BZmWTEBFGOkv"
      }
    },
    {
      "cell_type": "markdown",
      "source": [
        "![](https://avatars.dzeninfra.ru/get-zen_doc/271828/pub_6563b818e129441f1f1eed60_6563b9b6dc9c916024dcbdb6/scale_1200)"
      ],
      "metadata": {
        "id": "P-0DLdN0GjIO"
      }
    },
    {
      "cell_type": "markdown",
      "source": [
        "Вот приходит к вам команда и говорит: хотим поменять расположение иконки на сайте, бизнес считает, что так будет лучше. Естественно, просто подумать и сделать - это не вариант (а вдруг бизнес думает неверно). Поэтому мы запускаем проверку, а действительно ли так лучше (вообще принятия решений на основе данных называется data-driven подход, и обычно это показатель, что в бизнесе в целом все неплохо)"
      ],
      "metadata": {
        "id": "qF16xYSFGldY"
      }
    },
    {
      "cell_type": "markdown",
      "source": [
        "А как проверить?\n",
        "\n",
        "* Бьем пользователей на две равные части: группа А (контроль) и группа B (тест). Для группы А оставляем все как и было раньше, а для группы B мы меняем расположение иконки (или любое другое изменение)\n",
        "\n",
        "* Пускаем и ждем некоторое время, пока наберутся данные\n",
        "\n",
        "* После этого берем и сравниваем, что же было лучше, и уже на основе этого анализа делаем выбор - PROFIT"
      ],
      "metadata": {
        "id": "bcywhX3GF65a"
      }
    },
    {
      "cell_type": "markdown",
      "source": [
        "## Ну так изи, что тут еще делать, все очевидно!"
      ],
      "metadata": {
        "id": "H8EgqVSyIGU7"
      }
    },
    {
      "cell_type": "markdown",
      "source": [
        "Ну, если бы было так просто, то и аналитики были бы не нужны)\n",
        "\n",
        "Какие есть проблемы?\n",
        "\n",
        "1. А как побить на равные части?\n",
        "\n",
        "2. А сколько времени ждать данные?\n",
        "\n",
        "3. А как итоги подводить, на основании чего?\n",
        "\n",
        "Вот для этого нам придется немного погрузиться в матстат (будет небольно, обещаю)"
      ],
      "metadata": {
        "id": "_j545MNmILf7"
      }
    },
    {
      "cell_type": "markdown",
      "source": [
        "## Основа"
      ],
      "metadata": {
        "id": "5R_Kd1RuJRry"
      }
    },
    {
      "cell_type": "markdown",
      "source": [
        "Что такое AB-тест с формальной точки зрения? По сути, это проверка гипотезы (одна из частей матстата)\n",
        "\n",
        "Допустим, что у нас есть некоторая гипотеза (например: если мы сделаем фичу X, то у нас повысится средний чек). Что мы хотим сказать?\n",
        "\n",
        "$$H_0 : T(x_a) = T(x_b) $$\n",
        "\n",
        "$$H_1: T(x_1) \\ne T(x_b) $$\n",
        "\n",
        "То есть при т.н. \"нулевой гипотезе\" (ей называют ситуацию, когда ничего не изменится) наша метрика (средний чек) не поменяется (будет та же самая)\n",
        "\n",
        "А альтернативная гипотеза - что поменяется (причем обратите внимание, мы не говорим в какую сторону - нам важно следить за тем, что она может стать меньше!)\n",
        "\n",
        "Наша задача: понять, какая гипотеза верна (по сути принять ее)\n",
        "\n",
        "Звучит логично. Давайте проверять:"
      ],
      "metadata": {
        "id": "1SgPUQ79JUGD"
      }
    },
    {
      "cell_type": "code",
      "source": [
        "import numpy as np\n",
        "import matplotlib.pyplot as plt\n",
        "\n",
        "data = np.random.normal(loc=100, scale=20, size=10000)\n",
        "plt.hist(data, bins=30)\n",
        "plt.title('Гистограмма случайной выборки с нормальным распределением')\n",
        "plt.xlabel('Значение')\n",
        "plt.ylabel('Частота')\n",
        "plt.show()"
      ],
      "metadata": {
        "colab": {
          "base_uri": "https://localhost:8080/",
          "height": 472
        },
        "id": "ki_kPps0KfGu",
        "outputId": "8733d214-3ac4-4717-c185-cc2d23e73225"
      },
      "execution_count": 8,
      "outputs": [
        {
          "output_type": "display_data",
          "data": {
            "text/plain": [
              "<Figure size 640x480 with 1 Axes>"
            ],
            "image/png": "[encoded data removed]"
          },
          "metadata": {}
        }
      ]
    },
    {
      "cell_type": "markdown",
      "source": [
        "Сгенерировали нормальную выборку, где среднее - 100 (будем считать, что это наши данные для проверки). В целом можем сказать - вот люди в среднем тратили 100 у.е. у нас\n",
        "\n",
        "Сгенерируем такую же выборку (как будто альтернатива):"
      ],
      "metadata": {
        "id": "9LvYXX_xK95R"
      }
    },
    {
      "cell_type": "code",
      "source": [
        "data_a = np.random.normal(loc=100, scale=20, size=1000)\n",
        "data_b = np.random.normal(loc=100, scale=20, size=1000)\n",
        "print(np.mean(data_a), np.mean(data_b))"
      ],
      "metadata": {
        "colab": {
          "base_uri": "https://localhost:8080/"
        },
        "id": "KnQWWE_wLP0R",
        "outputId": "c9dc8552-6490-4220-dc60-bed2b1502b5f"
      },
      "execution_count": 9,
      "outputs": [
        {
          "output_type": "stream",
          "name": "stdout",
          "text": [
            "100.32530169137405 99.80158806076413\n"
          ]
        }
      ]
    },
    {
      "cell_type": "markdown",
      "source": [
        "Ну вот, получили, что средние расходятся (они не равны), можем делать вывод, что второй вариант хуже?\n",
        "\n",
        "Наверное, нет, мы с вами знаем, что из себя представляют данные и так не можем утверждать (знаем, что там все одинаково). А в реальной жизни мы с вами истинного распределения даже часто не знаем. Что делать?"
      ],
      "metadata": {
        "id": "b7U4G_53Lik8"
      }
    },
    {
      "cell_type": "markdown",
      "source": [
        "Варианта 2:\n",
        "\n",
        "* НУЖНО БОЛЬШЕ ДАННЫХ  (валидно, но чаще всего недостижимо, бизнес требует решений более быстрых, чем за бесконечность времени)\n",
        "\n",
        "* Проверять более умно"
      ],
      "metadata": {
        "id": "Hnne_RqXMCZs"
      }
    },
    {
      "cell_type": "markdown",
      "source": [
        "## Стат критерии"
      ],
      "metadata": {
        "id": "qC65YmPzMSM_"
      }
    },
    {
      "cell_type": "markdown",
      "source": [
        "Итак, втупую сравнивать не вариант. Что делать? Надо применять стакритерии, которые вам скажут по сути следующее:\n",
        "\n",
        "**С какой вероятностью полученные данные действительно отличаются?**\n",
        "\n",
        "И тут нужно поговорить про, собственно, сами ошибки. Табличка в помощь:"
      ],
      "metadata": {
        "id": "6zrPs795MU-a"
      }
    },
    {
      "cell_type": "markdown",
      "source": [
        "![](https://avatars.mds.yandex.net/i?id=467fb9d4b9a6888123ea3ff4ed804c9f_l-5205562-images-thumbs&n=13)"
      ],
      "metadata": {
        "id": "pPw_xZEmNUUB"
      }
    },
    {
      "cell_type": "markdown",
      "source": [
        "Ошибки первого рода: мы приняли альтернативую гипотезу, когда была верна нулевая (ничего менять не надо было)\n",
        "\n",
        "Ошибки второго рода: мы отвергли альтернативную гипотезу, когда ее надо было принять (надо было менять)\n",
        "\n",
        "Также $\\alpha$ называется стат. значимостью (к этому мы вернемся позже), а величину $1 - \\beta$ - стат мощностью\n",
        "\n",
        "В зависимости от того, насколько вы допускаете ту или иную ошибку, вы меняете вероятность. По дефолту ставят $\\alpha = 0.05$ и $\\beta = 0.2$ (но их можно менять)\n",
        "\n",
        "Вы можете сказать: а зачем так ставить, если в идеале нам бы поставить везде по нулям? (чтобы вот прям наверняка)\n",
        "\n"
      ],
      "metadata": {
        "id": "sC3mLsfKNcVe"
      }
    },
    {
      "cell_type": "markdown",
      "source": [
        "Тут надо сказать про такую вещь, как MDE (minimal detectable effect). Что это такое? Это величина, которая говорит: **\"какое минимальное расхождение должно быть, чтобы мы могли достоверно сказать, что действительно что-то отличается?\"**\n",
        "\n",
        "Ну и теперь, логично, что он зависит от заданных параметров:"
      ],
      "metadata": {
        "id": "VhP81PKFQfV4"
      }
    },
    {
      "cell_type": "markdown",
      "source": [
        "![](https://miro.medium.com/v2/resize:fit:1200/1*xrZ29Im-Nvljt_2AFtmE4g.png)"
      ],
      "metadata": {
        "id": "LudtXgU7R7q_"
      }
    },
    {
      "cell_type": "markdown",
      "source": [
        "$$\\text{MDE} = \\left( z_{\\frac{\\alpha}{2}} + z_{\\beta} \\right) \\cdot \\sqrt{\\frac{2 \\cdot \\hat{\\sigma}^2}{n}}\n",
        "$$"
      ],
      "metadata": {
        "id": "yt0F7-dPeX0O"
      }
    },
    {
      "cell_type": "markdown",
      "source": [
        "MDE зависит от $\\alpha$ и $\\beta$, а также от числа наблюдений, поэтому мы обычно по MDE как раз вычисляем необходимые выборки (а следовательно, и время ожидания)"
      ],
      "metadata": {
        "id": "KtxG6yrUeEeW"
      }
    },
    {
      "cell_type": "markdown",
      "source": [
        "Вот после всего этого можно и говорить про критерии? Какие они бывают?\n",
        "\n",
        "* Параметрические (T-test)\n",
        "\n",
        "* Непараметрические (Манн-Уитни)\n",
        "\n",
        "* Бутсрап"
      ],
      "metadata": {
        "id": "d8znR4KXVF9t"
      }
    },
    {
      "cell_type": "markdown",
      "source": [
        "## T-test"
      ],
      "metadata": {
        "id": "Ua-_N0OjVRN5"
      }
    },
    {
      "cell_type": "markdown",
      "source": [
        "Критерий Стюдента-Уэлча - классический параметрический критерий для проверки гипотез.\n",
        "\n",
        "Что он требудет: независимые нормальные выборки. Проверяем, равны ли средние у двух выборок\n",
        "\n",
        "Когда подходит: когда у вас выборка из нормального распреление и когда у вас много данных (если на тервере уже проходили ЦПТ, то в целом ЦПТ об этом и говорит, и поэтому его можно применять)"
      ],
      "metadata": {
        "id": "d9w_qxQeVTd0"
      }
    },
    {
      "cell_type": "markdown",
      "source": [
        "Мы сейчас не будем останавливаться на теор выкладках, мы просто укажем формулу:\n",
        "\n",
        "$$t = \\frac{\\bar{x_1} - \\bar{x_2}}{\\sqrt{\\frac{s_1^2}{n_1} + \\frac{s_2^2}{n_2}}} $$\n",
        "\n",
        "Это наш критерий, который мы сравниваем с распределение Стьюдента с $df$ степенями свободы, где:\n",
        "\n",
        "$$\\text{df} = \\frac{\\left( \\frac{S_1^2}{n_1} + \\frac{S_2^2}{n_2} \\right)^2}{\\frac{\\left( \\frac{S_1^2}{n_1} \\right)^2}{n_1 - 1} + \\frac{\\left( \\frac{S_2^2}{n_2} \\right)^2}{n_2 - 1}}\n",
        " $$\n",
        "\n",
        "На основе этого принимаем"
      ],
      "metadata": {
        "id": "K3Y7b7ZJW-sv"
      }
    },
    {
      "cell_type": "code",
      "source": [
        "import numpy as np\n",
        "\n",
        "def welch_ttest(sample1, sample2):\n",
        "    n1 = len(sample1)\n",
        "    n2 = len(sample2)\n",
        "    mean1 = np.mean(sample1)\n",
        "    mean2 = np.mean(sample2)\n",
        "    var1 = np.var(sample1, ddof=1)\n",
        "    var2 = np.var(sample2, ddof=1)\n",
        "    t_stat = (mean1 - mean2) / np.sqrt(var1 / n1 + var2 / n2)\n",
        "    df = ((var1 / n1 + var2 / n2) ** 2) / (( (var1 / n1) ** 2) / (n1 - 1) + ((var2 / n2) ** 2) / (n2 - 1))\n",
        "    return t_stat, df\n",
        "\n",
        "np.random.seed(42)\n",
        "sample1 = np.random.normal(loc=50, scale=10, size=100)\n",
        "sample2 = np.random.normal(loc=50, scale=10, size=100)\n",
        "t_stat, df = welch_ttest(sample1, sample2)\n",
        "\n",
        "print(f\"t-статистика: {t_stat}\")\n",
        "print(f\"Степени свободы: {df}\")\n"
      ],
      "metadata": {
        "colab": {
          "base_uri": "https://localhost:8080/"
        },
        "id": "MI4BAa8CZqn-",
        "outputId": "c6fbb83c-4f68-4cb1-fab5-b77c3f041b58"
      },
      "execution_count": 16,
      "outputs": [
        {
          "output_type": "stream",
          "name": "stdout",
          "text": [
            "t-статистика: -0.9579319437618322\n",
            "Степени свободы: 197.5286743143973\n"
          ]
        }
      ]
    },
    {
      "cell_type": "code",
      "source": [
        "from scipy.stats import t\n",
        "\n",
        "alpha = 0.05\n",
        "p_value = 2 * (1 - t.cdf(abs(t_stat), df)) # это наш уровень значимости: какова вероятность, что мы получили случайно такое значение\n",
        "if p_value < alpha:\n",
        "    print(\"Отвергаем нулевую гипотезу\")\n",
        "else:\n",
        "    print(\"Не отвергаем нулевую гипотезу\")"
      ],
      "metadata": {
        "colab": {
          "base_uri": "https://localhost:8080/"
        },
        "id": "5NlnrQPzauCG",
        "outputId": "a6a0dd8a-a94e-4332-a840-5c7c8c2d19ec"
      },
      "execution_count": 17,
      "outputs": [
        {
          "output_type": "stream",
          "name": "stdout",
          "text": [
            "Не отвергаем нулевую гипотезу\n"
          ]
        }
      ]
    },
    {
      "cell_type": "markdown",
      "source": [
        "## Манн-Уитни"
      ],
      "metadata": {
        "id": "Jlup_MsFbKKH"
      }
    },
    {
      "cell_type": "markdown",
      "source": [
        "Непараметрический критерий (то есть не требует ничего по отношению к расрпределению наших данных), который чаще всего используют в тех ситуациях, когда у нас данные категориальные (например, вы хотите понять - оценки у вас поменялись в отзывах или нет, тут уже t-test не будет просто работать, у вас все дискретно)\n",
        "\n",
        "Однако, тест Манна-Уитни проверяет немного другое: а отличаются ли вообще выборки или нет. То есть он не говорит: стало лучше, стало ли хуже, а просто: есть ли разница или нет\n",
        "\n",
        "Еще один плюс такого теста: он устойчив к выбросам (когда же t-test может из-за этого страдать)\n",
        "\n",
        "А еще он максимально простой)\n",
        "\n",
        "1. Объединяем выборки\n",
        "\n",
        "2. Ранжируем по параметру и присваем каждому ранг (от 1 до N)\n",
        "\n",
        "3. Считаем статистики:\n",
        "\n",
        "$$U_1 = R_1 - \\frac{n_1 (n_1 + 1)}{2}$$\n",
        "\n",
        "$$U_2 = R_2 - \\frac{n_2 (n_2 + 1)}{2}$$\n",
        "\n",
        "4. Берем минимум из них и при заданном уровне статзначимости сравниваем с распределением Манна-Уитни"
      ],
      "metadata": {
        "id": "-Yten62cbX2i"
      }
    },
    {
      "cell_type": "code",
      "source": [
        "import numpy as np\n",
        "from scipy.stats import mannwhitneyu\n",
        "\n",
        "np.random.seed(14)\n",
        "sample1 = np.random.normal(loc=50, scale=10, size=100)\n",
        "sample2 = np.random.normal(loc=50, scale=10, size=100)\n",
        "stat, p_value = mannwhitneyu(sample1, sample2, alternative='two-sided')\n",
        "\n",
        "print(f\"stat: {stat}\")\n",
        "print(f\"p_value: {p_value}\")"
      ],
      "metadata": {
        "colab": {
          "base_uri": "https://localhost:8080/"
        },
        "id": "Nrf3A6A8dhfR",
        "outputId": "25317fe1-b6be-4da3-ec01-55821d199e24"
      },
      "execution_count": 18,
      "outputs": [
        {
          "output_type": "stream",
          "name": "stdout",
          "text": [
            "stat: 5136.0\n",
            "p_value: 0.7405846668608396\n"
          ]
        }
      ]
    },
    {
      "cell_type": "markdown",
      "source": [
        " ## Бутстрап"
      ],
      "metadata": {
        "id": "9H4a8FoDdyZn"
      }
    },
    {
      "cell_type": "markdown",
      "source": [
        "Есть еще один замечательный метод, который работает практически всегда. Его суть:\n",
        "\n",
        "* Берем выборки, шафлим их, и берем рандомную подвыборку в каждой\n",
        "\n",
        "* Считаем от них метрику, и берем разницу\n",
        "\n",
        "* Повторяем этот шаг кучу-кучу раз\n",
        "\n",
        "Утверждается, что у нас получается нормальное распределение со средним в нуле при выполнении нулеовй гипотезы! А с ним можно проверять, собственно, говоря, насколько это верно\n",
        "\n",
        "Работает ВСЕГДА (опять-таки, мат выкладки отложим). Единственная проблема - это долго, поэтому и применяют не только его.\n",
        "\n",
        "Еще один плюс: посчитать можно любую метрику (для t-test нельзя посчитать разницу, например, медиан)"
      ],
      "metadata": {
        "id": "LfUHlxt7d0EV"
      }
    },
    {
      "cell_type": "code",
      "source": [
        "from scipy import stats\n",
        "\n",
        "def to_np_array(*arrays):\n",
        "    res = [np.array(arr, dtype='float') for arr in arrays]\n",
        "    return res if len(res) > 1 else res[0]\n",
        "\n",
        "def bootstrap_ratio(num_t, num_с, n_trials=5_000):\n",
        "    num_t, num_с = to_np_array(num_t, num_с)\n",
        "    rng = np.random.default_rng()\n",
        "    ratio_diff_distrib = []\n",
        "\n",
        "    # booted iters\n",
        "    for _ in range(n_trials):\n",
        "        users_idx_t = rng.choice(np.arange(0, len(num_t)), size=len(num_t))\n",
        "        boot_num_t = num_t[users_idx_t]\n",
        "        ratio_t = boot_num_t.sum() / len(boot_num_t)\n",
        "        users_idx_c = rng.choice(np.arange(0, len(num_с)), size=len(num_с))\n",
        "        boot_num_с = num_с[users_idx_c]\n",
        "        ratio_c = boot_num_с.sum() / len(boot_num_с)\n",
        "        ratio_diff_distrib.append(ratio_t - ratio_c)\n",
        "\n",
        "    # p_value\n",
        "    mean = np.mean(ratio_diff_distrib)\n",
        "    se = np.std(ratio_diff_distrib)\n",
        "    quant = stats.norm.cdf(x=0, loc=mean, scale=se)\n",
        "    p_value = quant * 2 if 0 < mean else (1 - quant) * 2\n",
        "    return p_value, ratio_diff_distrib, mean"
      ],
      "metadata": {
        "id": "RtP7orPIe1bW"
      },
      "execution_count": null,
      "outputs": []
    },
    {
      "cell_type": "markdown",
      "source": [
        "## Ну ок, что-то посчитали, а как выводы делать-то?"
      ],
      "metadata": {
        "id": "BqBqbmLzhQWZ"
      }
    },
    {
      "cell_type": "markdown",
      "source": [
        "Вот тут и кроется главная фича аналитика, как человека - из результатов понимать итоговые результаты, и есть ли смысл\n",
        "\n",
        "Давайте на паре примеров:\n",
        "\n",
        "* Можно ли выпускать фичу, если результаты всех тестов красные? (это значит, что метрика была статзначимо больше на контроле, чем на тесте)\n",
        "\n",
        "* Можно ли выпускать фичу, если все результаты серые? (серое - значит, что нет статзначимой разницы)\n",
        "\n",
        "* А что делать, если часть метрик у нас зеленые, а часть красные?\n",
        "\n",
        "Вот на этом хождении на кончиках пальцев и строится аналитика с точки зрения тестирования"
      ],
      "metadata": {
        "id": "gXB7FmwXhUjO"
      }
    },
    {
      "cell_type": "markdown",
      "source": [
        "Что будем делать на семинаре?\n",
        "\n",
        "На семинаре будет заниматься EDA и рисованием графиков, чтобы на основе их сформулировать какие-либо гипотезы и выводы!"
      ],
      "metadata": {
        "id": "D4bkbsjUJsWl"
      }
    },
    {
      "cell_type": "markdown",
      "source": [
        "## Попугай дня"
      ],
      "metadata": {
        "id": "PnQytadHicv-"
      }
    },
    {
      "cell_type": "markdown",
      "source": [
        "Все знают про черных лебедей, но есть и черные какаду!"
      ],
      "metadata": {
        "id": "-VsBtO7GjY_B"
      }
    },
    {
      "cell_type": "markdown",
      "source": [
        "![](https://upload.wikimedia.org/wikipedia/commons/thumb/c/c6/Palm_Cockatoo_0A2A7769.jpg/2560px-Palm_Cockatoo_0A2A7769.jpg)"
      ],
      "metadata": {
        "id": "3YkvfmDtjcWR"
      }
    },
    {
      "cell_type": "markdown",
      "source": [
        "У них есть одна интересная особенность: когда они объявляют некоторую территорию своей, они берут палку и начинают ей громко бить по дереву длительное время, а после этого эта палка становится частью гнезда какаду. Почему они так делают - все еще загадка, но это достаточно интересный и необычный способ (потому что в целом использование инструментов - это редкая черта животного мирва)"
      ],
      "metadata": {
        "id": "pBKG3BvBjtl1"
      }
    }
  ]
}