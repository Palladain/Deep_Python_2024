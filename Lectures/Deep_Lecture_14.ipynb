{
  "cells": [
    {
      "cell_type": "markdown",
      "source": [
        "# Продвинутый Python, лекция 14\n",
        "\n",
        "**Лектор:** Петров Тимур\n",
        "\n",
        "**Семинаристы:** Бузаев Федор, Дешеулин Олег, Коган Александра, Васина Олеся, Садуллаев Музаффар"
      ],
      "metadata": {
        "id": "QKkuW93tr8AR"
      }
    },
    {
      "cell_type": "markdown",
      "metadata": {
        "id": "6ORcqo8DWrA6"
      },
      "source": [
        "### Как Python работает изнутри?"
      ]
    },
    {
      "cell_type": "markdown",
      "metadata": {
        "id": "HuPqVki3WrA7"
      },
      "source": [
        "### Интерпретатор"
      ]
    },
    {
      "cell_type": "markdown",
      "metadata": {
        "id": "F4jZp5wfWrA7"
      },
      "source": [
        "![image.png](https://kinsta.com/wp-content/uploads/2021/06/working-of-python-interpreter-1024x576.png)"
      ]
    },
    {
      "cell_type": "markdown",
      "metadata": {
        "id": "j4HfJA1PWrA8"
      },
      "source": [
        "Когда запускается файл с расширением `*.py` Python выполяет следующие шаги:\n",
        "* компилирует программу в байт-код\n",
        "* исполненяет этот байт-кода\n",
        "\n",
        "всеми операциями заведует CPython! (по умолчанию)\n",
        "\n",
        "например:"
      ]
    },
    {
      "cell_type": "markdown",
      "metadata": {
        "id": "w7Tu8BSfWrA8"
      },
      "source": [
        "#### .pyc"
      ]
    },
    {
      "cell_type": "code",
      "execution_count": null,
      "metadata": {
        "id": "jsFjwZ4ZWrA8"
      },
      "outputs": [],
      "source": [
        "# создаем питонячий файл и вписываем туда нашу программу\n",
        "!touch example.py\n",
        "!echo 'print(\"Hello world!!!\")' > example.txt\n"
      ]
    },
    {
      "cell_type": "markdown",
      "source": [
        "Используем [py_compile](https://docs.python.org/3/library/py_compile.html) для компиляции:\n",
        "\n"
      ],
      "metadata": {
        "id": "jDrIX933sL0E"
      }
    },
    {
      "cell_type": "code",
      "execution_count": null,
      "metadata": {
        "colab": {
          "base_uri": "https://localhost:8080/",
          "height": 36
        },
        "id": "7QmvSzjsWrA8",
        "outputId": "76b7dfe6-44c0-44e7-a86f-84b028d00033"
      },
      "outputs": [
        {
          "output_type": "execute_result",
          "data": {
            "text/plain": [
              "'__pycache__/example.cpython-310.pyc'"
            ],
            "application/vnd.google.colaboratory.intrinsic+json": {
              "type": "string"
            }
          },
          "metadata": {},
          "execution_count": 2
        }
      ],
      "source": [
        "import py_compile\n",
        "\n",
        "py_compile.compile('example.py')"
      ]
    },
    {
      "cell_type": "markdown",
      "metadata": {
        "id": "mkafroVKWrA9"
      },
      "source": [
        "Когда Python импортирует модуль, он компилирует его исходный код в байт-код. Этот байт-код сохраняется в файле `.pyc` для того, чтобы его не нужно было компилировать снова при следующем запуске программы"
      ]
    },
    {
      "cell_type": "markdown",
      "metadata": {
        "id": "l_06xLPmWrA9"
      },
      "source": [
        "#### .pyo"
      ]
    },
    {
      "cell_type": "markdown",
      "metadata": {
        "id": "xnn001xEWrA9"
      },
      "source": [
        "Тоже скомпилированные байт-код файлы но с дополнительной оптимизацией. Оптимизация тут в отключении assert'ов и debug отладочной информации"
      ]
    },
    {
      "cell_type": "code",
      "execution_count": null,
      "metadata": {
        "colab": {
          "base_uri": "https://localhost:8080/"
        },
        "id": "rZKJFtVaWrA9",
        "outputId": "16cecdf9-03f2-42c1-f02c-9589665f52b4"
      },
      "outputs": [
        {
          "output_type": "stream",
          "name": "stdout",
          "text": [
            "Writing greet.py\n"
          ]
        }
      ],
      "source": [
        "%%writefile greet.py\n",
        "\n",
        "def greet(name):\n",
        "    assert isinstance(name, str), \"Ожидаем на вход строку!\"\n",
        "    print(f\"Hello, {name}!\")"
      ]
    },
    {
      "cell_type": "code",
      "execution_count": null,
      "metadata": {
        "id": "mHkv5MA2WrA9"
      },
      "outputs": [],
      "source": [
        "!python -O -m py_compile greet.py"
      ]
    },
    {
      "cell_type": "code",
      "execution_count": null,
      "metadata": {
        "id": "IpwXn0C4WrA9"
      },
      "outputs": [],
      "source": [
        "!python -m py_compile greet.py"
      ]
    },
    {
      "cell_type": "markdown",
      "metadata": {
        "id": "G6ycbtf9WrA9"
      },
      "source": [
        "Декомпиляция тут пока что невозможна т.к. версия используемого интепретатора 3.12 :-("
      ]
    },
    {
      "cell_type": "markdown",
      "metadata": {
        "id": "sWeWLR3JWrA9"
      },
      "source": [
        "### [dis](https://docs.python.org/3/library/dis.html)"
      ]
    },
    {
      "cell_type": "markdown",
      "metadata": {
        "id": "s-QcuWPDWrA-"
      },
      "source": [
        "Библиотека представляющая методы которые показывают, как Python интерпретирует наш исходный код на уровне байт-кода"
      ]
    },
    {
      "cell_type": "markdown",
      "metadata": {
        "id": "IlHteiTZWrA-"
      },
      "source": [
        "Напишем простую функцию Фибоначчи и посмотрим ее байт-код"
      ]
    },
    {
      "cell_type": "code",
      "execution_count": null,
      "metadata": {
        "id": "6gx4lUtfWrA-"
      },
      "outputs": [],
      "source": [
        "def fib(n: int) -> int:\n",
        "    if n <= 1:\n",
        "        return n\n",
        "\n",
        "    return fib(n - 1) + fib(n - 2)"
      ]
    },
    {
      "cell_type": "code",
      "execution_count": null,
      "metadata": {
        "id": "t4bhKt8iWrA-",
        "outputId": "8998e707-b53c-4a5c-d7a5-5c529424af69"
      },
      "outputs": [
        {
          "name": "stdout",
          "output_type": "stream",
          "text": [
            "  1           0 RESUME                   0\n",
            "\n",
            "  2           2 LOAD_FAST                0 (n)\n",
            "              4 LOAD_CONST               1 (1)\n",
            "              6 COMPARE_OP              26 (<=)\n",
            "             10 POP_JUMP_IF_FALSE        2 (to 16)\n",
            "\n",
            "  3          12 LOAD_FAST                0 (n)\n",
            "             14 RETURN_VALUE\n",
            "\n",
            "  5     >>   16 LOAD_GLOBAL              1 (NULL + fib)\n",
            "             26 LOAD_FAST                0 (n)\n",
            "             28 LOAD_CONST               1 (1)\n",
            "             30 BINARY_OP               10 (-)\n",
            "             34 CALL                     1\n",
            "             42 LOAD_GLOBAL              1 (NULL + fib)\n",
            "             52 LOAD_FAST                0 (n)\n",
            "             54 LOAD_CONST               2 (2)\n",
            "             56 BINARY_OP               10 (-)\n",
            "             60 CALL                     1\n",
            "             68 BINARY_OP                0 (+)\n",
            "             72 RETURN_VALUE\n"
          ]
        }
      ],
      "source": [
        "import dis\n",
        "\n",
        "dis.dis(fib)"
      ]
    },
    {
      "cell_type": "markdown",
      "metadata": {
        "id": "f3iw8t8AWrA-"
      },
      "source": [
        "Здесь мы видим инструкции как работает наша функция. Мы прогружаем в стэк все переменные, потом сравниваем что вызывают определенные инструкции. После выполняем 2 вызова функции (ибо у нас рекурсивные вызовы) и после уже считаем результат операциями"
      ]
    },
    {
      "cell_type": "markdown",
      "metadata": {
        "id": "tWme1kWDWrA-"
      },
      "source": [
        "* LOAD_FAST загружает локальную переменную\n",
        "* LOAD_CONST загружает константу\n",
        "* LOAD_GLOBAL загружает глобальную переменную или функцию\n",
        "\n",
        "\n",
        "* BINARY_OP стандартно исполняет математические операции над двоичными значениями\n",
        "    * BINARY_SUBSTRACT или BINARY_MULTIPLY или BINARY_ADD и тд.\n",
        "* INPLACE_OP стандартно исполняет над **изменением** состояния объекта, к примеру структур данных\n",
        "    * INPLACE_ADD, INPLACE_SUBTRACT и тд\n",
        "\n",
        "* CALL вызывает функцию\n",
        "* RETURN_VALUE возвращает результат с функции\n"
      ]
    },
    {
      "cell_type": "code",
      "execution_count": null,
      "metadata": {
        "id": "nv5hOb2-WrA-"
      },
      "outputs": [],
      "source": [
        "def sum_a_b(a: int, b: int) -> int:\n",
        "    return a + b\n",
        "\n",
        "def hello_world(name : str) -> str:\n",
        "    return f'Hello, world and {name}!'"
      ]
    },
    {
      "cell_type": "code",
      "execution_count": null,
      "metadata": {
        "id": "4WHUvGzXWrA-",
        "outputId": "da67bc8c-32bf-4966-b65f-744a08821fe3"
      },
      "outputs": [
        {
          "name": "stdout",
          "output_type": "stream",
          "text": [
            "  1           0 RESUME                   0\n",
            "\n",
            "  2           2 LOAD_FAST                0 (a)\n",
            "              4 LOAD_FAST                1 (b)\n",
            "              6 BINARY_OP                0 (+)\n",
            "             10 RETURN_VALUE\n"
          ]
        }
      ],
      "source": [
        "dis.dis(sum_a_b)"
      ]
    },
    {
      "cell_type": "markdown",
      "metadata": {
        "id": "w65sFzyZWrA-"
      },
      "source": [
        "Загружаем локальные переменные (которые находятся внутри функции) и совершаем математические операции результат сразу возвращаем"
      ]
    },
    {
      "cell_type": "code",
      "execution_count": null,
      "metadata": {
        "id": "7XfpLOgKWrA-",
        "outputId": "6273e5d3-e83c-4847-acd9-eb272e2b38f5"
      },
      "outputs": [
        {
          "name": "stdout",
          "output_type": "stream",
          "text": [
            "  4           0 RESUME                   0\n",
            "\n",
            "  5           2 LOAD_CONST               1 ('Hello, world and ')\n",
            "              4 LOAD_FAST                0 (name)\n",
            "              6 FORMAT_VALUE             0\n",
            "              8 LOAD_CONST               2 ('!')\n",
            "             10 BUILD_STRING             3\n",
            "             12 RETURN_VALUE\n"
          ]
        }
      ],
      "source": [
        "dis.dis(hello_world)"
      ]
    },
    {
      "cell_type": "markdown",
      "metadata": {
        "id": "4g8GiHzvWrA-"
      },
      "source": [
        "F-строка состоит из константы-строки и переменной которая преобразуется в строку. Фунция преобразования `str()` обычно смотрит определенно ли у объекта `__str__` или `__repr__`, и исполняет реализацию этих dunder-методов. Если ничего не нашел, то оно кидает строку с адресом в памяти где оно находится с allias'ом место вызова"
      ]
    },
    {
      "cell_type": "markdown",
      "metadata": {
        "id": "EuKck_WKWrA-"
      },
      "source": [
        "А что если у нас просто большое ветвление?"
      ]
    },
    {
      "cell_type": "code",
      "execution_count": null,
      "metadata": {
        "id": "4g5mDMuLWrA_"
      },
      "outputs": [],
      "source": [
        "from enum import Enum\n",
        "\n",
        "class Item(Enum):\n",
        "    FIRST = 'first'\n",
        "    SECOND = 'second'\n",
        "    THIRD = 'third'\n",
        "    FOURTH = 'fourth'\n",
        "\n",
        "def choose_item(num: int) -> str:\n",
        "    match num:\n",
        "        case 1:\n",
        "            return Item.FIRST.value\n",
        "        case 2:\n",
        "            return Item.SECOND.value\n",
        "        case 3:\n",
        "            return Item.THIRD.value\n",
        "        case 4:\n",
        "            return Item.FOURTH.value\n",
        "\n",
        "    return ''\n"
      ]
    },
    {
      "cell_type": "code",
      "execution_count": null,
      "metadata": {
        "id": "GylWhgFFWrA_",
        "outputId": "d5cc70c6-5b26-4642-e96c-2b001583e3a2"
      },
      "outputs": [
        {
          "name": "stdout",
          "output_type": "stream",
          "text": [
            " 11           0 RESUME                   0\n",
            "\n",
            " 12           2 LOAD_FAST                0 (num)\n",
            "\n",
            " 13           4 COPY                     1\n",
            "              6 LOAD_CONST               1 (1)\n",
            "              8 COMPARE_OP              40 (==)\n",
            "             12 POP_JUMP_IF_FALSE       27 (to 68)\n",
            "             14 POP_TOP\n",
            "\n",
            " 14          16 LOAD_GLOBAL              0 (Item)\n",
            "             26 LOAD_ATTR                2 (FIRST)\n",
            "             46 LOAD_ATTR                4 (value)\n",
            "             66 RETURN_VALUE\n",
            "\n",
            " 15     >>   68 COPY                     1\n",
            "             70 LOAD_CONST               2 (2)\n",
            "             72 COMPARE_OP              40 (==)\n",
            "             76 POP_JUMP_IF_FALSE       27 (to 132)\n",
            "             78 POP_TOP\n",
            "\n",
            " 16          80 LOAD_GLOBAL              0 (Item)\n",
            "             90 LOAD_ATTR                6 (SECOND)\n",
            "            110 LOAD_ATTR                4 (value)\n",
            "            130 RETURN_VALUE\n",
            "\n",
            " 17     >>  132 COPY                     1\n",
            "            134 LOAD_CONST               3 (3)\n",
            "            136 COMPARE_OP              40 (==)\n",
            "            140 POP_JUMP_IF_FALSE       27 (to 196)\n",
            "            142 POP_TOP\n",
            "\n",
            " 18         144 LOAD_GLOBAL              0 (Item)\n",
            "            154 LOAD_ATTR                8 (THIRD)\n",
            "            174 LOAD_ATTR                4 (value)\n",
            "            194 RETURN_VALUE\n",
            "\n",
            " 19     >>  196 LOAD_CONST               4 (4)\n",
            "            198 COMPARE_OP              40 (==)\n",
            "            202 POP_JUMP_IF_FALSE       26 (to 256)\n",
            "\n",
            " 20         204 LOAD_GLOBAL              0 (Item)\n",
            "            214 LOAD_ATTR               10 (FOURTH)\n",
            "            234 LOAD_ATTR                4 (value)\n",
            "            254 RETURN_VALUE\n",
            "\n",
            " 22     >>  256 RETURN_CONST             5 ('')\n"
          ]
        }
      ],
      "source": [
        "dis.dis(choose_item)"
      ]
    },
    {
      "cell_type": "markdown",
      "metadata": {
        "id": "SmGCv1vkWrA_"
      },
      "source": [
        "Внутри каждого блока происходит загрузка глобальной переменной Item, доступ к атрибутам (полям класса) через цепочку LOAD_ATTR, и возвращение значения через RETURN_VALUE"
      ]
    },
    {
      "cell_type": "markdown",
      "metadata": {
        "id": "ExxJvj8RWrA_"
      },
      "source": [
        "POP_TOP удаляет неиспользуемые значения и вызывается в нескольких случаях\n",
        "* когда просто вызывается функция или метод и результат потом не используется (результат без присваивания ни к чему!)\n",
        "* результат не присваивается ни к одной переменной\n",
        "\n",
        "Давайте посмотрим:"
      ]
    },
    {
      "cell_type": "code",
      "execution_count": null,
      "metadata": {
        "id": "fqGp9KOrWrA_",
        "outputId": "552b30ac-30b0-43f3-ae0d-d2d9a862876d"
      },
      "outputs": [
        {
          "name": "stdout",
          "output_type": "stream",
          "text": [
            "  1           0 RESUME                   0\n",
            "\n",
            "  2           2 LOAD_FAST                0 (a)\n",
            "              4 LOAD_CONST               1 (4)\n",
            "              6 BINARY_OP                8 (**)\n",
            "             10 POP_TOP\n",
            "\n",
            "  3          12 LOAD_FAST                0 (a)\n",
            "             14 LOAD_CONST               1 (4)\n",
            "             16 BINARY_OP                8 (**)\n",
            "             20 POP_TOP\n",
            "\n",
            "  5          22 LOAD_FAST                0 (a)\n",
            "             24 LOAD_CONST               2 (3)\n",
            "             26 BINARY_OP                8 (**)\n",
            "             30 RETURN_VALUE\n"
          ]
        }
      ],
      "source": [
        "def a_in_cube(a: int) -> int:\n",
        "    a ** 4 # тут должно удалиться из стека т.к нигде не используется!\n",
        "    a ** 4 # тут должно удалиться из стека т.к нигде не используется!\n",
        "\n",
        "    return a ** 3\n",
        "\n",
        "dis.dis(a_in_cube)"
      ]
    },
    {
      "cell_type": "markdown",
      "metadata": {
        "id": "pzSm9RF4WrA_"
      },
      "source": [
        "LOAD_ATTR достает \"поля\" = \"атрибуты\" класса\n",
        "В нашем случае атрибутами были как раз `enum` объекты которые были внутри класса-энама `Item`"
      ]
    },
    {
      "cell_type": "code",
      "execution_count": null,
      "metadata": {
        "id": "Q_A_qLPxWrA_",
        "outputId": "029595f4-4c19-40cc-de0c-856016e2e27b"
      },
      "outputs": [
        {
          "name": "stdout",
          "output_type": "stream",
          "text": [
            "Disassembly of __init__:\n",
            "  4           0 RESUME                   0\n",
            "\n",
            "  5           2 LOAD_FAST                1 (l)\n",
            "              4 POP_JUMP_IF_NONE         8 (to 22)\n",
            "              6 LOAD_FAST                1 (l)\n",
            "              8 LOAD_FAST                0 (self)\n",
            "             10 STORE_ATTR               0 (_l)\n",
            "             20 RETURN_CONST             0 (None)\n",
            "        >>   22 BUILD_LIST               0\n",
            "             24 LOAD_FAST                0 (self)\n",
            "             26 STORE_ATTR               0 (_l)\n",
            "             36 RETURN_CONST             0 (None)\n",
            "\n",
            "Disassembly of get_item:\n",
            "  7           0 RESUME                   0\n",
            "\n",
            "  8           2 NOP\n",
            "\n",
            "  9           4 LOAD_FAST                0 (self)\n",
            "              6 LOAD_ATTR                0 (_l)\n",
            "             26 LOAD_FAST                1 (index)\n",
            "             28 BINARY_SUBSCR\n",
            "             32 RETURN_VALUE\n",
            "        >>   34 PUSH_EXC_INFO\n",
            "\n",
            " 10          36 LOAD_GLOBAL              2 (Exception)\n",
            "             46 CHECK_EXC_MATCH\n",
            "             48 POP_JUMP_IF_FALSE        7 (to 64)\n",
            "             50 STORE_FAST               2 (e)\n",
            "\n",
            " 11          52 LOAD_FAST                2 (e)\n",
            "             54 RAISE_VARARGS            1\n",
            "        >>   56 LOAD_CONST               0 (None)\n",
            "             58 STORE_FAST               2 (e)\n",
            "             60 DELETE_FAST              2 (e)\n",
            "             62 RERAISE                  1\n",
            "\n",
            " 10     >>   64 RERAISE                  0\n",
            "        >>   66 COPY                     3\n",
            "             68 POP_EXCEPT\n",
            "             70 RERAISE                  1\n",
            "ExceptionTable:\n",
            "  4 to 30 -> 34 [0]\n",
            "  34 to 50 -> 66 [1] lasti\n",
            "  52 to 54 -> 56 [1] lasti\n",
            "  56 to 64 -> 66 [1] lasti\n",
            "\n"
          ]
        }
      ],
      "source": [
        "from typing import List, Optional\n",
        "\n",
        "class ListApi:\n",
        "    def __init__(self, l: Optional[List[int]]):\n",
        "        self._l = l if l is not None else []\n",
        "\n",
        "    def get_item(self, index: int) -> int | Exception:\n",
        "        try:\n",
        "            return self._l[index]\n",
        "        except Exception as e:\n",
        "            raise e\n",
        "\n",
        "\n",
        "dis.dis(ListApi)"
      ]
    },
    {
      "cell_type": "markdown",
      "metadata": {
        "id": "Ym5X4NZuWrA_"
      },
      "source": [
        "C версии 3.11 языка, инструкция `RESUME 0` объявляется при инициализации\n",
        "* Инструкции вида *%BUILD_*%* обозначают построение структур данных\n",
        "* Инструкция *PUSH_EXC_INFO* перехватывает обработку исключений\n",
        "* Инструкция *RERAISE* повторно выбрасывает перехваченное исключение, которое еще не обработано"
      ]
    },
    {
      "cell_type": "markdown",
      "metadata": {
        "id": "Wk9N1GYVWrA_"
      },
      "source": [
        "### Как на счет GC (Garbage Collector)?"
      ]
    },
    {
      "cell_type": "markdown",
      "source": [
        "Как вообще работает GC в Python? Как известно, мы про него обычно никак не думаем, но тем не менее, про это надо знать.\n",
        "\n",
        "Итак, логика максимально простая:\n",
        "\n",
        "1. У любого объекта есть такая вещь, как счетчик ссылок. Если у объекта ссылок 0, то его пора удалять"
      ],
      "metadata": {
        "id": "_NQEW3DKwb4A"
      }
    },
    {
      "cell_type": "code",
      "source": [
        "import sys\n",
        "\n",
        "a = [1,2,3,4,5,6,7,8,9,10]\n",
        "print(sys.getrefcount(a)) # вопрос: а с фига ли тут 2, а не 1?\n",
        "b = a\n",
        "print(sys.getrefcount(a)) # оп, получили +1 ссылку"
      ],
      "metadata": {
        "colab": {
          "base_uri": "https://localhost:8080/"
        },
        "id": "s8bxi8ehwwkU",
        "outputId": "5f912023-f14c-4630-bc9b-e01b005969b0"
      },
      "execution_count": 10,
      "outputs": [
        {
          "output_type": "stream",
          "name": "stdout",
          "text": [
            "2\n",
            "3\n"
          ]
        }
      ]
    },
    {
      "cell_type": "markdown",
      "source": [
        "2. Данная вещь не работает, если у нас ссылки циклические. Например:"
      ],
      "metadata": {
        "id": "a1Mt5gz7xgLF"
      }
    },
    {
      "cell_type": "code",
      "source": [
        "class A:\n",
        "    def __init__(self):\n",
        "        self.b = None\n",
        "\n",
        "class B:\n",
        "    def __init__(self):\n",
        "        self.a = None\n",
        "\n",
        "a = A()\n",
        "b = B()\n",
        "a.b = b\n",
        "b.a = a"
      ],
      "metadata": {
        "id": "5CTL5c4AxlDz"
      },
      "execution_count": null,
      "outputs": []
    },
    {
      "cell_type": "markdown",
      "source": [
        "Получается цикл (А ссылкатся на B, B ссылается на A), в котором ничего и никогда не будет удалено. Что же делать? Вот в таком случае используется уборка по генерациям (про нее позже)\n"
      ],
      "metadata": {
        "id": "VmLmrAESxtVB"
      }
    },
    {
      "cell_type": "markdown",
      "metadata": {
        "id": "ElKXEygfWrA_"
      },
      "source": [
        "Мы можем позвать его руками. \\\n",
        "Давайте напишем такое:"
      ]
    },
    {
      "cell_type": "code",
      "execution_count": null,
      "metadata": {
        "id": "P9p7YE0iWrA_"
      },
      "outputs": [],
      "source": [
        "import gc\n",
        "\n",
        "class First:\n",
        "    def __init__(self, a: int):\n",
        "        self._a = a\n",
        "\n",
        "    def add_number(self, b: int):\n",
        "        self._a += b\n",
        "\n",
        "    def __str__(self):\n",
        "        return f'First({self._a})'\n",
        "\n",
        "class Second:\n",
        "    def __init__(self, b: int):\n",
        "        self._b = b\n",
        "\n",
        "    def add_number(self, b: int):\n",
        "        # Создаем два объекта First\n",
        "        first_item = First(1)\n",
        "        second_item = First(2)\n",
        "\n",
        "        self._b += first_item._a\n",
        "\n",
        "        print(\"Before:\")\n",
        "        print(f\"Collections count before GC: {gc.get_count()}\")\n",
        "        gc.collect()\n",
        "        print(\"After:\")\n",
        "        print(f\"Collections count after GC: {gc.get_count()}\")\n",
        "\n",
        "    def __str__(self):\n",
        "        return f'Second({self._b})'\n"
      ]
    },
    {
      "cell_type": "code",
      "execution_count": null,
      "metadata": {
        "id": "bVaF1ZD6WrA_",
        "outputId": "b2676ff9-5a74-4aa1-bea5-d1e233b8bafa"
      },
      "outputs": [
        {
          "name": "stdout",
          "output_type": "stream",
          "text": [
            "Before:\n",
            "Collections count before GC: (294, 1, 0)\n",
            "After:\n",
            "Collections count after GC: (3, 0, 0)\n"
          ]
        }
      ],
      "source": [
        "second = Second(5)\n",
        "second.add_number(10)\n",
        "# нужно раскоментировать это и закомментировать вызов GC в классе Second\n",
        "# gc.get_count()"
      ]
    },
    {
      "cell_type": "markdown",
      "metadata": {
        "id": "mftRblr3WrBA"
      },
      "source": [
        "`gc.collect()` явно чистит неиспользуемые отслеживаемые объекты \\\n",
        "`gc.count()` подсчитывает количество отслеживаемых объектов \\\n",
        "\n",
        "Сборщик мусора делает это все автоматически, но явный вызов gc.collect() похож на то что вы \"докопались\" до еще некритичной отметки отслеживаемых объектов на которой имеется хоть одна ссылка."
      ]
    },
    {
      "cell_type": "markdown",
      "metadata": {
        "id": "9VPzGgFGWrBA"
      },
      "source": [
        "### Reference Counter"
      ]
    },
    {
      "cell_type": "markdown",
      "metadata": {
        "id": "jtTE2MYYWrBA"
      },
      "source": [
        "Основной механизм управления памятью в Python"
      ]
    },
    {
      "cell_type": "markdown",
      "metadata": {
        "id": "3OWV3rbKWrBA"
      },
      "source": [
        "* Каждый объект в Python имеет связанный с ним счётчик ссылок\n",
        "* Когда кто-то создаёт ссылку на объект, счётчик увеличивается.\n",
        "* Когда ссылка на объект уничтожается, счётчик уменьшается.\n",
        "* Когда счётчик ссылок объекта = 0, объект автоматически удаляется, и его память освобождается"
      ]
    },
    {
      "cell_type": "markdown",
      "metadata": {
        "id": "HAgL4KhqWrBA"
      },
      "source": [
        "### Mark-and-sweep"
      ]
    },
    {
      "cell_type": "markdown",
      "metadata": {
        "id": "RKQSBUDXWrBB"
      },
      "source": [
        "* В первый проход происходит маркировка всех достижимых (живых) объектов\n",
        "\n",
        "Объекты начинают жить свою жизнь в программе\n",
        "\n",
        "* Во втором проходе он ищет всех \"немаркированных\" (не живых) объектов и убивает их"
      ]
    },
    {
      "cell_type": "markdown",
      "metadata": {
        "id": "fT4f0ZAnWrBB"
      },
      "source": [
        "### Generational Garbage Collection"
      ]
    },
    {
      "cell_type": "markdown",
      "metadata": {
        "id": "9yg74zWcWrBB"
      },
      "source": [
        "Интерпретатор выделяет на 3 группы объектов существующих объектов в программе.\n",
        "\n",
        "* Поколение 0\n",
        "\n",
        "Недавносозданные объекты. Их держат на контроле до тех пор, пока не произойдет первый цикл сборки мусора. Обычно их маркируют отдельно т.к. частенько новосозданные объекты не используются\n",
        "\n",
        "* Поколение 1\n",
        "\n",
        "Новосозданный объект который пережил хотя-бы одну сборку мусора\n",
        "\n",
        "* Поколение 2\n",
        "\n",
        "Неуловимый Джо. Используется во всем цикле работы программы и очень редко удаляется"
      ]
    },
    {
      "cell_type": "markdown",
      "metadata": {
        "id": "4tMWoWmvWrBB"
      },
      "source": [
        "Давайте посмотрим на это:"
      ]
    },
    {
      "cell_type": "code",
      "execution_count": null,
      "metadata": {
        "id": "QYKQ-5IvWrBB",
        "outputId": "d2708ac8-8844-4e4d-d2c5-21c8f861b67d"
      },
      "outputs": [
        {
          "name": "stdout",
          "output_type": "stream",
          "text": [
            "Overwriting gc_stats_script.py\n"
          ]
        }
      ],
      "source": [
        "%%writefile gc_stats_script.py\n",
        "import gc\n",
        "import time\n",
        "\n",
        "class DBConnection:\n",
        "    def __init__(self, name):\n",
        "        self.name = name\n",
        "        print(f\"Сonnected: {self.name}\")\n",
        "\n",
        "    def close(self):\n",
        "        print(f\"Disconnected: {self.name}\")\n",
        "\n",
        "def manage_connections():\n",
        "    # Создаем 6 соединений для \"количества\"\n",
        "    connections = [DBConnection(f\"conn{i}\") for i in range(6)]\n",
        "\n",
        "    # Ожидаем, чтобы они не были удалены слишком быстро\n",
        "    time.sleep(4)\n",
        "\n",
        "    for conn in connections:\n",
        "        conn.close()\n",
        "\n",
        "    # Удаляем все эти соединения\n",
        "    for conn in connections:\n",
        "        del conn\n",
        "\n",
        "    # Пауза, чтобы некоторые объекты смогли попасть в старшие поколения.\n",
        "    time.sleep(3)\n",
        "\n",
        "    print(\"After cycle:\")\n",
        "    print(f\"Count of generation 0: {gc.get_count()[0]}\")\n",
        "    print(f\"Count of generation 1: {gc.get_count()[1]}\")\n",
        "    print(f\"Count of generation 2: {gc.get_count()[2]}\")\n",
        "\n",
        "# \"Активируем\" GC\n",
        "gc.enable()\n",
        "\n",
        "# Инициализируем новые соединения\n",
        "manage_connections()\n",
        "\n",
        "# Принудительно сбрасываем мусор!\n",
        "gc.collect()\n"
      ]
    },
    {
      "cell_type": "code",
      "execution_count": null,
      "metadata": {
        "id": "n_bkSePnWrBB",
        "outputId": "02976c1a-23c3-4bf3-cbe9-522a7681e047"
      },
      "outputs": [
        {
          "name": "stdout",
          "output_type": "stream",
          "text": [
            "Сonnected: conn0\n",
            "Сonnected: conn1\n",
            "Сonnected: conn2\n",
            "Сonnected: conn3\n",
            "Сonnected: conn4\n",
            "Сonnected: conn5\n",
            "Disconnected: conn0\n",
            "Disconnected: conn1\n",
            "Disconnected: conn2\n",
            "Disconnected: conn3\n",
            "Disconnected: conn4\n",
            "Disconnected: conn5\n",
            "After cycle:\n",
            "Count of generation 0: 684\n",
            "Count of generation 1: 4\n",
            "Count of generation 2: 0\n"
          ]
        }
      ],
      "source": [
        "!python3 gc_stats_script.py"
      ]
    },
    {
      "cell_type": "markdown",
      "metadata": {
        "id": "8jiuhw6kWrBB"
      },
      "source": [
        "### Name resolution"
      ]
    },
    {
      "cell_type": "markdown",
      "metadata": {
        "id": "pr-sAOqFWrBB"
      },
      "source": [
        "#### LEGB"
      ]
    },
    {
      "cell_type": "markdown",
      "metadata": {
        "id": "7OE6bDWVWrBB"
      },
      "source": [
        "* **L**ocal -- имена, определенные в текущем теле (фукнции)\n",
        "* **E**nclosing -- имена, определенные в функциях, которые находятся в области видимости текущей функции\n",
        "* **G**lobal -- имена, определенные в глобальной области видимости\n",
        "* **B**uiltin -- имена, определенные в встроенной области видимости `(print, len, ...)`\n",
        "\n"
      ]
    },
    {
      "cell_type": "code",
      "execution_count": null,
      "metadata": {
        "id": "UXG6J8kkWrBB",
        "outputId": "56829a2a-9099-471e-be24-af5c747698ed"
      },
      "outputs": [
        {
          "name": "stdout",
          "output_type": "stream",
          "text": [
            "Local\n"
          ]
        }
      ],
      "source": [
        "x = \"Global\"\n",
        "\n",
        "def enclosing_function():\n",
        "    x = \"Global local\"\n",
        "    def local_function():\n",
        "        x = \"Local\"\n",
        "        print(x)\n",
        "\n",
        "    local_function()\n",
        "\n",
        " # Где Python будет искать переменную x?\n",
        "\n",
        "enclosing_function()"
      ]
    },
    {
      "cell_type": "markdown",
      "metadata": {
        "id": "jDxz-Ms8WrBB"
      },
      "source": [
        "### Type-hints"
      ]
    },
    {
      "cell_type": "markdown",
      "metadata": {
        "id": "V48Lz-m1WrBB"
      },
      "source": [
        "Типизация в языке пока что остается неявной. Напрямую интепретатор никак не взаимодействует с ней, так что это пока остается на уровне \"глаз\". Но в основном как это работает:"
      ]
    },
    {
      "cell_type": "code",
      "execution_count": null,
      "metadata": {
        "id": "k5skna4VWrBC"
      },
      "outputs": [],
      "source": [
        "def sample_func(a: int, b: str) -> None:\n",
        "    a += 1\n",
        "    b = b[:2]"
      ]
    },
    {
      "cell_type": "code",
      "execution_count": null,
      "metadata": {
        "id": "CTJgiXm5WrBC",
        "outputId": "81d6174c-d567-47b4-fc25-74ce8e18d544"
      },
      "outputs": [
        {
          "name": "stdout",
          "output_type": "stream",
          "text": [
            "{'a': <class 'int'>, 'b': <class 'str'>, 'return': None}\n"
          ]
        }
      ],
      "source": [
        "print(sample_func.__annotations__)"
      ]
    },
    {
      "cell_type": "markdown",
      "metadata": {
        "id": "IqRvVch2WrBC"
      },
      "source": [
        "После интепретации кода, все типы остается в метаданных, которые получить можно через dunder-метод `__annotations__`"
      ]
    },
    {
      "cell_type": "markdown",
      "source": [
        "## Животное дня"
      ],
      "metadata": {
        "id": "EhXsFwHey2be"
      }
    },
    {
      "cell_type": "markdown",
      "source": [
        "![](https://habrastorage.org/getpro/habr/upload_files/175/98b/1f6/17598b1f6212efb2eef05f5487413bbb.jpeg)"
      ],
      "metadata": {
        "id": "GAmsKOMPzBT7"
      }
    },
    {
      "cell_type": "markdown",
      "source": [
        "И это свинья! К сожалению, про них обычно говорят в негативной коннотации, но это грустно, конечно, давайте немного про них:\n",
        "\n",
        "1. Едят все подряд - ну по факту это фича, а не бага. Больше источников еды - больше возможность выжить (люди тоже являются всеядными, если что)\n",
        "\n",
        "2. Катаются в грязи - а это абсолютно нормальное поведение для любых животных с очень мелких прошерстком, грязь позволяет меньше страдать от жары (что, например, делают те же самые слоны), защищаться от солнечных лучей. В целом тоже фича\n",
        "\n",
        "И в целом негативное отношение к свинье идет больше из религиозных побуждений, чем каких-то рациональных (в языческом мире свиней часто ассоциировали с плодородием). А вообще свиньи - это не только мясо, но и спасение для человечества: за счет того, что достаточное число органов очень похожи на человеческие (например, кожа, сердце, глаза), что позволяет на них обучаться будущим медикам и проводить на них испытания.\n",
        "\n",
        "А также по уровню интеллекта, свиньи могут быть не глупее собак (вероятно, что свиньи умеют проходить MSR (mirror self-recognition) тест)"
      ],
      "metadata": {
        "id": "WbhZcWAtzDOx"
      }
    }
  ],
  "metadata": {
    "kernelspec": {
      "display_name": ".venv",
      "language": "python",
      "name": "python3"
    },
    "language_info": {
      "codemirror_mode": {
        "name": "ipython",
        "version": 3
      },
      "file_extension": ".py",
      "mimetype": "text/x-python",
      "name": "python",
      "nbconvert_exporter": "python",
      "pygments_lexer": "ipython3",
      "version": "3.12.4"
    },
    "colab": {
      "provenance": []
    }
  },
  "nbformat": 4,
  "nbformat_minor": 0
}