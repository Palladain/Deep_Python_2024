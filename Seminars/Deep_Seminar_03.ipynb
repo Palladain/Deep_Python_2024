{
  "cells": [
    {
      "cell_type": "markdown",
      "source": [
        "# Продвинутый Python, Семинар 3\n",
        "\n",
        "**Лектор:** Петров Тимур\n",
        "\n",
        "**Семинаристы:** Бузаев Федор, Дешеулин Олег, Коган Александра, Васина Олеся, Садуллаев Музаффар\n",
        "\n",
        "**Spoiler Alert:** в рамках курса нельзя изучить ни одну из тем от и до досконально (к сожалению, на это требуется больше времени, чем даже 3 часа в неделю). Но мы попробуем рассказать столько, сколько возможно :)"
      ],
      "metadata": {
        "id": "54L_yQZHbN_b"
      }
    },
    {
      "cell_type": "markdown",
      "metadata": {
        "id": "My-6Yc1aa_aH"
      },
      "source": [
        "### Тестирование и логгирование"
      ]
    },
    {
      "cell_type": "markdown",
      "metadata": {
        "id": "9TnMa0O2a_aI"
      },
      "source": [
        "Для начала поговорим про тестирование. Для чего нужно тестирование?"
      ]
    },
    {
      "cell_type": "markdown",
      "metadata": {
        "id": "onOIq1FNa_aI"
      },
      "source": [
        "Пирамида тестирования - один из способов обеспечения качества ПО, визуализация, которая помогает группировать тесты по типу их назначения. Так же, позволяет согласовать правила написания тестов, разделения их на типы, обозначить основной фокус тестирования в каждой из групп."
      ]
    },
    {
      "cell_type": "markdown",
      "metadata": {
        "id": "ZSM2SgrGa_aI"
      },
      "source": [
        "![image.png](https://habrastorage.org/getpro/habr/post_images/900/55f/47a/90055f47ac1721f8639c950fb3595af6.png)"
      ]
    },
    {
      "cell_type": "markdown",
      "metadata": {
        "id": "HccU64U6a_aI"
      },
      "source": [
        "### Категории тестов\n",
        "\n",
        "* Юнит-тесты\n",
        "* Системные тесты (они же интеграционные)\n",
        "* e2e (end-to-end) тестирование"
      ]
    },
    {
      "cell_type": "markdown",
      "metadata": {
        "id": "Xu9UPBSba_aI"
      },
      "source": [
        "## Unit Testing"
      ]
    },
    {
      "cell_type": "markdown",
      "metadata": {
        "id": "5zdsM8n0a_aI"
      },
      "source": [
        "* находятся на самой нижней частей пирамиды и являются основой всех тестов\n",
        "* тесты проверяют отдельные компоненты (классы, функции и тд) наименьшие единицы программного обеспечения\n",
        "* главная задача: выявить мелкие баги и ускорить процесс разработки и погружения новых участников проекта в уже написанный код"
      ]
    },
    {
      "cell_type": "markdown",
      "metadata": {
        "id": "CxlhXkPra_aI"
      },
      "source": [
        "**Пример:** Тестирование логики функции фильтрации входящего запроса"
      ]
    },
    {
      "cell_type": "markdown",
      "metadata": {
        "id": "HAlxxg6Oa_aI"
      },
      "source": [
        "## Integration Testing"
      ]
    },
    {
      "cell_type": "markdown",
      "metadata": {
        "id": "g2T02Soka_aJ"
      },
      "source": [
        "* средний уровень в пирамиде\n",
        "* тесты помогают проверять как различные системы взаимодействуют между собой\n",
        "* при написании их тестируются случаи зависящие косвенно от разработчика (к примеру внешняя система не отвечает и мы не должны этот случай обрабатывать!)"
      ]
    },
    {
      "cell_type": "markdown",
      "metadata": {
        "id": "yRCbgcdba_aJ"
      },
      "source": [
        "### Что может представлять из себя внешняя система?\n",
        "\n",
        "Все системы которые не могут поддерживаться разработчиками.\n",
        "\n",
        "* внешнее API\n",
        "* база данных\n"
      ]
    },
    {
      "cell_type": "markdown",
      "metadata": {
        "id": "mdjx1ORFa_aJ"
      },
      "source": [
        "**Пример:** Тестирование методов или функций которые взаимодействуют с базой данных"
      ]
    },
    {
      "cell_type": "markdown",
      "metadata": {
        "id": "_JxfiDU0a_aJ"
      },
      "source": [
        "Юнит-тесты работают по принципу «тестирование компонента в изоляции», в то время как\n",
        "интеграционные тесты проверяют работу различных компонентов вкупе, зачастую интеграционные тесты\n",
        "отвечают функциональным требованиям непосредственно."
      ]
    },
    {
      "cell_type": "markdown",
      "metadata": {
        "id": "O2FwwDn1a_aJ"
      },
      "source": [
        "## E2E Testing\n",
        "\n",
        "* находятся на вершине пирамиды и являются самыми дорогими по времени выполнения\n",
        "* тесты эмулируют взаимодействие пользователя с системой через UI или интефейс API (swagger) проверяя все компоненты работыют как ожидается\n",
        "* проводятся реже т.к. дорогие и требует много времени физических и нефизических ресурсов"
      ]
    },
    {
      "cell_type": "markdown",
      "metadata": {
        "id": "IewzFbWea_aJ"
      },
      "source": [
        "**Пример:** тестирование пользовательского сценария в интернет магазине от авторизации до оплаты за покупку товара попутно повторяя поведение обычного пользователя."
      ]
    },
    {
      "cell_type": "markdown",
      "metadata": {
        "id": "l7A6-zEsa_aJ"
      },
      "source": [
        "### Задание на сегодня: покрыть CRUD тестами"
      ]
    },
    {
      "cell_type": "markdown",
      "metadata": {
        "id": "YrUYXJapa_aJ"
      },
      "source": [
        "Перед вами очень простое CRUD* приложение"
      ]
    },
    {
      "cell_type": "markdown",
      "metadata": {
        "id": "EV84ftoSa_aJ"
      },
      "source": [
        "CRUD (сокр. от англ. create, read, update, delete — «создать, прочесть, обновить, удалить») — акроним, обозначающий четыре базовые функции, используемые при работе с персистентными хранилищами данных:\n",
        "\n",
        "* создание\n",
        "* чтение\n",
        "* редактирование\n",
        "* удаление"
      ]
    },
    {
      "cell_type": "markdown",
      "metadata": {
        "id": "2h_bARS6a_aJ"
      },
      "source": [
        "В коде ниже мы храним всех пользователей в словаре. Ключи мы генерируем сами. От пользователя ждем только обязательное поле `special_id` которое будет у нас будет обязательным при создании клиента. Конечно можно было придумать и внешнюю проверку отдельной функцией чтобы это как то проверять, но давайте это опустим."
      ]
    },
    {
      "cell_type": "code",
      "execution_count": null,
      "metadata": {
        "id": "V7odotxMa_aJ",
        "outputId": "f0105f64-b68a-49d4-f296-60cdff76bbff"
      },
      "outputs": [
        {
          "name": "stdout",
          "output_type": "stream",
          "text": [
            "Overwriting simpledb.py\n"
          ]
        }
      ],
      "source": [
        "%%writefile simpledb.py\n",
        "\n",
        "import typing as tp\n",
        "\n",
        "class SimpleDB:\n",
        "    def __init__(self):\n",
        "        self.db = {}\n",
        "\n",
        "    def create(self, record_id, special_id, name, surname, phone_number) -> str:\n",
        "        if record_id in self.db:\n",
        "            raise ValueError(f\"Record with ID {record_id} already exists.\")\n",
        "        self.db[record_id] = {\n",
        "            \"special_id\": special_id,\n",
        "            \"name\": name,\n",
        "            \"surname\": surname,\n",
        "            \"phone_number\": phone_number\n",
        "        }\n",
        "        return f\"Record added with ID {record_id}: {self.db[record_id]}\"\n",
        "\n",
        "    def read_all(self) -> dict[str, tp.Any]:\n",
        "        if not self.db:\n",
        "            return \"Database is empty.\"\n",
        "        return self.db\n",
        "\n",
        "    def read(self, record_id: int) -> str | tp.Any:\n",
        "        return self.db.get(record_id)\n",
        "\n",
        "    def update(self, record_id: int, special_id: int, name=None, surname=None, phone_number=None) -> str:\n",
        "        if record_id not in self.db:\n",
        "            return f\"Record with ID {record_id} not found.\"\n",
        "\n",
        "        self.db[record_id]['special_id'] = special_id\n",
        "\n",
        "        if name:\n",
        "            self.db[record_id]['name'] = name\n",
        "        if surname:\n",
        "            self.db[record_id]['surname'] = surname\n",
        "        if phone_number:\n",
        "            self.db[record_id]['phone_number'] = phone_number\n",
        "        return f\"Record with ID {record_id} updated: {self.db[record_id]}\"\n",
        "\n",
        "    def delete(self, record_id: int) -> str:\n",
        "        if record_id not in self.db:\n",
        "            return f\"Record with ID {record_id} not found.\"\n",
        "        deleted_record = self.db.pop(record_id)\n",
        "        return f\"Record deleted with ID {record_id}: {deleted_record}\"\n"
      ]
    },
    {
      "cell_type": "code",
      "execution_count": null,
      "metadata": {
        "id": "ctqD1iQVa_aK",
        "outputId": "06791ff3-fe0c-41fc-c2fa-91d793861b3a"
      },
      "outputs": [
        {
          "name": "stdout",
          "output_type": "stream",
          "text": [
            "Overwriting user_service.py\n"
          ]
        }
      ],
      "source": [
        "%%writefile user_service.py\n",
        "\n",
        "import typing as tp\n",
        "\n",
        "from simpledb import SimpleDB\n",
        "\n",
        "class UserService:\n",
        "    def __init__(self, name: str):\n",
        "        self._name = name\n",
        "        self.__db = None\n",
        "\n",
        "    @property\n",
        "    def _db(self) -> SimpleDB:\n",
        "        if self.__db is None:\n",
        "            self.__db = SimpleDB()\n",
        "        return self.__db\n",
        "\n",
        "    def _data_validation(self, **kwargs) -> None:\n",
        "        if 'special_id' not in kwargs or not isinstance(kwargs['special_id'], int):\n",
        "            raise ValueError(\"The field 'special_id' is required and must be an integer.\")\n",
        "        for field in ['name', 'surname', 'phone_number']:\n",
        "            if field not in kwargs or not kwargs[field]:\n",
        "                raise ValueError(f\"The field '{field}' is required.\")\n",
        "\n",
        "    def create_new_user(self, **kwargs) -> str | tp.Any:\n",
        "        import random\n",
        "        self._data_validation(**kwargs)\n",
        "\n",
        "        new_id = random.randint(0, int(1e9))\n",
        "        while new_id in self._db.db:\n",
        "            new_id = random.randint(0, int(1e9))\n",
        "\n",
        "        self._db.create(new_id, kwargs['special_id'], kwargs['name'], kwargs['surname'], kwargs['phone_number'])\n",
        "        return f\"Successfully created new user with ID {new_id}\"\n",
        "\n",
        "    def get_all_users(self) -> str:\n",
        "        users = self._db.read_all()\n",
        "        if isinstance(users, str):\n",
        "            return users\n",
        "        return f\"All users: {users}\"\n",
        "\n",
        "    def get_user_by_id(self, user_id):\n",
        "        user = self._db.read(user_id)\n",
        "        if user is None:\n",
        "            raise ValueError(f\"User with ID {user_id} not found.\")\n",
        "        return user\n",
        "\n",
        "    def update_user(self, user_id, **kwargs):\n",
        "        user_data = self.get_user_by_id(user_id)\n",
        "        if user_data is None:\n",
        "            raise ValueError(f\"User with ID {user_id} not found.\")\n",
        "\n",
        "        for key, value in kwargs.items():\n",
        "            if value is not None:\n",
        "                user_data[key] = value\n",
        "\n",
        "        updated_user = self._db.update(\n",
        "            user_id,\n",
        "            user_data['special_id'],\n",
        "            user_data.get('name'),\n",
        "            user_data.get('surname'),\n",
        "            user_data.get('phone_number')\n",
        "        )\n",
        "        return updated_user\n",
        "\n",
        "    def delete_user(self, user_id) -> str:\n",
        "        deleted_user = self._db.delete(user_id)\n",
        "        return deleted_user"
      ]
    },
    {
      "cell_type": "code",
      "execution_count": null,
      "metadata": {
        "id": "6KAaYnGXa_aK",
        "outputId": "73ca7db7-3438-498c-b676-33d74dbde541"
      },
      "outputs": [
        {
          "ename": "TypeError",
          "evalue": "unsupported operand type(s) for |: 'type' and '_SpecialForm'",
          "output_type": "error",
          "traceback": [
            "\u001b[0;31m---------------------------------------------------------------------------\u001b[0m",
            "\u001b[0;31mTypeError\u001b[0m                                 Traceback (most recent call last)",
            "Cell \u001b[0;32mIn[3], line 1\u001b[0m\n\u001b[0;32m----> 1\u001b[0m \u001b[38;5;28;01mfrom\u001b[39;00m \u001b[38;5;21;01msimpledb\u001b[39;00m \u001b[38;5;28;01mimport\u001b[39;00m SimpleDB\n\u001b[1;32m      2\u001b[0m \u001b[38;5;28;01mfrom\u001b[39;00m \u001b[38;5;21;01muser_service\u001b[39;00m \u001b[38;5;28;01mimport\u001b[39;00m UserService\n",
            "File \u001b[0;32m~/Documents/hse/deep_python_2024/lections/testing_logging_seminar/simpledb.py:4\u001b[0m\n\u001b[1;32m      2\u001b[0m \u001b[38;5;28;01mimport\u001b[39;00m \u001b[38;5;21;01mtyping\u001b[39;00m \u001b[38;5;28;01mas\u001b[39;00m \u001b[38;5;21;01mtp\u001b[39;00m\n\u001b[0;32m----> 4\u001b[0m \u001b[38;5;28;01mclass\u001b[39;00m \u001b[38;5;21;01mSimpleDB\u001b[39;00m:\n\u001b[1;32m      5\u001b[0m     \u001b[38;5;28;01mdef\u001b[39;00m \u001b[38;5;21m__init__\u001b[39m(\u001b[38;5;28mself\u001b[39m):\n\u001b[1;32m      6\u001b[0m         \u001b[38;5;28mself\u001b[39m\u001b[38;5;241m.\u001b[39mdb \u001b[38;5;241m=\u001b[39m {}\n",
            "File \u001b[0;32m~/Documents/hse/deep_python_2024/lections/testing_logging_seminar/simpledb.py:24\u001b[0m, in \u001b[0;36mSimpleDB\u001b[0;34m()\u001b[0m\n\u001b[1;32m     21\u001b[0m         \u001b[38;5;28;01mreturn\u001b[39;00m \u001b[38;5;124m\"\u001b[39m\u001b[38;5;124mDatabase is empty.\u001b[39m\u001b[38;5;124m\"\u001b[39m\n\u001b[1;32m     22\u001b[0m     \u001b[38;5;28;01mreturn\u001b[39;00m \u001b[38;5;28mself\u001b[39m\u001b[38;5;241m.\u001b[39mdb\n\u001b[0;32m---> 24\u001b[0m \u001b[38;5;28;01mdef\u001b[39;00m \u001b[38;5;21mread\u001b[39m(\u001b[38;5;28mself\u001b[39m, record_id: \u001b[38;5;28mint\u001b[39m) \u001b[38;5;241m-\u001b[39m\u001b[38;5;241m>\u001b[39m \u001b[38;5;28;43mstr\u001b[39;49m\u001b[43m \u001b[49m\u001b[38;5;241;43m|\u001b[39;49m\u001b[43m \u001b[49m\u001b[43mtp\u001b[49m\u001b[38;5;241;43m.\u001b[39;49m\u001b[43mAny\u001b[49m:\n\u001b[1;32m     25\u001b[0m     \u001b[38;5;28;01mreturn\u001b[39;00m \u001b[38;5;28mself\u001b[39m\u001b[38;5;241m.\u001b[39mdb\u001b[38;5;241m.\u001b[39mget(record_id)\n\u001b[1;32m     27\u001b[0m \u001b[38;5;28;01mdef\u001b[39;00m \u001b[38;5;21mupdate\u001b[39m(\u001b[38;5;28mself\u001b[39m, record_id: \u001b[38;5;28mint\u001b[39m, special_id: \u001b[38;5;28mint\u001b[39m, name\u001b[38;5;241m=\u001b[39m\u001b[38;5;28;01mNone\u001b[39;00m, surname\u001b[38;5;241m=\u001b[39m\u001b[38;5;28;01mNone\u001b[39;00m, phone_number\u001b[38;5;241m=\u001b[39m\u001b[38;5;28;01mNone\u001b[39;00m) \u001b[38;5;241m-\u001b[39m\u001b[38;5;241m>\u001b[39m \u001b[38;5;28mstr\u001b[39m:\n",
            "\u001b[0;31mTypeError\u001b[0m: unsupported operand type(s) for |: 'type' and '_SpecialForm'"
          ]
        }
      ],
      "source": [
        "from simpledb import SimpleDB\n",
        "from user_service import UserService"
      ]
    },
    {
      "cell_type": "markdown",
      "metadata": {
        "id": "i4Ly7oTPa_aK"
      },
      "source": [
        "Убедимся, что у нас нулевое покрытие тестами. Как проверить и что это такое?"
      ]
    },
    {
      "cell_type": "markdown",
      "metadata": {
        "id": "eKmQI63ta_aK"
      },
      "source": [
        "Cуществует такой модуль как covarage.py в котором она индексирует все задетые и проверенные случаи в тестах приложения."
      ]
    },
    {
      "cell_type": "markdown",
      "metadata": {
        "id": "WgWAZbCMa_aK"
      },
      "source": [
        "Теперь давайте его покроем тестами. В первую очередь в логике мы прописывали что при создании экземляра класса мы не создаем инстанс базы данных, а только при первом использовании. Давайте убедимся в этом:"
      ]
    },
    {
      "cell_type": "code",
      "execution_count": null,
      "metadata": {
        "id": "oj43KeVqa_aK"
      },
      "outputs": [],
      "source": [
        "# настроим все необходимое чтобы гонять тесты в пайбуке\n",
        "\n",
        "import pytest\n",
        "import ipytest\n",
        "import coverage\n",
        "ipytest.autoconfig()\n",
        "__file__ = \"Deep_Seminar_03.ipynb\""
      ]
    },
    {
      "cell_type": "markdown",
      "metadata": {
        "id": "jeci63dta_aK"
      },
      "source": [
        "Чтобы проверить что объект невызывался достаточно сделать возвращаемое значение пустым и проверить количество вызовов:"
      ]
    },
    {
      "cell_type": "code",
      "execution_count": null,
      "metadata": {
        "id": "xqBfP-0Ga_aK",
        "outputId": "38c009fb-2d8f-4289-e16e-625184b19e80"
      },
      "outputs": [
        {
          "name": "stdout",
          "output_type": "stream",
          "text": [
            "\u001b[32m.\u001b[0m\u001b[32m                                                                                            [100%]\u001b[0m\n"
          ]
        }
      ],
      "source": [
        "%%ipytest -q\n",
        "\n",
        "import pytest\n",
        "from mock import patch, PropertyMock\n",
        "\n",
        "from user_service import UserService\n",
        "\n",
        "def test_db_not_initialized_until_accessed():\n",
        "    with patch.object(UserService, '_db', new_callable=PropertyMock) as mock_db:\n",
        "        service = UserService(name=\"test_service\")\n",
        "\n",
        "    assert mock_db.call_count == 0\n"
      ]
    },
    {
      "cell_type": "markdown",
      "metadata": {
        "id": "QGETseKca_aL"
      },
      "source": [
        "Мы тут подменили свойство в классе `UserService` с помощью `PropertyMock`. Это позволило нам проверять свойство `_db` сколько раз оно вызывается, и проверить, был ли объект базы данных инициализирован. По тесту мы убедились что свойство не вызывалось все как и ожидалось."
      ]
    },
    {
      "cell_type": "markdown",
      "metadata": {
        "id": "h0HGExQ8a_aL"
      },
      "source": [
        "А что если захотим проверить что оно у нас сначало не вызывалось, а после вызова метода где он требуется вызовется? Давайте допишем тестовый сценарий:\n",
        "Красиво это будет через паратмеризацию:"
      ]
    },
    {
      "cell_type": "code",
      "execution_count": null,
      "metadata": {
        "id": "16ri2PrBa_aL",
        "outputId": "d1a6f00a-4e60-4e72-d331-c6e38e4fb6da"
      },
      "outputs": [
        {
          "name": "stdout",
          "output_type": "stream",
          "text": [
            "\u001b[32m.\u001b[0m\u001b[32m                                                                                            [100%]\u001b[0m\n"
          ]
        }
      ],
      "source": [
        "%%ipytest -q\n",
        "\n",
        "from user_service import UserService\n",
        "\n",
        "def test_db_initialization():\n",
        "    with patch.object(UserService, '_db', new_callable=PropertyMock) as mock_db:\n",
        "        service = UserService(name=\"test_service\")\n",
        "\n",
        "        assert mock_db.call_count == 0\n",
        "\n",
        "        service.get_all_users()\n",
        "\n",
        "        assert mock_db.call_count == 1"
      ]
    },
    {
      "cell_type": "markdown",
      "metadata": {
        "id": "zBR8Mazma_aL"
      },
      "source": [
        "Вроде ок. Даже можно сказать что читаемо. А если это сделать при помощи параметризации?"
      ]
    },
    {
      "cell_type": "code",
      "execution_count": null,
      "metadata": {
        "id": "DVU4J3D3a_aL",
        "outputId": "97feffce-ebf5-4bec-d6fe-162a905706a6"
      },
      "outputs": [
        {
          "name": "stdout",
          "output_type": "stream",
          "text": [
            "\u001b[32m.\u001b[0m\u001b[32m.\u001b[0m\u001b[32m                                                                                           [100%]\u001b[0m\n"
          ]
        }
      ],
      "source": [
        "%%ipytest -q\n",
        "\n",
        "from user_service import UserService\n",
        "\n",
        "def test_db_initialization(is_called):\n",
        "    raise NotImplemented(\"paper please\")"
      ]
    },
    {
      "cell_type": "markdown",
      "metadata": {
        "id": "SuPXNlmna_aL"
      },
      "source": [
        "Давайте теперь покроем каждый метод класса соответсвующими юнит тестами c подменой нашей базой данных, чтобы у нас получились полноценные юнит тесты!"
      ]
    },
    {
      "cell_type": "markdown",
      "metadata": {
        "id": "oPVVk7yaa_aL"
      },
      "source": [
        "Для того чтобы покрыть это все юнитами, нам нужна фикстура базы данных которая будет вести себя также как и реальная."
      ]
    },
    {
      "cell_type": "code",
      "execution_count": null,
      "metadata": {
        "id": "6Jpeyagna_aL",
        "outputId": "2ef06fd4-4ca2-4d0e-a479-9cd6bcd1f5bc"
      },
      "outputs": [
        {
          "name": "stdout",
          "output_type": "stream",
          "text": [
            "\n"
          ]
        }
      ],
      "source": [
        "%%ipytest -q\n",
        "\n",
        "import pytest\n",
        "from mock import patch, Mock, MagicMock\n",
        "\n",
        "from simpledb import SimpleDB\n",
        "from user_service import UserService\n",
        "\n",
        "@pytest.fixture\n",
        "def mock_db():\n",
        "    mock_db = Mock()\n",
        "    mock_db.db = {}\n",
        "    return mock_db\n",
        "\n",
        "@pytest.fixture\n",
        "def user_service(mock_db):\n",
        "    service = UserService(name='TestService')\n",
        "    service._UserService__db = mock_db\n",
        "    return service"
      ]
    },
    {
      "cell_type": "markdown",
      "metadata": {
        "id": "ZkqQeeZZa_aL"
      },
      "source": [
        "Здесь мы создали класс Mock который имитирует поведение нашей базы данных. Также создали моканный сервис. Конкретный интересный момент здесь: `service._UserService__db = mock_db`. \\\n",
        "Мы определили приватное поле db в cвоей реализации и не просто так. Когда определяются приватные поля, то у нас срабатывает механизм, называемый \"Name Mangling\". \\\n",
        "Оно используется для предотвращения конфликтов имён в подклассах и для того, чтобы сделать атрибуты \"приватными\", то есть не легко доступными из вне класса.\n",
        "\n",
        "То есть если:\n",
        "\n",
        "```python\n",
        "\n",
        "class A:\n",
        "    def __init__(self):\n",
        "        self.__a = None\n",
        "\n",
        "```\n",
        "\n",
        "Атрибут с именем `A.__a` внутри становится `_A__a`. То есть если извне мы захотим его заиспользовать, то можно его вызывать как `some_object._A__a`. Сделано это для избежания конфликтов и инкапсуляции.\n",
        "\n"
      ]
    },
    {
      "cell_type": "markdown",
      "metadata": {
        "id": "h3WRIz7Ua_aL"
      },
      "source": [
        "Теперь мы хотим с вами создать тестового клиента. Но по реализации у нас рандом генерит id клиента. Что же делать? \\\n",
        "Чтобы сделать тест предсказуемым, мы можем заменить функцию `random.randint` на фиктивную функцию, которая всегда возвращает одно и то же значение. В этом помогать будет `patch`. \\\n",
        "В аргументах мы указываем точный путь к функции, которую хотим заменить и ее возвращаемое значение."
      ]
    },
    {
      "cell_type": "code",
      "execution_count": null,
      "metadata": {
        "id": "Szfvd5yQa_aP",
        "outputId": "1fad747b-3cf1-450f-99e1-9f1acc82258d"
      },
      "outputs": [
        {
          "name": "stdout",
          "output_type": "stream",
          "text": [
            "\u001b[32m.\u001b[0m\u001b[32m                                                                                            [100%]\u001b[0m\n"
          ]
        }
      ],
      "source": [
        "%%ipytest -q\n",
        "\n",
        "from mock import patch\n",
        "\n",
        "def test_create_new_user(user_service, mock_db):\n",
        "    user_data = {\n",
        "        'special_id': 123,\n",
        "        'name': 'Иван',\n",
        "        'surname': 'Иванов',\n",
        "        'phone_number': '+71234567890'\n",
        "    }\n",
        "\n",
        "    with patch('random.randint', return_value=1):\n",
        "        result = user_service.create_new_user(**user_data)\n",
        "\n",
        "    mock_db.create.assert_called_with(1, 123, 'Иван', 'Иванов', '+71234567890')\n",
        "    assert result == 'Successfully created new user with ID 1'"
      ]
    },
    {
      "cell_type": "markdown",
      "metadata": {
        "id": "a8Vq_khha_aP"
      },
      "source": [
        "**Задание:** Написать тест получения всех пользователей, имитируя поход в базу"
      ]
    },
    {
      "cell_type": "code",
      "execution_count": null,
      "metadata": {
        "id": "OK7GjBipa_aP",
        "outputId": "0ced4e99-fed3-44f8-f98d-871498228c85"
      },
      "outputs": [
        {
          "name": "stdout",
          "output_type": "stream",
          "text": [
            "\u001b[32m.\u001b[0m\u001b[32m                                                                                            [100%]\u001b[0m\n"
          ]
        }
      ],
      "source": [
        "%%ipytest -q\n",
        "\n",
        "users = [\n",
        "        {'special_id': 123, 'name': 'Иван', 'surname': 'Иванов', 'phone_number': '+71234567890'},\n",
        "        {'special_id': 456, 'name': 'Мария', 'surname': 'Петрова', 'phone_number': '+79876543210'}\n",
        "    ]\n",
        "\n",
        "def test_get_all_users(user_service, mock_db):\n",
        "    raise NotImplemented(\"paper please\")"
      ]
    },
    {
      "cell_type": "markdown",
      "metadata": {
        "id": "lHXLLFSTa_aP"
      },
      "source": [
        "**Задание:** Написать тест доставания людей по ключу, имитируя поход в базу"
      ]
    },
    {
      "cell_type": "code",
      "execution_count": null,
      "metadata": {
        "id": "JLs7gZToa_aP",
        "outputId": "ddca7153-92a3-4341-885d-ae191039fd4e"
      },
      "outputs": [
        {
          "name": "stdout",
          "output_type": "stream",
          "text": [
            "\u001b[32m.\u001b[0m\u001b[32m                                                                                            [100%]\u001b[0m\n"
          ]
        }
      ],
      "source": [
        "%%ipytest -q\n",
        "\n",
        "user_id = 1\n",
        "user_data = {'special_id': 123, 'name': 'Иван', 'surname': 'Иванов', 'phone_number': '+71234567890'}\n",
        "\n",
        "def test_get_user_by_id(user_service, mock_db):\n",
        "    raise NotImplemented(\"paper please\")"
      ]
    },
    {
      "cell_type": "markdown",
      "metadata": {
        "id": "ObZTSnBza_aP"
      },
      "source": [
        "**Задание:** Написать тест где мы ожидаем ошибку что пользователь не найден"
      ]
    },
    {
      "cell_type": "code",
      "execution_count": null,
      "metadata": {
        "id": "v7IfiScla_aP",
        "outputId": "d5631411-7ffe-4fc8-8477-10be69ba4be7"
      },
      "outputs": [
        {
          "name": "stdout",
          "output_type": "stream",
          "text": [
            "\u001b[32m.\u001b[0m\u001b[32m                                                                                            [100%]\u001b[0m\n"
          ]
        }
      ],
      "source": [
        "%%ipytest -q\n",
        "\n",
        "def test_get_user_by_id_not_found(user_service, mock_db):\n",
        "    raise NotImplemented(\"paper please\")"
      ]
    },
    {
      "cell_type": "markdown",
      "metadata": {
        "id": "PxgUyB9Ya_aP"
      },
      "source": [
        "**Задание:** Написать тест на обновление пользователя которого нет (корректно обрабатывая ошибку!)"
      ]
    },
    {
      "cell_type": "code",
      "execution_count": null,
      "metadata": {
        "id": "feBSsKdLa_aP",
        "outputId": "ba139133-28f2-43fb-c9e3-1ae29bf533ec"
      },
      "outputs": [
        {
          "name": "stdout",
          "output_type": "stream",
          "text": [
            "\u001b[32m.\u001b[0m\u001b[32m                                                                                            [100%]\u001b[0m\n"
          ]
        }
      ],
      "source": [
        "%%ipytest -q\n",
        "\n",
        "def _message(user_id):\n",
        "    return f\"User with ID {user_id} not found\"\n",
        "\n",
        "def test_update_user_not_found(user_service, mock_db):\n",
        "    return NotImplemented(\"paper please\")"
      ]
    },
    {
      "cell_type": "markdown",
      "metadata": {
        "id": "buGqa03ja_aP"
      },
      "source": [
        "**Задание:** Написать тест на удаление пользователя"
      ]
    },
    {
      "cell_type": "code",
      "execution_count": null,
      "metadata": {
        "id": "rKQU3qZ7a_aQ",
        "outputId": "d5af0cf0-9dd6-4f35-8a63-54d9fc694d78"
      },
      "outputs": [
        {
          "name": "stdout",
          "output_type": "stream",
          "text": [
            "\u001b[32m.\u001b[0m\u001b[32m                                                                                            [100%]\u001b[0m\n"
          ]
        }
      ],
      "source": [
        "%%ipytest -q\n",
        "\n",
        "\n",
        "def _message_2(user_id):\n",
        "    return f\"Record deleted with ID {user_id}: <user data>\"\n",
        "\n",
        "def test_delete_user(user_service, mock_db):\n",
        "    return NotImplemented(\"paper please\")"
      ]
    },
    {
      "cell_type": "markdown",
      "metadata": {
        "id": "YTwpxDTMa_aQ"
      },
      "source": [
        "Если мы ожидаем ошибку, то нужно прописывать `pytest.raises(<класс ошибки>)`. Это говорит pytest'у что мы ждем ошибку, и падать если так таковая не случилась, например:"
      ]
    },
    {
      "cell_type": "code",
      "execution_count": null,
      "metadata": {
        "id": "6vGn9YoLa_aQ",
        "outputId": "e0f9748f-cc1a-4b1a-c660-60c8c1f70987"
      },
      "outputs": [
        {
          "name": "stdout",
          "output_type": "stream",
          "text": [
            "\u001b[31mF\u001b[0m\u001b[31m                                                                                            [100%]\u001b[0m\n",
            "============================================= FAILURES =============================================\n",
            "\u001b[31m\u001b[1m_______________________________ test_create_new_user_missing_fields_ _______________________________\u001b[0m\n",
            "\n",
            "user_service = <user_service.UserService object at 0x1164c4700>\n",
            "\n",
            "    \u001b[0m\u001b[94mdef\u001b[39;49;00m \u001b[92mtest_create_new_user_missing_fields_\u001b[39;49;00m(user_service):\u001b[90m\u001b[39;49;00m\n",
            "        user_data = {\u001b[90m\u001b[39;49;00m\n",
            "            \u001b[33m'\u001b[39;49;00m\u001b[33mspecial_id\u001b[39;49;00m\u001b[33m'\u001b[39;49;00m: \u001b[94m123\u001b[39;49;00m,\u001b[90m\u001b[39;49;00m\n",
            "            \u001b[33m'\u001b[39;49;00m\u001b[33mname\u001b[39;49;00m\u001b[33m'\u001b[39;49;00m: \u001b[33m'\u001b[39;49;00m\u001b[33mИван\u001b[39;49;00m\u001b[33m'\u001b[39;49;00m,\u001b[90m\u001b[39;49;00m\n",
            "            \u001b[33m'\u001b[39;49;00m\u001b[33mphone_number\u001b[39;49;00m\u001b[33m'\u001b[39;49;00m: \u001b[33m'\u001b[39;49;00m\u001b[33m+71234567890\u001b[39;49;00m\u001b[33m'\u001b[39;49;00m\u001b[90m\u001b[39;49;00m\n",
            "        }\u001b[90m\u001b[39;49;00m\n",
            ">       user_service.create_new_user(**user_data)\u001b[90m\u001b[39;49;00m\n",
            "\n",
            "\u001b[1m\u001b[31m/var/folders/1k/s7xycc896gd2kbcgp89z21_06b4zqs/T/ipykernel_18810/337764304.py\u001b[0m:9: \n",
            "_ _ _ _ _ _ _ _ _ _ _ _ _ _ _ _ _ _ _ _ _ _ _ _ _ _ _ _ _ _ _ _ _ _ _ _ _ _ _ _ _ _ _ _ _ _ _ _ _ _ \n",
            "\u001b[1m\u001b[31muser_service.py\u001b[0m:24: in create_new_user\n",
            "    \u001b[0m\u001b[94mdef\u001b[39;49;00m \u001b[92mcreate_new_user\u001b[39;49;00m(\u001b[96mself\u001b[39;49;00m, **kwargs) -> \u001b[96mstr\u001b[39;49;00m | tp.Any:\u001b[90m\u001b[39;49;00m\n",
            "_ _ _ _ _ _ _ _ _ _ _ _ _ _ _ _ _ _ _ _ _ _ _ _ _ _ _ _ _ _ _ _ _ _ _ _ _ _ _ _ _ _ _ _ _ _ _ _ _ _ \n",
            "\n",
            "self = <user_service.UserService object at 0x1164c4700>\n",
            "kwargs = {'name': 'Иван', 'phone_number': '+71234567890', 'special_id': 123}, field = 'surname'\n",
            "\n",
            "    \u001b[0m    \u001b[94mreturn\u001b[39;49;00m \u001b[96mself\u001b[39;49;00m.__db\u001b[90m\u001b[39;49;00m\n",
            "    \u001b[90m\u001b[39;49;00m\n",
            "    \u001b[94mdef\u001b[39;49;00m \u001b[92m_data_validation\u001b[39;49;00m(\u001b[96mself\u001b[39;49;00m, **kwargs) -> \u001b[94mNone\u001b[39;49;00m:\u001b[90m\u001b[39;49;00m\n",
            "        \u001b[94mif\u001b[39;49;00m \u001b[33m'\u001b[39;49;00m\u001b[33mspecial_id\u001b[39;49;00m\u001b[33m'\u001b[39;49;00m \u001b[95mnot\u001b[39;49;00m \u001b[95min\u001b[39;49;00m kwargs \u001b[95mor\u001b[39;49;00m \u001b[95mnot\u001b[39;49;00m \u001b[96misinstance\u001b[39;49;00m(kwargs[\u001b[33m'\u001b[39;49;00m\u001b[33mspecial_id\u001b[39;49;00m\u001b[33m'\u001b[39;49;00m], \u001b[96mint\u001b[39;49;00m):\u001b[90m\u001b[39;49;00m\n",
            "            \u001b[94mraise\u001b[39;49;00m \u001b[96mValueError\u001b[39;49;00m(\u001b[33m\"\u001b[39;49;00m\u001b[33mThe field \u001b[39;49;00m\u001b[33m'\u001b[39;49;00m\u001b[33mspecial_id\u001b[39;49;00m\u001b[33m'\u001b[39;49;00m\u001b[33m is required and must be an integer.\u001b[39;49;00m\u001b[33m\"\u001b[39;49;00m)\u001b[90m\u001b[39;49;00m\n",
            ">       \u001b[94mfor\u001b[39;49;00m field \u001b[95min\u001b[39;49;00m [\u001b[33m'\u001b[39;49;00m\u001b[33mname\u001b[39;49;00m\u001b[33m'\u001b[39;49;00m, \u001b[33m'\u001b[39;49;00m\u001b[33msurname\u001b[39;49;00m\u001b[33m'\u001b[39;49;00m, \u001b[33m'\u001b[39;49;00m\u001b[33mphone_number\u001b[39;49;00m\u001b[33m'\u001b[39;49;00m]:\u001b[90m\u001b[39;49;00m\n",
            "\u001b[1m\u001b[31mE       ValueError: The field 'surname' is required.\u001b[0m\n",
            "\n",
            "\u001b[1m\u001b[31muser_service.py\u001b[0m:20: ValueError\n",
            "\u001b[36m\u001b[1m===================================== short test summary info ======================================\u001b[0m\n",
            "\u001b[31mFAILED\u001b[0m t_f4000452698f42b092de86262ed4039f.py::\u001b[1mtest_create_new_user_missing_fields_\u001b[0m - ValueError: The field 'surname' is required.\n"
          ]
        }
      ],
      "source": [
        "%%ipytest -q\n",
        "\n",
        "from contextlib import nullcontext\n",
        "\n",
        "def test_create_new_user_missing_fields_(user_service):\n",
        "    user_data = {\n",
        "        'special_id': 123,\n",
        "        'name': 'Иван',\n",
        "        'phone_number': '+71234567890'\n",
        "    }\n",
        "    user_service.create_new_user(**user_data)\n"
      ]
    },
    {
      "cell_type": "markdown",
      "metadata": {
        "id": "va0H8aF7a_aQ"
      },
      "source": [
        "А теперь:"
      ]
    },
    {
      "cell_type": "code",
      "execution_count": null,
      "metadata": {
        "id": "TVxSTZ2Sa_aQ",
        "outputId": "d7ec3dd8-8305-475c-cb2c-53c0d865670b"
      },
      "outputs": [
        {
          "name": "stdout",
          "output_type": "stream",
          "text": [
            "\u001b[32m.\u001b[0m\u001b[32m                                                                                            [100%]\u001b[0m\n"
          ]
        }
      ],
      "source": [
        "%%ipytest -q\n",
        "\n",
        "def test_create_new_user_missing_fields(user_service):\n",
        "    user_data = {\n",
        "        'special_id': 123,\n",
        "        'name': 'Иван',\n",
        "        'phone_number': '+71234567890'\n",
        "    }\n",
        "\n",
        "    with pytest.raises(ValueError) as exc_info:\n",
        "        user_service.create_new_user(**user_data)\n",
        "\n",
        "    assert str(exc_info.value) == \"The field 'surname' is required.\""
      ]
    },
    {
      "cell_type": "code",
      "execution_count": null,
      "metadata": {
        "id": "WN_-cO82a_aQ",
        "outputId": "71992acc-d21f-4712-e048-e6e0d7992751"
      },
      "outputs": [
        {
          "name": "stdout",
          "output_type": "stream",
          "text": [
            "\u001b[32m.\u001b[0m\u001b[32m                                                                                            [100%]\u001b[0m\n"
          ]
        }
      ],
      "source": [
        "%%ipytest -q\n",
        "\n",
        "def test_create_new_user_invalid_special_id(user_service):\n",
        "    user_data = {\n",
        "        'special_id': 'abc',  # неверный тип\n",
        "        'name': 'Иван',\n",
        "        'surname': 'Иванов',\n",
        "        'phone_number': '+71234567890'\n",
        "    }\n",
        "\n",
        "    with pytest.raises(ValueError) as exc_info:\n",
        "        user_service.create_new_user(**user_data)\n",
        "\n",
        "    assert str(exc_info.value) == \"The field 'special_id' is required and must be an integer.\""
      ]
    },
    {
      "cell_type": "markdown",
      "metadata": {
        "id": "1n0iRWkWa_aQ"
      },
      "source": [
        "`side_effect` и `return_value`\n",
        "\n",
        "Чтобы мок мог вести себя так же, как реальная база данных, нам нужно определить кастомное поведение для его методов. Именно для этого мы используем `side_effect`. Нам нужно сымитировать его поведение без реального вызова объекта, что конкретно данный механизм отлично справляется. \\\n",
        "В свою очередь `return_value` не задает поведение, а возвращает определенное значение что ему прописали."
      ]
    },
    {
      "cell_type": "code",
      "execution_count": null,
      "metadata": {
        "id": "g_o0cG0Ta_aQ",
        "outputId": "ef750541-f32a-451f-b163-54cca3cb0af1"
      },
      "outputs": [
        {
          "name": "stdout",
          "output_type": "stream",
          "text": [
            "\u001b[32m.\u001b[0m\u001b[32m                                                                                            [100%]\u001b[0m\n"
          ]
        }
      ],
      "source": [
        "%%ipytest -q\n",
        "\n",
        "def test_update_user(user_service, mock_db):\n",
        "    user_id = 1\n",
        "    existing_user_data = {'special_id': 123, 'name': 'Иван', 'surname': 'Иванов', 'phone_number': '+71234567890'}\n",
        "\n",
        "    mock_db.db[user_id] = existing_user_data.copy()\n",
        "\n",
        "    def read_side_effect(record_id):\n",
        "        return mock_db.db.get(record_id)\n",
        "    mock_db.read.side_effect = read_side_effect\n",
        "\n",
        "    def update_side_effect(record_id, special_id, name, surname, phone_number):\n",
        "        if record_id not in mock_db.db:\n",
        "            return f\"Record with ID {record_id} not found.\"\n",
        "\n",
        "        user = mock_db.db[record_id]\n",
        "        user['special_id'] = special_id\n",
        "        if name is not None:\n",
        "            user['name'] = name\n",
        "        if surname is not None:\n",
        "            user['surname'] = surname\n",
        "        if phone_number is not None:\n",
        "            user['phone_number'] = phone_number\n",
        "\n",
        "        return f\"Record with ID {record_id} updated: {user}\"\n",
        "\n",
        "    mock_db.update.side_effect = update_side_effect\n",
        "\n",
        "    update_data = {'name': 'Иван1', 'phone_number': '+79991234567'}\n",
        "\n",
        "    result = user_service.update_user(user_id, **update_data)\n",
        "\n",
        "    expected_data = existing_user_data.copy()\n",
        "    expected_data.update({k: v for k, v in update_data.items() if v is not None})\n",
        "\n",
        "    assert mock_db.db[user_id] == expected_data\n",
        "    assert result == f\"Record with ID {user_id} updated: {expected_data}\""
      ]
    },
    {
      "cell_type": "markdown",
      "metadata": {
        "id": "qmpg94Wba_aQ"
      },
      "source": [
        "### Интеграционные тесты"
      ]
    },
    {
      "cell_type": "markdown",
      "metadata": {
        "id": "YF7JxFv6a_aQ"
      },
      "source": [
        "Как только мы с вами реализовали unit-тесты, давайте реализовать интеграционные. Отличаются они от юнитов тем, что мы ходим в реальный сервис (в нашем случае это наша база данных) непосредственно обращаясь к ней"
      ]
    },
    {
      "cell_type": "markdown",
      "metadata": {
        "id": "TrkNo-kda_aQ"
      },
      "source": [
        "!!! Важно \\\n",
        "Если вы обращаетесь к реальной базе данных для этого вы должны подготовить для нее тестовую среду (саму тестовую базу) и настроить все чтобы она не записывала и не трогала продовую"
      ]
    },
    {
      "cell_type": "markdown",
      "metadata": {
        "id": "ySAn1ynwa_aQ"
      },
      "source": [
        "В рамках тестирования необходимо иметь контроль даже над тем чем мы не можем. К примеру модуль `random`. Можно много чего от него ожидать. Но, давайте его пропатчим чтобы он работал так как нам надо ибо это логика не очень та и важна в рамках тестирования системы. При вызове `random.randint` мы будем возвращать число `1`"
      ]
    },
    {
      "cell_type": "code",
      "execution_count": null,
      "metadata": {
        "id": "kF6vJ9JIa_aQ",
        "outputId": "a4b6abf1-99cc-49be-cb69-2ccabce815e7"
      },
      "outputs": [
        {
          "name": "stdout",
          "output_type": "stream",
          "text": [
            "\n"
          ]
        }
      ],
      "source": [
        "%%ipytest -q\n",
        "\n",
        "@pytest.fixture(autouse=True)\n",
        "def fixed_random_id(monkeypatch):\n",
        "    import random\n",
        "\n",
        "    original_randint = random.randint\n",
        "\n",
        "    def fixed_randint(a, b):\n",
        "        return 1\n",
        "\n",
        "    monkeypatch.setattr(random, 'randint', fixed_randint)\n",
        "\n",
        "    yield\n",
        "    monkeypatch.setattr(random, 'randint', original_randint)"
      ]
    },
    {
      "cell_type": "markdown",
      "metadata": {
        "id": "tWbWbqxpa_aQ"
      },
      "source": [
        "Теперь напишем тест, что при каждом вызове `random.randint` у нас возвращается число 1."
      ]
    },
    {
      "cell_type": "code",
      "execution_count": null,
      "metadata": {
        "id": "ZRGy0jNCa_aQ",
        "outputId": "1276a1b7-5792-4a8f-b1b2-3945bd340912"
      },
      "outputs": [
        {
          "name": "stdout",
          "output_type": "stream",
          "text": [
            "\u001b[32m.\u001b[0m\u001b[32m                                                                                            [100%]\u001b[0m\n"
          ]
        }
      ],
      "source": [
        "%%ipytest -q\n",
        "\n",
        "@pytest.fixture\n",
        "def user_service():\n",
        "    service = UserService(name='TestService')\n",
        "    return service\n",
        "\n",
        "def test_create_new_user(user_service):\n",
        "    user_data = {\n",
        "        'special_id': 123,\n",
        "        'name': 'Иван',\n",
        "        'surname': 'Иванов',\n",
        "        'phone_number': '+71234567890'\n",
        "    }\n",
        "\n",
        "    result = user_service.create_new_user(**user_data)\n",
        "\n",
        "    assert result == 'Successfully created new user with ID 1'\n",
        "\n",
        "    user = user_service.get_user_by_id(1)\n",
        "    assert user == user_data"
      ]
    },
    {
      "cell_type": "code",
      "execution_count": null,
      "metadata": {
        "id": "uMywErD7a_aR",
        "outputId": "19ea1f61-515d-4f0c-97d8-4af020ff7494"
      },
      "outputs": [
        {
          "name": "stdout",
          "output_type": "stream",
          "text": [
            "\u001b[32m.\u001b[0m\u001b[32m                                                                                            [100%]\u001b[0m\n"
          ]
        }
      ],
      "source": [
        "%%ipytest -q\n",
        "import random\n",
        "\n",
        "def test_get_all_users(user_service):\n",
        "    users = [\n",
        "        {'special_id': 123, 'name': 'Иван', 'surname': 'Иванов', 'phone_number': '+71234567890'},\n",
        "        {'special_id': 456, 'name': 'Мария', 'surname': 'Петрова', 'phone_number': '+79876543210'}\n",
        "    ]\n",
        "\n",
        "    for i, user_data in enumerate(users, start=1):\n",
        "        with pytest.MonkeyPatch().context() as m:\n",
        "            m.setattr(random, 'randint', lambda a, b, i=i: i)\n",
        "            user_service.create_new_user(**user_data)\n",
        "\n",
        "    result = user_service.get_all_users()\n",
        "\n",
        "    expected_output = f\"All users: {user_service._db.db}\"\n",
        "    assert result == expected_output\n"
      ]
    },
    {
      "cell_type": "markdown",
      "metadata": {
        "id": "Xt5f2tTna_aR"
      },
      "source": [
        "**Задание** Протестировать метод `get_user_by_id` обращаясь к реальной базе"
      ]
    },
    {
      "cell_type": "code",
      "execution_count": null,
      "metadata": {
        "id": "31f2-ATVa_aR",
        "outputId": "3725a3e2-334c-469a-af6b-c36a58c9c510"
      },
      "outputs": [
        {
          "name": "stdout",
          "output_type": "stream",
          "text": [
            "\u001b[32m.\u001b[0m\u001b[32m                                                                                            [100%]\u001b[0m\n"
          ]
        }
      ],
      "source": [
        "%%ipytest -q\n",
        "\n",
        "def test_get_user_by_id(user_service):\n",
        "    user_data = {\n",
        "        'special_id': 123,\n",
        "        'name': 'Иван',\n",
        "        'surname': 'Иванов',\n",
        "        'phone_number': '+71234567890'\n",
        "    }\n",
        "    user_service.create_new_user(**user_data)\n",
        "\n",
        "    user = user_service.get_user_by_id(1)\n",
        "    assert user == user_data"
      ]
    },
    {
      "cell_type": "markdown",
      "metadata": {
        "id": "twO7awLka_aR"
      },
      "source": [
        "Давайте теперь проверим без заготовок как у нас будет вести тест при несуществующем пользователе:"
      ]
    },
    {
      "cell_type": "code",
      "execution_count": null,
      "metadata": {
        "id": "B_C4zSqQa_aR",
        "outputId": "ea072799-46b0-49c1-dc70-c0528403bd30"
      },
      "outputs": [
        {
          "name": "stdout",
          "output_type": "stream",
          "text": [
            "\u001b[32m.\u001b[0m\u001b[32m                                                                                            [100%]\u001b[0m\n"
          ]
        }
      ],
      "source": [
        "%%ipytest -q\n",
        "\n",
        "def test_get_user_by_id_not_found(user_service):\n",
        "    with pytest.raises(ValueError) as exc_info:\n",
        "        user_service.get_user_by_id(999)\n",
        "\n",
        "    assert str(exc_info.value) == \"User with ID 999 not found.\""
      ]
    },
    {
      "cell_type": "markdown",
      "metadata": {
        "id": "Gyf0J3Dea_aR"
      },
      "source": [
        "Как видим поведение одно и тоже!"
      ]
    },
    {
      "cell_type": "markdown",
      "metadata": {
        "id": "_K3gadKpa_aR"
      },
      "source": [
        "**Задание** Необходимо протестировать метод обновление пользователя на реальной базе"
      ]
    },
    {
      "cell_type": "code",
      "execution_count": null,
      "metadata": {
        "id": "LKnGQxw_a_aR",
        "outputId": "6de68048-0c3b-4fbf-acdc-013eb364dd3d"
      },
      "outputs": [
        {
          "name": "stdout",
          "output_type": "stream",
          "text": [
            "\u001b[32m.\u001b[0m\u001b[32m                                                                                            [100%]\u001b[0m\n"
          ]
        }
      ],
      "source": [
        "%%ipytest -q\n",
        "\n",
        "user_data = {\n",
        "        'special_id': 123,\n",
        "        'name': 'Иван',\n",
        "        'surname': 'Иванов',\n",
        "        'phone_number': '+71234567890'\n",
        "    }\n",
        "\n",
        "def test_update_user(user_service):\n",
        "\n",
        "   raise NotImplemented(\"paper please\")"
      ]
    },
    {
      "cell_type": "markdown",
      "metadata": {
        "id": "vuVlBXx9a_aR"
      },
      "source": [
        "Давайте в тесте не просто создадим и удалим, а еще запросим уже удаленного клиента. \\\n",
        "**Notice**: в реальных тестах так делать нельзя.\n",
        "Главная особенность теста: тест должен быть говорящим! \\\n",
        "Дополнительная логика в нем излишна, и перегружать функционал теста:\n",
        "* бесполезно\n",
        "* он может ввести в заблуждение"
      ]
    },
    {
      "cell_type": "code",
      "execution_count": null,
      "metadata": {
        "id": "GNeTwP0Ba_aR",
        "outputId": "38ec05fd-1e82-491e-d735-41632a50361a"
      },
      "outputs": [
        {
          "name": "stdout",
          "output_type": "stream",
          "text": [
            "\u001b[32m.\u001b[0m\u001b[32m                                                                                            [100%]\u001b[0m\n"
          ]
        }
      ],
      "source": [
        "%%ipytest -q\n",
        "\n",
        "def test_delete_user(user_service):\n",
        "    user_data = {\n",
        "        'special_id': 123,\n",
        "        'name': 'Иван',\n",
        "        'surname': 'Иванов',\n",
        "        'phone_number': '+71234567890'\n",
        "    }\n",
        "    user_service.create_new_user(**user_data)\n",
        "\n",
        "    result = user_service.delete_user(1)\n",
        "    assert result == f\"Record deleted with ID 1: {user_data}\"\n",
        "\n",
        "    # Проверяем, что пользователя больше нет в базе данных\n",
        "    with pytest.raises(ValueError) as exc_info:\n",
        "        user_service.get_user_by_id(1)\n",
        "\n",
        "    assert str(exc_info.value) == \"User with ID 1 not found.\""
      ]
    },
    {
      "cell_type": "markdown",
      "metadata": {
        "id": "V5ocJIb3a_aR"
      },
      "source": [
        "**Задание** Протестировать случай при создании клиента отсутвие `required` поля"
      ]
    },
    {
      "cell_type": "code",
      "execution_count": null,
      "metadata": {
        "id": "SdMyTd6ma_aR",
        "outputId": "585d6ba0-9d94-4892-b9e3-8dbe31b2a5fc"
      },
      "outputs": [
        {
          "name": "stdout",
          "output_type": "stream",
          "text": [
            "\u001b[32m.\u001b[0m\u001b[32m                                                                                            [100%]\u001b[0m\n"
          ]
        }
      ],
      "source": [
        "%%ipytest -q\n",
        "\n",
        "user_data = {\n",
        "        'special_id': 123,\n",
        "        'name': 'Иван',\n",
        "        # Отсутствует 'surname'\n",
        "        'phone_number': '+71234567890'\n",
        "    }\n",
        "\n",
        "\n",
        "def test_create_new_user_missing_fields(user_service):\n",
        "    raise NotImplemented(\"paper please\")\n"
      ]
    },
    {
      "cell_type": "markdown",
      "metadata": {
        "id": "S8Q1QRzJa_aR"
      },
      "source": [
        "**Задание** Протестировать случай при обновление несуществующего клиента"
      ]
    },
    {
      "cell_type": "code",
      "execution_count": null,
      "metadata": {
        "id": "gtbk2K5ia_aR",
        "outputId": "5fa73c0a-b0ef-4a34-d82c-826c164b2179"
      },
      "outputs": [
        {
          "name": "stdout",
          "output_type": "stream",
          "text": [
            "\u001b[32m.\u001b[0m\u001b[32m                                                                                            [100%]\u001b[0m\n"
          ]
        }
      ],
      "source": [
        "%%ipytest -q\n",
        "\n",
        "def test_update_user_not_found(user_service):\n",
        "\n",
        "    raise NotImplemented(\"paper please\")"
      ]
    },
    {
      "cell_type": "markdown",
      "metadata": {
        "id": "SPY4F3rYa_aR"
      },
      "source": [
        "И в последнем тесте мы проверяем что наш \"уникальный ключ\" не целочисленный:"
      ]
    },
    {
      "cell_type": "code",
      "execution_count": null,
      "metadata": {
        "id": "X7M7b9B_a_aS",
        "outputId": "0f847c02-6ca7-47bc-fb76-1dd372ce1751"
      },
      "outputs": [
        {
          "name": "stdout",
          "output_type": "stream",
          "text": [
            "\u001b[32m.\u001b[0m\u001b[32m                                                                                            [100%]\u001b[0m\n"
          ]
        }
      ],
      "source": [
        "%%ipytest -q\n",
        "\n",
        "def test_create_new_user_invalid_special_id(user_service):\n",
        "    user_data = {\n",
        "        'special_id': 'abc',  # Некорректный тип\n",
        "        'name': 'Иван',\n",
        "        'surname': 'Иванов',\n",
        "        'phone_number': '+71234567890'\n",
        "    }\n",
        "\n",
        "    with pytest.raises(ValueError) as exc_info:\n",
        "        user_service.create_new_user(**user_data)\n",
        "\n",
        "    assert str(exc_info.value) == \"The field 'special_id' is required and must be an integer.\""
      ]
    },
    {
      "cell_type": "markdown",
      "metadata": {
        "id": "vIEj0pkea_aS"
      },
      "source": [
        "### Тэги в тестах"
      ]
    },
    {
      "cell_type": "markdown",
      "metadata": {
        "id": "PRwXR9Oxa_aS"
      },
      "source": [
        "Для человекочитаемости различных параметров мы можем присваивать ему имя или id. К примеру:"
      ]
    },
    {
      "cell_type": "code",
      "execution_count": null,
      "metadata": {
        "id": "QHhPXoWma_aS",
        "outputId": "124236a2-9f30-4ec5-f1e9-c0bb79ff7eda"
      },
      "outputs": [
        {
          "name": "stdout",
          "output_type": "stream",
          "text": [
            "\u001b[32m.\u001b[0m\u001b[32m.\u001b[0m\u001b[32m                                                                                           [100%]\u001b[0m\n"
          ]
        }
      ],
      "source": [
        "%%ipytest -q\n",
        "\n",
        "import pytest\n",
        "\n",
        "\n",
        "import pytest\n",
        "\n",
        "@pytest.mark.parametrize(\n",
        "    \"a, b, c\",\n",
        "    [\n",
        "        pytest.param(1, 2, 3), id=\"Мои первые числа!!!\",\n",
        "        pytest.param(4, 5, 9, id=\"когда нечего придумать...\")\n",
        "    ]\n",
        ")\n",
        "def test_a_plus_b(a, b, c):\n",
        "    assert a + b == c\n"
      ]
    },
    {
      "cell_type": "markdown",
      "metadata": {
        "id": "KVSKXrJOa_aS"
      },
      "source": [
        "Главная фишка такая, берете свой набор параметров и оборачиваете их `pytest.param` и указываете ему `id=\"\"` вуаля и готово!"
      ]
    },
    {
      "cell_type": "markdown",
      "metadata": {
        "id": "8uQPAyXma_aS"
      },
      "source": [
        "### Логгирование"
      ]
    },
    {
      "cell_type": "markdown",
      "metadata": {
        "id": "jIdIdtlZa_aS"
      },
      "source": [
        "Вернемся к написанным ранее классам. Давайте добавим на каждый событие в методах класса лог"
      ]
    },
    {
      "cell_type": "code",
      "execution_count": null,
      "metadata": {
        "id": "uHMEWI0Ga_aS"
      },
      "outputs": [],
      "source": [
        "import logging\n",
        "\n",
        "logging.basicConfig(\n",
        "    level=logging.INFO,\n",
        "    format='%(asctime)s [%(levelname)s] %(name)s: %(message)s',\n",
        "    datefmt='%Y-%m-%d %H:%M:%S'\n",
        ")"
      ]
    },
    {
      "cell_type": "markdown",
      "metadata": {
        "id": "98Po9L7La_aS"
      },
      "source": [
        "Что мы здесь установили?\n",
        "* уровень логгирования сообщения уровнем INFO и выше будут записываться\n",
        "* определяем формат сообщений лога (кастомно)\n",
        "* определяем форматы записи даты (есть стандартные даты, но тоже мы указываем кастомно)"
      ]
    },
    {
      "cell_type": "markdown",
      "metadata": {
        "id": "087e_HQLa_aS"
      },
      "source": [
        "Теперь можем спокойно добавлять в наши классы!"
      ]
    },
    {
      "cell_type": "code",
      "execution_count": null,
      "metadata": {
        "id": "W44AnX0Aa_aS"
      },
      "outputs": [],
      "source": [
        "class SimpleDB:\n",
        "    def __init__(self):\n",
        "        self.db = {}\n",
        "        self.logger = logging.getLogger(self.__class__.__name__)\n",
        "\n",
        "    def create(self, record_id, special_id, name, surname, phone_number):\n",
        "        if record_id in self.db:\n",
        "            self.logger.error(f\"Attempt to create a record with existing ID {record_id}\")\n",
        "            raise ValueError(f\"Record with ID {record_id} already exists.\")\n",
        "        self.db[record_id] = {\n",
        "            \"special_id\": special_id,\n",
        "            \"name\": name,\n",
        "            \"surname\": surname,\n",
        "            \"phone_number\": phone_number\n",
        "        }\n",
        "        self.logger.info(f\"Record added with ID {record_id}: {self.db[record_id]}\")\n",
        "        return f\"Record added with ID {record_id}: {self.db[record_id]}\"\n",
        "\n",
        "    def read_all(self):\n",
        "        if not self.db:\n",
        "            self.logger.warning(\"Read all called, but database is empty.\")\n",
        "            return \"Database is empty.\"\n",
        "        self.logger.info(\"Read all records from the database.\")\n",
        "        return self.db\n",
        "\n",
        "    def read(self, record_id: int):\n",
        "        record = self.db.get(record_id)\n",
        "        if record:\n",
        "            self.logger.info(f\"Record read with ID {record_id}: {record}\")\n",
        "        else:\n",
        "            self.logger.warning(f\"Record with ID {record_id} not found.\")\n",
        "        return record\n",
        "\n",
        "    def update(self, record_id: int, special_id: int, name=None, surname=None, phone_number=None):\n",
        "        if record_id not in self.db:\n",
        "            self.logger.error(f\"Attempt to update non-existent record with ID {record_id}\")\n",
        "            return f\"Record with ID {record_id} not found.\"\n",
        "\n",
        "        self.db[record_id]['special_id'] = special_id\n",
        "\n",
        "        if name:\n",
        "            self.db[record_id]['name'] = name\n",
        "        if surname:\n",
        "            self.db[record_id]['surname'] = surname\n",
        "        if phone_number:\n",
        "            self.db[record_id]['phone_number'] = phone_number\n",
        "\n",
        "        self.logger.info(f\"Record updated with ID {record_id}: {self.db[record_id]}\")\n",
        "        return f\"Record with ID {record_id} updated: {self.db[record_id]}\"\n",
        "\n",
        "    def delete(self, record_id: int):\n",
        "        if record_id not in self.db:\n",
        "            self.logger.error(f\"Attempt to delete non-existent record with ID {record_id}\")\n",
        "            return f\"Record with ID {record_id} not found.\"\n",
        "        deleted_record = self.db.pop(record_id)\n",
        "        self.logger.info(f\"Record deleted with ID {record_id}: {deleted_record}\")\n",
        "        return f\"Record deleted with ID {record_id}: {deleted_record}\""
      ]
    },
    {
      "cell_type": "code",
      "execution_count": null,
      "metadata": {
        "id": "lrYMS9JUa_aS"
      },
      "outputs": [],
      "source": [
        "class UserService:\n",
        "    def __init__(self, name: str):\n",
        "        self._name = name\n",
        "        self.__db = None\n",
        "        self.logger = logging.getLogger(self.__class__.__name__)\n",
        "\n",
        "    @property\n",
        "    def _db(self):\n",
        "        if self.__db is None:\n",
        "            self.__db = SimpleDB()\n",
        "            self.logger.debug(\"Initialized SimpleDB instance.\")\n",
        "        return self.__db\n",
        "\n",
        "    def _data_validation(self, **kwargs):\n",
        "        self.logger.debug(f\"Validating data: {kwargs}\")\n",
        "        if 'special_id' not in kwargs or not isinstance(kwargs['special_id'], int):\n",
        "            self.logger.error(\"Validation error: 'special_id' is missing or not an integer.\")\n",
        "            raise ValueError(\"The field 'special_id' is required and must be an integer.\")\n",
        "        for field in ['name', 'surname', 'phone_number']:\n",
        "            if field not in kwargs or not kwargs[field]:\n",
        "                self.logger.error(f\"Validation error: The field '{field}' is missing or empty.\")\n",
        "                raise ValueError(f\"The field '{field}' is required.\")\n",
        "\n",
        "    def create_new_user(self, **kwargs):\n",
        "        import random\n",
        "        self._data_validation(**kwargs)\n",
        "\n",
        "        new_id = random.randint(0, int(1e9))\n",
        "        while new_id in self._db.db:\n",
        "            self.logger.debug(f\"Generated duplicate ID {new_id}, generating a new one.\")\n",
        "            new_id = random.randint(0, int(1e9))\n",
        "\n",
        "        self.logger.info(f\"Creating new user with ID {new_id}\")\n",
        "        self._db.create(new_id, kwargs['special_id'], kwargs['name'], kwargs['surname'], kwargs['phone_number'])\n",
        "        return f\"Successfully created new user with ID {new_id}\"\n",
        "\n",
        "    def get_all_users(self):\n",
        "        self.logger.info(\"Fetching all users.\")\n",
        "        users = self._db.read_all()\n",
        "        if isinstance(users, str):\n",
        "            return users\n",
        "        return f\"All users: {users}\"\n",
        "\n",
        "    def get_user_by_id(self, user_id):\n",
        "        self.logger.info(f\"Fetching user with ID {user_id}\")\n",
        "        user = self._db.read(user_id)\n",
        "        if user is None:\n",
        "            self.logger.error(f\"User with ID {user_id} not found.\")\n",
        "            raise ValueError(f\"User with ID {user_id} not found.\")\n",
        "        return user\n",
        "\n",
        "    def update_user(self, user_id, **kwargs):\n",
        "        self.logger.info(f\"Updating user with ID {user_id}\")\n",
        "        user_data = self.get_user_by_id(user_id)\n",
        "        if user_data is None:\n",
        "            self.logger.error(f\"User with ID {user_id} not found for update.\")\n",
        "            raise ValueError(f\"User with ID {user_id} not found.\")\n",
        "\n",
        "        for key, value in kwargs.items():\n",
        "            if value is not None:\n",
        "                self.logger.debug(f\"Updating field '{key}' with value '{value}'\")\n",
        "                user_data[key] = value\n",
        "\n",
        "        updated_user = self._db.update(\n",
        "            user_id,\n",
        "            user_data['special_id'],\n",
        "            user_data.get('name'),\n",
        "            user_data.get('surname'),\n",
        "            user_data.get('phone_number')\n",
        "        )\n",
        "        return updated_user\n",
        "\n",
        "    def delete_user(self, user_id):\n",
        "        self.logger.info(f\"Deleting user with ID {user_id}\")\n",
        "        deleted_user = self._db.delete(user_id)\n",
        "        return deleted_user"
      ]
    },
    {
      "cell_type": "markdown",
      "metadata": {
        "id": "U8HvxszEa_aS"
      },
      "source": [
        "Конкретно тут интересует `self.logger = logging.getLogger(self.__class__.__name__)` \\\n",
        "Здесь мы создаем класс логгера с именем класса где он находится.\n"
      ]
    },
    {
      "cell_type": "code",
      "execution_count": null,
      "metadata": {
        "id": "DcEy78X8a_aS",
        "outputId": "7a5f1ebf-f9bc-46a5-cdaf-9443b51dff2a"
      },
      "outputs": [
        {
          "name": "stderr",
          "output_type": "stream",
          "text": [
            "WARNING:SimpleDB:Record with ID 1 not found.\n",
            "ERROR:UserService:User with ID 1 not found.\n",
            "ERROR:root:User with ID 1 not found.\n",
            "ERROR:SimpleDB:Attempt to delete non-existent record with ID 1\n"
          ]
        },
        {
          "name": "stdout",
          "output_type": "stream",
          "text": [
            "All users: {691336785: {'special_id': 123, 'name': 'Иван', 'surname': 'Иванов', 'phone_number': '+71234567890'}}\n"
          ]
        }
      ],
      "source": [
        "if __name__ == '__main__':\n",
        "    service = UserService('MainService')\n",
        "\n",
        "    try:\n",
        "        service.create_new_user(\n",
        "            special_id=123,\n",
        "            name='Иван',\n",
        "            surname='Иванов',\n",
        "            phone_number='+71234567890'\n",
        "        )\n",
        "    except ValueError as e:\n",
        "        logging.error(e)\n",
        "\n",
        "    users = service.get_all_users()\n",
        "    print(users)\n",
        "\n",
        "    try:\n",
        "        service.update_user(1, name='Иван Петрович')\n",
        "    except ValueError as e:\n",
        "        logging.error(e)\n",
        "\n",
        "    try:\n",
        "        service.delete_user(1)\n",
        "    except ValueError as e:\n",
        "        logging.error(e)"
      ]
    }
  ],
  "metadata": {
    "kernelspec": {
      "display_name": "Python 3",
      "language": "python",
      "name": "python3"
    },
    "language_info": {
      "codemirror_mode": {
        "name": "ipython",
        "version": 3
      },
      "file_extension": ".py",
      "mimetype": "text/x-python",
      "name": "python",
      "nbconvert_exporter": "python",
      "pygments_lexer": "ipython3",
      "version": "3.9.6"
    },
    "colab": {
      "provenance": []
    }
  },
  "nbformat": 4,
  "nbformat_minor": 0
}