{
  "cells": [
    {
      "cell_type": "markdown",
      "metadata": {
        "id": "-Ks3uLhkoPG3"
      },
      "source": [
        "# Продвинутый Python, семинар 6\n",
        "\n",
        "**Лектор:** Петров Тимур\n",
        "\n",
        "**Семинаристы:** Садуллаев Музаффар, Бузаев Федор, Дешеулин Олег, Коган Александра, Васина Олеся\n",
        "\n",
        "**Spoiler Alert:** в рамках курса нельзя изучить ни одну из тем от и до досконально (к сожалению, на это требуется больше времени, чем даже 3 часа в неделю). Но мы попробуем рассказать столько, сколько возможно :)"
      ]
    },
    {
      "cell_type": "markdown",
      "metadata": {
        "id": "xBr9tGvDtnHP"
      },
      "source": [
        "![](https://www.sqlitetutorial.net/wp-content/uploads/2015/11/sqlite-sample-database-color.jpg)"
      ]
    },
    {
      "cell_type": "markdown",
      "source": [
        "## Работаем с ORM"
      ],
      "metadata": {
        "id": "vRHaruxgxUqW"
      }
    },
    {
      "cell_type": "markdown",
      "metadata": {
        "id": "G5Tikw7-jsts"
      },
      "source": [
        "Выглядит это вот так:\n",
        "\n",
        "![](https://s3.amazonaws.com/media-p.slid.es/uploads/10882/images/5116660/sqlalchemy__3_.png)"
      ]
    },
    {
      "cell_type": "markdown",
      "metadata": {
        "id": "MeDNnPomu5qv"
      },
      "source": [
        "* DB API - все, что про cursor, connection etc\n",
        "\n",
        "* Core - это похожее на Query Builder структура, возможность создавать запросы\n",
        "\n",
        "* ORM - уже модуль для маппинга результатов к объектам"
      ]
    },
    {
      "cell_type": "markdown",
      "metadata": {
        "id": "0fksu7Imu5qv"
      },
      "source": [
        "Установим нужные зависимости"
      ]
    },
    {
      "cell_type": "code",
      "execution_count": null,
      "metadata": {
        "id": "tqAJViMOt7rL",
        "colab": {
          "base_uri": "https://localhost:8080/"
        },
        "outputId": "8c00c6f4-68fc-41d8-f43c-53419fc4b606"
      },
      "outputs": [
        {
          "output_type": "stream",
          "name": "stdout",
          "text": [
            "Collecting pypika\n",
            "  Downloading PyPika-0.48.9.tar.gz (67 kB)\n",
            "\u001b[?25l     \u001b[90m━━━━━━━━━━━━━━━━━━━━━━━━━━━━━━━━━━━━━━━━\u001b[0m \u001b[32m0.0/67.3 kB\u001b[0m \u001b[31m?\u001b[0m eta \u001b[36m-:--:--\u001b[0m\r\u001b[2K     \u001b[90m━━━━━━━━━━━━━━━━━━━━━━━━━━━━━━━━━━━━━━━━\u001b[0m \u001b[32m67.3/67.3 kB\u001b[0m \u001b[31m2.1 MB/s\u001b[0m eta \u001b[36m0:00:00\u001b[0m\n",
            "\u001b[?25h  Installing build dependencies ... \u001b[?25l\u001b[?25hdone\n",
            "  Getting requirements to build wheel ... \u001b[?25l\u001b[?25hdone\n",
            "  Preparing metadata (pyproject.toml) ... \u001b[?25l\u001b[?25hdone\n",
            "Building wheels for collected packages: pypika\n",
            "  Building wheel for pypika (pyproject.toml) ... \u001b[?25l\u001b[?25hdone\n",
            "  Created wheel for pypika: filename=PyPika-0.48.9-py2.py3-none-any.whl size=53723 sha256=04d79d762b0cfd78ce61cc43b3dd95fe8ea2b5d348b39476430f420458f02ade\n",
            "  Stored in directory: /root/.cache/pip/wheels/e1/26/51/d0bffb3d2fd82256676d7ad3003faea3bd6dddc9577af665f4\n",
            "Successfully built pypika\n",
            "Installing collected packages: pypika\n",
            "Successfully installed pypika-0.48.9\n",
            "Requirement already satisfied: sqlalchemy in /usr/local/lib/python3.10/dist-packages (1.4.54)\n",
            "Requirement already satisfied: greenlet!=0.4.17 in /usr/local/lib/python3.10/dist-packages (from sqlalchemy) (3.1.1)\n"
          ]
        }
      ],
      "source": [
        "!pip install pypika\n",
        "!pip install sqlalchemy"
      ]
    },
    {
      "cell_type": "markdown",
      "metadata": {
        "id": "MESa-jLuu5qw"
      },
      "source": [
        "Прежде чем мы начнем делать SQL-запросы давайте подготовим сущности над объектами БД"
      ]
    },
    {
      "cell_type": "code",
      "execution_count": null,
      "metadata": {
        "id": "-rF8HlkLu5qw"
      },
      "outputs": [],
      "source": [
        "from sqlalchemy import create_engine, Column, Integer, String, ForeignKey, Table, Float\n",
        "from sqlalchemy.orm import relationship, declarative_base, sessionmaker"
      ]
    },
    {
      "cell_type": "code",
      "execution_count": null,
      "metadata": {
        "id": "ovdr9Fzbu5qw"
      },
      "outputs": [],
      "source": [
        "Base = declarative_base()"
      ]
    },
    {
      "cell_type": "code",
      "execution_count": null,
      "metadata": {
        "id": "Xa2R_kqou5qw"
      },
      "outputs": [],
      "source": [
        "class Playlist(Base):\n",
        "    __table_args__ = {'extend_existing': True}\n",
        "    __tablename__ = 'playlists'\n",
        "\n",
        "    PlaylistId = Column(Integer, primary_key=True)\n",
        "    Name = Column(String)\n",
        "\n",
        "    tracks = relationship('Track', secondary='playlist_track', back_populates='playlists')"
      ]
    },
    {
      "cell_type": "markdown",
      "metadata": {
        "id": "H7nN0Y0nu5qw"
      },
      "source": [
        "Давайте поподробнее что мы тут сделали:\n",
        "\n",
        "Здесь мы указали сущность плейлиста. Почему это называется сущностью?\n",
        "\n",
        "Оно отнаследовалось от класса Base. В контексте ORM все сущности наследуются от него. К тому же мы указали название таблицы в котором оно определяется.\n",
        "\n",
        "Так как у таблиц есть отношения с другими таблицами также мы определили `relationship` с другой таблицей."
      ]
    },
    {
      "cell_type": "markdown",
      "metadata": {
        "id": "Ik2yOF2_u5qx"
      },
      "source": [
        "В текущем примере мы создали отношение `Many-To-Many` (см. первую картинку) которое реализовано через промежуточную таблицу `playlist_track`. Это означает, что один плейлист может содержать много треков, а один трек может включен в несколько плейлистов."
      ]
    },
    {
      "cell_type": "markdown",
      "metadata": {
        "id": "6HMq4Q8ru5qx"
      },
      "source": [
        "Сделаем такое же для остальных сущностей"
      ]
    },
    {
      "cell_type": "code",
      "execution_count": null,
      "metadata": {
        "id": "i4ek3AvCu5qx"
      },
      "outputs": [],
      "source": [
        "class Genre(Base):\n",
        "    __tablename__ = 'genres'\n",
        "\n",
        "    GenreId = Column(Integer, primary_key=True)\n",
        "    Name = Column(String)\n",
        "\n",
        "    tracks = relationship('Track', back_populates='genre')"
      ]
    },
    {
      "cell_type": "code",
      "execution_count": null,
      "metadata": {
        "id": "dGoubLdqu5qx"
      },
      "outputs": [],
      "source": [
        "class Track(Base):\n",
        "    __tablename__ = 'tracks'\n",
        "\n",
        "    TrackId = Column(Integer, primary_key=True)\n",
        "    Name = Column(String)\n",
        "    AlbumId = Column(Integer, ForeignKey('albums.AlbumId'))\n",
        "    GenreId = Column(Integer, ForeignKey('genres.GenreId'))\n",
        "    Composer = Column(String)\n",
        "    Milliseconds = Column(Integer)\n",
        "    Bytes = Column(Integer)\n",
        "    UnitPrice = Column(Float)\n",
        "\n",
        "    genre = relationship('Genre', back_populates='tracks')\n",
        "    album = relationship('Album', back_populates='tracks')\n",
        "    playlists = relationship('Playlist', secondary='playlist_track', back_populates='tracks')\n",
        "    invoice_items = relationship('InvoiceItem', back_populates='track')"
      ]
    },
    {
      "cell_type": "code",
      "execution_count": null,
      "metadata": {
        "id": "Bu-spJhvuXEB"
      },
      "outputs": [],
      "source": [
        "class Album(Base):\n",
        "    __tablename__ = 'albums'\n",
        "\n",
        "    AlbumId = Column(Integer, primary_key=True)\n",
        "    Title = Column(String)\n",
        "    ArtistId = Column(Integer, ForeignKey('artists.ArtistId'))\n",
        "\n",
        "    artist = relationship('Artist', back_populates='albums')\n",
        "    tracks = relationship('Track', back_populates='album')"
      ]
    },
    {
      "cell_type": "code",
      "execution_count": null,
      "metadata": {
        "id": "BFAHiZ3ju5qx"
      },
      "outputs": [],
      "source": [
        "class Artist(Base):\n",
        "    __tablename__ = 'artists'\n",
        "\n",
        "    ArtistId = Column(Integer, primary_key=True)\n",
        "    Name = Column(String)\n",
        "\n",
        "    albums = relationship('Album', back_populates='artist')"
      ]
    },
    {
      "cell_type": "code",
      "execution_count": null,
      "metadata": {
        "id": "SA7qr64ru5qx"
      },
      "outputs": [],
      "source": [
        "class InvoiceItem(Base):\n",
        "    __tablename__ = 'invoice_items'\n",
        "\n",
        "    InvoiceLineId = Column(Integer, primary_key=True)\n",
        "    InvoiceId = Column(Integer, ForeignKey('invoices.InvoiceId'))\n",
        "    TrackId = Column(Integer, ForeignKey('tracks.TrackId'))\n",
        "    UnitPrice = Column(Float)\n",
        "    Quantity = Column(Integer)\n",
        "\n",
        "    track = relationship('Track', back_populates='invoice_items')\n",
        "    invoice = relationship('Invoice', back_populates='invoice_items')"
      ]
    },
    {
      "cell_type": "code",
      "execution_count": null,
      "metadata": {
        "id": "iCafQgapu5qx"
      },
      "outputs": [],
      "source": [
        "class Invoice(Base):\n",
        "    __tablename__ = 'invoices'\n",
        "\n",
        "    InvoiceId = Column(Integer, primary_key=True)\n",
        "    CustomerId = Column(Integer, ForeignKey('customers.CustomerId'))\n",
        "    Total = Column(Float)\n",
        "\n",
        "    customer = relationship('Customer', back_populates='invoices')\n",
        "    invoice_items = relationship('InvoiceItem', back_populates='invoice')"
      ]
    },
    {
      "cell_type": "code",
      "execution_count": null,
      "metadata": {
        "id": "flXL_KTDu5qx"
      },
      "outputs": [],
      "source": [
        "class Customer(Base):\n",
        "    __tablename__ = 'customers'\n",
        "\n",
        "    CustomerId = Column(Integer, primary_key=True)\n",
        "    FirstName = Column(String)\n",
        "    LastName = Column(String)\n",
        "    Email = Column(String)\n",
        "    Address = Column(String)\n",
        "    City = Column(String)\n",
        "    State = Column(String)\n",
        "    Country = Column(String)\n",
        "    PostalCode = Column(String)\n",
        "\n",
        "    invoices = relationship('Invoice', back_populates='customer')"
      ]
    },
    {
      "cell_type": "code",
      "execution_count": null,
      "metadata": {
        "id": "GQluolXPu5qx"
      },
      "outputs": [],
      "source": [
        "class PlaylistTrack(Base):\n",
        "    __table_args__ = {'extend_existing': True}\n",
        "    __tablename__ = 'playlist_track'\n",
        "\n",
        "    PlaylistId = Column(Integer, ForeignKey('playlists.PlaylistId'), primary_key=True)\n",
        "    TrackId = Column(Integer, ForeignKey('tracks.TrackId'), primary_key=True)"
      ]
    },
    {
      "cell_type": "markdown",
      "metadata": {
        "id": "S57kEH44u5qx"
      },
      "source": [
        "Теперь создадим сессию:"
      ]
    },
    {
      "cell_type": "code",
      "source": [
        "!wget https://github.com/Palladain/Deep_Python_2023/raw/main/week07/chinook.db"
      ],
      "metadata": {
        "colab": {
          "base_uri": "https://localhost:8080/"
        },
        "id": "pdP8CWEZzsjY",
        "outputId": "942a1124-5dbf-447e-e76d-72f6f5ac7bce"
      },
      "execution_count": null,
      "outputs": [
        {
          "output_type": "stream",
          "name": "stdout",
          "text": [
            "--2024-10-13 20:43:57--  https://github.com/Palladain/Deep_Python_2023/raw/main/week07/chinook.db\n",
            "Resolving github.com (github.com)... 140.82.113.3\n",
            "Connecting to github.com (github.com)|140.82.113.3|:443... connected.\n",
            "HTTP request sent, awaiting response... 302 Found\n",
            "Location: https://raw.githubusercontent.com/Palladain/Deep_Python_2023/main/week07/chinook.db [following]\n",
            "--2024-10-13 20:43:57--  https://raw.githubusercontent.com/Palladain/Deep_Python_2023/main/week07/chinook.db\n",
            "Resolving raw.githubusercontent.com (raw.githubusercontent.com)... 185.199.108.133, 185.199.109.133, 185.199.110.133, ...\n",
            "Connecting to raw.githubusercontent.com (raw.githubusercontent.com)|185.199.108.133|:443... connected.\n",
            "HTTP request sent, awaiting response... 200 OK\n",
            "Length: 884736 (864K) [application/octet-stream]\n",
            "Saving to: ‘chinook.db’\n",
            "\n",
            "chinook.db          100%[===================>] 864.00K  --.-KB/s    in 0.08s   \n",
            "\n",
            "2024-10-13 20:43:58 (11.0 MB/s) - ‘chinook.db’ saved [884736/884736]\n",
            "\n"
          ]
        }
      ]
    },
    {
      "cell_type": "code",
      "execution_count": null,
      "metadata": {
        "id": "06qxT8MBu5qx"
      },
      "outputs": [],
      "source": [
        "engine = create_engine('sqlite:///chinook.db')\n",
        "Session = sessionmaker(bind=engine)\n",
        "session = Session()"
      ]
    },
    {
      "cell_type": "markdown",
      "metadata": {
        "id": "-4i6qrxbu5qy"
      },
      "source": [
        "Сессия это ключевой компонент, который управляет взаимодействием с базой данных."
      ]
    },
    {
      "cell_type": "markdown",
      "metadata": {
        "id": "Wg-l5qgau5qy"
      },
      "source": [
        "В задачи сессии входит:\n",
        "* Соединение с базой данных\n",
        "* Управление объектами\n",
        "* Изменение состояния объектов"
      ]
    },
    {
      "cell_type": "markdown",
      "metadata": {
        "id": "xJjd97-Ju5qy"
      },
      "source": [
        "Сделаем запрос:"
      ]
    },
    {
      "cell_type": "code",
      "execution_count": null,
      "metadata": {
        "colab": {
          "base_uri": "https://localhost:8080/",
          "height": 180
        },
        "id": "DkQfLpgMu5qy",
        "outputId": "9221ce26-7c42-4560-b8b0-fb72bd3d0c2c"
      },
      "outputs": [
        {
          "output_type": "error",
          "ename": "NameError",
          "evalue": "name 'Playlist' is not defined",
          "traceback": [
            "\u001b[0;31m---------------------------------------------------------------------------\u001b[0m",
            "\u001b[0;31mNameError\u001b[0m                                 Traceback (most recent call last)",
            "\u001b[0;32m<ipython-input-5-5035b761f1e8>\u001b[0m in \u001b[0;36m<cell line: 1>\u001b[0;34m()\u001b[0m\n\u001b[0;32m----> 1\u001b[0;31m \u001b[0mtest_query\u001b[0m \u001b[0;34m=\u001b[0m \u001b[0msession\u001b[0m\u001b[0;34m.\u001b[0m\u001b[0mquery\u001b[0m\u001b[0;34m(\u001b[0m\u001b[0mPlaylist\u001b[0m\u001b[0;34m.\u001b[0m\u001b[0mName\u001b[0m\u001b[0;34m)\u001b[0m\u001b[0;34m.\u001b[0m\u001b[0mall\u001b[0m\u001b[0;34m(\u001b[0m\u001b[0;34m)\u001b[0m\u001b[0;34m\u001b[0m\u001b[0;34m\u001b[0m\u001b[0m\n\u001b[0m\u001b[1;32m      2\u001b[0m \u001b[0;34m\u001b[0m\u001b[0m\n\u001b[1;32m      3\u001b[0m \u001b[0mprint\u001b[0m\u001b[0;34m(\u001b[0m\u001b[0mtest_query\u001b[0m\u001b[0;34m)\u001b[0m\u001b[0;34m\u001b[0m\u001b[0;34m\u001b[0m\u001b[0m\n",
            "\u001b[0;31mNameError\u001b[0m: name 'Playlist' is not defined"
          ]
        }
      ],
      "source": [
        "test_query = session.query(Playlist.Name).all()\n",
        "\n",
        "print(test_query)"
      ]
    },
    {
      "cell_type": "markdown",
      "metadata": {
        "id": "wvbs65jhu5qy"
      },
      "source": [
        "Как видим мы делаем запрос в БД с помощью кода, написав 0 строчек SQL"
      ]
    },
    {
      "cell_type": "markdown",
      "metadata": {
        "id": "bGPyfvTEu5qy"
      },
      "source": [
        "**Задание** Подсчитать количество треков в каждом плейлисте. Необходимо вывести в паттерне `{\"name_list\": \"NAME_LIST\", \"num_tracks\": 0}`"
      ]
    },
    {
      "cell_type": "code",
      "execution_count": null,
      "metadata": {
        "colab": {
          "base_uri": "https://localhost:8080/"
        },
        "id": "oQs6ZMLTu5qy",
        "outputId": "e4b83921-943f-4ef9-c8ae-ba1512cafaa1"
      },
      "outputs": [
        {
          "output_type": "stream",
          "name": "stderr",
          "text": [
            "<ipython-input-17-7085945bc717>:5: SAWarning: SELECT statement has a cartesian product between FROM element(s) \"playlist_track\" and FROM element \"playlists\".  Apply join condition(s) between each element to resolve.\n",
            "  ).group_by(Playlist.Name).all()\n"
          ]
        }
      ],
      "source": [
        "from sqlalchemy import func ## Необходимые функции для агрегации\n",
        "\n",
        "playlist_counts = #YOUR CODE"
      ]
    },
    {
      "cell_type": "code",
      "execution_count": null,
      "metadata": {
        "id": "SuVDNUCou5qy"
      },
      "outputs": [],
      "source": [
        "for playlist, count in playlist_counts:\n",
        "    print(f\"list = {playlist}, count = {count}\")"
      ]
    },
    {
      "cell_type": "markdown",
      "metadata": {
        "id": "4VpeimVPu5qy"
      },
      "source": [
        "**Задание** Получить все альбомы и их треки"
      ]
    },
    {
      "cell_type": "code",
      "execution_count": null,
      "metadata": {
        "id": "Yo1Mf_BJu5qy"
      },
      "outputs": [],
      "source": [
        "# YOUR CODE"
      ]
    },
    {
      "cell_type": "markdown",
      "metadata": {
        "id": "ksCMKcHWu5qy"
      },
      "source": [
        "**Задание**  Найти треки без привязанных альбомов"
      ]
    },
    {
      "cell_type": "code",
      "execution_count": null,
      "metadata": {
        "id": "gi6d8GGQu5qy"
      },
      "outputs": [],
      "source": [
        "#YOUR CODE"
      ]
    },
    {
      "cell_type": "markdown",
      "metadata": {
        "id": "YXRxVnMju5qz"
      },
      "source": [
        "**Задание** Найти все жанры и количество треков в каждом жанре"
      ]
    },
    {
      "cell_type": "code",
      "execution_count": null,
      "metadata": {
        "id": "spG430LQu5qz"
      },
      "outputs": [],
      "source": [
        "from sqlalchemy import func\n",
        "\n",
        "#YOUR CODE"
      ]
    },
    {
      "cell_type": "markdown",
      "metadata": {
        "id": "65eZ8fd5u5qz"
      },
      "source": [
        "**Задание** Найти плейлисты, которые не содержат ни одного трека"
      ]
    },
    {
      "cell_type": "code",
      "execution_count": null,
      "metadata": {
        "id": "XVcmF_Z5u5qz",
        "outputId": "c84f6d83-c9fa-4c46-df3c-c91ecafcc622"
      },
      "outputs": [
        {
          "name": "stdout",
          "output_type": "stream",
          "text": [
            "Playlist without tracks: Movies\n",
            "Playlist without tracks: Audiobooks\n",
            "Playlist without tracks: Audiobooks\n",
            "Playlist without tracks: Movies\n"
          ]
        }
      ],
      "source": [
        "# YOUR CODE"
      ]
    },
    {
      "cell_type": "markdown",
      "metadata": {
        "id": "OklY6fr5u5qz"
      },
      "source": [
        "**Задание** Получить всех клиентов и их счета"
      ]
    },
    {
      "cell_type": "code",
      "execution_count": null,
      "metadata": {
        "id": "mlr1Owopu5qz"
      },
      "outputs": [],
      "source": [
        "#YOUR CODE"
      ]
    },
    {
      "cell_type": "markdown",
      "metadata": {
        "id": "J2JtkXgju5q0"
      },
      "source": [
        "**Задание** Найти все треки с их альбомами"
      ]
    },
    {
      "cell_type": "code",
      "execution_count": null,
      "metadata": {
        "id": "UI3F3gG6u5q0",
        "outputId": "d8147fa9-70aa-4a18-e52d-0adccecd89a1"
      },
      "outputs": [
        {
          "name": "stdout",
          "output_type": "stream",
          "text": [
            "Плейлист не найден.\n"
          ]
        }
      ],
      "source": [
        "from sqlalchemy import func\n",
        "\n",
        "#YOUR CODE"
      ]
    },
    {
      "cell_type": "markdown",
      "metadata": {
        "id": "Hgb40iPmu5q0"
      },
      "source": [
        "### Каcкадные операции"
      ]
    },
    {
      "cell_type": "markdown",
      "metadata": {
        "id": "T3OqcOkUu5q0"
      },
      "source": [
        "**на этом шаге ipynb необходимо перезапустить!**"
      ]
    },
    {
      "cell_type": "markdown",
      "metadata": {
        "id": "i2GRUcMYu5q0"
      },
      "source": [
        "Каскадные операции в алхимии позволяют автоматически выполнять действия с зависимыми объектами при изменении или удалении основного объекта. \\\n",
        "Например, можно автоматически удалить все связанные с объектом записи, если основной объект удаляется."
      ]
    },
    {
      "cell_type": "markdown",
      "metadata": {
        "id": "nT5GhGmzu5q0"
      },
      "source": [
        "Давайте настроим это!"
      ]
    },
    {
      "cell_type": "code",
      "execution_count": null,
      "metadata": {
        "id": "NzrAOp-5u5q0"
      },
      "outputs": [],
      "source": [
        "from sqlalchemy import Column, Integer, String, ForeignKey, create_engine\n",
        "from sqlalchemy.orm import relationship, sessionmaker\n",
        "from sqlalchemy.ext.declarative import declarative_base"
      ]
    },
    {
      "cell_type": "code",
      "execution_count": null,
      "metadata": {
        "id": "WCr7lPPuu5q0",
        "outputId": "0a803574-c8ab-451f-c2ae-0e5a8ecc320d"
      },
      "outputs": [
        {
          "name": "stderr",
          "output_type": "stream",
          "text": [
            "/var/folders/1k/s7xycc896gd2kbcgp89z21_06b4zqs/T/ipykernel_94246/4196137762.py:1: MovedIn20Warning: Deprecated API features detected! These feature(s) are not compatible with SQLAlchemy 2.0. To prevent incompatible upgrades prior to updating applications, ensure requirements files are pinned to \"sqlalchemy<2.0\". Set environment variable SQLALCHEMY_WARN_20=1 to show all deprecation warnings.  Set environment variable SQLALCHEMY_SILENCE_UBER_WARNING=1 to silence this message. (Background on SQLAlchemy 2.0 at: https://sqlalche.me/e/b8d9)\n",
            "  Base = declarative_base()\n"
          ]
        }
      ],
      "source": [
        "Base = declarative_base()"
      ]
    },
    {
      "cell_type": "code",
      "execution_count": null,
      "metadata": {
        "id": "mg1xmtGzu5q0"
      },
      "outputs": [],
      "source": [
        "class Artist(Base):\n",
        "    __tablename__ = 'artists'\n",
        "\n",
        "    ArtistId = Column(Integer, primary_key=True)\n",
        "    Name = Column(String)\n",
        "\n",
        "    albums = relationship('Album', back_populates='artist', cascade='all, delete')"
      ]
    },
    {
      "cell_type": "code",
      "execution_count": null,
      "metadata": {
        "id": "aW5MtoBwu5q0"
      },
      "outputs": [],
      "source": [
        "class Album(Base):\n",
        "    __tablename__ = 'albums'\n",
        "\n",
        "    AlbumId = Column(Integer, primary_key=True)\n",
        "    Title = Column(String)\n",
        "    ArtistId = Column(Integer, ForeignKey('artists.ArtistId'))\n",
        "\n",
        "    artist = relationship('Artist', back_populates='albums')"
      ]
    },
    {
      "cell_type": "code",
      "execution_count": null,
      "metadata": {
        "id": "UO_oaZiqu5q0"
      },
      "outputs": [],
      "source": [
        "engine = create_engine('sqlite:///chinook.db')\n",
        "Session = sessionmaker(bind=engine)\n",
        "session = Session()"
      ]
    },
    {
      "cell_type": "code",
      "execution_count": null,
      "metadata": {
        "id": "JRuQWz0ju5q0"
      },
      "outputs": [],
      "source": [
        "new_artist = Artist(Name=\"Артист Артистович\")\n",
        "new_album1 = Album(Title=\"Первый альбом\", artist=new_artist)\n",
        "new_album2 = Album(Title=\"Второй альбом\", artist=new_artist)"
      ]
    },
    {
      "cell_type": "code",
      "execution_count": null,
      "metadata": {
        "id": "Rdn1fgo-u5q0"
      },
      "outputs": [],
      "source": [
        "session.add(new_artist)\n",
        "session.commit()"
      ]
    },
    {
      "cell_type": "code",
      "execution_count": null,
      "metadata": {
        "id": "oxnw-FqWu5q1",
        "outputId": "97a05115-e14c-4976-c406-432c1813f40a"
      },
      "outputs": [
        {
          "name": "stdout",
          "output_type": "stream",
          "text": [
            "Добавили артиста и его альбомы!\n",
            "Новый артист: Артист Артистович\n",
            "\t- Альбомы: Первый альбом\n",
            "\t- Альбомы: Второй альбом\n"
          ]
        }
      ],
      "source": [
        "print(\"Добавили артиста и его альбомы!\")\n",
        "artist = session.query(Artist).filter_by(Name=\"Артист Артистович\").first()\n",
        "print(f\"Новый артист: {artist.Name}\")\n",
        "for album in artist.albums:\n",
        "    print(f\"\\t- Альбомы: {album.Title}\")"
      ]
    },
    {
      "cell_type": "code",
      "execution_count": null,
      "metadata": {
        "id": "B0l_gbQHu5q1"
      },
      "outputs": [],
      "source": [
        "# откатим назад\n",
        "session.delete(artist)\n",
        "session.commit()"
      ]
    },
    {
      "cell_type": "code",
      "execution_count": null,
      "metadata": {
        "id": "z22CtOYxu5q1",
        "outputId": "83d371af-eadd-4e53-9aed-663606534f5c"
      },
      "outputs": [
        {
          "name": "stdout",
          "output_type": "stream",
          "text": [
            "Артист: None\n",
            "Его альбомы:  []\n"
          ]
        }
      ],
      "source": [
        "deleted_artist = session.query(Artist).filter_by(Name=\"Артист Артистович\").first()\n",
        "deleted_albums = session.query(Album).filter(Album.Title.in_([\"Первый альбом\", \"Второй альбом\"])).all()\n",
        "\n",
        "print(\"Артист:\", deleted_artist)\n",
        "print(\"Его альбомы: \", deleted_albums)"
      ]
    },
    {
      "cell_type": "markdown",
      "source": [
        "### А что если генерировать ORM модели?"
      ],
      "metadata": {
        "id": "qRjlFPyr96Rz"
      }
    },
    {
      "cell_type": "markdown",
      "source": [
        "(запускайте это локально!!!)"
      ],
      "metadata": {
        "id": "t9GC-YUQBGbw"
      }
    },
    {
      "cell_type": "markdown",
      "source": [
        "Такое в природе существует. Используется в основном для дебага или по другим причинам когда не хочется писать свои модели. Установим библиотеку."
      ],
      "metadata": {
        "id": "EqWwHnb_-GoE"
      }
    },
    {
      "cell_type": "code",
      "source": [
        "!pip install sqlacodegen"
      ],
      "metadata": {
        "colab": {
          "base_uri": "https://localhost:8080/"
        },
        "id": "xrJgwOdf-S2w",
        "outputId": "dd6fec4b-a13b-4e78-8093-a2072ce72779"
      },
      "execution_count": null,
      "outputs": [
        {
          "output_type": "stream",
          "name": "stdout",
          "text": [
            "Collecting sqlacodegen\n",
            "  Downloading sqlacodegen-2.3.0.post1-py2.py3-none-any.whl.metadata (5.2 kB)\n",
            "Collecting SQLAlchemy<2.0,>=0.9.0 (from sqlacodegen)\n",
            "  Downloading SQLAlchemy-1.4.54-cp310-cp310-manylinux_2_5_x86_64.manylinux1_x86_64.manylinux_2_17_x86_64.manylinux2014_x86_64.whl.metadata (10 kB)\n",
            "Requirement already satisfied: inflect>=0.2.0 in /usr/local/lib/python3.10/dist-packages (from sqlacodegen) (7.4.0)\n",
            "Requirement already satisfied: more-itertools>=8.5.0 in /usr/local/lib/python3.10/dist-packages (from inflect>=0.2.0->sqlacodegen) (10.5.0)\n",
            "Requirement already satisfied: typeguard>=4.0.1 in /usr/local/lib/python3.10/dist-packages (from inflect>=0.2.0->sqlacodegen) (4.3.0)\n",
            "Requirement already satisfied: greenlet!=0.4.17 in /usr/local/lib/python3.10/dist-packages (from SQLAlchemy<2.0,>=0.9.0->sqlacodegen) (3.1.1)\n",
            "Requirement already satisfied: typing-extensions>=4.10.0 in /usr/local/lib/python3.10/dist-packages (from typeguard>=4.0.1->inflect>=0.2.0->sqlacodegen) (4.12.2)\n",
            "Downloading sqlacodegen-2.3.0.post1-py2.py3-none-any.whl (13 kB)\n",
            "Downloading SQLAlchemy-1.4.54-cp310-cp310-manylinux_2_5_x86_64.manylinux1_x86_64.manylinux_2_17_x86_64.manylinux2014_x86_64.whl (1.6 MB)\n",
            "\u001b[2K   \u001b[90m━━━━━━━━━━━━━━━━━━━━━━━━━━━━━━━━━━━━━━━━\u001b[0m \u001b[32m1.6/1.6 MB\u001b[0m \u001b[31m12.1 MB/s\u001b[0m eta \u001b[36m0:00:00\u001b[0m\n",
            "\u001b[?25hInstalling collected packages: SQLAlchemy, sqlacodegen\n",
            "  Attempting uninstall: SQLAlchemy\n",
            "    Found existing installation: SQLAlchemy 2.0.35\n",
            "    Uninstalling SQLAlchemy-2.0.35:\n",
            "      Successfully uninstalled SQLAlchemy-2.0.35\n",
            "\u001b[31mERROR: pip's dependency resolver does not currently take into account all the packages that are installed. This behaviour is the source of the following dependency conflicts.\n",
            "ipython-sql 0.5.0 requires sqlalchemy>=2.0, but you have sqlalchemy 1.4.54 which is incompatible.\u001b[0m\u001b[31m\n",
            "\u001b[0mSuccessfully installed SQLAlchemy-1.4.54 sqlacodegen-2.3.0.post1\n"
          ]
        }
      ]
    },
    {
      "cell_type": "code",
      "source": [
        "!sqlacodegen sqlite:///chinook.db --outfile models.py"
      ],
      "metadata": {
        "id": "lrGx24O1-SCi"
      },
      "execution_count": null,
      "outputs": []
    },
    {
      "cell_type": "code",
      "source": [
        "from models import Artist\n",
        "\n",
        "new_artist = Artist(Name=\"Артист Артистович\")\n",
        "session.add(new_artist)\n",
        "\n",
        "\n",
        "artist = session.query(Artist).filter_by(Name=\"Артист Артистович\").first()\n",
        "print(\"Найдет артист:\", artist)"
      ],
      "metadata": {
        "id": "X9I6P1Zw-BH-"
      },
      "execution_count": null,
      "outputs": []
    }
  ],
  "metadata": {
    "colab": {
      "provenance": []
    },
    "kernelspec": {
      "display_name": "Python 3",
      "name": "python3"
    },
    "language_info": {
      "codemirror_mode": {
        "name": "ipython",
        "version": 3
      },
      "file_extension": ".py",
      "mimetype": "text/x-python",
      "name": "python",
      "nbconvert_exporter": "python",
      "pygments_lexer": "ipython3",
      "version": "3.9.6"
    }
  },
  "nbformat": 4,
  "nbformat_minor": 0
}