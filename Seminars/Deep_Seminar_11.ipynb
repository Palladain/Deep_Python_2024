{
  "nbformat": 4,
  "nbformat_minor": 0,
  "metadata": {
    "colab": {
      "provenance": []
    },
    "kernelspec": {
      "name": "python3",
      "display_name": "Python 3"
    },
    "language_info": {
      "name": "python"
    }
  },
  "cells": [
    {
      "cell_type": "markdown",
      "source": [
        "# Продвинутый Python, семинар 11\n",
        "\n",
        "**Лектор:** Петров Тимур\n",
        "\n",
        "**Семинаристы:** Бузаев Федор, Дешеулин Олег, Коган Александра, Васина Олеся, Садуллаев Музаффар\n",
        "\n",
        "**NB:** код внутри колаба не запустится"
      ],
      "metadata": {
        "id": "1eJeW8yUKqfR"
      }
    },
    {
      "cell_type": "markdown",
      "source": [
        "## Продолжаем мучать телегу"
      ],
      "metadata": {
        "id": "T2OORY3gKtQ-"
      }
    },
    {
      "cell_type": "markdown",
      "source": [
        "### Шаг 5. Инлайн-кнопки"
      ],
      "metadata": {
        "id": "OwFoAGYiKwCn"
      }
    },
    {
      "cell_type": "markdown",
      "source": [
        "Инлайн-кнопки - это кнопки, которые находятся в самом сообщении. В отличии от обычных кнопок, они постоянно находятся в чате, и по ним можно тыкнуть всегда.\n",
        "\n",
        "Бывает три вида таких кнопок:\n",
        "\n",
        "* Кнопки-ссылки\n",
        "\n",
        "* Callback кнопки\n",
        "\n",
        "* Switch кнопки (рассмотрим отдельно)"
      ],
      "metadata": {
        "id": "7NM5GeMhKzRs"
      }
    },
    {
      "cell_type": "markdown",
      "source": [
        "Самые простые кнопки - это ссылки. Работают они примерно так:"
      ],
      "metadata": {
        "id": "6xgFpK41MF5c"
      }
    },
    {
      "cell_type": "code",
      "execution_count": null,
      "metadata": {
        "id": "iCyUYj0aKcAp"
      },
      "outputs": [],
      "source": [
        "from aiogram import Bot, Dispatcher, html, F, Router\n",
        "from aiogram.filters import CommandStart, Command\n",
        "from aiogram.types import Message, KeyboardButton, ReplyKeyboardMarkup, KeyboardButtonPollType, InlineKeyboardButton\n",
        "from aiogram.utils.keyboard import InlineKeyboardBuilder\n",
        "\n",
        "@text_router.message(Command(\"inline_url\"))\n",
        "async def cmd_inline_url(message: Message, bot: Bot):\n",
        "    builder = InlineKeyboardBuilder()\n",
        "    builder.row(InlineKeyboardButton(\n",
        "        text=\"GitHub\", url=\"https://github.com\")\n",
        "    )\n",
        "    builder.row(InlineKeyboardButton(\n",
        "        text=\"Оф. канал Telegram\",\n",
        "        url=\"tg://resolve?domain=telegram\")\n",
        "    )\n",
        "    await message.answer(\n",
        "        'Выберите ссылку',\n",
        "        reply_markup=builder.as_markup(),\n",
        "    )"
      ]
    },
    {
      "cell_type": "markdown",
      "source": [
        "По сути все то же самое, что и с обычными кнопками, единственное, что у нас все меняется на inline. В целом никаких сложностей нет."
      ],
      "metadata": {
        "id": "pEaGH1XuNBn7"
      }
    },
    {
      "cell_type": "markdown",
      "source": [
        "Заострим внимание на callback кнопки. Что это такое?\n",
        "\n",
        "Это кнопки, которые при нажатии отправляют в сам бот послание, которое мы можем дальше обрабатывать внутри (то есть мы не посылаем сообщение, а сразу же отправляем в диспетчер событие)\n",
        "\n",
        "И для подобного callback у нас появляется новый хендлер - callback_query\n",
        "\n",
        "Давайте для примера сделаем кнопку, которая будет генерить и выдавать рандомное число:"
      ],
      "metadata": {
        "id": "N1dRNkq-NUIC"
      }
    },
    {
      "cell_type": "code",
      "source": [
        "from aiogram.filters import CommandStart, Command\n",
        "from aiogram.types import Message, KeyboardButton, ReplyKeyboardMarkup, KeyboardButtonPollType, InlineKeyboardButton, CallbackQuery\n",
        "from numpy.random import randint\n",
        "from aiogram.utils.keyboard import InlineKeyboardBuilder\n",
        "\n",
        "\n",
        "## Добавляем кнопку с callback\n",
        "@text_router.message(Command(\"random_number\"))\n",
        "async def cmd_random(message: Message):\n",
        "    builder = InlineKeyboardBuilder()\n",
        "    builder.add(InlineKeyboardButton(\n",
        "        text=\"Тык\",\n",
        "        callback_data=\"random_number\")\n",
        "    )\n",
        "    await message.answer(\n",
        "        \"Генерируй число!\",\n",
        "        reply_markup=builder.as_markup()\n",
        "    )\n",
        "\n",
        "# Обрабатываем сам callback\n",
        "@text_router.callback_query(F.data == \"random_number\") #обратите внимание, тут смотрим не сообщение, а data, которую передали\n",
        "async def send_random_value(callback: CallbackQuery):\n",
        "    await callback.message.reply(str(randint(1, 100)))"
      ],
      "metadata": {
        "id": "DLikoOA7OB4r"
      },
      "execution_count": null,
      "outputs": []
    },
    {
      "cell_type": "markdown",
      "source": [
        "Запускаем, тыкаем... Работает! Другое дело, что он как будто еще что-то ожидает (как будто что-то не кончилось, сама кнопка мигает)\n",
        "\n",
        "Почему так? Потому что в общем случае callback_query ожидает ответ, что все закончилось, а мы пока этого не передали. Что надо добавить? А вот это:"
      ],
      "metadata": {
        "id": "-1vKxnFnPQnx"
      }
    },
    {
      "cell_type": "code",
      "source": [
        "from aiogram.filters import CommandStart, Command\n",
        "from aiogram.types import Message, KeyboardButton, ReplyKeyboardMarkup, KeyboardButtonPollType, InlineKeyboardButton, CallbackQuery\n",
        "from numpy.random import randint\n",
        "from aiogram.utils.keyboard import InlineKeyboardBuilder\n",
        "\n",
        "\n",
        "## Добавляем кнопку с callback\n",
        "@text_router.message(Command(\"random_number\"))\n",
        "async def cmd_random(message: Message):\n",
        "    builder = InlineKeyboardBuilder()\n",
        "    builder.add(InlineKeyboardButton(\n",
        "        text=\"Тык\",\n",
        "        callback_data=\"random_number\")\n",
        "    )\n",
        "    await message.answer(\n",
        "        \"Генерируй число!\",\n",
        "        reply_markup=builder.as_markup()\n",
        "    )\n",
        "\n",
        "# Обрабатываем сам callback\n",
        "@text_router.callback_query(F.data == \"random_number\") #обратите внимание, тут смотрим не сообщение, а data, которую передали\n",
        "async def send_random_value(callback: CallbackQuery):\n",
        "    await callback.message.reply(str(randint(1, 100)))\n",
        "    await callback.answer()"
      ],
      "metadata": {
        "id": "Nrwo5vAbPflz"
      },
      "execution_count": null,
      "outputs": []
    },
    {
      "cell_type": "markdown",
      "source": [
        "Таким образом и даже ожидать ничего не нужно, запрос закрылся! Отлично, научились пользоваться callback кнопками"
      ],
      "metadata": {
        "id": "OwyeimOQPqnk"
      }
    },
    {
      "cell_type": "markdown",
      "source": [
        "### Шаг 6. Конечные автоматы"
      ],
      "metadata": {
        "id": "s9vf9sQ2SU7m"
      }
    },
    {
      "cell_type": "markdown",
      "source": [
        "В теории алгоритмов есть такая вещь, как конечные автоматы (Finite State Machine, FSM). Что это такое?\n",
        "\n",
        "Это набор состояний, переходов и условий для переходов в новое состояние (вот [тут](https://habr.com/ru/articles/358304/) можно почитать чуть подробнее). Что нас здесь интересует с точки зрения Телеграма?\n",
        "\n",
        "Если задуматься, множество процессов есть конечный автомат. Давайте на примере какого-нибудь дейтинга:\n",
        "\n",
        "1. Регистрация\n",
        "2. Ввод почты\n",
        "3. Ввод имени\n",
        "4. Загрузка фото\n",
        "5. Загрузка bio\n",
        "6. Profit\n",
        "\n",
        "Каждый этап у вас идет один за другим. Если не считать, что все можно скипнуть, то пока вы не выполните каждый из этапов (состояние), то вы не перейдете в следующий (условие перехода). Соответственно, для ботов можно задавать такую же логику работы"
      ],
      "metadata": {
        "id": "91FK7-sDSbcm"
      }
    },
    {
      "cell_type": "markdown",
      "source": [
        "Для этого будем с нуля создавать бота для заказа пиццы!"
      ],
      "metadata": {
        "id": "xBUIOROvUuNT"
      }
    },
    {
      "cell_type": "markdown",
      "source": [
        "Так как у нас тут домашняя поделка, то пока что не будем думать про БД, а сделаем все достаточно банально в виде списков. Допустим, что у нас есть следующая конфигурация:"
      ],
      "metadata": {
        "id": "nNYo4GHYZC65"
      }
    },
    {
      "cell_type": "code",
      "source": [
        "available_pizza = [\"Маргарита\", \"Пепперони\", \"Ветчина и сыр\"]\n",
        "available_sizes = [\"Маленькая (25см)\", \"Средняя (30см)\", \"Большая (40см)\"]"
      ],
      "metadata": {
        "id": "yr-jjktQZOWY"
      },
      "execution_count": null,
      "outputs": []
    },
    {
      "cell_type": "markdown",
      "source": [
        "Что мы хотим видеть от бота? Хотим видеть следующую структуру:\n",
        "\n",
        "1. Выбор пиццы\n",
        "2. Выбор размера\n",
        "\n",
        "Размер нельзя выбрать до выбора пиццы, оформить заказ нельзя без выбора обоих опций.\n",
        "\n",
        "Для того, чтобы создать конечный автомат, нам нужны состояния. В нашем случае состояния понятны:\n",
        "\n",
        "1. Выбрана пицца\n",
        "2. Выбран размер\n",
        "\n",
        "Пишем их с помощью инструментов aiogram (называется State)"
      ],
      "metadata": {
        "id": "TVAWHgmxZbJp"
      }
    },
    {
      "cell_type": "code",
      "source": [
        "from aiogram.fsm.state import StatesGroup, State\n",
        "\n",
        "class OrderFood(StatesGroup): #задаем класс для наших состояний\n",
        "    choosing_food_name = State() # выбор пиццы\n",
        "    choosing_food_size = State() # выбор размера"
      ],
      "metadata": {
        "id": "Gl2spvDSaeZd"
      },
      "execution_count": null,
      "outputs": []
    },
    {
      "cell_type": "code",
      "source": [
        "@command_router.message(StateFilter(None), Command(\"order\")) # Добавляем фильтр на состояние (Пустое)\n",
        "async def cmd_food(message: Message, state: FSMContext):\n",
        "    row = [KeyboardButton(text=item) for item in available_pizza]\n",
        "    kb = ReplyKeyboardMarkup(keyboard=[row], resize_keyboard=True)\n",
        "    await message.answer(\n",
        "        text=\"Выберите блюдо:\",\n",
        "        reply_markup=kb\n",
        "    )\n",
        "    await state.set_state(OrderFood.choosing_food_name) #ставим ожидание выбора"
      ],
      "metadata": {
        "id": "DZpjCCIjnwIc"
      },
      "execution_count": null,
      "outputs": []
    },
    {
      "cell_type": "markdown",
      "source": [
        "Следующий шаг - отловить выбор еды:"
      ],
      "metadata": {
        "id": "chvBv42Sn6HU"
      }
    },
    {
      "cell_type": "code",
      "source": [
        "@command_router.message(\n",
        "    OrderFood.choosing_food_name,\n",
        "    F.text.in_(available_pizza)\n",
        ")\n",
        "async def food_chosen(message: Message, state: FSMContext):\n",
        "    row = [KeyboardButton(text=item) for item in available_sizes]\n",
        "    kb = ReplyKeyboardMarkup(keyboard=[row], resize_keyboard=True)\n",
        "    await state.update_data(chosen_food=message.text) # апдейт по состоянию\n",
        "    await message.answer(\n",
        "        text=\"Спасибо. Теперь, пожалуйста, выберите размер порции:\",\n",
        "        reply_markup=kb\n",
        "    )\n",
        "    await state.set_state(OrderFood.choosing_food_size) # следующее состояние"
      ],
      "metadata": {
        "id": "-Z8MxLJToNsj"
      },
      "execution_count": null,
      "outputs": []
    },
    {
      "cell_type": "markdown",
      "source": [
        "Попробуем запустить. Что у нас получится? Вроде все как и должно быть\n",
        "\n",
        "Но что будет, если пользователь попробует сам ввести и у него не получится ввести правильно? Правильно - ничего. Для этого можно добавить отдельный хендлер для отработки (опять-таки, используя текущий State)\n",
        "\n",
        "Осталось добавить еще один шаг - докинуть общий заказ. Как нам выцепить всю прошлую инфу из диалога? А вот так:\n",
        "\n"
      ],
      "metadata": {
        "id": "kRNyK4S8ocN8"
      }
    },
    {
      "cell_type": "code",
      "source": [
        "@command_router.message(OrderFood.choosing_food_size, F.text.in_(available_sizes))\n",
        "async def food_size_chosen(message: Message, state: FSMContext):\n",
        "    user_data = await state.get_data() # получаем всю скопленную информацию\n",
        "    await message.answer(\n",
        "        text=f\"Вы выбрали {user_data['chosen_food']}, {message.text}\", # тут ее можно использовать!\n",
        "        reply_markup=ReplyKeyboardRemove() #Убираем клаву\n",
        "    )\n",
        "    await state.clear() #очищаем стейт"
      ],
      "metadata": {
        "id": "827fMBGqpJZ1"
      },
      "execution_count": null,
      "outputs": []
    },
    {
      "cell_type": "markdown",
      "source": [
        "Ну а теперь последнее, что нам нужно сделать: обработать отмену (вдруг пользователь решил что-нибудь да поменять в заказе, правда ведь?)"
      ],
      "metadata": {
        "id": "XvwgyEjPqLV2"
      }
    },
    {
      "cell_type": "code",
      "source": [
        "@command_router.message(StateFilter(None), Command(commands=[\"cancel\"])) # отмена в самом начале\n",
        "@command_router.message(default_state, F.text.lower() == \"отмена\") #default_state == пустой State\n",
        "async def cmd_cancel_no_state(message: Message, state: FSMContext):\n",
        "    await state.set_data({}) # убираем данные\n",
        "    await message.answer(\n",
        "        text=\"Нечего отменять\",\n",
        "        reply_markup=ReplyKeyboardRemove()\n",
        "    )\n",
        "\n",
        "@command_router.message(Command(commands=[\"cancel\"]))\n",
        "@command_router.message(F.text.lower() == \"отмена\")\n",
        "async def cmd_cancel(message: Message, state: FSMContext):\n",
        "    await state.clear() # чистим полностью\n",
        "    await message.answer(\n",
        "        text=\"Действие отменено\",\n",
        "        reply_markup=ReplyKeyboardRemove()\n",
        "    )"
      ],
      "metadata": {
        "id": "ptU6d7Upqq7j"
      },
      "execution_count": null,
      "outputs": []
    },
    {
      "cell_type": "markdown",
      "source": [
        "Ну отлично, мы с вами научились делать диалоговые системы с каким никаким запоминанием ответов, победа!"
      ],
      "metadata": {
        "id": "eg2CF3XFrAeh"
      }
    },
    {
      "cell_type": "markdown",
      "source": [
        "### Шаг 7. Инлайн-режим"
      ],
      "metadata": {
        "id": "SLydinDEQusf"
      }
    },
    {
      "cell_type": "markdown",
      "source": [
        "Что такое инлайн-режим?\n",
        "\n",
        "Давайте на примере: если в телеге ввести @gif, то у вас всплывают гифки и поиск по ним. Собственно говоря, это и есть инлайн-режим (поиск внутри строки)\n",
        "\n",
        "Это удобно для поиска (например, можно использовать в качестве поиска по функциям внутри бота).\n",
        "\n",
        "Как это работает? Когда вы вводите название бота, то вызывается так называемый InlineQuery внутри бота, который можно обрабатывать."
      ],
      "metadata": {
        "id": "z3Az2xbLQyot"
      }
    },
    {
      "cell_type": "markdown",
      "source": [
        "Чтобы инлайн-режим у бота вообще работал, его вначале надо включить в самой телеге. Для этого заходим в BotFather (/setinline -> выбираем бота -> пишем placeholder)"
      ],
      "metadata": {
        "id": "i67cjrmwRvgO"
      }
    },
    {
      "cell_type": "markdown",
      "source": [
        "Что же, давайте с вами на примере попробуем добавить inline query для нашего бота, чтобы подтянуть красивое инфо (добавим тот же самый order):"
      ],
      "metadata": {
        "id": "zCKnwJ3hrt5O"
      }
    },
    {
      "cell_type": "code",
      "source": [
        "@inline_router.inline_query()\n",
        "async def show_user_links(inline_query: InlineQuery):\n",
        "    commands = [r\"/start\", r\"/order\"]\n",
        "    descriptions = [\"Инфо\", \"Сделать заказ\"]\n",
        "\n",
        "    results = []\n",
        "    for i in range(len(commands)):\n",
        "        results.append(InlineQueryResultArticle(\n",
        "            id=str(i),\n",
        "            title=commands[i],\n",
        "            description=descriptions[i],\n",
        "            input_message_content=InputTextMessageContent(message_text=commands[i])\n",
        "        ))\n",
        "    await inline_query.answer(results)"
      ],
      "metadata": {
        "id": "7idUCFGmr4Pg"
      },
      "execution_count": null,
      "outputs": []
    },
    {
      "cell_type": "markdown",
      "source": [
        "Что тут происходит?\n",
        "\n",
        "При выхове бота у нас создается InlineQuery, который как раз и прокидывается (так как хотим иметь что угодно, то никаких фильтров не добавляем)\n",
        "\n",
        "После этого мы создаем массив из ответов, что он из себя представляет:\n",
        "\n",
        "* InlineQueryResultArticle - наш объект для отображения\n",
        "\n",
        "Внутри объекта должно быть несколько значений:\n",
        "\n",
        "* id - id объекта (должен был уникальным)\n",
        "\n",
        "* title - название\n",
        "\n",
        "* description - описание\n",
        "\n",
        "* input_message_content - ответ, который происходит при клике (в нашем случае просто отправляем команду)\n",
        "\n",
        "В целом все, ура, мы собрали даже инлайн-режим для нашего простенького бота!"
      ],
      "metadata": {
        "id": "tLZZxK5ougE-"
      }
    },
    {
      "cell_type": "markdown",
      "source": [
        "### Шаг 8. Собираем теперь воедино в красивую картину!"
      ],
      "metadata": {
        "id": "EriHMXu0v6Zx"
      }
    },
    {
      "cell_type": "markdown",
      "source": [
        "Теперь со всей информацией, которую мы получили, мы можем прямо-таки собрать красивого бота!"
      ],
      "metadata": {
        "id": "yXpKIoBrwAYD"
      }
    },
    {
      "cell_type": "markdown",
      "source": [
        "Что нам нужно добавить?\n",
        "\n",
        "* Просмотр заказа и добавление нескольких товаров\n",
        "\n",
        "* Отмена заказа\n",
        "\n",
        "* Переход назад, если человек решил выбрать другую пиццу\n",
        "\n",
        "* Кнопочка оплатить (просто поставим заглушку)"
      ],
      "metadata": {
        "id": "1m8WHyzx4SCV"
      }
    },
    {
      "cell_type": "markdown",
      "source": [
        "Итоговый результат:"
      ],
      "metadata": {
        "id": "ZxDM5OgL4kSc"
      }
    },
    {
      "cell_type": "markdown",
      "source": [
        "text_commands:"
      ],
      "metadata": {
        "id": "Omrw5KGm4n-J"
      }
    },
    {
      "cell_type": "code",
      "source": [
        "from aiogram import F, Router\n",
        "from aiogram.types import Message\n",
        "from aiogram.fsm.context import FSMContext\n",
        "from handlers.commands import order\n",
        "from aiogram.enums import ParseMode\n",
        "\n",
        "text_router = Router()\n",
        "\n",
        "@text_router.message(F.text.lower() == 'что это')\n",
        "async def cmd_faq(message: Message):\n",
        "    text = '''\n",
        "    Привет! Это бот для заказа пиццы из нашей очень популярной пиццерии! 🦜\n",
        "    Ты можешь сделать заказ с помощью команды /order\n",
        "    '''\n",
        "    await message.answer(text)\n",
        "\n",
        "@text_router.message(F.text.lower() == 'посмотреть заказ')\n",
        "async def cmd_lookup(message: Message):\n",
        "    if len(order) == 0:\n",
        "        await message.answer(\"В корзине пусто 😭\", parse_mode=ParseMode.HTML)\n",
        "    else:\n",
        "        text = \"Вот ваш заказ: \\n\"\n",
        "        for i in order:\n",
        "            text += f\"<b> {i} </b> \\n\"\n",
        "        await message.answer(text, parse_mode=ParseMode.HTML)\n",
        "\n",
        "@text_router.message(F.text == 'Отменить заказ')\n",
        "async def cmd_cancel_all(message: Message, state: FSMContext):\n",
        "    order.clear()\n",
        "    await state.clear()\n",
        "    await message.answer(\"Ваш заказ отменен\")\n",
        "\n",
        "@text_router.message(F.text.lower() == 'оплата')\n",
        "async def cmd_cancel_all(message: Message, state: FSMContext):\n",
        "    order.clear()\n",
        "    await state.clear()\n",
        "    await message.answer(\"Отправили ваш заказ, ожидайте!\")\n",
        "\n",
        "@text_router.message()\n",
        "async def cmd_dont_know(message: Message):\n",
        "    text = '''\n",
        "    Простите, пожалуйста, не понимаю, что вы хотите сказать 😭\n",
        "    '''\n",
        "    await message.answer(text)"
      ],
      "metadata": {
        "id": "Fsdh-OqM4l7a"
      },
      "execution_count": null,
      "outputs": []
    },
    {
      "cell_type": "markdown",
      "source": [
        "inline_mode"
      ],
      "metadata": {
        "id": "fUPLF-FG4qVX"
      }
    },
    {
      "cell_type": "code",
      "source": [
        "from aiogram import Router\n",
        "from aiogram.types import InlineQuery, InlineQueryResultArticle, InputTextMessageContent\n",
        "\n",
        "\n",
        "inline_router = Router()\n",
        "\n",
        "@inline_router.inline_query()\n",
        "async def show_user_links(inline_query: InlineQuery):\n",
        "    commands = [r\"/start\", r\"/order\"]\n",
        "    descriptions = [\"Инфо\", \"Сделать заказ\"]\n",
        "\n",
        "    results = []\n",
        "    for i in range(len(commands)):\n",
        "        results.append(InlineQueryResultArticle(\n",
        "            id=str(i),\n",
        "            title=commands[i],\n",
        "            description=descriptions[i],\n",
        "            input_message_content=InputTextMessageContent(message_text=commands[i])\n",
        "        ))\n",
        "    await inline_query.answer(results)"
      ],
      "metadata": {
        "id": "cCme_k4z4sqv"
      },
      "execution_count": null,
      "outputs": []
    },
    {
      "cell_type": "markdown",
      "source": [
        "commands"
      ],
      "metadata": {
        "id": "q9t3512a4tPE"
      }
    },
    {
      "cell_type": "code",
      "source": [
        "from aiogram import F, Router\n",
        "from aiogram.filters import CommandStart, Command, StateFilter\n",
        "from aiogram.types import Message, KeyboardButton, ReplyKeyboardMarkup, ReplyKeyboardRemove\n",
        "from aiogram.fsm.state import default_state\n",
        "from aiogram.fsm.context import FSMContext\n",
        "from states.order_state import OrderFood\n",
        "\n",
        "order = []\n",
        "available_pizza = [\"Маргарита\", \"Пепперони\", \"Ветчина и сыр\"]\n",
        "available_sizes = [\"Маленькая (25см)\", \"Средняя (30см)\", \"Большая (40см)\"]\n",
        "\n",
        "command_router = Router()\n",
        "\n",
        "@command_router.message(CommandStart())\n",
        "async def cmd_hello(message: Message):\n",
        "    await message.answer(\"Добро пожаловать в ресторан PyPizza! Здесь вы можете оформить свой заказ\")\n",
        "    await message.answer(r\"Оформите заказ с помощью команды /order\")\n",
        "\n",
        "@command_router.message(StateFilter(None), Command(\"order\"))\n",
        "@command_router.message(StateFilter(None), F.text.lower().contains(\"добавить\"))\n",
        "async def cmd_food(message: Message, state: FSMContext):\n",
        "    order = []\n",
        "    row = [KeyboardButton(text=item) for item in available_pizza]\n",
        "    kb = ReplyKeyboardMarkup(keyboard=[row], resize_keyboard=True)\n",
        "    await message.answer(\n",
        "        text=\"Выберите блюдо:\",\n",
        "        reply_markup=kb\n",
        "    )\n",
        "    await state.set_state(OrderFood.choosing_food_name)\n",
        "\n",
        "@command_router.message(\n",
        "    OrderFood.choosing_food_name,\n",
        "    F.text.in_(available_pizza)\n",
        ")\n",
        "async def food_chosen(message: Message, state: FSMContext):\n",
        "    row = [KeyboardButton(text=item) for item in available_sizes]\n",
        "    row_1 = [KeyboardButton(text=\"Вернуться назад\")]\n",
        "    kb = ReplyKeyboardMarkup(keyboard=[row, row_1], resize_keyboard=True)\n",
        "    await state.update_data(chosen_food=message.text)\n",
        "    await message.answer(\n",
        "        text=\"Спасибо. Теперь, пожалуйста, выберите размер порции:\",\n",
        "        reply_markup=kb\n",
        "    )\n",
        "    await state.set_state(OrderFood.choosing_food_size)\n",
        "\n",
        "@command_router.message(OrderFood.choosing_food_size, F.text.lower().contains(\"назад\"))\n",
        "async def food_choose_back(message: Message, state: FSMContext):\n",
        "    await state.clear()\n",
        "    row = [KeyboardButton(text=item) for item in available_pizza]\n",
        "    kb = ReplyKeyboardMarkup(keyboard=[row], resize_keyboard=True)\n",
        "    await message.answer(\n",
        "        text=f\"Возвращаю на выбор пиццы\",\n",
        "        reply_markup=kb\n",
        "    )\n",
        "    await state.set_state(OrderFood.choosing_food_name)\n",
        "\n",
        "@command_router.message(OrderFood.choosing_food_size, F.text.in_(available_sizes))\n",
        "async def food_size_chosen(message: Message, state: FSMContext):\n",
        "    user_data = await state.get_data()\n",
        "    row = [KeyboardButton(text=\"Добавить товар\"), KeyboardButton(text=\"Оплата\")]\n",
        "    row_1 = [KeyboardButton(text=\"Посмотреть заказ\"), KeyboardButton(text='Отменить заказ')]\n",
        "    kb = ReplyKeyboardMarkup(keyboard=[row, row_1], resize_keyboard=True)\n",
        "    order.append(f\"{user_data['chosen_food']}, {message.text}\")\n",
        "    await message.answer(\n",
        "        text=f\"Вы выбрали {user_data['chosen_food']}, {message.text}\",\n",
        "        reply_markup=kb\n",
        "    )\n",
        "    await state.clear()\n",
        "\n",
        "@command_router.message(StateFilter(None), Command(commands=[\"cancel\"]))\n",
        "@command_router.message(default_state, F.text.lower() == \"отмена\")\n",
        "async def cmd_cancel_no_state(message: Message, state: FSMContext):\n",
        "    await state.set_data({})\n",
        "    await message.answer(\n",
        "        text=\"Нечего отменять\",\n",
        "        reply_markup=ReplyKeyboardRemove()\n",
        "    )\n",
        "\n",
        "@command_router.message(Command(commands=[\"cancel\"]))\n",
        "@command_router.message(F.text.lower() == \"отмена\")\n",
        "async def cmd_cancel(message: Message, state: FSMContext):\n",
        "    await state.clear()\n",
        "    await message.answer(\n",
        "        text=\"Действие отменено\",\n",
        "        reply_markup=ReplyKeyboardRemove()\n",
        "    )"
      ],
      "metadata": {
        "id": "lCJ9aeRK4u4J"
      },
      "execution_count": null,
      "outputs": []
    }
  ]
}